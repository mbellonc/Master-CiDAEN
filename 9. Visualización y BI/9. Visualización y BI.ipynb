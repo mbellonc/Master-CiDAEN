{
 "cells": [
  {
   "cell_type": "markdown",
   "metadata": {},
   "source": [
    "<img src=\"http://www.cidaen.es/assets/img/mCIDaeNnb.png\" alt=\"Logo CiDAEN\" align=\"right\">\n",
    "\n",
    "<br><br><br>\n",
    "<h2><font color=\"#00586D\" size=5>Capstone IX: Visualización y BI</font></h2>\n",
    "\n",
    "\n",
    "\n",
    "<h1><font color=\"#00586D\" size=6>Explorando datos de F1</font></h1>\n",
    "\n",
    "<br><br>\n",
    "<div style=\"text-align: right\">\n",
    "<font color=\"#00586D\" size=3>Jesus Martínez Gómez</font><br>\n",
    "<font color=\"#00586D\" size=3>Máster en Ciencia de Datos e Ingeniería de Datos en la Nube III </font><br>\n",
    "<font color=\"#00586D\" size=3>Universidad de Castilla-La Mancha</font>\n",
    "<a id=\"inicio\"></a>\n",
    "   \n",
    "    \n",
    "\n",
    "</div>\n",
    "\n",
    "\n",
    "<div align=\"left\">\n",
    "<font color=\"#000000\" size=3>Marta Bellón Castro</font><br>\n",
    "<font color=\"#000000\" size=3>Curso 2022-2023</font><br>\n",
    "</div>"
   ]
  },
  {
   "cell_type": "markdown",
   "metadata": {},
   "source": [
    "---\n",
    "\n",
    "<a id=\"indice\"></a>\n",
    "<h2><font color=\"#00586D\" size=5>Índice</font></h2>\n",
    "\n",
    "\n",
    "* [1. Introducción](#section1)\n",
    "* [2. Generación de los conjuntos de datos](#section2)\n",
    "* [3. Análisis inicial](#section3)\n",
    "* [4. Análisis combinado](#section4)\n",
    "* [5. Paneles y alertas](#section5)\n",
    "\n",
    "---"
   ]
  },
  {
   "cell_type": "markdown",
   "metadata": {},
   "source": [
    "<a id=\"section1\"></a>\n",
    "# <font color=\"#00586D\"> 1. Introducción</font>\n",
    "\n",
    "Con este Capstone se pretende poner en práctica algunos de los conocimientos adquiridos durante el módulo 9. \n",
    "\n",
    "En concreto, se plantea el uso de la herramienta de Business Intelligence AWS Quicksight, la cual está totalmente gestionada por AWS, para lo que debe utilizarse el espacio de AWS creado a tal efecto (46336).\n",
    "\n",
    "El Capstone requiere un uso correcto de las herramientas vistas durante algunas de las sesiones del módulo, pero también se valorará la iniciativa a la hora de seleccionar los widgets que aporten más valor a los datos bajo estudio, así como la organización general de los mismos.\n",
    "\n",
    "Sobre todos los ejercicios propuestos, se valorará la correcta elección de:\n",
    "* Títulos\n",
    "* Leyendas\n",
    "* Ordenación\n",
    "* Organización"
   ]
  },
  {
   "cell_type": "markdown",
   "metadata": {},
   "source": [
    "<div style=\"text-align: right\">\n",
    "<a href=\"#inicio\"><font size=5><i class=\"fa fa-arrow-circle-up\" aria-hidden=\"true\" style=\"color:#00586D\"></i></font></a>\n",
    "</div>\n",
    "\n",
    "---"
   ]
  },
  {
   "cell_type": "markdown",
   "metadata": {},
   "source": [
    "<a id=\"section2\"></a> \n",
    "# <font color=\"#00586D\"> 2. Generación de los conjuntos de datos.</font>\n",
    "\n",
    "Además del servicio AWS Quicksight, durante el Capstore haremos uso de S3 como servicio de AWS para el almacenamiento de objetos. \n",
    "\n",
    "En concreto, la primera acción a realizar consistirá en la carga de un subconjunto de los ficheros .csv incluidos en el reto F1 incluido en Kaggle: https://www.kaggle.com/datasets/rohanrao/formula-1-world-championship-1950-2020\n",
    "\n",
    "Los ficheros a subir son:\n",
    "* circuits.csv\n",
    "* drivers.csv\n",
    "* races.csv\n",
    "* results.csv\n",
    "\n",
    "Estos ficheros deben subirse a un Bucket de S3 creado previamente, y la localización final de los mismos queda a la elección del alumno, pudiendo optar por dejar todos los ficheros en el raíz o usar carpetas.\n",
    "\n",
    "Tras cargar los datos en S3, se debe acceder a AWS Quicksight y crear un conjunto de datos para los 3 primeros ficheros, creando así un conjunto de datos para circuitos, conductores y carreras, utilizando S3 como fuente de datos (por ahora no creamos el conjunto de datos de resultados).\n",
    "\n",
    "Si es la primera vez que utilizamos Quicksight, debemos inscribirnos siguiendo las opciones por defecto, salvo la elección de un rol de AWS ya existente (como vimos en las sesiones de clase).\n",
    "\n",
    "Para crear los conjuntos de datos iniciales (3 conjuntos diferentes), usaremos S3 como origen y crearemos un fichero manifest.json para realizar cada carga, donde se recoge la localización de los mismos. \n",
    "\n",
    "Tras validar la carga en la vista previa, programaremos una actualización semanal para cada uno de los conjuntos."
   ]
  },
  {
   "cell_type": "markdown",
   "metadata": {},
   "source": [
    "<font color=\"#00586D\" size=3><b><i class=\"fa fa-pencil-square-o\" aria-hidden=\"true\" style=\"color:#113D68\"></i> EJERCICIO 1:</b></font> Carga de datos\n",
    "\n",
    "- Cread 3 conjuntos de datos siguiendo las directrices anteriores, e indicad en la siguiente celda los siguientes datos:\n",
    " - Por cada conjunto de datos:\n",
    "      - Localización del fichero csv dentro del bucket de S3 \n",
    "      - Número de filas cargadas\n",
    "      - Número de filas omitidas\n",
    "          - Razón por la que se han omitido las filas"
   ]
  },
  {
   "cell_type": "markdown",
   "metadata": {},
   "source": [
    "<font color=\"darkblue\">\n",
    "    \n",
    "- Circuits.csv\n",
    "    - Se importaron 74 filas \n",
    "    - Se omitieron 3 filas: no se pudieron interpretar los valores numéricos del campo alt.\n",
    "    \n",
    "\n",
    "- Drivers.csv:\n",
    "    - Se importaron 857 filas \n",
    "    - Se omitieron 0 filas \n",
    "    \n",
    "    \n",
    "- Races.csv\n",
    "    - Se importaron 1102 filas \n",
    "    - Se omitieron 0 filas \n",
    "    \n",
    "\n",
    "- Result.csv\n",
    "    - Se importaron 25834 filas \n",
    "    - Se omitieron 6 filas: no se pudieron interpretar los valores numéricos del campo number.\n",
    "</font>"
   ]
  },
  {
   "cell_type": "markdown",
   "metadata": {},
   "source": [
    "<div style=\"text-align: right\">\n",
    "<a href=\"#inicio\"><font size=5><i class=\"fa fa-arrow-circle-up\" aria-hidden=\"true\" style=\"color:#00586D\"></i></font></a>\n",
    "</div>\n",
    "\n",
    "---"
   ]
  },
  {
   "cell_type": "markdown",
   "metadata": {},
   "source": [
    "<a id=\"section3\"></a> \n",
    "# <font color=\"#00586D\" size=5> 3. Analisis inicial de datos </font>\n",
    "\n",
    "En esta sección se plantea un análisis inicial de los datos cargados en el ejercicio anterior. A tal efecto, se creará un análisis en Quicksight llamado AnálisisS3 con una hoja por ejercicio, usando como nombre el fichero de datos usado en el ejercicio. Durante el análisis, únicamente añadiremos widgets/elementos visuales y, únicamente en caso de que se nos indique, añadiremos campos calculados.\n",
    "\n",
    "No se aplicarán filtros, parámetros o acciones.\n",
    "\n",
    "La validación de cada ejercicio se realizará exportando un pdf en la carpeta exports, y ejecutando la celda a continuación de cada ejercicio, tras reemplazar \"sample_export.pdf\" por el nombre adecuado."
   ]
  },
  {
   "cell_type": "markdown",
   "metadata": {},
   "source": [
    "<font color=\"#00586D\" size=3><b><i class=\"fa fa-pencil-square-o\" aria-hidden=\"true\" style=\"color:#113D68\"></i> EJERCICIO 2.1 CIRCUITOS:</b></font> \n",
    "- Cread una hoja dentro del análisis que permita explorar los siguientes datos de los circuitos:\n",
    "    - Países con mayor número de circuitos\n",
    "    - Localización de los circuitos en el mapa, mostrando su posición concreta\n",
    "    - Distribución de la altitud de los circuitos.\n",
    "- Exportad la hoja a un fichero llamado cirtuitos21.pdf y guardadlo en la carpeta exports\n",
    "    - Reemplazad sample_export.pdf por cirtuitos21.pdf en la siguiente celda de código \n",
    "- Rellenad la siguiente celda de texto con datos explicativos sobre la elección\n",
    "\n"
   ]
  },
  {
   "cell_type": "markdown",
   "metadata": {},
   "source": [
    "<font color=\"darkblue\">\n",
    "He optado por los siguientes widgets:\n",
    "\n",
    "<br>\n",
    "    \n",
    "- <b>Países con mayor número de circuitos</b>: un gráfico de barras. Cada país se representa con una barra cuya altura refleja la cantidad de circuitos que posee. Además, permite ordenar las barras de manera descendente para mostrar primero los países con más circuitos.\n",
    "    \n",
    "\n",
    "- <b>Localización de los circuitos en el mapa, mostrando su posición concreta</b>: un widget de puntos en el mapa porque está diseñado para visualizar datos geoespaciales, permitiendo mostrar los circuitos en su ubicación exacta.\n",
    "    \n",
    "    \n",
    "- <b>Distribución de la altitud de los circuitos</b>: un histograma, ya que muestra la frecuencia de los datos en diferentes intervalos. En este caso, los intervalos son rangos de altitud y el tamaño de cada barra representa la cantidad de circuitos que se encuentran dentro de ese rango.  \n",
    "\n",
    "</font>    "
   ]
  },
  {
   "cell_type": "code",
   "execution_count": 1,
   "metadata": {
    "scrolled": false
   },
   "outputs": [
    {
     "data": {
      "text/html": [
       "\n",
       "        <iframe\n",
       "            width=\"950\"\n",
       "            height=\"700\"\n",
       "            src=\"./exports/cirtuitos21.pdf#zoom=50.0\"\n",
       "            frameborder=\"0\"\n",
       "            allowfullscreen\n",
       "            \n",
       "        ></iframe>\n",
       "        "
      ],
      "text/plain": [
       "<IPython.lib.display.IFrame at 0x1d9b721edf0>"
      ]
     },
     "execution_count": 1,
     "metadata": {},
     "output_type": "execute_result"
    }
   ],
   "source": [
    "from IPython.display import IFrame\n",
    "IFrame(\"./exports/cirtuitos21.pdf\"+\"#zoom=50.0\", width=950, height=700)"
   ]
  },
  {
   "cell_type": "markdown",
   "metadata": {},
   "source": [
    "<font color=\"#00586D\" size=3><b><i class=\"fa fa-pencil-square-o\" aria-hidden=\"true\" style=\"color:#113D68\"></i> EJERCICIO 2.2 PILOTOS:</b></font> \n",
    "- Cread una hoja dentro del análisis que permita explorar los siguientes datos de los pilotos:\n",
    "    - Nacionalidades con mayor número de pilotos\n",
    "    - Preferencias de los pilotos por números par o impar\n",
    "        - Requerirá añadir un campo calculado\n",
    "    - Distribución de la edad de los pilotos (asumimos que todos siguen vivos).\n",
    "        - Requerirá añadir un campo calculado\n",
    "- Exportad la hoja a un fichero llamado pilotos22.pdf y guardadlo en la carpeta exports\n",
    "    - Reemplazad sample_export.pdf por pilotos22.pdf en la celda de código \n",
    "- Rellenad la siguiente celda de texto con datos explicativos sobre la elección"
   ]
  },
  {
   "cell_type": "markdown",
   "metadata": {},
   "source": [
    "<font color=\"darkblue\">\n",
    "He optado por los siguientes widgets:\n",
    "\n",
    "<br>\n",
    "    \n",
    "- <b>Nacionalidades con mayor número de pilotos</b>: un gráfico de barras. Cada país se representa con una barra cuya altura refleja la cantidad de pilotos que posee. Además, permite ordenar las barras de manera descendente para mostrar primero los países con más pilotos.\n",
    "    \n",
    "\n",
    "- <b>Preferencias de los pilotos por números par o impar</b>: un gráfico de barras. Para ello, se ha creado un campo calculado 'oddeven' que detecta si el número del piloto es par o impar.\n",
    "    \n",
    "    \n",
    "- <b>Distribución de la edad de los pilotos</b>: un histograma porque muestra la frecuencia de los datos en diferentes intervalos. En este caso, los intervalos son rangos de edad y el tamaño de cada barra representa la cantidad de pilotos que se encuentran dentro de ese rango. Para realizar este apartado, también se ha tenido que crear un campo calculado para conocer la edad del piloto utilizando la fecha de nacimiento 'dob'.\n",
    "\n",
    "</font>    "
   ]
  },
  {
   "cell_type": "code",
   "execution_count": 2,
   "metadata": {},
   "outputs": [
    {
     "data": {
      "text/html": [
       "\n",
       "        <iframe\n",
       "            width=\"950\"\n",
       "            height=\"700\"\n",
       "            src=\"./exports/pilotos22.pdf#zoom=50.0\"\n",
       "            frameborder=\"0\"\n",
       "            allowfullscreen\n",
       "            \n",
       "        ></iframe>\n",
       "        "
      ],
      "text/plain": [
       "<IPython.lib.display.IFrame at 0x1d9b7225100>"
      ]
     },
     "execution_count": 2,
     "metadata": {},
     "output_type": "execute_result"
    }
   ],
   "source": [
    "from IPython.display import IFrame\n",
    "IFrame(\"./exports/pilotos22.pdf\"+\"#zoom=50.0\", width=950, height=700)"
   ]
  },
  {
   "cell_type": "markdown",
   "metadata": {},
   "source": [
    "<font color=\"#00586D\" size=3><b><i class=\"fa fa-pencil-square-o\" aria-hidden=\"true\" style=\"color:#113D68\"></i> EJERCICIO 2.3 CARRERAS:</b></font> \n",
    "- Cread una hoja dentro del análisis que permita explorar los siguientes datos de las carreras:\n",
    "    - Relaciones entre nombre la carrera (name) y ronda en la que se realizó (round)\n",
    "        - Requerirá añadir un campo calculado --> round como string\n",
    "    - Relación entre la ronda, veces que se ha corrido esa ronda, y número diferente de carreras en las que se ha realizado\n",
    "        - Esperamos que la ronda 1 se haya corrido siempre, pero no así la 20 o 21\n",
    "- Exportad la hoja a un fichero llamado carreras23.pdf y guardadlo en la carpeta exports\n",
    "    - Reemplazad sample_export.pdf por carreras23.pdf en la celda de código \n",
    "- Rellenad la siguiente celda de texto con datos explicativos sobre la elección"
   ]
  },
  {
   "cell_type": "markdown",
   "metadata": {},
   "source": [
    "<font color=\"darkblue\">\n",
    "He optado por los siguientes widgets:\n",
    "\n",
    "<br>\n",
    "    \n",
    "- <b>Relaciones entre nombre la carrera (name) y ronda en la que se realizó (round)</b>: un gráfico de barras. Cada carrera se muestra como una barra cuya altura indica la cantidad de rondas. Además, permite ordenar las barras de manera descendente para mostrar primero las carreras con más rondas. Para ello, se ha creado un campo calculado 'round-str' que toma el valor de la ronda y lo transforma en string. \n",
    "\n",
    "\n",
    "- <b>Relación entre la ronda, veces que se ha corrido esa ronda, y número diferente de carreras en las que se ha realizado</b>: un diagrama de Sankey ya que es muy útil para mostrar la relación entre estas variables. En el lado izquierdo se encontrarían las rondas, en el medio las veces que se ha corrido cada ronda y en el lado derecho las diferentes de carreras en los que se ha realizado cada ronda. Las líneas conectarían estas variables y el ancho de las líneas representaría la frecuencia.\n",
    "    \n",
    "</font>    "
   ]
  },
  {
   "cell_type": "code",
   "execution_count": 3,
   "metadata": {},
   "outputs": [
    {
     "data": {
      "text/html": [
       "\n",
       "        <iframe\n",
       "            width=\"950\"\n",
       "            height=\"950\"\n",
       "            src=\"./exports/carreras23.pdf#zoom=50.0\"\n",
       "            frameborder=\"0\"\n",
       "            allowfullscreen\n",
       "            \n",
       "        ></iframe>\n",
       "        "
      ],
      "text/plain": [
       "<IPython.lib.display.IFrame at 0x1d9b7232eb0>"
      ]
     },
     "execution_count": 3,
     "metadata": {},
     "output_type": "execute_result"
    }
   ],
   "source": [
    "from IPython.display import IFrame\n",
    "IFrame(\"./exports/carreras23.pdf\"+\"#zoom=50.0\", width=950, height=950)"
   ]
  },
  {
   "cell_type": "markdown",
   "metadata": {},
   "source": [
    "<a id=\"section4\"></a> \n",
    "# <font color=\"#00586D\" size=5> 4. Analisis combinado de datos </font>\n",
    "\n",
    "Una vez realizado el análisis inicial, vamos estudiar cómo combinar acciones y filtros sobre diferentes conjuntos de datos, para así poder realizar un mejor estudio de forma interactiva. Crearemos un nuevo análisis en Quicksight llamado AnálisisS4 y usaremos una hoja por ejercicio.\n",
    "\n",
    "La validación de cada ejercicio se realizará exportando un pdf en la carpeta exports, y ejecutando la celda a continuación de cada ejercicio, una vez se haya reemplazado \"sample_export.pdf\" por el nombre indicado."
   ]
  },
  {
   "cell_type": "markdown",
   "metadata": {},
   "source": [
    "<font color=\"#00586D\" size=3><b><i class=\"fa fa-pencil-square-o\" aria-hidden=\"true\" style=\"color:#113D68\"></i> EJERCICIO 3.1:</b></font> Conjuntos de datos separados\n",
    "\n",
    "Sobre AnálisisS4, crea una nueva hoja llamada \"Conjuntos de datos separados\".\n",
    "\n",
    "En la misma hoja, vamos a añadir 3 elementos visuales que permitan cierta funcionalidad:\n",
    " - Widget 1.- Elemento visual con datos de circuitos: mapa rellenado\n",
    " - Widget 2.- Elemento visual con datos de circuitos: puntos en el mapa\n",
    " - Widget 3.- Elemento visual con datos de carreras: tipo de elemento visual a elección\n",
    "\n",
    "Se deben añadir las acciones, filtros y/o parámetros necesarios para obtener la siguiente interactividad:\n",
    "- Al hacer clic sobre un país en Widget 1, se debe aplicar un filtro en el Widget 2 que muestre sólo los circuitos del país seleccionado\n",
    "- Al hacer clic sobre un circuito en el Widget 2, se debe aplicar un filtro en el Widget 3 que muestre sólo los datos de carreras realizadas en el circuito seleccionado\n",
    "\n",
    "Por ejemplo, si pulsamos en España sobre el Widget 1, y elegimos el circuito de Valencia en el Widget 2, el Widget 3 nos debe mostrar que se han realizado carreras en los años 2008, 2009, 2010, 2011 y 2012.\n",
    "\n",
    "Como ayuda, podemos usar acciones personalizadas de navegación que fijen un parámetro a usar como filtro por otros elementos visuales."
   ]
  },
  {
   "cell_type": "markdown",
   "metadata": {},
   "source": [
    "- Exportad la hoja a un fichero llamado datos_separados31.pdf y guardadlo en la carpeta exports\n",
    "    - Reemplazad sample_export.pdf por datos_separados31.pdf en la celda de código \n",
    "- Rellenad la siguiente celda de texto con datos explicativos sobre la elección"
   ]
  },
  {
   "cell_type": "markdown",
   "metadata": {},
   "source": [
    "<font color=\"darkblue\">\n",
    "He optado por los siguientes widgets:\n",
    "\n",
    "<br>\n",
    "    \n",
    "- <b>Un mapa rellenado (filled map)</b> tomando el campo 'country' como objeto de análisis (circuits.csv).\n",
    "    \n",
    "\n",
    "- <b>Un widget de puntos en el mapa</b> usando los campos de latidud y longitud de circuits.csv.    \n",
    "\n",
    "\n",
    "- <b>Una tabla</b> que muestra el nombre del circuito, el nombre de la carrera, el país y el año en el que se realizó la competición.\n",
    "    \n",
    "\n",
    "    \n",
    "Tareas realizadas:\n",
    "      \n",
    "    \n",
    "- Acción en el filled map para filtrar por país en el mapa de puntos.\n",
    "    \n",
    "    \n",
    "- Se realiza un join de las tablas 'races' y 'circuits' utilizando de referencia 'circuitId'.\n",
    "    \n",
    "    \n",
    "- Acción en el mapa de puntos para filtrar por circuito en la tabla.\n",
    "    \n",
    "    \n",
    "- Acción adiccional en la tabla, por si quiero seleccionar un circuito desde la tabla. Se filtra esta información a los otros dos widgets.\n",
    "\n",
    "    \n",
    "</font>    "
   ]
  },
  {
   "cell_type": "code",
   "execution_count": 4,
   "metadata": {},
   "outputs": [
    {
     "data": {
      "text/html": [
       "\n",
       "        <iframe\n",
       "            width=\"950\"\n",
       "            height=\"650\"\n",
       "            src=\"./exports/datos_separados31.pdf#zoom=50.0\"\n",
       "            frameborder=\"0\"\n",
       "            allowfullscreen\n",
       "            \n",
       "        ></iframe>\n",
       "        "
      ],
      "text/plain": [
       "<IPython.lib.display.IFrame at 0x1d9b72291f0>"
      ]
     },
     "execution_count": 4,
     "metadata": {},
     "output_type": "execute_result"
    }
   ],
   "source": [
    "# Datos sin filtrar\n",
    "\n",
    "from IPython.display import IFrame\n",
    "IFrame(\"./exports/datos_separados31.pdf\"+\"#zoom=50.0\", width=950, height=650)"
   ]
  },
  {
   "cell_type": "code",
   "execution_count": 5,
   "metadata": {},
   "outputs": [
    {
     "data": {
      "text/html": [
       "\n",
       "        <iframe\n",
       "            width=\"950\"\n",
       "            height=\"650\"\n",
       "            src=\"./exports/datos_separados312.pdf#zoom=50.0\"\n",
       "            frameborder=\"0\"\n",
       "            allowfullscreen\n",
       "            \n",
       "        ></iframe>\n",
       "        "
      ],
      "text/plain": [
       "<IPython.lib.display.IFrame at 0x1d9b7280760>"
      ]
     },
     "execution_count": 5,
     "metadata": {},
     "output_type": "execute_result"
    }
   ],
   "source": [
    "# Datos filtrados: España y Circuito de Valencia\n",
    "\n",
    "from IPython.display import IFrame\n",
    "IFrame(\"./exports/datos_separados312.pdf\" +\"#zoom=50.0\", width=950, height=650)"
   ]
  },
  {
   "cell_type": "markdown",
   "metadata": {},
   "source": [
    "<font color=\"#00586D\" size=3><b><i class=\"fa fa-pencil-square-o\" aria-hidden=\"true\" style=\"color:#113D68\"></i> EJERCICIO 3.2:</b></font> Conjuntos de datos unidos\n",
    "\n",
    "Vamos a crear un nuevo conjunto de datos, llamado races_circuits, combinando 2 conjuntos creados previamente: carreras y circuitos.\n",
    "\n",
    "Para ello, debes realizar una unión (JOIN) sobre el campo circuitId.\n",
    "\n",
    "Sobre AnálisisS4, crea una nueva hoja llamada \"Conjuntos de datos unidos\", donde trabajaremos con el nuevo conjunto de datos.\n",
    "\n",
    "En la misma hoja, vamos a añadir 2 elementos visuales que permitan cierta funcionalidad:\n",
    " - Widget 1.- Elemento visual con datos de grandes premios: gráfico de rectángulos\n",
    " - Widget 2.- Elemento visual con nombres de circuitos: world cloud\n",
    " \n",
    "El Widget 1 debe mostrar mostrar, agrupando por el nombre del gran premio (name), el número total y distintivo de circuitos asociados a un gran premio. Por ejemplo, el gran premio de Italia se ha corrido 73 ocasiones, usando para ello 2 circuitos diferentes.\n",
    "\n",
    "Para evitar mostrar demasiadas entradas, el Widget 1 debe aplicar un filtro que muestre únicamente los 12 grandes premios disputados en más ocasiones.\n",
    "\n",
    "Se deben añadir las acciones, filtros y/o parámetros necesarios para obtener la siguiente interactividad:\n",
    "- Al hacer clic sobre un gran premio en el Widget 1, se debe aplicar un filtro en el Widget 2 para que se muestren solamente los nombres de los circuitos asociados al gran premio seleccionado.\n",
    "\n",
    "Por ejemplo, si pulsamos sobre el gran premio de Italia sobre el Widget 1, el Widget 2 nos debe mostrar solamente 2 nombres de circuitos: \"Monza\" y \"Enzo e Dino Ferrari\"\n",
    "\n",
    "Como ayuda, en este caso será suficiente con una acción personalizada que filtre elementos en la misma hoja."
   ]
  },
  {
   "cell_type": "markdown",
   "metadata": {},
   "source": [
    "- Exportad la hoja a un fichero llamado datos_combinados32.pdf y guardadlo en la carpeta exports\n",
    "    - Reemplazad sample_export.pdf por datos_combinados32.pdf en la celda de código \n",
    "- Rellenad la siguiente celda de texto con datos explicativos sobre la elección"
   ]
  },
  {
   "cell_type": "markdown",
   "metadata": {},
   "source": [
    "<font color=\"darkblue\">\n",
    "He optado por los siguientes widgets:\n",
    "\n",
    "<br>\n",
    "    \n",
    "- <b>Un gráfico de rectángulos</b> porque queremos mostrar la relación proporcional entre los grandes premios y la cantidad de circuitos asociados a cada uno. Se agrupa por el nombre de la carrera, siendo el tamaño y el color correspondentes al nombre del circuito (recuento distintivo)\n",
    "    \n",
    "\n",
    "- <b>Un gráfico de nube de palabras (word cloud)</b> muestra los nombres de los circuitos en diferentes tamaños y colores, donde el tamaño de cada palabra es proporcional a su frecuencia en el conjunto de datos. He agrupado por el nombre del circuito y he seleccionado como tamaño el recuento de los nombres del circuito.\n",
    "\n",
    "    \n",
    "Tareas realizadas:\n",
    "      \n",
    "    \n",
    "- Filtro superior a 12 en el gráfico de rectángulos para el nombre de las carreras.\n",
    "    \n",
    "    \n",
    "- Acción en el gráfico de rectángulos para filtrar los circuitos cuando se seleccione una carrera.\n",
    "\n",
    "    \n",
    "</font>      "
   ]
  },
  {
   "cell_type": "code",
   "execution_count": 6,
   "metadata": {
    "scrolled": false
   },
   "outputs": [
    {
     "data": {
      "text/html": [
       "\n",
       "        <iframe\n",
       "            width=\"950\"\n",
       "            height=\"800\"\n",
       "            src=\"./exports/datos_combinados32.pdf#zoom=50.0\"\n",
       "            frameborder=\"0\"\n",
       "            allowfullscreen\n",
       "            \n",
       "        ></iframe>\n",
       "        "
      ],
      "text/plain": [
       "<IPython.lib.display.IFrame at 0x1d9b7280130>"
      ]
     },
     "execution_count": 6,
     "metadata": {},
     "output_type": "execute_result"
    }
   ],
   "source": [
    "# Datos sin filtrar\n",
    "\n",
    "from IPython.display import IFrame\n",
    "IFrame(\"./exports/datos_combinados32.pdf\"+\"#zoom=50.0\", width=950, height=800)"
   ]
  },
  {
   "cell_type": "code",
   "execution_count": 7,
   "metadata": {},
   "outputs": [
    {
     "data": {
      "text/html": [
       "\n",
       "        <iframe\n",
       "            width=\"950\"\n",
       "            height=\"800\"\n",
       "            src=\"./exports/datos_combinados322.pdf#zoom=50.0\"\n",
       "            frameborder=\"0\"\n",
       "            allowfullscreen\n",
       "            \n",
       "        ></iframe>\n",
       "        "
      ],
      "text/plain": [
       "<IPython.lib.display.IFrame at 0x1d9b7280a00>"
      ]
     },
     "execution_count": 7,
     "metadata": {},
     "output_type": "execute_result"
    }
   ],
   "source": [
    "# Datos filtrados: United States Grand Prix\n",
    "\n",
    "from IPython.display import IFrame\n",
    "IFrame(\"./exports/datos_combinados322.pdf\"+\"#zoom=50.0\", width=950, height=800)"
   ]
  },
  {
   "cell_type": "markdown",
   "metadata": {},
   "source": [
    "<div style=\"text-align: right\"><font size=4> <i class=\"fa fa-check-square-o\" aria-hidden=\"true\" style=\"color:#113D68\"></i>\n",
    " </font></div>"
   ]
  },
  {
   "cell_type": "markdown",
   "metadata": {},
   "source": [
    "<font color=\"#00586D\" size=3><b><i class=\"fa fa-pencil-square-o\" aria-hidden=\"true\" style=\"color:#113D68\"></i> EJERCICIO 3.3:</b></font> Conjuntos de datos unidos B\n",
    "\n",
    "Vamos a crear un nuevo conjunto de datos combinado usando los 3 conjuntos creados previamente: carreras, circuitos y pilotos, y un nuevo conjunto de datos que crearemos ahora.\n",
    "\n",
    "El nuevo conjunto de datos se creará de la misma manera que los de carreras, circuitos y pilotos, usando S3 como origen y tras haber subido, si no se hizo al principio, el fichero results.csv. De nuevo, tras generar y validar el conjunto de datos estableceremos una actualización semanal. \n",
    "\n",
    "En este caso, a diferencia de los primeros conjuntos de datos, nos vamos a centrar únicamente en un subconjunto de campos, además de variar algunos tipos.\n",
    "\n",
    "En concreto, solamente vamos a añadir los siguientes campos con sus tipos asociados:\n",
    "- resultId: número\n",
    "- raceId: número\n",
    "- driverId: número\n",
    "- positionText: cambiamos tipo a cadena\n",
    "- statusId: cambiamos tipo a cadena\n",
    "\n",
    "Una vez generado, en la vista de conjuntos de datos, seleccionamos el conjunto de resultados e indicamos: utilizar en un nuevo conjunto de datos, que llamaremos combined_all.\n",
    "\n",
    "Sobre este nuevo conjunto llamado combined_all, añadiremos los 3 conjuntos de datos de circuitos, carreras y pilotos, usando los siguientes JOINS:\n",
    "\n",
    " - 1.- resultados <--> carreras unidos por raceId\n",
    " - 2.- resultados <--> pilotos unidos por driverId\n",
    " - 3.- carreras <--> circuitos unidos por circuitId\n",
    "\n",
    "Sobre AnálisisS4, crea una nueva hoja llamada \"Conjuntos de datos combinados B\", donde trabajaremos con el conjunto de datos combined_all.\n",
    "\n",
    "En esta hoja, tienes libertad absoluta para elegir elementos visuales, filtros, parámetros y acciones, siempre que permitan, al menos, las siguientes funcionalidades:\n",
    "\n",
    "- Mostrar todos los pilotos que hayan ganado alguna carrera (positionText es 1), de entre los nacidos (DoB) después de una fecha que pueda ser establecida. \n",
    "  - Por ejemplo, de los nacidos después de 1995, solamente han ganado 5 pilotos: Ocon, Verstappen, Leclerc, Russell y Gasly\n",
    "- Mostrar los pilotos ordenados por el número de colisiones (carreras que terminan con statusId=4)\n",
    "- Mostrar los países donde ha habido más resultados con accidente (carreras que terminan con statusId=3)\n",
    "- Cualquier otra información que sea útil desde tu punto de vista"
   ]
  },
  {
   "cell_type": "markdown",
   "metadata": {},
   "source": [
    "- Exportad la hoja a un fichero llamado datos_combinados33.pdf y guardadlo en la carpeta exports\n",
    "    - Reemplazad sample_export.pdf por datos_combinados33.pdf en la celda de código \n",
    "- Rellenad la siguiente celda de texto con datos explicativos sobre la elección"
   ]
  },
  {
   "cell_type": "markdown",
   "metadata": {},
   "source": [
    "<font color=\"darkblue\">\n",
    "He optado por los siguientes widgets:\n",
    "\n",
    "<br>\n",
    "    \n",
    "- <b>Un gráfico de barras </b> para mostrar la cantidad de victorias que tuvieron los pilotos de F1.\n",
    "    \n",
    "    \n",
    "- <b>Un gráfico de barras</b> con el número de colisiones que tuvieron los pilotos.\n",
    "    \n",
    "\n",
    "- <b>Una tabla dinámica</b> que muestra más información sobre las colisiones: nombre del piloto, país en donde ocurrió, circuito y el nº de veces.\n",
    "    \n",
    "    \n",
    "- <b>Un mapa de puntos</b> con la cantidad de accidentes de F1 por país.\n",
    "    \n",
    "    \n",
    "- <b>Una tabla dinámica</b> en donde se visualiza más información sobre los accidentes: país, circuito y el nº de colisiones.\n",
    "\n",
    "\n",
    "Tareas realizadas:\n",
    "      \n",
    "    \n",
    "- Parámetro de fecha (paramDate) con grado de detalle del periodo de tiempo en día.\n",
    "    \n",
    " \n",
    "- Creación de un campo calculado (MatchingCriteria), en donde se establecía que la fecha de nacimiento de los pilotos tiene que ser mayor o igual a paramDate ({dob} >= ${paramDate}). \n",
    "    \n",
    "    \n",
    "- Filtro con MatchingCriteria cuya condición es que sea igual a 1. Lo he aplicado a todos los widgets de la hoja.\n",
    "\n",
    "\n",
    "- Filtro en el gráfico de las victorias de los pilotos, en donde 'positionText' es igual a 1.\n",
    "    \n",
    "    \n",
    "- Filtro en el gráfico y en la tabla de las colisiones de los pilotos, en donde 'statusId' es igual a 4.\n",
    "\n",
    "\n",
    "- Filtro en el mapa y en la tabla de los accidentes, en donde 'statusId' es igual a 3.\n",
    "    \n",
    "</font>    "
   ]
  },
  {
   "cell_type": "code",
   "execution_count": 8,
   "metadata": {},
   "outputs": [
    {
     "data": {
      "text/html": [
       "\n",
       "        <iframe\n",
       "            width=\"950\"\n",
       "            height=\"950\"\n",
       "            src=\"./exports/datos_combinados33.pdf#zoom=38\"\n",
       "            frameborder=\"0\"\n",
       "            allowfullscreen\n",
       "            \n",
       "        ></iframe>\n",
       "        "
      ],
      "text/plain": [
       "<IPython.lib.display.IFrame at 0x1d9b721e400>"
      ]
     },
     "execution_count": 8,
     "metadata": {},
     "output_type": "execute_result"
    }
   ],
   "source": [
    "# Datos sin filtrar\n",
    "\n",
    "from IPython.display import IFrame\n",
    "IFrame(\"./exports/datos_combinados33.pdf\"+\"#zoom=38\", width=950, height=950)"
   ]
  },
  {
   "cell_type": "code",
   "execution_count": 9,
   "metadata": {},
   "outputs": [
    {
     "data": {
      "image/png": "[encoded data removed]",
      "text/plain": [
       "<PIL.PngImagePlugin.PngImageFile image mode=RGBA size=1461x769>"
      ]
     },
     "metadata": {},
     "output_type": "display_data"
    }
   ],
   "source": [
    "# Imagen del filtro establecido\n",
    "\n",
    "from PIL import Image\n",
    "from IPython.display import display\n",
    "\n",
    "image = Image.open(\"./exports/filtro.png\")\n",
    "display(image)"
   ]
  },
  {
   "cell_type": "code",
   "execution_count": 10,
   "metadata": {
    "scrolled": false
   },
   "outputs": [
    {
     "data": {
      "text/html": [
       "\n",
       "        <iframe\n",
       "            width=\"950\"\n",
       "            height=\"950\"\n",
       "            src=\"./exports/datos_combinados332.pdf#zoom=38\"\n",
       "            frameborder=\"0\"\n",
       "            allowfullscreen\n",
       "            \n",
       "        ></iframe>\n",
       "        "
      ],
      "text/plain": [
       "<IPython.lib.display.IFrame at 0x1d9b7280640>"
      ]
     },
     "execution_count": 10,
     "metadata": {},
     "output_type": "execute_result"
    }
   ],
   "source": [
    "# Datos filtrados: 1995/05/05\n",
    "\n",
    "from IPython.display import IFrame\n",
    "IFrame(\"./exports/datos_combinados332.pdf\"+\"#zoom=38\", width=950, height=950)"
   ]
  },
  {
   "cell_type": "code",
   "execution_count": 11,
   "metadata": {},
   "outputs": [
    {
     "data": {
      "text/html": [
       "\n",
       "        <iframe\n",
       "            width=\"950\"\n",
       "            height=\"950\"\n",
       "            src=\"./exports/datos_combinados333.pdf#zoom=38\"\n",
       "            frameborder=\"0\"\n",
       "            allowfullscreen\n",
       "            \n",
       "        ></iframe>\n",
       "        "
      ],
      "text/plain": [
       "<IPython.lib.display.IFrame at 0x1d9b7280850>"
      ]
     },
     "execution_count": 11,
     "metadata": {},
     "output_type": "execute_result"
    }
   ],
   "source": [
    "# Datos filtrados: 1995/05/05, seleccionando el piloto 'Lance Stroll' y 'Monaco'\n",
    "\n",
    "from IPython.display import IFrame\n",
    "IFrame(\"./exports/datos_combinados333.pdf\"+\"#zoom=38\", width=950, height=950)"
   ]
  },
  {
   "cell_type": "markdown",
   "metadata": {},
   "source": [
    "<a id=\"section5\"></a> \n",
    "# <font color=\"#00586D\" size=5> 5. Paneles y Alertas </font>\n",
    "\n",
    "<font color=\"#00586D\" size=3><b><i class=\"fa fa-pencil-square-o\" aria-hidden=\"true\" style=\"color:#113D68\"></i> EJERCICIO 4.1:</b></font> Exportar panel con acceso y alertas\n",
    "\n",
    "\n",
    "Vamos a crear un análisis que acabaremos exportando como panel, para lo cual creamos un análisis llamado AnálisisS5 usando el conjunto de datos combined_all, usado en el último apartado.\n",
    "\n",
    "Sobre AnálisisS5, usando una única hoja, añadiremos 3 elementos visuales:\n",
    "\n",
    "- Widget 1.- KPI con el número de victorias obtenidas por pilotos nacidos desde el año 2000\n",
    "- Widget 2.- Word cloud con los nombres de los pilotos nacidos desde el año 2000\n",
    "- Widget 3.- Gráfico de barras y líneas que muestre cómo ha evolucionado, año a año, el número de pilotos y nacionalidades diferentes, así como el número total de carreras por año\n",
    "    - Por ejemplo, en 2021, hubo 21 pilotos de 14 nacionalidades diferentes\n",
    "    \n",
    "Una vez generado el análisis, crearemos un panel llamado PanelS5 que compartiremos con otro usuario, para lo cual debemos invitarnos, usando un correo secundario que deseemos, a través de \"Administrar Quicksight\", desde la esquina superior derecha. \n",
    "\n",
    "Una vez invitado el usuario, dentro del panel, haremos clic en la esquina superior derecha, icono de compartir, compartir panel, e indicaremos el correo al cual hemos realizado la invitación.\n",
    "\n",
    "Sobre el panel generado, crearemos una alarma para que se nos informe (al usuario administrador) si ha ganado algún piloto nacido en los años 2000 (por ahora sólo participa Tsunoda).\n",
    "\n",
    "También programaremos el envío de un informe semanal, haciendo clic en la esquina superior derecha, icono del reloj, programaciones. Este informe semanal incluirá un fichero PDF, usando el usuario al que acabamos de dar acceso como destinatario."
   ]
  },
  {
   "cell_type": "markdown",
   "metadata": {},
   "source": [
    "- Exportad la hoja del análisis a un fichero llamado datos_analisis4.pdf y guardadlo en la carpeta exports\n",
    "    - Reemplazad sample_export.pdf por datos_analisis4.pdf en la celda de código "
   ]
  },
  {
   "cell_type": "code",
   "execution_count": 12,
   "metadata": {},
   "outputs": [
    {
     "data": {
      "text/html": [
       "\n",
       "        <iframe\n",
       "            width=\"950\"\n",
       "            height=\"700\"\n",
       "            src=\"./exports/datos_analisis4.pdf#zoom=50.0\"\n",
       "            frameborder=\"0\"\n",
       "            allowfullscreen\n",
       "            \n",
       "        ></iframe>\n",
       "        "
      ],
      "text/plain": [
       "<IPython.lib.display.IFrame at 0x1d9b7280610>"
      ]
     },
     "execution_count": 12,
     "metadata": {},
     "output_type": "execute_result"
    }
   ],
   "source": [
    "# He establecido el año 1990 para realizar el ejercicio, ya que con el año 2000 no aparecía ningún piloto.\n",
    "\n",
    "from IPython.display import IFrame\n",
    "IFrame(\"./exports/datos_analisis4.pdf\"+\"#zoom=50.0\", width=950, height=700)"
   ]
  },
  {
   "cell_type": "markdown",
   "metadata": {},
   "source": [
    "- Guardad el PDF recibido en el correo del usuario secundario como datos_correo4.pdf y guardadlo en la carpeta exports\n",
    "    - Reemplazad sample_export.pdf por datos_correo4.pdf en la celda de código "
   ]
  },
  {
   "cell_type": "raw",
   "metadata": {},
   "source": [
    "from IPython.display import IFrame\n",
    "IFrame(\"./exports/sample_export.pdf\", width=640, height=480) # REEMPLAZAR CON EL NOMBRE"
   ]
  },
  {
   "cell_type": "markdown",
   "metadata": {},
   "source": [
    "<div style=\"text-align: right\">\n",
    "<a href=\"#inicio\"><font size=5><i class=\"fa fa-arrow-circle-up\" aria-hidden=\"true\" style=\"color:#00586D\"></i></font></a>\n",
    "</div>\n",
    "\n",
    "---"
   ]
  },
  {
   "cell_type": "markdown",
   "metadata": {},
   "source": [
    "<div style=\"text-align: right\"> <font size=6><i class=\"fa fa-coffee\" aria-hidden=\"true\" style=\"color:#00586D\"></i> </font></div>"
   ]
  }
 ],
 "metadata": {
  "kernelspec": {
   "display_name": "Python 3 (ipykernel)",
   "language": "python",
   "name": "python3"
  },
  "language_info": {
   "codemirror_mode": {
    "name": "ipython",
    "version": 3
   },
   "file_extension": ".py",
   "mimetype": "text/x-python",
   "name": "python",
   "nbconvert_exporter": "python",
   "pygments_lexer": "ipython3",
   "version": "3.9.16"
  }
 },
 "nbformat": 4,
 "nbformat_minor": 4
}
