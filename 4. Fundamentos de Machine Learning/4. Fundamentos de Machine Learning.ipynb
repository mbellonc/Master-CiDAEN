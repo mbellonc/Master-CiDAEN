{
 "cells": [
  {
   "cell_type": "markdown",
   "metadata": {},
   "source": [
    "<img src=\"http://www.cidaen.es/assets/img/mCIDaeNnb.png\" alt=\"Logo CiDAEN\" align=\"right\">\n",
    "\n",
    "\n",
    "\n",
    "\n",
    "<br><br><br>\n",
    "<h2><font color=\"#00586D\" size=4>Capstone IV</font></h2>\n",
    "\n",
    "\n",
    "\n",
    "<h1><font color=\"#00586D\" size=5><i>Machine Learning</i> aplicado a márketing</font></h1>\n",
    "\n",
    "<br><br><br>\n",
    "<div align=\"right\">\n",
    "<font color=\"#00586D\" size=3>Luis de la Ossa</font><br>\n",
    "<font color=\"#00586D\" size=3>Máster en Ciencia de Datos e Ingeniería de Datos en la Nube</font><br>\n",
    "<font color=\"#00586D\" size=3>Universidad de Castilla-La Mancha</font>\n",
    "\n",
    "</div>\n",
    "<br>\n",
    "\n",
    "<div align=\"left\">\n",
    "<font color=\"#000000\" size=3>Marta Bellón Castro</font><br>\n",
    "<font color=\"#000000\" size=3>Curso 2022-2023</font><br>\n",
    "</div>\n",
    "\n",
    "---\n",
    "<br>\n",
    "\n",
    "<h2><font color=\"#00586D\" size=5>Introducción</font></h2>\n",
    "<br>\n",
    "\n",
    "\n",
    "\n",
    "\n",
    "En este proyecto se plantean tres supuestos que guardan relación con el área del márketing y la gestión de la relación con el cliente (_Customer Relationship Management_). El primero consiste en el desarrollo de un *pipeline* completo para la predicción del abandono  de clientes (_Churn prevention_).  En el segundo se desarrollará un modelo que permite estimar el valor potencial de un cliente (_Customer Lifetime Value_). Por último, se recurrirá al aprendizaje no supervisado para segmentar un conjunto de clientes en grupos.\n",
    "\n",
    "\n",
    "A diferencia de los proyectos anteriores, que consistían exclusivamente en la solución de ejercicios prácticos, en éste se plantearan también algunas preguntas relacionadas con la interpretación y análisis del proceso, y que ***habrán de ser respondidas en la propia libreta***. \n",
    "<br>\n",
    "\n",
    "\n",
    "<div class=\"alert alert-block alert-info\">\n",
    "    \n",
    "<i class=\"fa fa-info-circle\" aria-hidden=\"true\"></i> __Nota__: Aunque el proyecto es fácil, es algo largo ya que, además de bastantes ejercicios, se aportan abundantes explicaciones y comentarios sobre el propio proceso. Especialmente en el planteamiento del primer ejercicio. Recomendamos leerlas atentamente.\n",
    "</div>"
   ]
  },
  {
   "cell_type": "markdown",
   "metadata": {},
   "source": [
    "---\n",
    "\n",
    "<a id=\"indice\"></a>\n",
    "<h2><font color=\"#00586D\" size=5>Índice</font></h2>\n",
    "\n",
    "\n",
    "* [1. Prevención del abandono (_churn prevention_)](#section1)\n",
    "    * [1.1. Exploración de los datos. Preprocesamiento](#section11) \n",
    "    * [1.2. Construcción de un modelo](#section12)     \n",
    "    * [1.3. Validación sobre nuevos datos](#section13)  \n",
    "    * [1.4. Comparación con otros modelos](#section14)  \n",
    "* [2. Predicción del valor potencial de un cliente (_Customer Lifetime Value_)](#section2) \n",
    "    * [2.1. Construcción de un árbol de regresión](#section21)  \n",
    "* [3. Segmentación de clientes](#section3) "
   ]
  },
  {
   "cell_type": "code",
   "execution_count": 1,
   "metadata": {},
   "outputs": [
    {
     "data": {
      "text/html": [
       "<style>.container { width:95% !important; }</style>"
      ],
      "text/plain": [
       "<IPython.core.display.HTML object>"
      ]
     },
     "metadata": {},
     "output_type": "display_data"
    }
   ],
   "source": [
    "# Configuración de la visualización\n",
    "from IPython.display import display, HTML\n",
    "display(HTML(\"<style>.container { width:95% !important; }</style>\"))\n",
    "\n",
    "%matplotlib inline\n",
    "#%config InlineBackend.figure_format = 'retina'\n",
    "\n",
    "\n",
    "import pandas as pd\n",
    "import numpy as np\n",
    "\n",
    "import matplotlib.pyplot as plt\n",
    "import seaborn as sns;\n",
    "sns.set()"
   ]
  },
  {
   "cell_type": "markdown",
   "metadata": {},
   "source": [
    "<div align=\"right\">\n",
    "<a href=\"#indice\"><font size=5 color=\"#00586D\"><i class=\"fa fa-arrow-circle-up\" aria-hidden=\"true\"></i></font></a>\n",
    "</div>\n",
    "\n",
    "---\n",
    "\n",
    "<a id=\"section1\"></a>\n",
    "# <font color=\"#00586D\"> 1. Prevención del abandono (_churn prevention_)</font>\n",
    "\n",
    "\n",
    "<br> La prevención del abandono, o _Churn prevention_, es una tarea de _márketing_ que consiste en detectar \n",
    "aquellos clientes que podrían abandonar un determinado servicio o mercado, y llevar a cabo campañas específicas de retención con el fin de evitar la pérdida. \n",
    "<br>\n",
    "\n",
    "Esta parte del proyecto consiste en la elaboración de un modelo basado en aprendizaje supervisado (clasificación) para la detección de clientes en esta situación. Se proporciona un conjunto de datos denominado `Telco-Customer-Churn.csv`, relativo al abandono en una operadora de telecomunicaciones, y obtenido en el sitio de [IBM analytics](https://www.ibm.com/analytics). Alguna información adicional, así como _kernels_ que tratan estos mismos datos y pueden resultar útiles (_se recomienda que los miréis_) están disponibles en [Kaggle](https://www.kaggle.com/blastchar/telco-customer-churn). "
   ]
  },
  {
   "cell_type": "code",
   "execution_count": 2,
   "metadata": {},
   "outputs": [
    {
     "name": "stdout",
     "output_type": "stream",
     "text": [
      "Tamaño del conjunto de datos:  7043\n",
      "Número de variables: 20\n",
      "El índice es único.\n"
     ]
    },
    {
     "data": {
      "text/html": [
       "<div>\n",
       "<style scoped>\n",
       "    .dataframe tbody tr th:only-of-type {\n",
       "        vertical-align: middle;\n",
       "    }\n",
       "\n",
       "    .dataframe tbody tr th {\n",
       "        vertical-align: top;\n",
       "    }\n",
       "\n",
       "    .dataframe thead th {\n",
       "        text-align: right;\n",
       "    }\n",
       "</style>\n",
       "<table border=\"1\" class=\"dataframe\">\n",
       "  <thead>\n",
       "    <tr style=\"text-align: right;\">\n",
       "      <th></th>\n",
       "      <th>gender</th>\n",
       "      <th>SeniorCitizen</th>\n",
       "      <th>Partner</th>\n",
       "      <th>Dependents</th>\n",
       "      <th>tenure</th>\n",
       "      <th>PhoneService</th>\n",
       "      <th>MultipleLines</th>\n",
       "      <th>InternetService</th>\n",
       "      <th>OnlineSecurity</th>\n",
       "      <th>OnlineBackup</th>\n",
       "      <th>DeviceProtection</th>\n",
       "      <th>TechSupport</th>\n",
       "      <th>StreamingTV</th>\n",
       "      <th>StreamingMovies</th>\n",
       "      <th>Contract</th>\n",
       "      <th>PaperlessBilling</th>\n",
       "      <th>PaymentMethod</th>\n",
       "      <th>MonthlyCharges</th>\n",
       "      <th>TotalCharges</th>\n",
       "      <th>Churn</th>\n",
       "    </tr>\n",
       "    <tr>\n",
       "      <th>customerID</th>\n",
       "      <th></th>\n",
       "      <th></th>\n",
       "      <th></th>\n",
       "      <th></th>\n",
       "      <th></th>\n",
       "      <th></th>\n",
       "      <th></th>\n",
       "      <th></th>\n",
       "      <th></th>\n",
       "      <th></th>\n",
       "      <th></th>\n",
       "      <th></th>\n",
       "      <th></th>\n",
       "      <th></th>\n",
       "      <th></th>\n",
       "      <th></th>\n",
       "      <th></th>\n",
       "      <th></th>\n",
       "      <th></th>\n",
       "      <th></th>\n",
       "    </tr>\n",
       "  </thead>\n",
       "  <tbody>\n",
       "    <tr>\n",
       "      <th>7590-VHVEG</th>\n",
       "      <td>Female</td>\n",
       "      <td>0</td>\n",
       "      <td>Yes</td>\n",
       "      <td>No</td>\n",
       "      <td>1</td>\n",
       "      <td>No</td>\n",
       "      <td>No phone service</td>\n",
       "      <td>DSL</td>\n",
       "      <td>No</td>\n",
       "      <td>Yes</td>\n",
       "      <td>No</td>\n",
       "      <td>No</td>\n",
       "      <td>No</td>\n",
       "      <td>No</td>\n",
       "      <td>Month-to-month</td>\n",
       "      <td>Yes</td>\n",
       "      <td>Electronic check</td>\n",
       "      <td>29.85</td>\n",
       "      <td>29.85</td>\n",
       "      <td>No</td>\n",
       "    </tr>\n",
       "    <tr>\n",
       "      <th>5575-GNVDE</th>\n",
       "      <td>Male</td>\n",
       "      <td>0</td>\n",
       "      <td>No</td>\n",
       "      <td>No</td>\n",
       "      <td>34</td>\n",
       "      <td>Yes</td>\n",
       "      <td>No</td>\n",
       "      <td>DSL</td>\n",
       "      <td>Yes</td>\n",
       "      <td>No</td>\n",
       "      <td>Yes</td>\n",
       "      <td>No</td>\n",
       "      <td>No</td>\n",
       "      <td>No</td>\n",
       "      <td>One year</td>\n",
       "      <td>No</td>\n",
       "      <td>Mailed check</td>\n",
       "      <td>56.95</td>\n",
       "      <td>1889.5</td>\n",
       "      <td>No</td>\n",
       "    </tr>\n",
       "    <tr>\n",
       "      <th>3668-QPYBK</th>\n",
       "      <td>Male</td>\n",
       "      <td>0</td>\n",
       "      <td>No</td>\n",
       "      <td>No</td>\n",
       "      <td>2</td>\n",
       "      <td>Yes</td>\n",
       "      <td>No</td>\n",
       "      <td>DSL</td>\n",
       "      <td>Yes</td>\n",
       "      <td>Yes</td>\n",
       "      <td>No</td>\n",
       "      <td>No</td>\n",
       "      <td>No</td>\n",
       "      <td>No</td>\n",
       "      <td>Month-to-month</td>\n",
       "      <td>Yes</td>\n",
       "      <td>Mailed check</td>\n",
       "      <td>53.85</td>\n",
       "      <td>108.15</td>\n",
       "      <td>Yes</td>\n",
       "    </tr>\n",
       "    <tr>\n",
       "      <th>7795-CFOCW</th>\n",
       "      <td>Male</td>\n",
       "      <td>0</td>\n",
       "      <td>No</td>\n",
       "      <td>No</td>\n",
       "      <td>45</td>\n",
       "      <td>No</td>\n",
       "      <td>No phone service</td>\n",
       "      <td>DSL</td>\n",
       "      <td>Yes</td>\n",
       "      <td>No</td>\n",
       "      <td>Yes</td>\n",
       "      <td>Yes</td>\n",
       "      <td>No</td>\n",
       "      <td>No</td>\n",
       "      <td>One year</td>\n",
       "      <td>No</td>\n",
       "      <td>Bank transfer (automatic)</td>\n",
       "      <td>42.30</td>\n",
       "      <td>1840.75</td>\n",
       "      <td>No</td>\n",
       "    </tr>\n",
       "    <tr>\n",
       "      <th>9237-HQITU</th>\n",
       "      <td>Female</td>\n",
       "      <td>0</td>\n",
       "      <td>No</td>\n",
       "      <td>No</td>\n",
       "      <td>2</td>\n",
       "      <td>Yes</td>\n",
       "      <td>No</td>\n",
       "      <td>Fiber optic</td>\n",
       "      <td>No</td>\n",
       "      <td>No</td>\n",
       "      <td>No</td>\n",
       "      <td>No</td>\n",
       "      <td>No</td>\n",
       "      <td>No</td>\n",
       "      <td>Month-to-month</td>\n",
       "      <td>Yes</td>\n",
       "      <td>Electronic check</td>\n",
       "      <td>70.70</td>\n",
       "      <td>151.65</td>\n",
       "      <td>Yes</td>\n",
       "    </tr>\n",
       "  </tbody>\n",
       "</table>\n",
       "</div>"
      ],
      "text/plain": [
       "            gender  SeniorCitizen Partner Dependents  tenure PhoneService  \\\n",
       "customerID                                                                  \n",
       "7590-VHVEG  Female              0     Yes         No       1           No   \n",
       "5575-GNVDE    Male              0      No         No      34          Yes   \n",
       "3668-QPYBK    Male              0      No         No       2          Yes   \n",
       "7795-CFOCW    Male              0      No         No      45           No   \n",
       "9237-HQITU  Female              0      No         No       2          Yes   \n",
       "\n",
       "               MultipleLines InternetService OnlineSecurity OnlineBackup  \\\n",
       "customerID                                                                 \n",
       "7590-VHVEG  No phone service             DSL             No          Yes   \n",
       "5575-GNVDE                No             DSL            Yes           No   \n",
       "3668-QPYBK                No             DSL            Yes          Yes   \n",
       "7795-CFOCW  No phone service             DSL            Yes           No   \n",
       "9237-HQITU                No     Fiber optic             No           No   \n",
       "\n",
       "           DeviceProtection TechSupport StreamingTV StreamingMovies  \\\n",
       "customerID                                                            \n",
       "7590-VHVEG               No          No          No              No   \n",
       "5575-GNVDE              Yes          No          No              No   \n",
       "3668-QPYBK               No          No          No              No   \n",
       "7795-CFOCW              Yes         Yes          No              No   \n",
       "9237-HQITU               No          No          No              No   \n",
       "\n",
       "                  Contract PaperlessBilling              PaymentMethod  \\\n",
       "customerID                                                               \n",
       "7590-VHVEG  Month-to-month              Yes           Electronic check   \n",
       "5575-GNVDE        One year               No               Mailed check   \n",
       "3668-QPYBK  Month-to-month              Yes               Mailed check   \n",
       "7795-CFOCW        One year               No  Bank transfer (automatic)   \n",
       "9237-HQITU  Month-to-month              Yes           Electronic check   \n",
       "\n",
       "            MonthlyCharges TotalCharges Churn  \n",
       "customerID                                     \n",
       "7590-VHVEG           29.85        29.85    No  \n",
       "5575-GNVDE           56.95       1889.5    No  \n",
       "3668-QPYBK           53.85       108.15   Yes  \n",
       "7795-CFOCW           42.30      1840.75    No  \n",
       "9237-HQITU           70.70       151.65   Yes  "
      ]
     },
     "execution_count": 2,
     "metadata": {},
     "output_type": "execute_result"
    }
   ],
   "source": [
    "# Carga los datos \n",
    "df_churn = pd.read_csv('data/churn/Telco-Customer-Churn.csv', index_col=0);\n",
    "\n",
    "print(\"Tamaño del conjunto de datos:  %d\" % df_churn.shape[0])\n",
    "print(\"Número de variables: %d\" % df_churn.shape[1])\n",
    "\n",
    "if df_churn.index.is_unique:\n",
    "    print('El índice es único.')\n",
    "else:\n",
    "    print('Los índices están duplicados.')\n",
    "    \n",
    "# Visualiza las primeras instancias\n",
    "df_churn.head()"
   ]
  },
  {
   "cell_type": "markdown",
   "metadata": {},
   "source": [
    "<font size=2 color=\"#00586D\"> <i class=\"fa fa-info-circle\"  aria-hidden=\"true\"></i> </font>  Como línea de trabajo, se asumirá que el modelo se desarrolla a partir de un conjunto manejable de datos etiquetados (histórico), pero será utilizado sobre un conjunto de datos actual, no etiquetado, y mucho mayor. Debido a esto, se dividirá el conjunto de datos almacenado en `df_churn` en dos: `df_churn` con el 85% de las entradas, y que será utilizado en el proceso de desarrollo (y validación) del modelo; y `df_churn_new`, con el 15% restante, que permitirá tanto comprobar la correcta definición del flujo de trabajo sobre datos nuevos, como proporcionar medidas de rendimiento del modelo. \n",
    "\n",
    "<div class=\"alert alert-block alert-warning\">\n",
    "    \n",
    "<i class=\"fa fa-exclamation-circle\" aria-hidden=\"true\"></i> El conjunto de datos `df_churn_new` __no será utilizado en ninguna fase del proceso de aprendizaje__, ni siquiera para la exploración, preprocesamiento, o la validación del modelo.\n",
    "</div>"
   ]
  },
  {
   "cell_type": "code",
   "execution_count": 3,
   "metadata": {},
   "outputs": [
    {
     "name": "stdout",
     "output_type": "stream",
     "text": [
      "Tamaño del conjunto de datos disponibles:  5986\n",
      "Tamaño del conjunto de nuevos datos:  1057\n"
     ]
    }
   ],
   "source": [
    "# Tamaño del conjunto de entrenamiento\n",
    "training_size = int(len(df_churn)*0.85)\n",
    "\n",
    "# Desordena los datos (esto es muy importante).\n",
    "df_churn = df_churn.sample(frac=1, random_state=0)\n",
    "\n",
    "# Copia los datos de test.\n",
    "df_churn_new = df_churn.iloc[training_size:].copy()\n",
    "\n",
    "# Copia los datos para el entrenamiento del modelo.\n",
    "df_churn = df_churn.iloc[:training_size].copy()\n",
    "\n",
    "print(\"Tamaño del conjunto de datos disponibles: \", len(df_churn))\n",
    "print(\"Tamaño del conjunto de nuevos datos: \", len(df_churn_new))"
   ]
  },
  {
   "cell_type": "markdown",
   "metadata": {},
   "source": [
    "En ciencia de datos es frecuente que el punto de partida del trabajo lo constituyan datos desconocidos. El primer paso, *también cuando se trabaja con aprendizaje automático*, consiste en **explorar estos datos**. Además de la familiarización con el problema (que no siempre es posible), como fruto de la exploración surgen decisiones que afectan _principalmente_ a la preparación y al preprocesamiento. \n",
    "<br>\n",
    "\n",
    "En general, el proceso de exploración no es sistemático, sino que se lleva a cabo en base a la información que va arrojando el propio proceso, y es guiado en parte por la intuición y experiencia del analista. En cada paso, surge la necesidad de hacer transformaciones a los datos originales de cara a su uso en la construción del modelo predictivo. Estos cambios pueden ir haciéndose progresivamente. Sin embargo, ***todo el proceso ha de ser registrado de algún modo, ya que ha de ser reproducido para el tratamiento de nuevos datos*** que, en un contexto real, son adquiridos con el formato del conjunto de datos original.\n",
    "<br>\n",
    "\n",
    "<font size=2 color=\"#00586D\"> <i class=\"fa fa-info-circle\"  aria-hidden=\"true\"></i> </font>  A lo largo del módulo se ha estudiado como hacer _pipelines_ o secuencias de funciones en `scikit-learn`. Aunque _esta funcionalidad es muy útil_, incorporar todo el proceso de los datos dentro de un _pipeline_ de `scikit-learn` puede ser tedioso, e incluso puede haber limitaciones que lo impidan o hagan recomendable un modo alternativo de trabajo. En realidad, _es posible apartar (y anticipar) algunas tareas de preparación de datos_ del proceso definido en el _pipeline_ de `scikit-learn`. Así, operaciones como la eliminación o transformación de columnas, cuya aplicación en nuevos datos es _totalmente independiente del entrenamiento_,  pueden definirse y llevarse a cabo en un _pipeline_ de `pandas`, anterior a la construcción (y uso) del modelo de clasificación.\n",
    "<br>\n",
    "\n",
    "<div class=\"alert alert-block alert-warning\">\n",
    "    \n",
    "<i class=\"fa fa-exclamation-circle\" aria-hidden=\"true\"></i> Ejemplos de operaciones que dependen del entrenamiento son la estándarización o la sustitución de valores perdidos por la media/mediana. Éstas sí deben formar parte del *pipeline* de `scikit-learn` ya que implican instanciar un transformador.\n",
    "</div>\n",
    "\n",
    "En este proyecto se propone un modo de trabajar en el que sucesivamente, _durante la exploración_, se aplicarán funciones de preprocesamiento a un _DataFrame_. Estas funciones serán almacenadas en una lista que, finalmente, podrá ser utilizada para creación del _pipeline_ de `pandas`que implementa la secuencia de acciones de preprocesamiento sobre nuevos datos. Una vez disponible una versión adecuada de los datos, el trabajo con `scikit-learn` se hará según el procedimiento habitual.\n",
    "\n",
    "\n",
    "<div class=\"alert alert-block alert-info\">\n",
    "    \n",
    "<i class=\"fa fa-info-circle\" aria-hidden=\"true\"></i> __Nota__: El modo de trabajo que se propone __no es el único, pero es una alternativa__ que puede ser conveniente en algunos supuestos, y distinta a las vistas en clase (implementación de transformadores). Por otra parte, esta tarea  se centra en la construcción de modelos, por lo que __la parte de exploración se ha reducido al mínimo imprescindible__. No obstante, podéis incluir pasos adicionales en este sentido si lo veis conveniente.\n",
    "</div>\n",
    "\n",
    "Considerando el planteamiento descrito, es necesario registrar las transformaciones que se irán haciendo sobre el *DataFrame* y el tratamiento que se hará finalmente a cada variable dentro del *pipeline* de `scikit-learn`. Para ello, se utilizarán tres listas:\n",
    "\n",
    "* `churn_data_prep_pipeline`, que guardará la secuencia de funciones de transformación (referencias) aplicadas al _DataFrame_.\n",
    "\n",
    "* `cat_features`, que guardará los nombres de las columnas que contienen valores discretos, y que han de ser tratadas  como categóricas en el _pipeline_ de `scikit-learn`.\n",
    "\n",
    "* `num_features`, que guardará los nombres de las columnas que han de ser tratadas como numéricas en el _pipeline_ de `scikit-learn`."
   ]
  },
  {
   "cell_type": "code",
   "execution_count": 4,
   "metadata": {},
   "outputs": [],
   "source": [
    "# Lista de funciones aplicadas en la preparación de los datos\n",
    "churn_data_prep_pipeline = []\n",
    "\n",
    "# Características que serán consideradas categóricas y numéricas en el pipeline\n",
    "cat_features = []\n",
    "num_features = []"
   ]
  },
  {
   "cell_type": "markdown",
   "metadata": {},
   "source": [
    "<div align=\"right\">\n",
    "<a href=\"#indice\"><font size=5 color=\"#00586D\"><i class=\"fa fa-arrow-circle-up\" aria-hidden=\"true\"></i></font></a>\n",
    "</div>\n",
    "\n",
    "---\n",
    "\n",
    "<a id=\"section11\"></a>\n",
    "## <font color=\"#00586D\"> 1.1 Exploración de los datos. Preprocesamiento. </font>\n",
    "<br>\n",
    "\n",
    "\n",
    "El objetivo principal de este trabajo es predecir la baja de un determinado usuario mediante un modelo de clasificación. Por eso, uno de los pasos más importantes en la exploración consiste en el análisis e interpretación de la distribución de las clases. Este factor puede resultar de interés en el entrenamiento, pero también de cara a la evaluación. \n",
    "\n",
    "#### <font color=\"#00586D\"> <i class=\"fa fa-pencil-square-o\" aria-hidden=\"true\" ></i> Ejercicio 1 </font> \n",
    "Dibujar un diagrama de barras (`sns.catplot()` o `sns.countplot()`) con la distribución de las clases (columna `Churn`) sobre las muestras. Obtener los posibles valores de las mismas. Comentar qué se aprecia en la gráfica, en qué modo puede afectar esto al rendimiento del clasificador, y si esto influye en el modo en que se ha de llevar a cabo la evaluación. "
   ]
  },
  {
   "cell_type": "code",
   "execution_count": 5,
   "metadata": {},
   "outputs": [
    {
     "name": "stdout",
     "output_type": "stream",
     "text": [
      "Clases:  ['No' 'Yes']\n",
      "El porcentaje de muestras positivas es 0.27\n"
     ]
    },
    {
     "data": {
      "image/png": "[encoded data removed]",
      "text/plain": [
       "<Figure size 360x360 with 1 Axes>"
      ]
     },
     "metadata": {},
     "output_type": "display_data"
    }
   ],
   "source": [
    "# Creo la gráfica de barras\n",
    "g = sns.catplot(x=\"Churn\", kind=\"count\", data=df_churn);\n",
    "\n",
    "# Inserto los valores de cada barra\n",
    "ax = g.facet_axis(0,0)\n",
    "for p in ax.patches:\n",
    "    ax.text(p.get_x() +0.35, \n",
    "            p.get_height() * 1.012, \n",
    "            '{0:.0f}'.format(p.get_height()),  \n",
    "            color='black', \n",
    "            rotation='horizontal', \n",
    "            size=10)\n",
    "\n",
    "# Añado etiquetas y títulos al gráfico\n",
    "plt.xlabel(\"Abandono (Churn)\")\n",
    "plt.ylabel(\"Frecuencia\")\n",
    "plt.title(\"Distribución de la clase\")    \n",
    "\n",
    "# Imprimo la información    \n",
    "print(\"Clases: \", df_churn['Churn'].unique())\n",
    "print(f\"El porcentaje de muestras positivas es {(sum(df_churn['Churn']=='Yes') / df_churn.shape[0]):.2f}\")"
   ]
  },
  {
   "cell_type": "markdown",
   "metadata": {},
   "source": [
    "___Respuesta___\n",
    "\n",
    "<br><font color='blue'>\n",
    "    En el gráfico podemos ver que el data set no está balanceado, es decir, hay más datos de una categoría que de la otra: 27% de los datos corresponden a \"abandono\" y un 73% a \"no abandono\". Es importante tener esto en cuenta al evaluar nuestro algoritmo de predicción, ya que necesitamos que pueda predecir ambas categorías correctamente.<br>\n",
    "En este caso, utilizar una tasa de precisión simple para evaluar el rendimiento del algoritmo podría ser engañoso. Si el algoritmo siempre predice la categoría más común, podríamos obtener una alta tasa de aciertos sin realmente estar prediciendo bien la categoría minoritaria."
   ]
  },
  {
   "cell_type": "markdown",
   "metadata": {},
   "source": [
    "<div><font size=3 color=#00586D> <i class=\"fa fa-check-square-o\" aria-hidden=\"true\"></i></font></div>\n",
    "\n",
    "<!--comment -->"
   ]
  },
  {
   "cell_type": "markdown",
   "metadata": {},
   "source": [
    "Puede apreciarse que las clases están codificadas como _Strings_. Para trabajar con `scikit-learn` se necesita convertirlas a formato numérico.\n",
    "\n",
    "<div class=\"alert alert-block alert-warning\">\n",
    "    \n",
    "<i class=\"fa fa-exclamation-circle\" aria-hidden=\"true\"></i> \n",
    "Este paso no será incluido en el _pipeline_. El motivo es que (tal y como se comentó anteriormente) una vez diseñado, se debería implantar para el procesamiento de datos nuevos que ___no___ contienen información relativa a la clase. \n",
    "</div>\n",
    "\n",
    "A continuación, se convierte la columna correspondiente a la clase a formato numérico."
   ]
  },
  {
   "cell_type": "code",
   "execution_count": 6,
   "metadata": {},
   "outputs": [
    {
     "data": {
      "text/html": [
       "<div>\n",
       "<style scoped>\n",
       "    .dataframe tbody tr th:only-of-type {\n",
       "        vertical-align: middle;\n",
       "    }\n",
       "\n",
       "    .dataframe tbody tr th {\n",
       "        vertical-align: top;\n",
       "    }\n",
       "\n",
       "    .dataframe thead th {\n",
       "        text-align: right;\n",
       "    }\n",
       "</style>\n",
       "<table border=\"1\" class=\"dataframe\">\n",
       "  <thead>\n",
       "    <tr style=\"text-align: right;\">\n",
       "      <th></th>\n",
       "      <th>gender</th>\n",
       "      <th>SeniorCitizen</th>\n",
       "      <th>Partner</th>\n",
       "      <th>Dependents</th>\n",
       "      <th>tenure</th>\n",
       "      <th>PhoneService</th>\n",
       "      <th>MultipleLines</th>\n",
       "      <th>InternetService</th>\n",
       "      <th>OnlineSecurity</th>\n",
       "      <th>OnlineBackup</th>\n",
       "      <th>DeviceProtection</th>\n",
       "      <th>TechSupport</th>\n",
       "      <th>StreamingTV</th>\n",
       "      <th>StreamingMovies</th>\n",
       "      <th>Contract</th>\n",
       "      <th>PaperlessBilling</th>\n",
       "      <th>PaymentMethod</th>\n",
       "      <th>MonthlyCharges</th>\n",
       "      <th>TotalCharges</th>\n",
       "      <th>Churn</th>\n",
       "    </tr>\n",
       "    <tr>\n",
       "      <th>customerID</th>\n",
       "      <th></th>\n",
       "      <th></th>\n",
       "      <th></th>\n",
       "      <th></th>\n",
       "      <th></th>\n",
       "      <th></th>\n",
       "      <th></th>\n",
       "      <th></th>\n",
       "      <th></th>\n",
       "      <th></th>\n",
       "      <th></th>\n",
       "      <th></th>\n",
       "      <th></th>\n",
       "      <th></th>\n",
       "      <th></th>\n",
       "      <th></th>\n",
       "      <th></th>\n",
       "      <th></th>\n",
       "      <th></th>\n",
       "      <th></th>\n",
       "    </tr>\n",
       "  </thead>\n",
       "  <tbody>\n",
       "    <tr>\n",
       "      <th>6296-DDOOR</th>\n",
       "      <td>Female</td>\n",
       "      <td>0</td>\n",
       "      <td>No</td>\n",
       "      <td>No</td>\n",
       "      <td>19</td>\n",
       "      <td>Yes</td>\n",
       "      <td>No</td>\n",
       "      <td>DSL</td>\n",
       "      <td>No</td>\n",
       "      <td>Yes</td>\n",
       "      <td>No</td>\n",
       "      <td>No</td>\n",
       "      <td>Yes</td>\n",
       "      <td>No</td>\n",
       "      <td>One year</td>\n",
       "      <td>No</td>\n",
       "      <td>Electronic check</td>\n",
       "      <td>58.20</td>\n",
       "      <td>1045.25</td>\n",
       "      <td>0</td>\n",
       "    </tr>\n",
       "    <tr>\n",
       "      <th>3680-CTHUH</th>\n",
       "      <td>Male</td>\n",
       "      <td>0</td>\n",
       "      <td>No</td>\n",
       "      <td>No</td>\n",
       "      <td>60</td>\n",
       "      <td>Yes</td>\n",
       "      <td>Yes</td>\n",
       "      <td>Fiber optic</td>\n",
       "      <td>Yes</td>\n",
       "      <td>Yes</td>\n",
       "      <td>Yes</td>\n",
       "      <td>Yes</td>\n",
       "      <td>Yes</td>\n",
       "      <td>Yes</td>\n",
       "      <td>One year</td>\n",
       "      <td>Yes</td>\n",
       "      <td>Credit card (automatic)</td>\n",
       "      <td>116.60</td>\n",
       "      <td>7049.5</td>\n",
       "      <td>0</td>\n",
       "    </tr>\n",
       "    <tr>\n",
       "      <th>4931-TRZWN</th>\n",
       "      <td>Female</td>\n",
       "      <td>0</td>\n",
       "      <td>No</td>\n",
       "      <td>No</td>\n",
       "      <td>13</td>\n",
       "      <td>Yes</td>\n",
       "      <td>No</td>\n",
       "      <td>DSL</td>\n",
       "      <td>Yes</td>\n",
       "      <td>No</td>\n",
       "      <td>No</td>\n",
       "      <td>No</td>\n",
       "      <td>Yes</td>\n",
       "      <td>Yes</td>\n",
       "      <td>Month-to-month</td>\n",
       "      <td>Yes</td>\n",
       "      <td>Electronic check</td>\n",
       "      <td>71.95</td>\n",
       "      <td>923.85</td>\n",
       "      <td>0</td>\n",
       "    </tr>\n",
       "    <tr>\n",
       "      <th>8559-WNQZS</th>\n",
       "      <td>Male</td>\n",
       "      <td>0</td>\n",
       "      <td>No</td>\n",
       "      <td>No</td>\n",
       "      <td>1</td>\n",
       "      <td>Yes</td>\n",
       "      <td>No</td>\n",
       "      <td>No</td>\n",
       "      <td>No internet service</td>\n",
       "      <td>No internet service</td>\n",
       "      <td>No internet service</td>\n",
       "      <td>No internet service</td>\n",
       "      <td>No internet service</td>\n",
       "      <td>No internet service</td>\n",
       "      <td>Two year</td>\n",
       "      <td>No</td>\n",
       "      <td>Mailed check</td>\n",
       "      <td>20.45</td>\n",
       "      <td>20.45</td>\n",
       "      <td>0</td>\n",
       "    </tr>\n",
       "    <tr>\n",
       "      <th>3537-HPKQT</th>\n",
       "      <td>Female</td>\n",
       "      <td>0</td>\n",
       "      <td>Yes</td>\n",
       "      <td>No</td>\n",
       "      <td>55</td>\n",
       "      <td>Yes</td>\n",
       "      <td>Yes</td>\n",
       "      <td>Fiber optic</td>\n",
       "      <td>No</td>\n",
       "      <td>Yes</td>\n",
       "      <td>No</td>\n",
       "      <td>No</td>\n",
       "      <td>No</td>\n",
       "      <td>No</td>\n",
       "      <td>Month-to-month</td>\n",
       "      <td>Yes</td>\n",
       "      <td>Credit card (automatic)</td>\n",
       "      <td>77.75</td>\n",
       "      <td>4266.4</td>\n",
       "      <td>0</td>\n",
       "    </tr>\n",
       "  </tbody>\n",
       "</table>\n",
       "</div>"
      ],
      "text/plain": [
       "            gender  SeniorCitizen Partner Dependents  tenure PhoneService  \\\n",
       "customerID                                                                  \n",
       "6296-DDOOR  Female              0      No         No      19          Yes   \n",
       "3680-CTHUH    Male              0      No         No      60          Yes   \n",
       "4931-TRZWN  Female              0      No         No      13          Yes   \n",
       "8559-WNQZS    Male              0      No         No       1          Yes   \n",
       "3537-HPKQT  Female              0     Yes         No      55          Yes   \n",
       "\n",
       "           MultipleLines InternetService       OnlineSecurity  \\\n",
       "customerID                                                      \n",
       "6296-DDOOR            No             DSL                   No   \n",
       "3680-CTHUH           Yes     Fiber optic                  Yes   \n",
       "4931-TRZWN            No             DSL                  Yes   \n",
       "8559-WNQZS            No              No  No internet service   \n",
       "3537-HPKQT           Yes     Fiber optic                   No   \n",
       "\n",
       "                   OnlineBackup     DeviceProtection          TechSupport  \\\n",
       "customerID                                                                  \n",
       "6296-DDOOR                  Yes                   No                   No   \n",
       "3680-CTHUH                  Yes                  Yes                  Yes   \n",
       "4931-TRZWN                   No                   No                   No   \n",
       "8559-WNQZS  No internet service  No internet service  No internet service   \n",
       "3537-HPKQT                  Yes                   No                   No   \n",
       "\n",
       "                    StreamingTV      StreamingMovies        Contract  \\\n",
       "customerID                                                             \n",
       "6296-DDOOR                  Yes                   No        One year   \n",
       "3680-CTHUH                  Yes                  Yes        One year   \n",
       "4931-TRZWN                  Yes                  Yes  Month-to-month   \n",
       "8559-WNQZS  No internet service  No internet service        Two year   \n",
       "3537-HPKQT                   No                   No  Month-to-month   \n",
       "\n",
       "           PaperlessBilling            PaymentMethod  MonthlyCharges  \\\n",
       "customerID                                                             \n",
       "6296-DDOOR               No         Electronic check           58.20   \n",
       "3680-CTHUH              Yes  Credit card (automatic)          116.60   \n",
       "4931-TRZWN              Yes         Electronic check           71.95   \n",
       "8559-WNQZS               No             Mailed check           20.45   \n",
       "3537-HPKQT              Yes  Credit card (automatic)           77.75   \n",
       "\n",
       "           TotalCharges  Churn  \n",
       "customerID                      \n",
       "6296-DDOOR      1045.25      0  \n",
       "3680-CTHUH       7049.5      0  \n",
       "4931-TRZWN       923.85      0  \n",
       "8559-WNQZS        20.45      0  \n",
       "3537-HPKQT       4266.4      0  "
      ]
     },
     "execution_count": 6,
     "metadata": {},
     "output_type": "execute_result"
    }
   ],
   "source": [
    "df_churn['Churn'] = (df_churn['Churn']=='Yes').astype(int)\n",
    "df_churn.head()"
   ]
  },
  {
   "cell_type": "markdown",
   "metadata": {},
   "source": [
    "Una vez explorada la clase, se procede con las características, para lo cual se comprobarán primero los tipos."
   ]
  },
  {
   "cell_type": "code",
   "execution_count": 7,
   "metadata": {},
   "outputs": [
    {
     "data": {
      "text/plain": [
       "gender               object\n",
       "SeniorCitizen         int64\n",
       "Partner              object\n",
       "Dependents           object\n",
       "tenure                int64\n",
       "PhoneService         object\n",
       "MultipleLines        object\n",
       "InternetService      object\n",
       "OnlineSecurity       object\n",
       "OnlineBackup         object\n",
       "DeviceProtection     object\n",
       "TechSupport          object\n",
       "StreamingTV          object\n",
       "StreamingMovies      object\n",
       "Contract             object\n",
       "PaperlessBilling     object\n",
       "PaymentMethod        object\n",
       "MonthlyCharges      float64\n",
       "TotalCharges         object\n",
       "Churn                 int32\n",
       "dtype: object"
      ]
     },
     "execution_count": 7,
     "metadata": {},
     "output_type": "execute_result"
    }
   ],
   "source": [
    "df_churn.dtypes"
   ]
  },
  {
   "cell_type": "markdown",
   "metadata": {},
   "source": [
    "Puede observarse que hay columnas de enteros, flotantes y también _Strings_ (objetos). Se dividirán las columnas por tipo, y se procederá a examinar y tratar cada grupo por separado.\n",
    "\n",
    "<div class=\"alert alert-block alert-info\">\n",
    "    \n",
    "<i class=\"fa fa-exclamation-circle\" aria-hidden=\"true\"></i> \n",
    "En este caso de estudio se puede proceder así, ya que **el número de variables es manejable**. En casos con más variables, habría que hacer una exploración de carácter más superficial, y definir métodos de carácter general.\n",
    "</div>\n",
    "<br>\n",
    "\n",
    "A continuación se almacenan los nombres de las columnas numéricas del _DataFrame_ en una lista denominada `num_df_columns`, y el resto en otra denominada `cat_df_columns`. \n",
    "\n",
    "\n",
    "\n",
    "<div class=\"alert alert-block alert-warning\">\n",
    "    \n",
    "<i class=\"fa fa-exclamation-circle\" aria-hidden=\"true\"></i>\n",
    "***Observad*** que éstas listas son distintas de `num_features` y `cat_features`, que contienen los nombres de las características en función de ***cómo serán tratadas finalmente*** en el _pipeline_ de `scikit-learn`. \n",
    "</div>\n",
    "<br>"
   ]
  },
  {
   "cell_type": "code",
   "execution_count": 8,
   "metadata": {},
   "outputs": [
    {
     "name": "stdout",
     "output_type": "stream",
     "text": [
      "Discretas:  Index(['gender', 'Partner', 'Dependents', 'PhoneService', 'MultipleLines',\n",
      "       'InternetService', 'OnlineSecurity', 'OnlineBackup', 'DeviceProtection',\n",
      "       'TechSupport', 'StreamingTV', 'StreamingMovies', 'Contract',\n",
      "       'PaperlessBilling', 'PaymentMethod', 'TotalCharges'],\n",
      "      dtype='object')\n",
      "\n",
      "Numéricas:  Index(['SeniorCitizen', 'tenure', 'MonthlyCharges', 'Churn'], dtype='object')\n"
     ]
    }
   ],
   "source": [
    "dis_df_columns = df_churn.select_dtypes(exclude=np.number).columns\n",
    "num_df_columns = df_churn.select_dtypes(include=np.number).columns\n",
    "\n",
    "print('Discretas: ',dis_df_columns)\n",
    "print('\\nNuméricas: ',num_df_columns)"
   ]
  },
  {
   "cell_type": "markdown",
   "metadata": {},
   "source": [
    "<div class=\"alert alert-block alert-info\">\n",
    "    \n",
    "<i class=\"fa fa-info-circle\" aria-hidden=\"true\"></i> Se comenzará tratando las variables discretas, ya que a veces conviene convertirlas a numéricas, y luego se pueden incluir en la exploración y análisis de las variables numéricas. \n",
    "</div>\n",
    "\n",
    "\n",
    "<br>\n",
    "\n",
    "### <font color=\"#00586D\">Tratamiento de las columnas discretas </font>\n",
    "\n",
    "\n",
    " \n",
    "<font size=2 color=\"#00586D\"> <i class=\"fa fa-info-circle\"  aria-hidden=\"true\"></i> </font>  En relación a estas columnas, dos aspectos muy relevantes de cara a la construcción de un modelo con `scikit-learn` son: el número de valores que puede tomar cada una; y si existe una relación de orden entre estos valores. Estos factores determinan el tipo de transformación que se ha de hacer. Existen ***cuatro posibilidades***:\n",
    "\n",
    "* Cuando la columna toma dos valores, se puede binarizar y convertir a numérica diréctamente. \n",
    "* Si el tamaño del conjunto de valores es mayor que dos, y no existe una relación de orden entre ellos, se aplica _One Hot Encoding_ (se aplicará posteriormente en el *pipeline* de transformaciones).\n",
    "* Si existe una relación de orden, los valores se transforman a numéricos, sustituyendo cada valor por su orden. \n",
    "* Si el conjunto de valores extremadamente grande se ha de explorar, ya que es muy posible que se trate de un identificador, o de un error."
   ]
  },
  {
   "cell_type": "markdown",
   "metadata": {},
   "source": [
    "A continuación, se obtiene el número de valores para cada una de las variables discretas y se almacena en una lista denominada `num_values_dis_df_col`. Cada elemento de la lista es una tupla con el nombre de la columna y el número de variables. "
   ]
  },
  {
   "cell_type": "code",
   "execution_count": 9,
   "metadata": {},
   "outputs": [
    {
     "data": {
      "text/plain": [
       "[('gender', 2),\n",
       " ('Partner', 2),\n",
       " ('Dependents', 2),\n",
       " ('PhoneService', 2),\n",
       " ('MultipleLines', 3),\n",
       " ('InternetService', 3),\n",
       " ('OnlineSecurity', 3),\n",
       " ('OnlineBackup', 3),\n",
       " ('DeviceProtection', 3),\n",
       " ('TechSupport', 3),\n",
       " ('StreamingTV', 3),\n",
       " ('StreamingMovies', 3),\n",
       " ('Contract', 3),\n",
       " ('PaperlessBilling', 2),\n",
       " ('PaymentMethod', 4),\n",
       " ('TotalCharges', 5608)]"
      ]
     },
     "execution_count": 9,
     "metadata": {},
     "output_type": "execute_result"
    }
   ],
   "source": [
    "num_values_dis_df_col = list(map(lambda col: (col,len(df_churn[col].value_counts())), dis_df_columns))\n",
    "num_values_dis_df_col"
   ]
  },
  {
   "cell_type": "markdown",
   "metadata": {},
   "source": [
    "#### <font color=\"#00586D\"> Variables binarias </font>\n",
    "\n",
    "Como se comentó anteriormente, las variables discretas que toman dos valores se pueden binarizar directamente, salvo en el caso de no proporcionar información útil, que se pueden eliminar. "
   ]
  },
  {
   "cell_type": "markdown",
   "metadata": {},
   "source": [
    "A partir de la lista `num_values_dis_df_col` se obtienen los nombres de las columnas binarias y se almacenan en una lista denominada `dis_df_col_bin`."
   ]
  },
  {
   "cell_type": "code",
   "execution_count": 10,
   "metadata": {},
   "outputs": [
    {
     "data": {
      "text/plain": [
       "['gender', 'Partner', 'Dependents', 'PhoneService', 'PaperlessBilling']"
      ]
     },
     "execution_count": 10,
     "metadata": {},
     "output_type": "execute_result"
    }
   ],
   "source": [
    "dis_df_col_bin = list(map(lambda cv: cv[0],(filter(lambda cv: cv[1]==2,num_values_dis_df_col))))\n",
    "dis_df_col_bin"
   ]
  },
  {
   "cell_type": "markdown",
   "metadata": {},
   "source": [
    "#### <font color=\"#00586D\"> <i class=\"fa fa-pencil-square-o\" aria-hidden=\"true\" ></i> Ejercicio 2</font>\n",
    "Dibujar la distribución de cada una de estas variables utilizando una gráfica de tipo `sns.countplot()` para cada una de ellas. Es posible visualizar también la variable de clase (con `hue='Churn', dodge=False`).\n",
    "\n",
    " \n",
    "<font size=2 color=\"#00586D\"> <i class=\"fa fa-info-circle\"  aria-hidden=\"true\"></i> </font>  En este ejercicio se crea una figura con cuatro gráficas, y en cada una de ellas hay que dibujar el `sns.countplot()` correspondiente a cada una de las columnas, utilizando el color de la gráfica para distinguir la variable `Churn`."
   ]
  },
  {
   "cell_type": "code",
   "execution_count": 11,
   "metadata": {},
   "outputs": [
    {
     "data": {
      "image/png": "[encoded data removed]",
      "text/plain": [
       "<Figure size 1440x288 with 5 Axes>"
      ]
     },
     "metadata": {},
     "output_type": "display_data"
    }
   ],
   "source": [
    "# Creo una figura con cuatro gráficas\n",
    "fig, axs = plt.subplots(1, 5, figsize=(20, 4))\n",
    "\n",
    "# En la variable 'columns' introduzco las columnas a visualizar\n",
    "columns = dis_df_col_bin\n",
    "\n",
    "# Itero sobre cada una de las columnas para visualizarlo\n",
    "for i, col in enumerate(columns):\n",
    "    sns.countplot(x=col, data=df_churn, hue='Churn', dodge=False, ax=axs[i])\n",
    "    axs[i].set_title(col)\n",
    "    axs[i].set_xlabel(None)\n",
    "    axs[i].set_ylabel('Count')\n",
    "\n",
    "# Añado separación entre gráficas\n",
    "plt.subplots_adjust(wspace=0.5)\n",
    "plt.show()"
   ]
  },
  {
   "cell_type": "markdown",
   "metadata": {},
   "source": [
    "<div><font size=3 color=#00586D> <i class=\"fa fa-check-square-o\" aria-hidden=\"true\"></i></font></div>\n",
    "\n",
    "<!--comment -->"
   ]
  },
  {
   "cell_type": "markdown",
   "metadata": {},
   "source": [
    "Independientemente de que lo relevantes que puedan ser a la hora de clasificar, parece que todas las variables y sus valores tienen sentido, por lo que se van a preservar. "
   ]
  },
  {
   "cell_type": "markdown",
   "metadata": {},
   "source": [
    "La siguiente función, `churn_binarize_dis`, recibe un _DataFrame_ y transforma las columnas de `dis_df_col_bin` a un entero binario."
   ]
  },
  {
   "cell_type": "code",
   "execution_count": 12,
   "metadata": {},
   "outputs": [
    {
     "data": {
      "text/html": [
       "<div>\n",
       "<style scoped>\n",
       "    .dataframe tbody tr th:only-of-type {\n",
       "        vertical-align: middle;\n",
       "    }\n",
       "\n",
       "    .dataframe tbody tr th {\n",
       "        vertical-align: top;\n",
       "    }\n",
       "\n",
       "    .dataframe thead th {\n",
       "        text-align: right;\n",
       "    }\n",
       "</style>\n",
       "<table border=\"1\" class=\"dataframe\">\n",
       "  <thead>\n",
       "    <tr style=\"text-align: right;\">\n",
       "      <th></th>\n",
       "      <th>gender</th>\n",
       "      <th>SeniorCitizen</th>\n",
       "      <th>Partner</th>\n",
       "      <th>Dependents</th>\n",
       "      <th>tenure</th>\n",
       "      <th>PhoneService</th>\n",
       "      <th>MultipleLines</th>\n",
       "      <th>InternetService</th>\n",
       "      <th>OnlineSecurity</th>\n",
       "      <th>OnlineBackup</th>\n",
       "      <th>DeviceProtection</th>\n",
       "      <th>TechSupport</th>\n",
       "      <th>StreamingTV</th>\n",
       "      <th>StreamingMovies</th>\n",
       "      <th>Contract</th>\n",
       "      <th>PaperlessBilling</th>\n",
       "      <th>PaymentMethod</th>\n",
       "      <th>MonthlyCharges</th>\n",
       "      <th>TotalCharges</th>\n",
       "      <th>Churn</th>\n",
       "    </tr>\n",
       "    <tr>\n",
       "      <th>customerID</th>\n",
       "      <th></th>\n",
       "      <th></th>\n",
       "      <th></th>\n",
       "      <th></th>\n",
       "      <th></th>\n",
       "      <th></th>\n",
       "      <th></th>\n",
       "      <th></th>\n",
       "      <th></th>\n",
       "      <th></th>\n",
       "      <th></th>\n",
       "      <th></th>\n",
       "      <th></th>\n",
       "      <th></th>\n",
       "      <th></th>\n",
       "      <th></th>\n",
       "      <th></th>\n",
       "      <th></th>\n",
       "      <th></th>\n",
       "      <th></th>\n",
       "    </tr>\n",
       "  </thead>\n",
       "  <tbody>\n",
       "    <tr>\n",
       "      <th>6296-DDOOR</th>\n",
       "      <td>1</td>\n",
       "      <td>0</td>\n",
       "      <td>0</td>\n",
       "      <td>0</td>\n",
       "      <td>19</td>\n",
       "      <td>1</td>\n",
       "      <td>No</td>\n",
       "      <td>DSL</td>\n",
       "      <td>No</td>\n",
       "      <td>Yes</td>\n",
       "      <td>No</td>\n",
       "      <td>No</td>\n",
       "      <td>Yes</td>\n",
       "      <td>No</td>\n",
       "      <td>One year</td>\n",
       "      <td>0</td>\n",
       "      <td>Electronic check</td>\n",
       "      <td>58.20</td>\n",
       "      <td>1045.25</td>\n",
       "      <td>0</td>\n",
       "    </tr>\n",
       "    <tr>\n",
       "      <th>3680-CTHUH</th>\n",
       "      <td>0</td>\n",
       "      <td>0</td>\n",
       "      <td>0</td>\n",
       "      <td>0</td>\n",
       "      <td>60</td>\n",
       "      <td>1</td>\n",
       "      <td>Yes</td>\n",
       "      <td>Fiber optic</td>\n",
       "      <td>Yes</td>\n",
       "      <td>Yes</td>\n",
       "      <td>Yes</td>\n",
       "      <td>Yes</td>\n",
       "      <td>Yes</td>\n",
       "      <td>Yes</td>\n",
       "      <td>One year</td>\n",
       "      <td>1</td>\n",
       "      <td>Credit card (automatic)</td>\n",
       "      <td>116.60</td>\n",
       "      <td>7049.5</td>\n",
       "      <td>0</td>\n",
       "    </tr>\n",
       "    <tr>\n",
       "      <th>4931-TRZWN</th>\n",
       "      <td>1</td>\n",
       "      <td>0</td>\n",
       "      <td>0</td>\n",
       "      <td>0</td>\n",
       "      <td>13</td>\n",
       "      <td>1</td>\n",
       "      <td>No</td>\n",
       "      <td>DSL</td>\n",
       "      <td>Yes</td>\n",
       "      <td>No</td>\n",
       "      <td>No</td>\n",
       "      <td>No</td>\n",
       "      <td>Yes</td>\n",
       "      <td>Yes</td>\n",
       "      <td>Month-to-month</td>\n",
       "      <td>1</td>\n",
       "      <td>Electronic check</td>\n",
       "      <td>71.95</td>\n",
       "      <td>923.85</td>\n",
       "      <td>0</td>\n",
       "    </tr>\n",
       "    <tr>\n",
       "      <th>8559-WNQZS</th>\n",
       "      <td>0</td>\n",
       "      <td>0</td>\n",
       "      <td>0</td>\n",
       "      <td>0</td>\n",
       "      <td>1</td>\n",
       "      <td>1</td>\n",
       "      <td>No</td>\n",
       "      <td>No</td>\n",
       "      <td>No internet service</td>\n",
       "      <td>No internet service</td>\n",
       "      <td>No internet service</td>\n",
       "      <td>No internet service</td>\n",
       "      <td>No internet service</td>\n",
       "      <td>No internet service</td>\n",
       "      <td>Two year</td>\n",
       "      <td>0</td>\n",
       "      <td>Mailed check</td>\n",
       "      <td>20.45</td>\n",
       "      <td>20.45</td>\n",
       "      <td>0</td>\n",
       "    </tr>\n",
       "    <tr>\n",
       "      <th>3537-HPKQT</th>\n",
       "      <td>1</td>\n",
       "      <td>0</td>\n",
       "      <td>1</td>\n",
       "      <td>0</td>\n",
       "      <td>55</td>\n",
       "      <td>1</td>\n",
       "      <td>Yes</td>\n",
       "      <td>Fiber optic</td>\n",
       "      <td>No</td>\n",
       "      <td>Yes</td>\n",
       "      <td>No</td>\n",
       "      <td>No</td>\n",
       "      <td>No</td>\n",
       "      <td>No</td>\n",
       "      <td>Month-to-month</td>\n",
       "      <td>1</td>\n",
       "      <td>Credit card (automatic)</td>\n",
       "      <td>77.75</td>\n",
       "      <td>4266.4</td>\n",
       "      <td>0</td>\n",
       "    </tr>\n",
       "  </tbody>\n",
       "</table>\n",
       "</div>"
      ],
      "text/plain": [
       "            gender  SeniorCitizen  Partner  Dependents  tenure  PhoneService  \\\n",
       "customerID                                                                     \n",
       "6296-DDOOR       1              0        0           0      19             1   \n",
       "3680-CTHUH       0              0        0           0      60             1   \n",
       "4931-TRZWN       1              0        0           0      13             1   \n",
       "8559-WNQZS       0              0        0           0       1             1   \n",
       "3537-HPKQT       1              0        1           0      55             1   \n",
       "\n",
       "           MultipleLines InternetService       OnlineSecurity  \\\n",
       "customerID                                                      \n",
       "6296-DDOOR            No             DSL                   No   \n",
       "3680-CTHUH           Yes     Fiber optic                  Yes   \n",
       "4931-TRZWN            No             DSL                  Yes   \n",
       "8559-WNQZS            No              No  No internet service   \n",
       "3537-HPKQT           Yes     Fiber optic                   No   \n",
       "\n",
       "                   OnlineBackup     DeviceProtection          TechSupport  \\\n",
       "customerID                                                                  \n",
       "6296-DDOOR                  Yes                   No                   No   \n",
       "3680-CTHUH                  Yes                  Yes                  Yes   \n",
       "4931-TRZWN                   No                   No                   No   \n",
       "8559-WNQZS  No internet service  No internet service  No internet service   \n",
       "3537-HPKQT                  Yes                   No                   No   \n",
       "\n",
       "                    StreamingTV      StreamingMovies        Contract  \\\n",
       "customerID                                                             \n",
       "6296-DDOOR                  Yes                   No        One year   \n",
       "3680-CTHUH                  Yes                  Yes        One year   \n",
       "4931-TRZWN                  Yes                  Yes  Month-to-month   \n",
       "8559-WNQZS  No internet service  No internet service        Two year   \n",
       "3537-HPKQT                   No                   No  Month-to-month   \n",
       "\n",
       "            PaperlessBilling            PaymentMethod  MonthlyCharges  \\\n",
       "customerID                                                              \n",
       "6296-DDOOR                 0         Electronic check           58.20   \n",
       "3680-CTHUH                 1  Credit card (automatic)          116.60   \n",
       "4931-TRZWN                 1         Electronic check           71.95   \n",
       "8559-WNQZS                 0             Mailed check           20.45   \n",
       "3537-HPKQT                 1  Credit card (automatic)           77.75   \n",
       "\n",
       "           TotalCharges  Churn  \n",
       "customerID                      \n",
       "6296-DDOOR      1045.25      0  \n",
       "3680-CTHUH       7049.5      0  \n",
       "4931-TRZWN       923.85      0  \n",
       "8559-WNQZS        20.45      0  \n",
       "3537-HPKQT       4266.4      0  "
      ]
     },
     "metadata": {},
     "output_type": "display_data"
    }
   ],
   "source": [
    "# Para gender --> Male=0, Female=1\n",
    "# Pare el resto: --> No=0, Yes=1\n",
    "def churn_binarize_dis(df):\n",
    "    df['gender'] = (df['gender']=='Female').apply(int)\n",
    "    df['Partner'] = (df['Partner']=='Yes').apply(int)\n",
    "    df['Dependents'] = (df['Dependents']=='Yes').apply(int)\n",
    "    df['PhoneService'] = (df['PhoneService']=='Yes').apply(int)\n",
    "    df['PaperlessBilling'] = (df['PaperlessBilling']=='Yes').apply(int)\n",
    "    return df # No hace falta\n",
    "\n",
    "# Comprueba si la función está bien sobre una copia de los datos\n",
    "display(churn_binarize_dis(df_churn.head(5).copy()))"
   ]
  },
  {
   "cell_type": "markdown",
   "metadata": {},
   "source": [
    "A continuacion se aplica la función `churn_binarize_dis` a los datos, y se añade a la lista de acciones de preprocesamiento, `churn_data_prep_pipeline`. "
   ]
  },
  {
   "cell_type": "code",
   "execution_count": 13,
   "metadata": {},
   "outputs": [],
   "source": [
    "# Lo aplica\n",
    "churn_binarize_dis(df_churn)\n",
    "\n",
    "# Lo añade.\n",
    "churn_data_prep_pipeline.append(churn_binarize_dis)"
   ]
  },
  {
   "cell_type": "markdown",
   "metadata": {},
   "source": [
    "Las variables originalmente discretas que han sido transformadas a binarias, se han de tratar como numéricas, por lo que se añaden a la lista `num_features`."
   ]
  },
  {
   "cell_type": "code",
   "execution_count": 14,
   "metadata": {},
   "outputs": [
    {
     "name": "stdout",
     "output_type": "stream",
     "text": [
      "Variables numéricas:  ['gender', 'Partner', 'Dependents', 'PhoneService', 'PaperlessBilling']\n"
     ]
    }
   ],
   "source": [
    "# Añade las variables\n",
    "num_features.extend(dis_df_col_bin)\n",
    "# Muestra las variables numéricas\n",
    "print('Variables numéricas: ', num_features)"
   ]
  },
  {
   "cell_type": "markdown",
   "metadata": {},
   "source": [
    "#### <font color=\"#00586D\"> Variables categóricas </font>\n",
    "\n",
    "Las variables discretas que toman más de dos valores se pueden tratar como categóricas con _One Hot Encoding_ (posteriormente) o, si son ordinales, se pueden transformar a numéricas. En primer lugar, hay que explorar el tipo y distribución de valores de cada una de ellas, y ver si se pueden considerar como ordinales.  \n",
    "\n",
    "A partir de `num_values_dis_df_col`, se pueden obtener los nombres de las columnas discretas que tienen más de dos valores y menos de cinco. Se almacenarán en una lista denominada `dis_df_columns_cat`."
   ]
  },
  {
   "cell_type": "code",
   "execution_count": 15,
   "metadata": {},
   "outputs": [
    {
     "data": {
      "text/plain": [
       "['MultipleLines',\n",
       " 'InternetService',\n",
       " 'OnlineSecurity',\n",
       " 'OnlineBackup',\n",
       " 'DeviceProtection',\n",
       " 'TechSupport',\n",
       " 'StreamingTV',\n",
       " 'StreamingMovies',\n",
       " 'Contract',\n",
       " 'PaymentMethod']"
      ]
     },
     "execution_count": 15,
     "metadata": {},
     "output_type": "execute_result"
    }
   ],
   "source": [
    "dis_df_columns_cat = list(map(lambda cv: cv[0],(filter(lambda cv: cv[1]>2 and cv[1]<5, num_values_dis_df_col))))\n",
    "dis_df_columns_cat"
   ]
  },
  {
   "cell_type": "markdown",
   "metadata": {},
   "source": [
    "#### <font color=\"#00586D\"> <i class=\"fa fa-pencil-square-o\" aria-hidden=\"true\" ></i> Ejercicio 3</font>\n",
    "\n",
    "Dibujar la distribución de cada una de estas variables utilizando una gráfica de tipo `sns.countplot()`. Para cada una de ellas para comprobar que todos los valores son correctos.\n",
    "\n",
    "<font size=2 color=\"#00586D\"> <i class=\"fa fa-info-circle\"  aria-hidden=\"true\"></i> </font> Este ejercicio es parecido al anterior. Se trata crear una figura con diez gráficas, una por columna, y dibujar una gráfica en cada una de ellas."
   ]
  },
  {
   "cell_type": "code",
   "execution_count": 16,
   "metadata": {},
   "outputs": [
    {
     "data": {
      "image/png": "[encoded data removed]",
      "text/plain": [
       "<Figure size 2160x216 with 10 Axes>"
      ]
     },
     "metadata": {},
     "output_type": "display_data"
    }
   ],
   "source": [
    "# Creo una figura con 10 gráficas\n",
    "fig, axs = plt.subplots(1, 10, figsize=(30, 3))\n",
    "plt.subplots_adjust(hspace=0.7, wspace=0.2)\n",
    "\n",
    "# Itero sobre cada gráfica\n",
    "for col, ax in enumerate(axs.flatten()):\n",
    "\n",
    "    sns.countplot(x = dis_df_columns_cat[col], data=df_churn, hue=\"Churn\", dodge=False, ax=ax) \n",
    "    \n",
    "    # Cambio parámetros de visualización\n",
    "    ax.set_title(dis_df_columns_cat[col], fontsize=15, fontweight='bold')\n",
    "    ax.set_xticklabels(ax.get_xticklabels(), rotation=60, fontsize=12)\n",
    "    ax.set_yticks([])\n",
    "    ax.set_xlabel(None)\n",
    "    ax.set_ylabel(None)"
   ]
  },
  {
   "cell_type": "markdown",
   "metadata": {},
   "source": [
    "<div><font size=3 color=#00586D> <i class=\"fa fa-check-square-o\" aria-hidden=\"true\"></i></font></div>\n",
    "\n",
    "<!--comment -->"
   ]
  },
  {
   "cell_type": "markdown",
   "metadata": {},
   "source": [
    "#### <font color=\"#00586D\"> <i class=\"fa fa-pencil-square-o\" aria-hidden=\"true\" ></i> Ejercicio 4</font>\n",
    "\n",
    "Explorar estas variables (de una en una) mediante `sns.countplot()`,  utilizando hue la relación de las variables con `Churn` (con `hue='Churn', dodge=False`). ¿Qué variable o variables parecen más relevantes? Dibujar solo una gráfica cada vez, y finalmente dejar solamente la  correspondiente a la variable más relevante (si la hubiera) y comentar por qué lo es."
   ]
  },
  {
   "cell_type": "code",
   "execution_count": 17,
   "metadata": {},
   "outputs": [
    {
     "data": {
      "image/png": "[encoded data removed]",
      "text/plain": [
       "<Figure size 432x288 with 1 Axes>"
      ]
     },
     "metadata": {},
     "output_type": "display_data"
    }
   ],
   "source": [
    "# Variable 'Contract'=8\n",
    "col_name = dis_df_columns_cat[8]\n",
    "\n",
    "# Creo la figura\n",
    "fig, ax = plt.subplots(1,1)\n",
    "sns.countplot(x = col_name, data=df_churn, hue=\"Churn\", dodge=False, ax=ax) \n",
    "ax.set_title(col_name, fontsize=15, fontweight='bold')\n",
    "\n",
    "# Modifico la visualización\n",
    "plt.xticks(rotation=0, fontsize=9)\n",
    "plt.xlabel(col_name, labelpad=10)\n",
    "plt.ylabel('Counts/class')\n",
    "plt.show()"
   ]
  },
  {
   "cell_type": "code",
   "execution_count": 18,
   "metadata": {},
   "outputs": [
    {
     "data": {
      "image/png": "[encoded data removed]",
      "text/plain": [
       "<Figure size 432x288 with 1 Axes>"
      ]
     },
     "metadata": {},
     "output_type": "display_data"
    }
   ],
   "source": [
    "# Variable 'InternetService'=1\n",
    "col_name = dis_df_columns_cat[1]\n",
    "\n",
    "# Creo la figura\n",
    "fig, ax = plt.subplots(1,1)\n",
    "sns.countplot(x = col_name, data=df_churn, hue=\"Churn\", dodge=False, ax=ax) \n",
    "ax.set_title(col_name, fontsize=15, fontweight='bold')\n",
    "\n",
    "# Modifico la visualización\n",
    "plt.xticks(rotation=0, fontsize=9)\n",
    "plt.xlabel(col_name, labelpad=10)\n",
    "plt.ylabel('Counts/class')\n",
    "plt.show()"
   ]
  },
  {
   "cell_type": "markdown",
   "metadata": {},
   "source": [
    "___Respuesta:___\n",
    "\n",
    "<br><font color='blue'>\n",
    "    Tras analizar los gráficos, se puede concluir que la variable 'Contract' es la más relevante, ya que los contratos de mayor duración presentan una tasa de abandono menor. Esto puede ocurrir por:\n",
    "    <br>\n",
    "        1. Los requisitos de contratación.\n",
    "    <br>\n",
    "        2. La confianza en la compañía.\n",
    "    <br>\n",
    "        3. La satisfacción con el servicio que recibido.\n",
    "    <br><br>\n",
    "    También se puede observar en la variable 'InternetService' que los usuarios que no tienen acceso a internet abondonan menos la compañía. Esto podría deberse a:\n",
    "    <br>\n",
    "        1. Vivir en areas que no poseen acceso a internet.\n",
    "    <br>\n",
    "        2. Lealtad a la compañía y resistencia a cambiar a otra.\n",
    "    <br>\n",
    "        3. Falta de información sobre otras opciones disponibles.\n",
    "    <br>\n",
    "        4. Dificultades con la tecnología (personas mayores), siendo reacios a aprender a utilizar nuevos dispositivos y servicios ofrecidos por otras compañías.\n"
   ]
  },
  {
   "cell_type": "markdown",
   "metadata": {},
   "source": [
    "<div><font size=3 color=#00586D> <i class=\"fa fa-check-square-o\" aria-hidden=\"true\"></i></font></div>\n",
    "\n",
    "<!--comment -->"
   ]
  },
  {
   "cell_type": "markdown",
   "metadata": {},
   "source": [
    "En principio, parece que todas las columnas se podrían tratar como categóricas, aunque la columna `Contract` se _podría_ considerar ordinal. Por tanto, se añadirán todas las variables, menos `Contract`, a la lista `cat_features`."
   ]
  },
  {
   "cell_type": "code",
   "execution_count": 19,
   "metadata": {},
   "outputs": [
    {
     "data": {
      "text/plain": [
       "['MultipleLines',\n",
       " 'InternetService',\n",
       " 'OnlineSecurity',\n",
       " 'OnlineBackup',\n",
       " 'DeviceProtection',\n",
       " 'TechSupport',\n",
       " 'StreamingTV',\n",
       " 'StreamingMovies',\n",
       " 'PaymentMethod']"
      ]
     },
     "execution_count": 19,
     "metadata": {},
     "output_type": "execute_result"
    }
   ],
   "source": [
    "cat_features = dis_df_columns_cat[:] # Copia la lista\n",
    "cat_features.remove('Contract')      # Borra Contract\n",
    "cat_features"
   ]
  },
  {
   "cell_type": "markdown",
   "metadata": {},
   "source": [
    "La función `churn_transform_contract` toma como entrada un *DataFrame* y convierte la columna `Contract` en numérica  asignando los valores a partir del diccionario `con_to_ordinal`."
   ]
  },
  {
   "cell_type": "code",
   "execution_count": 20,
   "metadata": {},
   "outputs": [
    {
     "data": {
      "text/html": [
       "<div>\n",
       "<style scoped>\n",
       "    .dataframe tbody tr th:only-of-type {\n",
       "        vertical-align: middle;\n",
       "    }\n",
       "\n",
       "    .dataframe tbody tr th {\n",
       "        vertical-align: top;\n",
       "    }\n",
       "\n",
       "    .dataframe thead th {\n",
       "        text-align: right;\n",
       "    }\n",
       "</style>\n",
       "<table border=\"1\" class=\"dataframe\">\n",
       "  <thead>\n",
       "    <tr style=\"text-align: right;\">\n",
       "      <th></th>\n",
       "      <th>gender</th>\n",
       "      <th>SeniorCitizen</th>\n",
       "      <th>Partner</th>\n",
       "      <th>Dependents</th>\n",
       "      <th>tenure</th>\n",
       "      <th>PhoneService</th>\n",
       "      <th>MultipleLines</th>\n",
       "      <th>InternetService</th>\n",
       "      <th>OnlineSecurity</th>\n",
       "      <th>OnlineBackup</th>\n",
       "      <th>DeviceProtection</th>\n",
       "      <th>TechSupport</th>\n",
       "      <th>StreamingTV</th>\n",
       "      <th>StreamingMovies</th>\n",
       "      <th>Contract</th>\n",
       "      <th>PaperlessBilling</th>\n",
       "      <th>PaymentMethod</th>\n",
       "      <th>MonthlyCharges</th>\n",
       "      <th>TotalCharges</th>\n",
       "      <th>Churn</th>\n",
       "    </tr>\n",
       "    <tr>\n",
       "      <th>customerID</th>\n",
       "      <th></th>\n",
       "      <th></th>\n",
       "      <th></th>\n",
       "      <th></th>\n",
       "      <th></th>\n",
       "      <th></th>\n",
       "      <th></th>\n",
       "      <th></th>\n",
       "      <th></th>\n",
       "      <th></th>\n",
       "      <th></th>\n",
       "      <th></th>\n",
       "      <th></th>\n",
       "      <th></th>\n",
       "      <th></th>\n",
       "      <th></th>\n",
       "      <th></th>\n",
       "      <th></th>\n",
       "      <th></th>\n",
       "      <th></th>\n",
       "    </tr>\n",
       "  </thead>\n",
       "  <tbody>\n",
       "    <tr>\n",
       "      <th>6296-DDOOR</th>\n",
       "      <td>1</td>\n",
       "      <td>0</td>\n",
       "      <td>0</td>\n",
       "      <td>0</td>\n",
       "      <td>19</td>\n",
       "      <td>1</td>\n",
       "      <td>No</td>\n",
       "      <td>DSL</td>\n",
       "      <td>No</td>\n",
       "      <td>Yes</td>\n",
       "      <td>No</td>\n",
       "      <td>No</td>\n",
       "      <td>Yes</td>\n",
       "      <td>No</td>\n",
       "      <td>2</td>\n",
       "      <td>0</td>\n",
       "      <td>Electronic check</td>\n",
       "      <td>58.20</td>\n",
       "      <td>1045.25</td>\n",
       "      <td>0</td>\n",
       "    </tr>\n",
       "    <tr>\n",
       "      <th>3680-CTHUH</th>\n",
       "      <td>0</td>\n",
       "      <td>0</td>\n",
       "      <td>0</td>\n",
       "      <td>0</td>\n",
       "      <td>60</td>\n",
       "      <td>1</td>\n",
       "      <td>Yes</td>\n",
       "      <td>Fiber optic</td>\n",
       "      <td>Yes</td>\n",
       "      <td>Yes</td>\n",
       "      <td>Yes</td>\n",
       "      <td>Yes</td>\n",
       "      <td>Yes</td>\n",
       "      <td>Yes</td>\n",
       "      <td>2</td>\n",
       "      <td>1</td>\n",
       "      <td>Credit card (automatic)</td>\n",
       "      <td>116.60</td>\n",
       "      <td>7049.5</td>\n",
       "      <td>0</td>\n",
       "    </tr>\n",
       "    <tr>\n",
       "      <th>4931-TRZWN</th>\n",
       "      <td>1</td>\n",
       "      <td>0</td>\n",
       "      <td>0</td>\n",
       "      <td>0</td>\n",
       "      <td>13</td>\n",
       "      <td>1</td>\n",
       "      <td>No</td>\n",
       "      <td>DSL</td>\n",
       "      <td>Yes</td>\n",
       "      <td>No</td>\n",
       "      <td>No</td>\n",
       "      <td>No</td>\n",
       "      <td>Yes</td>\n",
       "      <td>Yes</td>\n",
       "      <td>1</td>\n",
       "      <td>1</td>\n",
       "      <td>Electronic check</td>\n",
       "      <td>71.95</td>\n",
       "      <td>923.85</td>\n",
       "      <td>0</td>\n",
       "    </tr>\n",
       "    <tr>\n",
       "      <th>8559-WNQZS</th>\n",
       "      <td>0</td>\n",
       "      <td>0</td>\n",
       "      <td>0</td>\n",
       "      <td>0</td>\n",
       "      <td>1</td>\n",
       "      <td>1</td>\n",
       "      <td>No</td>\n",
       "      <td>No</td>\n",
       "      <td>No internet service</td>\n",
       "      <td>No internet service</td>\n",
       "      <td>No internet service</td>\n",
       "      <td>No internet service</td>\n",
       "      <td>No internet service</td>\n",
       "      <td>No internet service</td>\n",
       "      <td>3</td>\n",
       "      <td>0</td>\n",
       "      <td>Mailed check</td>\n",
       "      <td>20.45</td>\n",
       "      <td>20.45</td>\n",
       "      <td>0</td>\n",
       "    </tr>\n",
       "    <tr>\n",
       "      <th>3537-HPKQT</th>\n",
       "      <td>1</td>\n",
       "      <td>0</td>\n",
       "      <td>1</td>\n",
       "      <td>0</td>\n",
       "      <td>55</td>\n",
       "      <td>1</td>\n",
       "      <td>Yes</td>\n",
       "      <td>Fiber optic</td>\n",
       "      <td>No</td>\n",
       "      <td>Yes</td>\n",
       "      <td>No</td>\n",
       "      <td>No</td>\n",
       "      <td>No</td>\n",
       "      <td>No</td>\n",
       "      <td>1</td>\n",
       "      <td>1</td>\n",
       "      <td>Credit card (automatic)</td>\n",
       "      <td>77.75</td>\n",
       "      <td>4266.4</td>\n",
       "      <td>0</td>\n",
       "    </tr>\n",
       "  </tbody>\n",
       "</table>\n",
       "</div>"
      ],
      "text/plain": [
       "            gender  SeniorCitizen  Partner  Dependents  tenure  PhoneService  \\\n",
       "customerID                                                                     \n",
       "6296-DDOOR       1              0        0           0      19             1   \n",
       "3680-CTHUH       0              0        0           0      60             1   \n",
       "4931-TRZWN       1              0        0           0      13             1   \n",
       "8559-WNQZS       0              0        0           0       1             1   \n",
       "3537-HPKQT       1              0        1           0      55             1   \n",
       "\n",
       "           MultipleLines InternetService       OnlineSecurity  \\\n",
       "customerID                                                      \n",
       "6296-DDOOR            No             DSL                   No   \n",
       "3680-CTHUH           Yes     Fiber optic                  Yes   \n",
       "4931-TRZWN            No             DSL                  Yes   \n",
       "8559-WNQZS            No              No  No internet service   \n",
       "3537-HPKQT           Yes     Fiber optic                   No   \n",
       "\n",
       "                   OnlineBackup     DeviceProtection          TechSupport  \\\n",
       "customerID                                                                  \n",
       "6296-DDOOR                  Yes                   No                   No   \n",
       "3680-CTHUH                  Yes                  Yes                  Yes   \n",
       "4931-TRZWN                   No                   No                   No   \n",
       "8559-WNQZS  No internet service  No internet service  No internet service   \n",
       "3537-HPKQT                  Yes                   No                   No   \n",
       "\n",
       "                    StreamingTV      StreamingMovies  Contract  \\\n",
       "customerID                                                       \n",
       "6296-DDOOR                  Yes                   No         2   \n",
       "3680-CTHUH                  Yes                  Yes         2   \n",
       "4931-TRZWN                  Yes                  Yes         1   \n",
       "8559-WNQZS  No internet service  No internet service         3   \n",
       "3537-HPKQT                   No                   No         1   \n",
       "\n",
       "            PaperlessBilling            PaymentMethod  MonthlyCharges  \\\n",
       "customerID                                                              \n",
       "6296-DDOOR                 0         Electronic check           58.20   \n",
       "3680-CTHUH                 1  Credit card (automatic)          116.60   \n",
       "4931-TRZWN                 1         Electronic check           71.95   \n",
       "8559-WNQZS                 0             Mailed check           20.45   \n",
       "3537-HPKQT                 1  Credit card (automatic)           77.75   \n",
       "\n",
       "           TotalCharges  Churn  \n",
       "customerID                      \n",
       "6296-DDOOR      1045.25      0  \n",
       "3680-CTHUH       7049.5      0  \n",
       "4931-TRZWN       923.85      0  \n",
       "8559-WNQZS        20.45      0  \n",
       "3537-HPKQT       4266.4      0  "
      ]
     },
     "metadata": {},
     "output_type": "display_data"
    }
   ],
   "source": [
    "con_to_ordinal = {'Month-to-month':1, 'One year':2, 'Two year':3}\n",
    "\n",
    "def churn_transform_contract(df):\n",
    "    df['Contract'] = df['Contract'].map(con_to_ordinal)\n",
    "    \n",
    "    return df # No hace falta\n",
    "\n",
    "# Comprueba si la función está bien\n",
    "display(churn_transform_contract(df_churn.head(5).copy()))"
   ]
  },
  {
   "cell_type": "markdown",
   "metadata": {},
   "source": [
    "#### <font color=\"#00586D\"> <i class=\"fa fa-pencil-square-o\" aria-hidden=\"true\" ></i> Ejercicio 5</font>\n",
    "\n",
    "Para esta variable, se ha hecho una asignación de valores ` {'Month-to-month':1, 'One year':2, 'Two year':3}`. Además de que es intuitiva,  parece consistente con la información que muestra la gráfica. ¿Por qué?"
   ]
  },
  {
   "cell_type": "markdown",
   "metadata": {},
   "source": [
    "___Respuesta:___\n",
    "\n",
    "<br><font color='blue'>\n",
    "    La clasificación por duración de contratos es coherente con la gráfica, mostrando que la tasa de abandono de 'Month-to-month' es mayor que la de 'One year' y que a su vez es mayor que 'Two year', es decir, a medida que la duración del contrato aumenta, la probabilidad de cancelación disminuye. <br>\n",
    "    Desde mi punto de vista, transformar la duración a meses sería mas inuitivo, aunque es cierto que en este caso no existe información sobre valores intermedios.\n",
    "\n"
   ]
  },
  {
   "cell_type": "markdown",
   "metadata": {},
   "source": [
    "<div><font size=3 color=#00586D> <i class=\"fa fa-check-square-o\" aria-hidden=\"true\"></i></font></div>\n",
    "\n",
    "<!--comment -->"
   ]
  },
  {
   "cell_type": "markdown",
   "metadata": {},
   "source": [
    "En este punto, se debe añadir la función `churn_transform_contract` a `churn_data_prep_pipeline`, aplicarla al `DataFrame` `df_churn`."
   ]
  },
  {
   "cell_type": "code",
   "execution_count": 21,
   "metadata": {},
   "outputs": [],
   "source": [
    "# Lo aplica\n",
    "churn_transform_contract(df_churn)\n",
    "\n",
    "# Lo añade.\n",
    "churn_data_prep_pipeline.append(churn_transform_contract)"
   ]
  },
  {
   "cell_type": "markdown",
   "metadata": {},
   "source": [
    "Por otra parte,`Contract` se tratará como una variable numérica, por lo que se añade a `num_features`. "
   ]
  },
  {
   "cell_type": "code",
   "execution_count": 22,
   "metadata": {},
   "outputs": [
    {
     "name": "stdout",
     "output_type": "stream",
     "text": [
      "Variables numéricas:  ['gender', 'Partner', 'Dependents', 'PhoneService', 'PaperlessBilling', 'Contract']\n"
     ]
    }
   ],
   "source": [
    "# Añade las variables\n",
    "num_features.append('Contract')\n",
    "\n",
    "# Las muestra\n",
    "print('Variables numéricas: ', num_features)"
   ]
  },
  {
   "cell_type": "markdown",
   "metadata": {},
   "source": [
    "#### <font color=\"#00586D\"> Total Charges </font>\n",
    "\n",
    "La columna `TotalCharges`, a pesar de estar representada como un objeto, contiene datos numéricos. Debido a esto, se va a transformar en numérica, asignando valores `NaN` a las entradas que no se han podido transformar en numéricas al leer el *DataFrame*. La función `churn_charges_to_numeric` toma como entrada un *DataFrame* y convierte la columna `TotalCharges` en numérica."
   ]
  },
  {
   "cell_type": "code",
   "execution_count": 23,
   "metadata": {},
   "outputs": [
    {
     "data": {
      "text/html": [
       "<div>\n",
       "<style scoped>\n",
       "    .dataframe tbody tr th:only-of-type {\n",
       "        vertical-align: middle;\n",
       "    }\n",
       "\n",
       "    .dataframe tbody tr th {\n",
       "        vertical-align: top;\n",
       "    }\n",
       "\n",
       "    .dataframe thead th {\n",
       "        text-align: right;\n",
       "    }\n",
       "</style>\n",
       "<table border=\"1\" class=\"dataframe\">\n",
       "  <thead>\n",
       "    <tr style=\"text-align: right;\">\n",
       "      <th></th>\n",
       "      <th>gender</th>\n",
       "      <th>SeniorCitizen</th>\n",
       "      <th>Partner</th>\n",
       "      <th>Dependents</th>\n",
       "      <th>tenure</th>\n",
       "      <th>PhoneService</th>\n",
       "      <th>MultipleLines</th>\n",
       "      <th>InternetService</th>\n",
       "      <th>OnlineSecurity</th>\n",
       "      <th>OnlineBackup</th>\n",
       "      <th>DeviceProtection</th>\n",
       "      <th>TechSupport</th>\n",
       "      <th>StreamingTV</th>\n",
       "      <th>StreamingMovies</th>\n",
       "      <th>Contract</th>\n",
       "      <th>PaperlessBilling</th>\n",
       "      <th>PaymentMethod</th>\n",
       "      <th>MonthlyCharges</th>\n",
       "      <th>TotalCharges</th>\n",
       "      <th>Churn</th>\n",
       "    </tr>\n",
       "    <tr>\n",
       "      <th>customerID</th>\n",
       "      <th></th>\n",
       "      <th></th>\n",
       "      <th></th>\n",
       "      <th></th>\n",
       "      <th></th>\n",
       "      <th></th>\n",
       "      <th></th>\n",
       "      <th></th>\n",
       "      <th></th>\n",
       "      <th></th>\n",
       "      <th></th>\n",
       "      <th></th>\n",
       "      <th></th>\n",
       "      <th></th>\n",
       "      <th></th>\n",
       "      <th></th>\n",
       "      <th></th>\n",
       "      <th></th>\n",
       "      <th></th>\n",
       "      <th></th>\n",
       "    </tr>\n",
       "  </thead>\n",
       "  <tbody>\n",
       "    <tr>\n",
       "      <th>6296-DDOOR</th>\n",
       "      <td>1</td>\n",
       "      <td>0</td>\n",
       "      <td>0</td>\n",
       "      <td>0</td>\n",
       "      <td>19</td>\n",
       "      <td>1</td>\n",
       "      <td>No</td>\n",
       "      <td>DSL</td>\n",
       "      <td>No</td>\n",
       "      <td>Yes</td>\n",
       "      <td>No</td>\n",
       "      <td>No</td>\n",
       "      <td>Yes</td>\n",
       "      <td>No</td>\n",
       "      <td>2</td>\n",
       "      <td>0</td>\n",
       "      <td>Electronic check</td>\n",
       "      <td>58.20</td>\n",
       "      <td>1045.25</td>\n",
       "      <td>0</td>\n",
       "    </tr>\n",
       "    <tr>\n",
       "      <th>3680-CTHUH</th>\n",
       "      <td>0</td>\n",
       "      <td>0</td>\n",
       "      <td>0</td>\n",
       "      <td>0</td>\n",
       "      <td>60</td>\n",
       "      <td>1</td>\n",
       "      <td>Yes</td>\n",
       "      <td>Fiber optic</td>\n",
       "      <td>Yes</td>\n",
       "      <td>Yes</td>\n",
       "      <td>Yes</td>\n",
       "      <td>Yes</td>\n",
       "      <td>Yes</td>\n",
       "      <td>Yes</td>\n",
       "      <td>2</td>\n",
       "      <td>1</td>\n",
       "      <td>Credit card (automatic)</td>\n",
       "      <td>116.60</td>\n",
       "      <td>7049.50</td>\n",
       "      <td>0</td>\n",
       "    </tr>\n",
       "    <tr>\n",
       "      <th>4931-TRZWN</th>\n",
       "      <td>1</td>\n",
       "      <td>0</td>\n",
       "      <td>0</td>\n",
       "      <td>0</td>\n",
       "      <td>13</td>\n",
       "      <td>1</td>\n",
       "      <td>No</td>\n",
       "      <td>DSL</td>\n",
       "      <td>Yes</td>\n",
       "      <td>No</td>\n",
       "      <td>No</td>\n",
       "      <td>No</td>\n",
       "      <td>Yes</td>\n",
       "      <td>Yes</td>\n",
       "      <td>1</td>\n",
       "      <td>1</td>\n",
       "      <td>Electronic check</td>\n",
       "      <td>71.95</td>\n",
       "      <td>923.85</td>\n",
       "      <td>0</td>\n",
       "    </tr>\n",
       "    <tr>\n",
       "      <th>8559-WNQZS</th>\n",
       "      <td>0</td>\n",
       "      <td>0</td>\n",
       "      <td>0</td>\n",
       "      <td>0</td>\n",
       "      <td>1</td>\n",
       "      <td>1</td>\n",
       "      <td>No</td>\n",
       "      <td>No</td>\n",
       "      <td>No internet service</td>\n",
       "      <td>No internet service</td>\n",
       "      <td>No internet service</td>\n",
       "      <td>No internet service</td>\n",
       "      <td>No internet service</td>\n",
       "      <td>No internet service</td>\n",
       "      <td>3</td>\n",
       "      <td>0</td>\n",
       "      <td>Mailed check</td>\n",
       "      <td>20.45</td>\n",
       "      <td>20.45</td>\n",
       "      <td>0</td>\n",
       "    </tr>\n",
       "    <tr>\n",
       "      <th>3537-HPKQT</th>\n",
       "      <td>1</td>\n",
       "      <td>0</td>\n",
       "      <td>1</td>\n",
       "      <td>0</td>\n",
       "      <td>55</td>\n",
       "      <td>1</td>\n",
       "      <td>Yes</td>\n",
       "      <td>Fiber optic</td>\n",
       "      <td>No</td>\n",
       "      <td>Yes</td>\n",
       "      <td>No</td>\n",
       "      <td>No</td>\n",
       "      <td>No</td>\n",
       "      <td>No</td>\n",
       "      <td>1</td>\n",
       "      <td>1</td>\n",
       "      <td>Credit card (automatic)</td>\n",
       "      <td>77.75</td>\n",
       "      <td>4266.40</td>\n",
       "      <td>0</td>\n",
       "    </tr>\n",
       "  </tbody>\n",
       "</table>\n",
       "</div>"
      ],
      "text/plain": [
       "            gender  SeniorCitizen  Partner  Dependents  tenure  PhoneService  \\\n",
       "customerID                                                                     \n",
       "6296-DDOOR       1              0        0           0      19             1   \n",
       "3680-CTHUH       0              0        0           0      60             1   \n",
       "4931-TRZWN       1              0        0           0      13             1   \n",
       "8559-WNQZS       0              0        0           0       1             1   \n",
       "3537-HPKQT       1              0        1           0      55             1   \n",
       "\n",
       "           MultipleLines InternetService       OnlineSecurity  \\\n",
       "customerID                                                      \n",
       "6296-DDOOR            No             DSL                   No   \n",
       "3680-CTHUH           Yes     Fiber optic                  Yes   \n",
       "4931-TRZWN            No             DSL                  Yes   \n",
       "8559-WNQZS            No              No  No internet service   \n",
       "3537-HPKQT           Yes     Fiber optic                   No   \n",
       "\n",
       "                   OnlineBackup     DeviceProtection          TechSupport  \\\n",
       "customerID                                                                  \n",
       "6296-DDOOR                  Yes                   No                   No   \n",
       "3680-CTHUH                  Yes                  Yes                  Yes   \n",
       "4931-TRZWN                   No                   No                   No   \n",
       "8559-WNQZS  No internet service  No internet service  No internet service   \n",
       "3537-HPKQT                  Yes                   No                   No   \n",
       "\n",
       "                    StreamingTV      StreamingMovies  Contract  \\\n",
       "customerID                                                       \n",
       "6296-DDOOR                  Yes                   No         2   \n",
       "3680-CTHUH                  Yes                  Yes         2   \n",
       "4931-TRZWN                  Yes                  Yes         1   \n",
       "8559-WNQZS  No internet service  No internet service         3   \n",
       "3537-HPKQT                   No                   No         1   \n",
       "\n",
       "            PaperlessBilling            PaymentMethod  MonthlyCharges  \\\n",
       "customerID                                                              \n",
       "6296-DDOOR                 0         Electronic check           58.20   \n",
       "3680-CTHUH                 1  Credit card (automatic)          116.60   \n",
       "4931-TRZWN                 1         Electronic check           71.95   \n",
       "8559-WNQZS                 0             Mailed check           20.45   \n",
       "3537-HPKQT                 1  Credit card (automatic)           77.75   \n",
       "\n",
       "            TotalCharges  Churn  \n",
       "customerID                       \n",
       "6296-DDOOR       1045.25      0  \n",
       "3680-CTHUH       7049.50      0  \n",
       "4931-TRZWN        923.85      0  \n",
       "8559-WNQZS         20.45      0  \n",
       "3537-HPKQT       4266.40      0  "
      ]
     },
     "metadata": {},
     "output_type": "display_data"
    }
   ],
   "source": [
    "def churn_charges_to_numeric(df):\n",
    "    df['TotalCharges'] = pd.to_numeric(df_churn['TotalCharges'], errors='coerce')\n",
    "    return df # No hace falta\n",
    "\n",
    "# Comprueba si la función está bien\n",
    "display(churn_charges_to_numeric(df_churn.head(5).copy()))"
   ]
  },
  {
   "cell_type": "markdown",
   "metadata": {},
   "source": [
    "La función `churn_charges_to_numeric` también se añade `churn_data_prep_pipeline` y se aplica `df_churn`. "
   ]
  },
  {
   "cell_type": "code",
   "execution_count": 24,
   "metadata": {},
   "outputs": [],
   "source": [
    "# Lo aplica\n",
    "churn_charges_to_numeric(df_churn)\n",
    "\n",
    "# Lo añade.\n",
    "churn_data_prep_pipeline.append(churn_charges_to_numeric)"
   ]
  },
  {
   "cell_type": "markdown",
   "metadata": {},
   "source": [
    "Se ha de incluir `TotalCharges` en la lista de columnas numéricas, `num_features`. "
   ]
  },
  {
   "cell_type": "code",
   "execution_count": 25,
   "metadata": {},
   "outputs": [
    {
     "name": "stdout",
     "output_type": "stream",
     "text": [
      "Variables numéricas:  ['gender', 'Partner', 'Dependents', 'PhoneService', 'PaperlessBilling', 'Contract', 'TotalCharges']\n"
     ]
    }
   ],
   "source": [
    "# Añade las variables\n",
    "num_features.append('TotalCharges')\n",
    "\n",
    "# Las muestra\n",
    "print('Variables numéricas: ', num_features)"
   ]
  },
  {
   "cell_type": "markdown",
   "metadata": {},
   "source": [
    "Hasta el momento, estos son los pasos que se han llevado a cabo en el preprocesamiento."
   ]
  },
  {
   "cell_type": "code",
   "execution_count": 26,
   "metadata": {},
   "outputs": [
    {
     "name": "stdout",
     "output_type": "stream",
     "text": [
      "\n",
      "Pasos de preprocesamiento: \n",
      "\t 0: churn_binarize_dis\n",
      "\t 1: churn_transform_contract\n",
      "\t 2: churn_charges_to_numeric\n"
     ]
    }
   ],
   "source": [
    "print(\"\\nPasos de preprocesamiento: \")\n",
    "for step, function in enumerate(churn_data_prep_pipeline):\n",
    "    print(\"\\t {:d}: {:s}\".format(step, function.__name__))"
   ]
  },
  {
   "cell_type": "markdown",
   "metadata": {},
   "source": [
    "Y estas son las características (*originalmente discretas*) que serán tratadas como categóricas y como numéricas."
   ]
  },
  {
   "cell_type": "code",
   "execution_count": 27,
   "metadata": {},
   "outputs": [
    {
     "name": "stdout",
     "output_type": "stream",
     "text": [
      "Variables que se tratarán como categóricas: \n",
      "\t ['MultipleLines', 'InternetService', 'OnlineSecurity', 'OnlineBackup', 'DeviceProtection', 'TechSupport', 'StreamingTV', 'StreamingMovies', 'PaymentMethod']\n",
      "\n",
      "Variables que se tratarán como numéricas: \n",
      "\t ['gender', 'Partner', 'Dependents', 'PhoneService', 'PaperlessBilling', 'Contract', 'TotalCharges']\n"
     ]
    }
   ],
   "source": [
    "print('Variables que se tratarán como categóricas: \\n\\t',cat_features, end='\\n\\n')\n",
    "print('Variables que se tratarán como numéricas: \\n\\t',num_features)"
   ]
  },
  {
   "cell_type": "markdown",
   "metadata": {},
   "source": [
    "### <font color=\"#00586D\">Tratamiento de las columnas numéricas </font>\n",
    "<br>\n",
    "\n",
    "El tratamiento de las columnas numéricas es relativamente sencillo, y se puede descomponer en varias etapas:\n",
    "\n",
    "* Comprobar que, efectivamente, corresponden a características numéricas. \n",
    "* Detección y tratamiento de outliers. \n",
    "* Detección y tratemiento de valores perdidos. \n",
    "* Exploración de las variables. \n",
    "\n",
    "<div class=\"alert alert-block alert-warning\">\n",
    "    \n",
    "<i class=\"fa fa-exclamation-circle\" aria-hidden=\"true\"></i> \n",
    "Esta es una posible descomposición, y ha de considerarse como sugerencia. Si los *outliers* se sustituyen por valores perdidos, deben tratarse antes que estos.\n",
    "</div>"
   ]
  },
  {
   "cell_type": "markdown",
   "metadata": {},
   "source": [
    "#### <font color=\"#00586D\"> Comprobación de tipos </font>\n",
    "\n",
    "En algunos casos, las columnas numéricas pueden representar características categóricas. Para detectar esta situación es posible apoyarse, además de en el nombre (descriptivo) de las columnas, en el número de valores que éstas toman. \n",
    "\n",
    "<div class=\"alert alert-block alert-info\">\n",
    "    \n",
    "<i class=\"fa fa-info-circle\" aria-hidden=\"true\"></i> Otra opción consiste en elaborar gráficas (pero se harán después porque en este caso no es necesario).\n",
    "</div>\n",
    "\n",
    "A continuación, se obtiene el número de valores para cada una de las variables que han sido almacenadas como numéricas en el *DataFrame* original (`num_df_columns`). "
   ]
  },
  {
   "cell_type": "code",
   "execution_count": 28,
   "metadata": {},
   "outputs": [
    {
     "data": {
      "text/plain": [
       "['SeniorCitizen: 2', 'tenure: 73', 'MonthlyCharges: 1529', 'Churn: 2']"
      ]
     },
     "execution_count": 28,
     "metadata": {},
     "output_type": "execute_result"
    }
   ],
   "source": [
    "list(map(lambda col: \"{:s}: {:d}\".format(col,len(df_churn[col].value_counts())), num_df_columns))"
   ]
  },
  {
   "cell_type": "markdown",
   "metadata": {},
   "source": [
    "Parece dos de las variables son binarias, y otras dos son numéricas, por lo que no hay que hacer cambios. "
   ]
  },
  {
   "cell_type": "markdown",
   "metadata": {},
   "source": [
    "#### <font color=\"#00586D\"> Outliers </font>\n",
    "\n",
    "\n",
    "Existen varios métodos para llevar a cabo la detección de outliers. Por ejemplo, en el caso de que el número de características sea reducido, y que las escalas sean similares, se podría utilizar un gráfico de cajas. Otra posibilidad consite en visualizar los rangos que toman las variables.  "
   ]
  },
  {
   "cell_type": "code",
   "execution_count": 29,
   "metadata": {},
   "outputs": [
    {
     "data": {
      "text/html": [
       "<div>\n",
       "<style scoped>\n",
       "    .dataframe tbody tr th:only-of-type {\n",
       "        vertical-align: middle;\n",
       "    }\n",
       "\n",
       "    .dataframe tbody tr th {\n",
       "        vertical-align: top;\n",
       "    }\n",
       "\n",
       "    .dataframe thead th {\n",
       "        text-align: right;\n",
       "    }\n",
       "</style>\n",
       "<table border=\"1\" class=\"dataframe\">\n",
       "  <thead>\n",
       "    <tr style=\"text-align: right;\">\n",
       "      <th></th>\n",
       "      <th>SeniorCitizen</th>\n",
       "      <th>tenure</th>\n",
       "      <th>MonthlyCharges</th>\n",
       "      <th>Churn</th>\n",
       "      <th>TotalCharges</th>\n",
       "    </tr>\n",
       "  </thead>\n",
       "  <tbody>\n",
       "    <tr>\n",
       "      <th>count</th>\n",
       "      <td>5986.000000</td>\n",
       "      <td>5986.000000</td>\n",
       "      <td>5986.000000</td>\n",
       "      <td>5986.000000</td>\n",
       "      <td>5977.000000</td>\n",
       "    </tr>\n",
       "    <tr>\n",
       "      <th>mean</th>\n",
       "      <td>0.166889</td>\n",
       "      <td>32.186435</td>\n",
       "      <td>64.821024</td>\n",
       "      <td>0.267959</td>\n",
       "      <td>2273.195483</td>\n",
       "    </tr>\n",
       "    <tr>\n",
       "      <th>std</th>\n",
       "      <td>0.372908</td>\n",
       "      <td>24.503081</td>\n",
       "      <td>30.033744</td>\n",
       "      <td>0.442933</td>\n",
       "      <td>2258.880108</td>\n",
       "    </tr>\n",
       "    <tr>\n",
       "      <th>min</th>\n",
       "      <td>0.000000</td>\n",
       "      <td>0.000000</td>\n",
       "      <td>18.250000</td>\n",
       "      <td>0.000000</td>\n",
       "      <td>18.800000</td>\n",
       "    </tr>\n",
       "    <tr>\n",
       "      <th>1%</th>\n",
       "      <td>0.000000</td>\n",
       "      <td>1.000000</td>\n",
       "      <td>19.150000</td>\n",
       "      <td>0.000000</td>\n",
       "      <td>19.850000</td>\n",
       "    </tr>\n",
       "    <tr>\n",
       "      <th>25%</th>\n",
       "      <td>0.000000</td>\n",
       "      <td>9.000000</td>\n",
       "      <td>35.825000</td>\n",
       "      <td>0.000000</td>\n",
       "      <td>400.000000</td>\n",
       "    </tr>\n",
       "    <tr>\n",
       "      <th>50%</th>\n",
       "      <td>0.000000</td>\n",
       "      <td>28.000000</td>\n",
       "      <td>70.400000</td>\n",
       "      <td>0.000000</td>\n",
       "      <td>1396.250000</td>\n",
       "    </tr>\n",
       "    <tr>\n",
       "      <th>75%</th>\n",
       "      <td>0.000000</td>\n",
       "      <td>55.000000</td>\n",
       "      <td>89.850000</td>\n",
       "      <td>1.000000</td>\n",
       "      <td>3772.650000</td>\n",
       "    </tr>\n",
       "    <tr>\n",
       "      <th>99%</th>\n",
       "      <td>1.000000</td>\n",
       "      <td>72.000000</td>\n",
       "      <td>114.557500</td>\n",
       "      <td>1.000000</td>\n",
       "      <td>8027.362000</td>\n",
       "    </tr>\n",
       "    <tr>\n",
       "      <th>max</th>\n",
       "      <td>1.000000</td>\n",
       "      <td>72.000000</td>\n",
       "      <td>118.750000</td>\n",
       "      <td>1.000000</td>\n",
       "      <td>8684.800000</td>\n",
       "    </tr>\n",
       "  </tbody>\n",
       "</table>\n",
       "</div>"
      ],
      "text/plain": [
       "       SeniorCitizen       tenure  MonthlyCharges        Churn  TotalCharges\n",
       "count    5986.000000  5986.000000     5986.000000  5986.000000   5977.000000\n",
       "mean        0.166889    32.186435       64.821024     0.267959   2273.195483\n",
       "std         0.372908    24.503081       30.033744     0.442933   2258.880108\n",
       "min         0.000000     0.000000       18.250000     0.000000     18.800000\n",
       "1%          0.000000     1.000000       19.150000     0.000000     19.850000\n",
       "25%         0.000000     9.000000       35.825000     0.000000    400.000000\n",
       "50%         0.000000    28.000000       70.400000     0.000000   1396.250000\n",
       "75%         0.000000    55.000000       89.850000     1.000000   3772.650000\n",
       "99%         1.000000    72.000000      114.557500     1.000000   8027.362000\n",
       "max         1.000000    72.000000      118.750000     1.000000   8684.800000"
      ]
     },
     "execution_count": 29,
     "metadata": {},
     "output_type": "execute_result"
    }
   ],
   "source": [
    "df_churn[num_df_columns.to_list()+['TotalCharges']].describe(percentiles=[0.01,0.25,0.5,0.75,0.99])"
   ]
  },
  {
   "cell_type": "markdown",
   "metadata": {},
   "source": [
    "Parece que los valores mínimo y máximo en las variables `tenure`, `MonthyCharges` y `TotalCharges` no se alejan excesivamente de los rangos razonables en ningún caso. Por tanto, no hay que proceder en este caso. "
   ]
  },
  {
   "cell_type": "markdown",
   "metadata": {},
   "source": [
    "#### <font color=\"#00586D\"> Valores perdidos </font>\n",
    "\n",
    "\n",
    "A continuación, se comprueba si existen valores perdidos para alguna de las variables numéricas. "
   ]
  },
  {
   "cell_type": "code",
   "execution_count": 30,
   "metadata": {},
   "outputs": [
    {
     "data": {
      "text/plain": [
       "SeniorCitizen     False\n",
       "tenure            False\n",
       "MonthlyCharges    False\n",
       "Churn             False\n",
       "TotalCharges       True\n",
       "dtype: bool"
      ]
     },
     "execution_count": 30,
     "metadata": {},
     "output_type": "execute_result"
    }
   ],
   "source": [
    "df_churn[num_df_columns.to_list()+['TotalCharges']].isna().any()"
   ]
  },
  {
   "cell_type": "markdown",
   "metadata": {},
   "source": [
    "Puede apreciarse que solo los hay para `TotalCharges`. \n",
    "\n",
    "<div class=\"alert alert-block alert-warning\">\n",
    "    \n",
    "<i class=\"fa fa-exclamation-circle\" aria-hidden=\"true\"></i> \n",
    "El tratamiento de los valores perdidos es conveniente hacerlo en el _pipeline_ de `scikit-learn`, ya que en muchos casos se usará la media o mediana de la variable en el conjunto de entrenamiento, y este valor se ha de almacenar.\n",
    "</div> "
   ]
  },
  {
   "cell_type": "markdown",
   "metadata": {},
   "source": [
    "#### <font color=\"#00586D\"> Exploración </font>\n",
    "\n",
    "\n",
    "Por último, puede resultar de interés llevar a cabo una pequeña exploración de las variables numéricas para ver tanto sus distribuciones como su relación con la clase. Es importante recordar que anteriormente se convirtieron algunas variables discretas a numéricas. Por tanto, se actualizará la lista `num_features`, añadiendole los elementos de `num_df_colums`, es decir, de las columnas que eran numéricas inicialmente."
   ]
  },
  {
   "cell_type": "code",
   "execution_count": 31,
   "metadata": {},
   "outputs": [
    {
     "data": {
      "text/plain": [
       "['gender',\n",
       " 'Partner',\n",
       " 'Dependents',\n",
       " 'PhoneService',\n",
       " 'PaperlessBilling',\n",
       " 'Contract',\n",
       " 'TotalCharges',\n",
       " 'SeniorCitizen',\n",
       " 'tenure',\n",
       " 'MonthlyCharges',\n",
       " 'Churn']"
      ]
     },
     "execution_count": 31,
     "metadata": {},
     "output_type": "execute_result"
    }
   ],
   "source": [
    "num_features = num_features + num_df_columns.to_list()  \n",
    "num_features"
   ]
  },
  {
   "cell_type": "markdown",
   "metadata": {},
   "source": [
    "\n",
    "#### <font color=\"#00586D\"> <i class=\"fa fa-pencil-square-o\" aria-hidden=\"true\" ></i> Ejercicio 6</font>\n",
    "\n",
    "Dibujar, para las variables `tenure`, `MonthlyCharge` y `TotalCharges` (las que no son binarias), un gráfico del tipo `sns.kdeplot()` que muestre la distribución de valores para cada una de las clases (dos distribuciones por gráfica). Utilizar una figura de $1 \\times 3$ gráficas. Comentar qué se observa en la gráfica. "
   ]
  },
  {
   "cell_type": "markdown",
   "metadata": {},
   "source": [
    "<div class=\"alert alert-block alert-warning\">\n",
    "    \n",
    "<i class=\"fa fa-exclamation-circle\" aria-hidden=\"true\"></i> \n",
    "Si da error, utilizar como fuente de datos `df_churn.dropna()`.\n",
    "</div> "
   ]
  },
  {
   "cell_type": "markdown",
   "metadata": {},
   "source": [
    "<font size=2 color=\"#00586D\"> <i class=\"fa fa-info-circle\"  aria-hidden=\"true\"></i> </font> En este caso hay que dibujar tres gráficas. En cada una de ella se representa la distribución de los valores de la columna, pero se utiliza el color para diferenciar entre las dos categorías que puede tomar `Churn`."
   ]
  },
  {
   "cell_type": "code",
   "execution_count": 32,
   "metadata": {},
   "outputs": [
    {
     "data": {
      "image/png": "[encoded data removed]",
      "text/plain": [
       "<Figure size 1080x360 with 3 Axes>"
      ]
     },
     "metadata": {},
     "output_type": "display_data"
    }
   ],
   "source": [
    "fig, axs = plt.subplots(1, 3, figsize=(15, 5))\n",
    "features = ['tenure', 'MonthlyCharges','TotalCharges']\n",
    "\n",
    "for col, ax in enumerate(axs.flatten()):\n",
    "    \n",
    "    # Dibujo la grafica\n",
    "    col_name = features[col]\n",
    "    sns.kdeplot(data=df_churn, x=features[col], hue=\"Churn\", ax=axs[col])\n",
    "    \n",
    "    # Cambio titulo y quito los valores del eje Y\n",
    "    ax.set_title(col_name);    \n",
    "    ax.set_yticks([])"
   ]
  },
  {
   "cell_type": "markdown",
   "metadata": {},
   "source": [
    "___Respuesta:___\n",
    "\n",
    "<br><font color='blue'>\n",
    "    Dado que solo el 27% de las muestras presentan cancelaciones de suscripciones (Churn=1), es más útil analizar las gráficas en términos de tendencias que en términos absolutos. \n",
    "    <br>\n",
    "    - En cuanto a la variable 'Tenure', se observa un descenso de cancelaciones a medida que aumenta la permanencia. \n",
    "    <br>\n",
    "    - En el caso de 'MonthlyCharges', las curvas son muy similares. Sin embargo, en los rangos más bajos las cancelaciones son muy bajas, lo que sugiere que estos usuarios podrían estar acogidos a alguna oferta ligada a un contrato de permanencia.\n",
    "    <br>\n",
    "    - En cuanto a 'TotalCharges', las curvas de cancelaciones y no cancelaciones presentan una evolución muy similar."
   ]
  },
  {
   "cell_type": "markdown",
   "metadata": {},
   "source": [
    "<div><font size=3 color=#00586D> <i class=\"fa fa-check-square-o\" aria-hidden=\"true\"></i></font></div>\n",
    "\n",
    "<!--comment -->"
   ]
  },
  {
   "cell_type": "markdown",
   "metadata": {},
   "source": [
    "\n",
    "#### <font color=\"#00586D\"> <i class=\"fa fa-pencil-square-o\" aria-hidden=\"true\" ></i> Ejercicio 7</font>\n",
    "Calcular la correlacción entre las variables numéricas y mostrarla en una gráfica `sns.heatmap()`."
   ]
  },
  {
   "cell_type": "code",
   "execution_count": 33,
   "metadata": {},
   "outputs": [
    {
     "data": {
      "image/png": "[encoded data removed]",
      "text/plain": [
       "<Figure size 720x720 with 2 Axes>"
      ]
     },
     "metadata": {},
     "output_type": "display_data"
    },
    {
     "name": "stdout",
     "output_type": "stream",
     "text": [
      "Top 10 correlaciones más fuertes:\n"
     ]
    },
    {
     "data": {
      "text/html": [
       "<div>\n",
       "<style scoped>\n",
       "    .dataframe tbody tr th:only-of-type {\n",
       "        vertical-align: middle;\n",
       "    }\n",
       "\n",
       "    .dataframe tbody tr th {\n",
       "        vertical-align: top;\n",
       "    }\n",
       "\n",
       "    .dataframe thead th {\n",
       "        text-align: right;\n",
       "    }\n",
       "</style>\n",
       "<table border=\"1\" class=\"dataframe\">\n",
       "  <thead>\n",
       "    <tr style=\"text-align: right;\">\n",
       "      <th></th>\n",
       "      <th>var1</th>\n",
       "      <th>var2</th>\n",
       "      <th>corr_value</th>\n",
       "      <th>variables</th>\n",
       "    </tr>\n",
       "  </thead>\n",
       "  <tbody>\n",
       "    <tr>\n",
       "      <th>74</th>\n",
       "      <td>TotalCharges</td>\n",
       "      <td>tenure</td>\n",
       "      <td>0.83</td>\n",
       "      <td>TotalCharges-tenure</td>\n",
       "    </tr>\n",
       "    <tr>\n",
       "      <th>93</th>\n",
       "      <td>tenure</td>\n",
       "      <td>Contract</td>\n",
       "      <td>0.67</td>\n",
       "      <td>Contract-tenure</td>\n",
       "    </tr>\n",
       "    <tr>\n",
       "      <th>105</th>\n",
       "      <td>MonthlyCharges</td>\n",
       "      <td>TotalCharges</td>\n",
       "      <td>0.65</td>\n",
       "      <td>MonthlyCharges-TotalCharges</td>\n",
       "    </tr>\n",
       "    <tr>\n",
       "      <th>23</th>\n",
       "      <td>Dependents</td>\n",
       "      <td>Partner</td>\n",
       "      <td>0.46</td>\n",
       "      <td>Dependents-Partner</td>\n",
       "    </tr>\n",
       "    <tr>\n",
       "      <th>61</th>\n",
       "      <td>Contract</td>\n",
       "      <td>TotalCharges</td>\n",
       "      <td>0.45</td>\n",
       "      <td>Contract-TotalCharges</td>\n",
       "    </tr>\n",
       "    <tr>\n",
       "      <th>19</th>\n",
       "      <td>Partner</td>\n",
       "      <td>tenure</td>\n",
       "      <td>0.38</td>\n",
       "      <td>Partner-tenure</td>\n",
       "    </tr>\n",
       "    <tr>\n",
       "      <th>53</th>\n",
       "      <td>PaperlessBilling</td>\n",
       "      <td>MonthlyCharges</td>\n",
       "      <td>0.36</td>\n",
       "      <td>MonthlyCharges-PaperlessBilling</td>\n",
       "    </tr>\n",
       "    <tr>\n",
       "      <th>17</th>\n",
       "      <td>Partner</td>\n",
       "      <td>TotalCharges</td>\n",
       "      <td>0.33</td>\n",
       "      <td>Partner-TotalCharges</td>\n",
       "    </tr>\n",
       "    <tr>\n",
       "      <th>56</th>\n",
       "      <td>Contract</td>\n",
       "      <td>Partner</td>\n",
       "      <td>0.30</td>\n",
       "      <td>Contract-Partner</td>\n",
       "    </tr>\n",
       "    <tr>\n",
       "      <th>27</th>\n",
       "      <td>Dependents</td>\n",
       "      <td>Contract</td>\n",
       "      <td>0.25</td>\n",
       "      <td>Contract-Dependents</td>\n",
       "    </tr>\n",
       "  </tbody>\n",
       "</table>\n",
       "</div>"
      ],
      "text/plain": [
       "                 var1            var2  corr_value  \\\n",
       "74       TotalCharges          tenure        0.83   \n",
       "93             tenure        Contract        0.67   \n",
       "105    MonthlyCharges    TotalCharges        0.65   \n",
       "23         Dependents         Partner        0.46   \n",
       "61           Contract    TotalCharges        0.45   \n",
       "19            Partner          tenure        0.38   \n",
       "53   PaperlessBilling  MonthlyCharges        0.36   \n",
       "17            Partner    TotalCharges        0.33   \n",
       "56           Contract         Partner        0.30   \n",
       "27         Dependents        Contract        0.25   \n",
       "\n",
       "                           variables  \n",
       "74               TotalCharges-tenure  \n",
       "93                   Contract-tenure  \n",
       "105      MonthlyCharges-TotalCharges  \n",
       "23                Dependents-Partner  \n",
       "61             Contract-TotalCharges  \n",
       "19                    Partner-tenure  \n",
       "53   MonthlyCharges-PaperlessBilling  \n",
       "17              Partner-TotalCharges  \n",
       "56                  Contract-Partner  \n",
       "27               Contract-Dependents  "
      ]
     },
     "metadata": {},
     "output_type": "display_data"
    },
    {
     "name": "stdout",
     "output_type": "stream",
     "text": [
      "\n",
      "Top 10 correlaciones más débiles:\n"
     ]
    },
    {
     "data": {
      "text/html": [
       "<div>\n",
       "<style scoped>\n",
       "    .dataframe tbody tr th:only-of-type {\n",
       "        vertical-align: middle;\n",
       "    }\n",
       "\n",
       "    .dataframe tbody tr th {\n",
       "        vertical-align: top;\n",
       "    }\n",
       "\n",
       "    .dataframe thead th {\n",
       "        text-align: right;\n",
       "    }\n",
       "</style>\n",
       "<table border=\"1\" class=\"dataframe\">\n",
       "  <thead>\n",
       "    <tr style=\"text-align: right;\">\n",
       "      <th></th>\n",
       "      <th>var1</th>\n",
       "      <th>var2</th>\n",
       "      <th>corr_value</th>\n",
       "      <th>variables</th>\n",
       "    </tr>\n",
       "  </thead>\n",
       "  <tbody>\n",
       "    <tr>\n",
       "      <th>65</th>\n",
       "      <td>Contract</td>\n",
       "      <td>Churn</td>\n",
       "      <td>-0.39</td>\n",
       "      <td>Churn-Contract</td>\n",
       "    </tr>\n",
       "    <tr>\n",
       "      <th>118</th>\n",
       "      <td>Churn</td>\n",
       "      <td>tenure</td>\n",
       "      <td>-0.35</td>\n",
       "      <td>Churn-tenure</td>\n",
       "    </tr>\n",
       "    <tr>\n",
       "      <th>79</th>\n",
       "      <td>SeniorCitizen</td>\n",
       "      <td>Dependents</td>\n",
       "      <td>-0.21</td>\n",
       "      <td>Dependents-SeniorCitizen</td>\n",
       "    </tr>\n",
       "    <tr>\n",
       "      <th>116</th>\n",
       "      <td>Churn</td>\n",
       "      <td>TotalCharges</td>\n",
       "      <td>-0.19</td>\n",
       "      <td>Churn-TotalCharges</td>\n",
       "    </tr>\n",
       "    <tr>\n",
       "      <th>59</th>\n",
       "      <td>Contract</td>\n",
       "      <td>PaperlessBilling</td>\n",
       "      <td>-0.18</td>\n",
       "      <td>Contract-PaperlessBilling</td>\n",
       "    </tr>\n",
       "    <tr>\n",
       "      <th>32</th>\n",
       "      <td>Dependents</td>\n",
       "      <td>Churn</td>\n",
       "      <td>-0.16</td>\n",
       "      <td>Churn-Dependents</td>\n",
       "    </tr>\n",
       "    <tr>\n",
       "      <th>21</th>\n",
       "      <td>Partner</td>\n",
       "      <td>Churn</td>\n",
       "      <td>-0.14</td>\n",
       "      <td>Churn-Partner</td>\n",
       "    </tr>\n",
       "    <tr>\n",
       "      <th>62</th>\n",
       "      <td>Contract</td>\n",
       "      <td>SeniorCitizen</td>\n",
       "      <td>-0.14</td>\n",
       "      <td>Contract-SeniorCitizen</td>\n",
       "    </tr>\n",
       "    <tr>\n",
       "      <th>46</th>\n",
       "      <td>PaperlessBilling</td>\n",
       "      <td>Dependents</td>\n",
       "      <td>-0.11</td>\n",
       "      <td>Dependents-PaperlessBilling</td>\n",
       "    </tr>\n",
       "    <tr>\n",
       "      <th>31</th>\n",
       "      <td>Dependents</td>\n",
       "      <td>MonthlyCharges</td>\n",
       "      <td>-0.10</td>\n",
       "      <td>Dependents-MonthlyCharges</td>\n",
       "    </tr>\n",
       "  </tbody>\n",
       "</table>\n",
       "</div>"
      ],
      "text/plain": [
       "                 var1              var2  corr_value  \\\n",
       "65           Contract             Churn       -0.39   \n",
       "118             Churn            tenure       -0.35   \n",
       "79      SeniorCitizen        Dependents       -0.21   \n",
       "116             Churn      TotalCharges       -0.19   \n",
       "59           Contract  PaperlessBilling       -0.18   \n",
       "32         Dependents             Churn       -0.16   \n",
       "21            Partner             Churn       -0.14   \n",
       "62           Contract     SeniorCitizen       -0.14   \n",
       "46   PaperlessBilling        Dependents       -0.11   \n",
       "31         Dependents    MonthlyCharges       -0.10   \n",
       "\n",
       "                       variables  \n",
       "65                Churn-Contract  \n",
       "118                 Churn-tenure  \n",
       "79      Dependents-SeniorCitizen  \n",
       "116           Churn-TotalCharges  \n",
       "59     Contract-PaperlessBilling  \n",
       "32              Churn-Dependents  \n",
       "21                 Churn-Partner  \n",
       "62        Contract-SeniorCitizen  \n",
       "46   Dependents-PaperlessBilling  \n",
       "31     Dependents-MonthlyCharges  "
      ]
     },
     "metadata": {},
     "output_type": "display_data"
    }
   ],
   "source": [
    "# Calculo la matriz de correlación utilizando el método 'pearson'\n",
    "corrmat = df_churn[num_features].corr(method='pearson')\n",
    "\n",
    "# Creo un dataframe para filtrar las correlaciones duplicadas y autocorrelaciones\n",
    "corr_matrix = pd.DataFrame(corrmat.unstack(), columns=['corr_value']).reset_index()\n",
    "corr_matrix.columns = ['var1', 'var2', 'corr_value']\n",
    "corr_matrix = corr_matrix[(corr_matrix['var1'] != corr_matrix['var2']) & (corr_matrix['corr_value'] != 1.0)]\n",
    "\n",
    "# Ordeno el dataframe de correlaciones en orden descendente y ascendente\n",
    "corr_matrix_desc = corr_matrix.sort_values(by='corr_value', ascending=False).round(2)\n",
    "corr_matrix_asc = corr_matrix.sort_values(by='corr_value', ascending=True).round(2)\n",
    "\n",
    "# Elimino las correlaciones duplicadas y las guardamos en una nueva columna\n",
    "corr_matrix_desc['variables'] = corr_matrix_desc[['var1', 'var2']].apply(lambda x: '-'.join(sorted(x)), axis=1)\n",
    "corr_matrix_asc['variables'] = corr_matrix_asc[['var1', 'var2']].apply(lambda x: '-'.join(sorted(x)), axis=1)\n",
    "corr_matrix_desc = corr_matrix_desc.drop_duplicates(subset='variables')\n",
    "corr_matrix_asc = corr_matrix_asc.drop_duplicates(subset='variables')\n",
    "\n",
    "# Muestro el mapa de calor utilizando seaborn\n",
    "plt.figure(figsize=(10, 10))\n",
    "sns.heatmap(corrmat, annot=True, cmap='Spectral_r')\n",
    "plt.title(\"Mapa de correlación\",fontsize=20)\n",
    "plt.xticks(fontsize=14, rotation=60, ha='right')\n",
    "plt.yticks(fontsize=14)\n",
    "plt.show()\n",
    "\n",
    "# Muestro las primeras 10 correlaciones en ambos sentidos\n",
    "print(\"Top 10 correlaciones más fuertes:\")\n",
    "display(corr_matrix_desc.head(10))\n",
    "\n",
    "print(\"\\nTop 10 correlaciones más débiles:\")\n",
    "display(corr_matrix_asc.head(10))"
   ]
  },
  {
   "cell_type": "markdown",
   "metadata": {},
   "source": [
    "<div><font size=3 color=#00586D> <i class=\"fa fa-check-square-o\" aria-hidden=\"true\"></i></font></div>\n",
    "\n",
    "<!--comment -->"
   ]
  },
  {
   "cell_type": "markdown",
   "metadata": {},
   "source": [
    "#### <font color=\"#00586D\"> <i class=\"fa fa-pencil-square-o\" aria-hidden=\"true\" ></i> Ejercicio 8</font>\n",
    "\n",
    "Comentar qué se observa en la gráfica (si se observa o no alguna circunstancia relevante). "
   ]
  },
  {
   "cell_type": "markdown",
   "metadata": {},
   "source": [
    "___Respuesta:___\n",
    "\n",
    "<br><font color='blue'>\n",
    "    Hay algunas relaciones entre variables que están positivamente correlacionadas entre sí, lo que significa que cuando una variable aumenta, la otra variable también aumenta. Por ejemplo, la variable 'TotalCharges' está positivamente correlacionada con la variable 'tenure', lo que sugiere que el gasto total de un usuario está estrechamente relacionado con el tiempo que ha estado en la compañía.<br>\n",
    "    En cuanto a la relación entre la variable 'Partner' y la variable 'Dependents' (correlación directa), indica que aquellos que tienen una pareja es probable que también tengan hijos. \n",
    "<br><br>\n",
    "    Otras relaciones entre variables están inversamente correlacionadas, lo que significa que cuando una variable aumenta, la otra variable disminuye. Por ejemplo, la variable  'Contract' está inversamente correlacionada con la variable 'Churn', lo cual indica que a medida que la duración del contrato aumenta, disminuye la tasa de abandono de clientes.\n",
    "<br>\n",
    "    La relación entre la variable 'SeniorCitizen' y la variable 'Dependents' (correlación inversa), podría llevar a la conclusión de que los jubilados tienden a tener menos personas a su cargo.\n"
   ]
  },
  {
   "cell_type": "markdown",
   "metadata": {},
   "source": [
    "<div><font size=3 color=#00586D> <i class=\"fa fa-check-square-o\" aria-hidden=\"true\"></i></font></div>\n",
    "\n",
    "<!--comment -->"
   ]
  },
  {
   "cell_type": "markdown",
   "metadata": {},
   "source": [
    "<br>\n",
    "\n",
    "### <font color=\"#00586D\">Preprocesamiento</font>\n",
    "<br>\n",
    "\n",
    "Llegados a este punto, se han llevado a cabo las acciones de preprocesamiento necesarias. En el _DataFrame_ resultante quedan características numéricas, y también categóricas, que serán tratadas como tal en pasos posteriores. Con respecto a las numéricas, ha de eliminarse `Churn`."
   ]
  },
  {
   "cell_type": "code",
   "execution_count": 34,
   "metadata": {},
   "outputs": [
    {
     "name": "stdout",
     "output_type": "stream",
     "text": [
      "Variables numéricas: \n",
      "['gender', 'Partner', 'Dependents', 'PhoneService', 'PaperlessBilling', 'Contract', 'TotalCharges', 'SeniorCitizen', 'tenure', 'MonthlyCharges']\n",
      "\n",
      "Variables categóricas\n",
      "['MultipleLines', 'InternetService', 'OnlineSecurity', 'OnlineBackup', 'DeviceProtection', 'TechSupport', 'StreamingTV', 'StreamingMovies', 'PaymentMethod']\n"
     ]
    },
    {
     "data": {
      "text/html": [
       "<div>\n",
       "<style scoped>\n",
       "    .dataframe tbody tr th:only-of-type {\n",
       "        vertical-align: middle;\n",
       "    }\n",
       "\n",
       "    .dataframe tbody tr th {\n",
       "        vertical-align: top;\n",
       "    }\n",
       "\n",
       "    .dataframe thead th {\n",
       "        text-align: right;\n",
       "    }\n",
       "</style>\n",
       "<table border=\"1\" class=\"dataframe\">\n",
       "  <thead>\n",
       "    <tr style=\"text-align: right;\">\n",
       "      <th></th>\n",
       "      <th>gender</th>\n",
       "      <th>SeniorCitizen</th>\n",
       "      <th>Partner</th>\n",
       "      <th>Dependents</th>\n",
       "      <th>tenure</th>\n",
       "      <th>PhoneService</th>\n",
       "      <th>MultipleLines</th>\n",
       "      <th>InternetService</th>\n",
       "      <th>OnlineSecurity</th>\n",
       "      <th>OnlineBackup</th>\n",
       "      <th>DeviceProtection</th>\n",
       "      <th>TechSupport</th>\n",
       "      <th>StreamingTV</th>\n",
       "      <th>StreamingMovies</th>\n",
       "      <th>Contract</th>\n",
       "      <th>PaperlessBilling</th>\n",
       "      <th>PaymentMethod</th>\n",
       "      <th>MonthlyCharges</th>\n",
       "      <th>TotalCharges</th>\n",
       "      <th>Churn</th>\n",
       "    </tr>\n",
       "    <tr>\n",
       "      <th>customerID</th>\n",
       "      <th></th>\n",
       "      <th></th>\n",
       "      <th></th>\n",
       "      <th></th>\n",
       "      <th></th>\n",
       "      <th></th>\n",
       "      <th></th>\n",
       "      <th></th>\n",
       "      <th></th>\n",
       "      <th></th>\n",
       "      <th></th>\n",
       "      <th></th>\n",
       "      <th></th>\n",
       "      <th></th>\n",
       "      <th></th>\n",
       "      <th></th>\n",
       "      <th></th>\n",
       "      <th></th>\n",
       "      <th></th>\n",
       "      <th></th>\n",
       "    </tr>\n",
       "  </thead>\n",
       "  <tbody>\n",
       "    <tr>\n",
       "      <th>6296-DDOOR</th>\n",
       "      <td>1</td>\n",
       "      <td>0</td>\n",
       "      <td>0</td>\n",
       "      <td>0</td>\n",
       "      <td>19</td>\n",
       "      <td>1</td>\n",
       "      <td>No</td>\n",
       "      <td>DSL</td>\n",
       "      <td>No</td>\n",
       "      <td>Yes</td>\n",
       "      <td>No</td>\n",
       "      <td>No</td>\n",
       "      <td>Yes</td>\n",
       "      <td>No</td>\n",
       "      <td>2</td>\n",
       "      <td>0</td>\n",
       "      <td>Electronic check</td>\n",
       "      <td>58.20</td>\n",
       "      <td>1045.25</td>\n",
       "      <td>0</td>\n",
       "    </tr>\n",
       "    <tr>\n",
       "      <th>3680-CTHUH</th>\n",
       "      <td>0</td>\n",
       "      <td>0</td>\n",
       "      <td>0</td>\n",
       "      <td>0</td>\n",
       "      <td>60</td>\n",
       "      <td>1</td>\n",
       "      <td>Yes</td>\n",
       "      <td>Fiber optic</td>\n",
       "      <td>Yes</td>\n",
       "      <td>Yes</td>\n",
       "      <td>Yes</td>\n",
       "      <td>Yes</td>\n",
       "      <td>Yes</td>\n",
       "      <td>Yes</td>\n",
       "      <td>2</td>\n",
       "      <td>1</td>\n",
       "      <td>Credit card (automatic)</td>\n",
       "      <td>116.60</td>\n",
       "      <td>7049.50</td>\n",
       "      <td>0</td>\n",
       "    </tr>\n",
       "    <tr>\n",
       "      <th>4931-TRZWN</th>\n",
       "      <td>1</td>\n",
       "      <td>0</td>\n",
       "      <td>0</td>\n",
       "      <td>0</td>\n",
       "      <td>13</td>\n",
       "      <td>1</td>\n",
       "      <td>No</td>\n",
       "      <td>DSL</td>\n",
       "      <td>Yes</td>\n",
       "      <td>No</td>\n",
       "      <td>No</td>\n",
       "      <td>No</td>\n",
       "      <td>Yes</td>\n",
       "      <td>Yes</td>\n",
       "      <td>1</td>\n",
       "      <td>1</td>\n",
       "      <td>Electronic check</td>\n",
       "      <td>71.95</td>\n",
       "      <td>923.85</td>\n",
       "      <td>0</td>\n",
       "    </tr>\n",
       "    <tr>\n",
       "      <th>8559-WNQZS</th>\n",
       "      <td>0</td>\n",
       "      <td>0</td>\n",
       "      <td>0</td>\n",
       "      <td>0</td>\n",
       "      <td>1</td>\n",
       "      <td>1</td>\n",
       "      <td>No</td>\n",
       "      <td>No</td>\n",
       "      <td>No internet service</td>\n",
       "      <td>No internet service</td>\n",
       "      <td>No internet service</td>\n",
       "      <td>No internet service</td>\n",
       "      <td>No internet service</td>\n",
       "      <td>No internet service</td>\n",
       "      <td>3</td>\n",
       "      <td>0</td>\n",
       "      <td>Mailed check</td>\n",
       "      <td>20.45</td>\n",
       "      <td>20.45</td>\n",
       "      <td>0</td>\n",
       "    </tr>\n",
       "    <tr>\n",
       "      <th>3537-HPKQT</th>\n",
       "      <td>1</td>\n",
       "      <td>0</td>\n",
       "      <td>1</td>\n",
       "      <td>0</td>\n",
       "      <td>55</td>\n",
       "      <td>1</td>\n",
       "      <td>Yes</td>\n",
       "      <td>Fiber optic</td>\n",
       "      <td>No</td>\n",
       "      <td>Yes</td>\n",
       "      <td>No</td>\n",
       "      <td>No</td>\n",
       "      <td>No</td>\n",
       "      <td>No</td>\n",
       "      <td>1</td>\n",
       "      <td>1</td>\n",
       "      <td>Credit card (automatic)</td>\n",
       "      <td>77.75</td>\n",
       "      <td>4266.40</td>\n",
       "      <td>0</td>\n",
       "    </tr>\n",
       "  </tbody>\n",
       "</table>\n",
       "</div>"
      ],
      "text/plain": [
       "            gender  SeniorCitizen  Partner  Dependents  tenure  PhoneService  \\\n",
       "customerID                                                                     \n",
       "6296-DDOOR       1              0        0           0      19             1   \n",
       "3680-CTHUH       0              0        0           0      60             1   \n",
       "4931-TRZWN       1              0        0           0      13             1   \n",
       "8559-WNQZS       0              0        0           0       1             1   \n",
       "3537-HPKQT       1              0        1           0      55             1   \n",
       "\n",
       "           MultipleLines InternetService       OnlineSecurity  \\\n",
       "customerID                                                      \n",
       "6296-DDOOR            No             DSL                   No   \n",
       "3680-CTHUH           Yes     Fiber optic                  Yes   \n",
       "4931-TRZWN            No             DSL                  Yes   \n",
       "8559-WNQZS            No              No  No internet service   \n",
       "3537-HPKQT           Yes     Fiber optic                   No   \n",
       "\n",
       "                   OnlineBackup     DeviceProtection          TechSupport  \\\n",
       "customerID                                                                  \n",
       "6296-DDOOR                  Yes                   No                   No   \n",
       "3680-CTHUH                  Yes                  Yes                  Yes   \n",
       "4931-TRZWN                   No                   No                   No   \n",
       "8559-WNQZS  No internet service  No internet service  No internet service   \n",
       "3537-HPKQT                  Yes                   No                   No   \n",
       "\n",
       "                    StreamingTV      StreamingMovies  Contract  \\\n",
       "customerID                                                       \n",
       "6296-DDOOR                  Yes                   No         2   \n",
       "3680-CTHUH                  Yes                  Yes         2   \n",
       "4931-TRZWN                  Yes                  Yes         1   \n",
       "8559-WNQZS  No internet service  No internet service         3   \n",
       "3537-HPKQT                   No                   No         1   \n",
       "\n",
       "            PaperlessBilling            PaymentMethod  MonthlyCharges  \\\n",
       "customerID                                                              \n",
       "6296-DDOOR                 0         Electronic check           58.20   \n",
       "3680-CTHUH                 1  Credit card (automatic)          116.60   \n",
       "4931-TRZWN                 1         Electronic check           71.95   \n",
       "8559-WNQZS                 0             Mailed check           20.45   \n",
       "3537-HPKQT                 1  Credit card (automatic)           77.75   \n",
       "\n",
       "            TotalCharges  Churn  \n",
       "customerID                       \n",
       "6296-DDOOR       1045.25      0  \n",
       "3680-CTHUH       7049.50      0  \n",
       "4931-TRZWN        923.85      0  \n",
       "8559-WNQZS         20.45      0  \n",
       "3537-HPKQT       4266.40      0  "
      ]
     },
     "execution_count": 34,
     "metadata": {},
     "output_type": "execute_result"
    }
   ],
   "source": [
    "num_features.remove('Churn')\n",
    "\n",
    "print(\"Variables numéricas: \")\n",
    "print(num_features)\n",
    "print(\"\\nVariables categóricas\")\n",
    "print(cat_features)\n",
    "\n",
    "df_churn.head()"
   ]
  },
  {
   "cell_type": "markdown",
   "metadata": {},
   "source": [
    "En relación al preprocesamiento, se han aplicado, sucesivamente, las siguientes funciones (deben aparecer las tres)."
   ]
  },
  {
   "cell_type": "code",
   "execution_count": 35,
   "metadata": {},
   "outputs": [
    {
     "name": "stdout",
     "output_type": "stream",
     "text": [
      "\n",
      "Pasos de preprocesamiento: \n",
      "\t 0: churn_binarize_dis\n",
      "\t 1: churn_transform_contract\n",
      "\t 2: churn_charges_to_numeric\n"
     ]
    }
   ],
   "source": [
    "print(\"\\nPasos de preprocesamiento: \")\n",
    "for step, function in enumerate(churn_data_prep_pipeline):\n",
    "    print(\"\\t {:d}: {:s}\".format(step, function.__name__))"
   ]
  },
  {
   "cell_type": "markdown",
   "metadata": {},
   "source": [
    "La siguiente función, denominada `preprocess_data`, admite como parámetros un _DataFrame_ y una lista de funciones como la anterior, y las aplica sucesivamente sobre el _DataFrame_."
   ]
  },
  {
   "cell_type": "code",
   "execution_count": 36,
   "metadata": {},
   "outputs": [],
   "source": [
    "def preprocess_data(df, churn_data_prep_pipeline):\n",
    "    for function in churn_data_prep_pipeline:\n",
    "        function(df)\n",
    "    return df"
   ]
  },
  {
   "cell_type": "markdown",
   "metadata": {},
   "source": [
    "<div class=\"alert alert-block alert-warning\">\n",
    "    \n",
    "<i class=\"fa fa-exclamation-circle\" aria-hidden=\"true\"></i> \n",
    "Una alternativa a este método sería utilizar `DataFrame.pipe()`, pero en este caso no es necesario.\n",
    "</div>"
   ]
  },
  {
   "cell_type": "markdown",
   "metadata": {},
   "source": [
    "La siguiente celda aplica la función `preprocess_data` sobre un _DataFrame_ auxiliar. Como puede observarse, el formato devuelto es similar al de `df_churn` una vez hecho el preprocesamiento."
   ]
  },
  {
   "cell_type": "code",
   "execution_count": 37,
   "metadata": {},
   "outputs": [
    {
     "data": {
      "text/html": [
       "<div>\n",
       "<style scoped>\n",
       "    .dataframe tbody tr th:only-of-type {\n",
       "        vertical-align: middle;\n",
       "    }\n",
       "\n",
       "    .dataframe tbody tr th {\n",
       "        vertical-align: top;\n",
       "    }\n",
       "\n",
       "    .dataframe thead th {\n",
       "        text-align: right;\n",
       "    }\n",
       "</style>\n",
       "<table border=\"1\" class=\"dataframe\">\n",
       "  <thead>\n",
       "    <tr style=\"text-align: right;\">\n",
       "      <th></th>\n",
       "      <th>gender</th>\n",
       "      <th>SeniorCitizen</th>\n",
       "      <th>Partner</th>\n",
       "      <th>Dependents</th>\n",
       "      <th>tenure</th>\n",
       "      <th>PhoneService</th>\n",
       "      <th>MultipleLines</th>\n",
       "      <th>InternetService</th>\n",
       "      <th>OnlineSecurity</th>\n",
       "      <th>OnlineBackup</th>\n",
       "      <th>DeviceProtection</th>\n",
       "      <th>TechSupport</th>\n",
       "      <th>StreamingTV</th>\n",
       "      <th>StreamingMovies</th>\n",
       "      <th>Contract</th>\n",
       "      <th>PaperlessBilling</th>\n",
       "      <th>PaymentMethod</th>\n",
       "      <th>MonthlyCharges</th>\n",
       "      <th>TotalCharges</th>\n",
       "      <th>Churn</th>\n",
       "    </tr>\n",
       "    <tr>\n",
       "      <th>customerID</th>\n",
       "      <th></th>\n",
       "      <th></th>\n",
       "      <th></th>\n",
       "      <th></th>\n",
       "      <th></th>\n",
       "      <th></th>\n",
       "      <th></th>\n",
       "      <th></th>\n",
       "      <th></th>\n",
       "      <th></th>\n",
       "      <th></th>\n",
       "      <th></th>\n",
       "      <th></th>\n",
       "      <th></th>\n",
       "      <th></th>\n",
       "      <th></th>\n",
       "      <th></th>\n",
       "      <th></th>\n",
       "      <th></th>\n",
       "      <th></th>\n",
       "    </tr>\n",
       "  </thead>\n",
       "  <tbody>\n",
       "    <tr>\n",
       "      <th>6296-DDOOR</th>\n",
       "      <td>1</td>\n",
       "      <td>0</td>\n",
       "      <td>0</td>\n",
       "      <td>0</td>\n",
       "      <td>19</td>\n",
       "      <td>1</td>\n",
       "      <td>No</td>\n",
       "      <td>DSL</td>\n",
       "      <td>No</td>\n",
       "      <td>Yes</td>\n",
       "      <td>No</td>\n",
       "      <td>No</td>\n",
       "      <td>Yes</td>\n",
       "      <td>No</td>\n",
       "      <td>2</td>\n",
       "      <td>0</td>\n",
       "      <td>Electronic check</td>\n",
       "      <td>58.20</td>\n",
       "      <td>1045.25</td>\n",
       "      <td>No</td>\n",
       "    </tr>\n",
       "    <tr>\n",
       "      <th>3680-CTHUH</th>\n",
       "      <td>0</td>\n",
       "      <td>0</td>\n",
       "      <td>0</td>\n",
       "      <td>0</td>\n",
       "      <td>60</td>\n",
       "      <td>1</td>\n",
       "      <td>Yes</td>\n",
       "      <td>Fiber optic</td>\n",
       "      <td>Yes</td>\n",
       "      <td>Yes</td>\n",
       "      <td>Yes</td>\n",
       "      <td>Yes</td>\n",
       "      <td>Yes</td>\n",
       "      <td>Yes</td>\n",
       "      <td>2</td>\n",
       "      <td>1</td>\n",
       "      <td>Credit card (automatic)</td>\n",
       "      <td>116.60</td>\n",
       "      <td>7049.50</td>\n",
       "      <td>No</td>\n",
       "    </tr>\n",
       "    <tr>\n",
       "      <th>4931-TRZWN</th>\n",
       "      <td>1</td>\n",
       "      <td>0</td>\n",
       "      <td>0</td>\n",
       "      <td>0</td>\n",
       "      <td>13</td>\n",
       "      <td>1</td>\n",
       "      <td>No</td>\n",
       "      <td>DSL</td>\n",
       "      <td>Yes</td>\n",
       "      <td>No</td>\n",
       "      <td>No</td>\n",
       "      <td>No</td>\n",
       "      <td>Yes</td>\n",
       "      <td>Yes</td>\n",
       "      <td>1</td>\n",
       "      <td>1</td>\n",
       "      <td>Electronic check</td>\n",
       "      <td>71.95</td>\n",
       "      <td>923.85</td>\n",
       "      <td>No</td>\n",
       "    </tr>\n",
       "    <tr>\n",
       "      <th>8559-WNQZS</th>\n",
       "      <td>0</td>\n",
       "      <td>0</td>\n",
       "      <td>0</td>\n",
       "      <td>0</td>\n",
       "      <td>1</td>\n",
       "      <td>1</td>\n",
       "      <td>No</td>\n",
       "      <td>No</td>\n",
       "      <td>No internet service</td>\n",
       "      <td>No internet service</td>\n",
       "      <td>No internet service</td>\n",
       "      <td>No internet service</td>\n",
       "      <td>No internet service</td>\n",
       "      <td>No internet service</td>\n",
       "      <td>3</td>\n",
       "      <td>0</td>\n",
       "      <td>Mailed check</td>\n",
       "      <td>20.45</td>\n",
       "      <td>20.45</td>\n",
       "      <td>No</td>\n",
       "    </tr>\n",
       "    <tr>\n",
       "      <th>3537-HPKQT</th>\n",
       "      <td>1</td>\n",
       "      <td>0</td>\n",
       "      <td>1</td>\n",
       "      <td>0</td>\n",
       "      <td>55</td>\n",
       "      <td>1</td>\n",
       "      <td>Yes</td>\n",
       "      <td>Fiber optic</td>\n",
       "      <td>No</td>\n",
       "      <td>Yes</td>\n",
       "      <td>No</td>\n",
       "      <td>No</td>\n",
       "      <td>No</td>\n",
       "      <td>No</td>\n",
       "      <td>1</td>\n",
       "      <td>1</td>\n",
       "      <td>Credit card (automatic)</td>\n",
       "      <td>77.75</td>\n",
       "      <td>4266.40</td>\n",
       "      <td>No</td>\n",
       "    </tr>\n",
       "  </tbody>\n",
       "</table>\n",
       "</div>"
      ],
      "text/plain": [
       "            gender  SeniorCitizen  Partner  Dependents  tenure  PhoneService  \\\n",
       "customerID                                                                     \n",
       "6296-DDOOR       1              0        0           0      19             1   \n",
       "3680-CTHUH       0              0        0           0      60             1   \n",
       "4931-TRZWN       1              0        0           0      13             1   \n",
       "8559-WNQZS       0              0        0           0       1             1   \n",
       "3537-HPKQT       1              0        1           0      55             1   \n",
       "\n",
       "           MultipleLines InternetService       OnlineSecurity  \\\n",
       "customerID                                                      \n",
       "6296-DDOOR            No             DSL                   No   \n",
       "3680-CTHUH           Yes     Fiber optic                  Yes   \n",
       "4931-TRZWN            No             DSL                  Yes   \n",
       "8559-WNQZS            No              No  No internet service   \n",
       "3537-HPKQT           Yes     Fiber optic                   No   \n",
       "\n",
       "                   OnlineBackup     DeviceProtection          TechSupport  \\\n",
       "customerID                                                                  \n",
       "6296-DDOOR                  Yes                   No                   No   \n",
       "3680-CTHUH                  Yes                  Yes                  Yes   \n",
       "4931-TRZWN                   No                   No                   No   \n",
       "8559-WNQZS  No internet service  No internet service  No internet service   \n",
       "3537-HPKQT                  Yes                   No                   No   \n",
       "\n",
       "                    StreamingTV      StreamingMovies  Contract  \\\n",
       "customerID                                                       \n",
       "6296-DDOOR                  Yes                   No         2   \n",
       "3680-CTHUH                  Yes                  Yes         2   \n",
       "4931-TRZWN                  Yes                  Yes         1   \n",
       "8559-WNQZS  No internet service  No internet service         3   \n",
       "3537-HPKQT                   No                   No         1   \n",
       "\n",
       "            PaperlessBilling            PaymentMethod  MonthlyCharges  \\\n",
       "customerID                                                              \n",
       "6296-DDOOR                 0         Electronic check           58.20   \n",
       "3680-CTHUH                 1  Credit card (automatic)          116.60   \n",
       "4931-TRZWN                 1         Electronic check           71.95   \n",
       "8559-WNQZS                 0             Mailed check           20.45   \n",
       "3537-HPKQT                 1  Credit card (automatic)           77.75   \n",
       "\n",
       "            TotalCharges Churn  \n",
       "customerID                      \n",
       "6296-DDOOR       1045.25    No  \n",
       "3680-CTHUH       7049.50    No  \n",
       "4931-TRZWN        923.85    No  \n",
       "8559-WNQZS         20.45    No  \n",
       "3537-HPKQT       4266.40    No  "
      ]
     },
     "execution_count": 37,
     "metadata": {},
     "output_type": "execute_result"
    }
   ],
   "source": [
    "df_aux = pd.read_csv('data/churn/Telco-Customer-Churn.csv', index_col=0).sample(n=5, random_state=0)\n",
    "preprocess_data(df_aux, churn_data_prep_pipeline)"
   ]
  },
  {
   "cell_type": "markdown",
   "metadata": {},
   "source": [
    "Otra alternativa para implementar el pipeline de preprocesamiento es construir a posteriori el pipeline utilizando `DataFrame.pipe()`."
   ]
  },
  {
   "cell_type": "code",
   "execution_count": 38,
   "metadata": {},
   "outputs": [
    {
     "data": {
      "text/html": [
       "<div>\n",
       "<style scoped>\n",
       "    .dataframe tbody tr th:only-of-type {\n",
       "        vertical-align: middle;\n",
       "    }\n",
       "\n",
       "    .dataframe tbody tr th {\n",
       "        vertical-align: top;\n",
       "    }\n",
       "\n",
       "    .dataframe thead th {\n",
       "        text-align: right;\n",
       "    }\n",
       "</style>\n",
       "<table border=\"1\" class=\"dataframe\">\n",
       "  <thead>\n",
       "    <tr style=\"text-align: right;\">\n",
       "      <th></th>\n",
       "      <th>gender</th>\n",
       "      <th>SeniorCitizen</th>\n",
       "      <th>Partner</th>\n",
       "      <th>Dependents</th>\n",
       "      <th>tenure</th>\n",
       "      <th>PhoneService</th>\n",
       "      <th>MultipleLines</th>\n",
       "      <th>InternetService</th>\n",
       "      <th>OnlineSecurity</th>\n",
       "      <th>OnlineBackup</th>\n",
       "      <th>DeviceProtection</th>\n",
       "      <th>TechSupport</th>\n",
       "      <th>StreamingTV</th>\n",
       "      <th>StreamingMovies</th>\n",
       "      <th>Contract</th>\n",
       "      <th>PaperlessBilling</th>\n",
       "      <th>PaymentMethod</th>\n",
       "      <th>MonthlyCharges</th>\n",
       "      <th>TotalCharges</th>\n",
       "      <th>Churn</th>\n",
       "    </tr>\n",
       "    <tr>\n",
       "      <th>customerID</th>\n",
       "      <th></th>\n",
       "      <th></th>\n",
       "      <th></th>\n",
       "      <th></th>\n",
       "      <th></th>\n",
       "      <th></th>\n",
       "      <th></th>\n",
       "      <th></th>\n",
       "      <th></th>\n",
       "      <th></th>\n",
       "      <th></th>\n",
       "      <th></th>\n",
       "      <th></th>\n",
       "      <th></th>\n",
       "      <th></th>\n",
       "      <th></th>\n",
       "      <th></th>\n",
       "      <th></th>\n",
       "      <th></th>\n",
       "      <th></th>\n",
       "    </tr>\n",
       "  </thead>\n",
       "  <tbody>\n",
       "    <tr>\n",
       "      <th>6296-DDOOR</th>\n",
       "      <td>1</td>\n",
       "      <td>0</td>\n",
       "      <td>0</td>\n",
       "      <td>0</td>\n",
       "      <td>19</td>\n",
       "      <td>1</td>\n",
       "      <td>No</td>\n",
       "      <td>DSL</td>\n",
       "      <td>No</td>\n",
       "      <td>Yes</td>\n",
       "      <td>No</td>\n",
       "      <td>No</td>\n",
       "      <td>Yes</td>\n",
       "      <td>No</td>\n",
       "      <td>2</td>\n",
       "      <td>0</td>\n",
       "      <td>Electronic check</td>\n",
       "      <td>58.20</td>\n",
       "      <td>1045.25</td>\n",
       "      <td>No</td>\n",
       "    </tr>\n",
       "    <tr>\n",
       "      <th>3680-CTHUH</th>\n",
       "      <td>0</td>\n",
       "      <td>0</td>\n",
       "      <td>0</td>\n",
       "      <td>0</td>\n",
       "      <td>60</td>\n",
       "      <td>1</td>\n",
       "      <td>Yes</td>\n",
       "      <td>Fiber optic</td>\n",
       "      <td>Yes</td>\n",
       "      <td>Yes</td>\n",
       "      <td>Yes</td>\n",
       "      <td>Yes</td>\n",
       "      <td>Yes</td>\n",
       "      <td>Yes</td>\n",
       "      <td>2</td>\n",
       "      <td>1</td>\n",
       "      <td>Credit card (automatic)</td>\n",
       "      <td>116.60</td>\n",
       "      <td>7049.50</td>\n",
       "      <td>No</td>\n",
       "    </tr>\n",
       "    <tr>\n",
       "      <th>4931-TRZWN</th>\n",
       "      <td>1</td>\n",
       "      <td>0</td>\n",
       "      <td>0</td>\n",
       "      <td>0</td>\n",
       "      <td>13</td>\n",
       "      <td>1</td>\n",
       "      <td>No</td>\n",
       "      <td>DSL</td>\n",
       "      <td>Yes</td>\n",
       "      <td>No</td>\n",
       "      <td>No</td>\n",
       "      <td>No</td>\n",
       "      <td>Yes</td>\n",
       "      <td>Yes</td>\n",
       "      <td>1</td>\n",
       "      <td>1</td>\n",
       "      <td>Electronic check</td>\n",
       "      <td>71.95</td>\n",
       "      <td>923.85</td>\n",
       "      <td>No</td>\n",
       "    </tr>\n",
       "    <tr>\n",
       "      <th>8559-WNQZS</th>\n",
       "      <td>0</td>\n",
       "      <td>0</td>\n",
       "      <td>0</td>\n",
       "      <td>0</td>\n",
       "      <td>1</td>\n",
       "      <td>1</td>\n",
       "      <td>No</td>\n",
       "      <td>No</td>\n",
       "      <td>No internet service</td>\n",
       "      <td>No internet service</td>\n",
       "      <td>No internet service</td>\n",
       "      <td>No internet service</td>\n",
       "      <td>No internet service</td>\n",
       "      <td>No internet service</td>\n",
       "      <td>3</td>\n",
       "      <td>0</td>\n",
       "      <td>Mailed check</td>\n",
       "      <td>20.45</td>\n",
       "      <td>20.45</td>\n",
       "      <td>No</td>\n",
       "    </tr>\n",
       "    <tr>\n",
       "      <th>3537-HPKQT</th>\n",
       "      <td>1</td>\n",
       "      <td>0</td>\n",
       "      <td>1</td>\n",
       "      <td>0</td>\n",
       "      <td>55</td>\n",
       "      <td>1</td>\n",
       "      <td>Yes</td>\n",
       "      <td>Fiber optic</td>\n",
       "      <td>No</td>\n",
       "      <td>Yes</td>\n",
       "      <td>No</td>\n",
       "      <td>No</td>\n",
       "      <td>No</td>\n",
       "      <td>No</td>\n",
       "      <td>1</td>\n",
       "      <td>1</td>\n",
       "      <td>Credit card (automatic)</td>\n",
       "      <td>77.75</td>\n",
       "      <td>4266.40</td>\n",
       "      <td>No</td>\n",
       "    </tr>\n",
       "  </tbody>\n",
       "</table>\n",
       "</div>"
      ],
      "text/plain": [
       "            gender  SeniorCitizen  Partner  Dependents  tenure  PhoneService  \\\n",
       "customerID                                                                     \n",
       "6296-DDOOR       1              0        0           0      19             1   \n",
       "3680-CTHUH       0              0        0           0      60             1   \n",
       "4931-TRZWN       1              0        0           0      13             1   \n",
       "8559-WNQZS       0              0        0           0       1             1   \n",
       "3537-HPKQT       1              0        1           0      55             1   \n",
       "\n",
       "           MultipleLines InternetService       OnlineSecurity  \\\n",
       "customerID                                                      \n",
       "6296-DDOOR            No             DSL                   No   \n",
       "3680-CTHUH           Yes     Fiber optic                  Yes   \n",
       "4931-TRZWN            No             DSL                  Yes   \n",
       "8559-WNQZS            No              No  No internet service   \n",
       "3537-HPKQT           Yes     Fiber optic                   No   \n",
       "\n",
       "                   OnlineBackup     DeviceProtection          TechSupport  \\\n",
       "customerID                                                                  \n",
       "6296-DDOOR                  Yes                   No                   No   \n",
       "3680-CTHUH                  Yes                  Yes                  Yes   \n",
       "4931-TRZWN                   No                   No                   No   \n",
       "8559-WNQZS  No internet service  No internet service  No internet service   \n",
       "3537-HPKQT                  Yes                   No                   No   \n",
       "\n",
       "                    StreamingTV      StreamingMovies  Contract  \\\n",
       "customerID                                                       \n",
       "6296-DDOOR                  Yes                   No         2   \n",
       "3680-CTHUH                  Yes                  Yes         2   \n",
       "4931-TRZWN                  Yes                  Yes         1   \n",
       "8559-WNQZS  No internet service  No internet service         3   \n",
       "3537-HPKQT                   No                   No         1   \n",
       "\n",
       "            PaperlessBilling            PaymentMethod  MonthlyCharges  \\\n",
       "customerID                                                              \n",
       "6296-DDOOR                 0         Electronic check           58.20   \n",
       "3680-CTHUH                 1  Credit card (automatic)          116.60   \n",
       "4931-TRZWN                 1         Electronic check           71.95   \n",
       "8559-WNQZS                 0             Mailed check           20.45   \n",
       "3537-HPKQT                 1  Credit card (automatic)           77.75   \n",
       "\n",
       "            TotalCharges Churn  \n",
       "customerID                      \n",
       "6296-DDOOR       1045.25    No  \n",
       "3680-CTHUH       7049.50    No  \n",
       "4931-TRZWN        923.85    No  \n",
       "8559-WNQZS         20.45    No  \n",
       "3537-HPKQT       4266.40    No  "
      ]
     },
     "execution_count": 38,
     "metadata": {},
     "output_type": "execute_result"
    }
   ],
   "source": [
    "df_aux = pd.read_csv('data/churn/Telco-Customer-Churn.csv', index_col=0).sample(n=5, random_state=0)\n",
    "\n",
    "def preprocess_data_pipe(df):\n",
    "    return (df.pipe(churn_binarize_dis).\n",
    "               pipe(churn_transform_contract).\n",
    "               pipe(churn_charges_to_numeric))\n",
    "\n",
    "\n",
    "preprocess_data_pipe(df_aux)"
   ]
  },
  {
   "cell_type": "markdown",
   "metadata": {},
   "source": [
    "<div align=\"right\">\n",
    "<a href=\"#indice\"><font size=5 color=\"#00586D\"><i class=\"fa fa-arrow-circle-up\" aria-hidden=\"true\"></i></font></a>\n",
    "</div>\n",
    "\n",
    "---\n",
    "\n",
    "<a id=\"section12\"></a>\n",
    "## <font color=\"#00586D\"> 1.2. Construcción de un modelo </font>\n",
    "<br>\n",
    "\n",
    "En este punto, se ha definido un flujo de acciones de preprocesamiento, y se ha preparado un _DataFrame_ a partir del cual se puede construir y validar el modelo. Este conjunto de datos será el punto de partida para la definición de un _Pipeline_ con `scikit-learn`, que también incluye ciertas acciones de transformación, y es \"independiente\" del proceso anterior.  No obstante, sí que será necesario utilizar las listas de características elaboradas anteriormente. Por otra parte, se almacenarán las columnas de entrada en `X` y la clase en `y`."
   ]
  },
  {
   "cell_type": "code",
   "execution_count": 39,
   "metadata": {},
   "outputs": [],
   "source": [
    "X = df_churn.drop('Churn',axis=1)\n",
    "y = df_churn['Churn']"
   ]
  },
  {
   "cell_type": "markdown",
   "metadata": {},
   "source": [
    "### <font color=\"#00586D\"> Creación de un Pipeline para la transformación</font>\n",
    "\n",
    "\n",
    "El primer paso en la creación del _Pipeline_ consiste en la transformación de los datos. Uno de los problemas con los que tradicionalmente se ha lidiado en este sentido, es que se han de tratar de manera separada los datos de distintas columnas, que luego han de ser unidas. Esto conlleva la implementación de transformadores. Desde la versión 0.20 `scikit-learn` proporciona el objeto  [`ColumnTransformer`](https://scikit-learn.org/stable/modules/generated/sklearn.compose.ColumnTransformer.html#sklearn.compose.ColumnTransformer), que permite tratar por separado las columnas, y facilita enormemente la tarea de transformación.\n",
    "\n",
    "<div class=\"alert alert-block alert-info\">\n",
    "    \n",
    "<i class=\"fa fa-info-circle\" aria-hidden=\"true\"></i> Podéis leer un par de artículos sobre `ColumnTransformer` en estos enlaces: [post 1](https://medium.com/vickdata/easier-machine-learning-with-the-new-column-transformer-from-scikit-learn-c2268ea9564c) (básico) y [post 2](https://medium.com/dunder-data/from-pandas-to-scikit-learn-a-new-exciting-workflow-e88e2271ef62) (más complejo pero muy interesante).\n",
    "</div>"
   ]
  },
  {
   "cell_type": "code",
   "execution_count": 40,
   "metadata": {},
   "outputs": [],
   "source": [
    "#!pip install --upgrade sklearn"
   ]
  },
  {
   "cell_type": "markdown",
   "metadata": {},
   "source": [
    "En este contexto, el preprocesamiento para todas las variables de un mismo tipo será similar, por lo que serán sometidas a la misma secuencia de transformaciones mediante un _Pipeline_. Una vez definido el _Pipeline_ para cada tipo de datos, se aplicarán ambos a las columnas correspondientes mediante `ColumnTransformer`.\n",
    "\n",
    "En primer lugar, se va a definir el proceso de transformación para las variables numéricas, que consistirá en:\n",
    "* Imputación de valores perdidos (`SimpleImputer`). \n",
    "* Normalización a media cero y desviación uno (`StandardScaler`).\n",
    "\n",
    "#### <font color=\"#00586D\"> <i class=\"fa fa-pencil-square-o\" aria-hidden=\"true\" ></i> Ejercicio 9</font>\n",
    "\n",
    "Crear un `Pipeline`, denominado `num_transformer`, que consista en las dos transformaciones descritas anteriormente. "
   ]
  },
  {
   "cell_type": "code",
   "execution_count": 41,
   "metadata": {},
   "outputs": [
    {
     "data": {
      "text/html": [
       "<style>#sk-container-id-1 {color: black;background-color: white;}#sk-container-id-1 pre{padding: 0;}#sk-container-id-1 div.sk-toggleable {background-color: white;}#sk-container-id-1 label.sk-toggleable__label {cursor: pointer;display: block;width: 100%;margin-bottom: 0;padding: 0.3em;box-sizing: border-box;text-align: center;}#sk-container-id-1 label.sk-toggleable__label-arrow:before {content: \"▸\";float: left;margin-right: 0.25em;color: #696969;}#sk-container-id-1 label.sk-toggleable__label-arrow:hover:before {color: black;}#sk-container-id-1 div.sk-estimator:hover label.sk-toggleable__label-arrow:before {color: black;}#sk-container-id-1 div.sk-toggleable__content {max-height: 0;max-width: 0;overflow: hidden;text-align: left;background-color: #f0f8ff;}#sk-container-id-1 div.sk-toggleable__content pre {margin: 0.2em;color: black;border-radius: 0.25em;background-color: #f0f8ff;}#sk-container-id-1 input.sk-toggleable__control:checked~div.sk-toggleable__content {max-height: 200px;max-width: 100%;overflow: auto;}#sk-container-id-1 input.sk-toggleable__control:checked~label.sk-toggleable__label-arrow:before {content: \"▾\";}#sk-container-id-1 div.sk-estimator input.sk-toggleable__control:checked~label.sk-toggleable__label {background-color: #d4ebff;}#sk-container-id-1 div.sk-label input.sk-toggleable__control:checked~label.sk-toggleable__label {background-color: #d4ebff;}#sk-container-id-1 input.sk-hidden--visually {border: 0;clip: rect(1px 1px 1px 1px);clip: rect(1px, 1px, 1px, 1px);height: 1px;margin: -1px;overflow: hidden;padding: 0;position: absolute;width: 1px;}#sk-container-id-1 div.sk-estimator {font-family: monospace;background-color: #f0f8ff;border: 1px dotted black;border-radius: 0.25em;box-sizing: border-box;margin-bottom: 0.5em;}#sk-container-id-1 div.sk-estimator:hover {background-color: #d4ebff;}#sk-container-id-1 div.sk-parallel-item::after {content: \"\";width: 100%;border-bottom: 1px solid gray;flex-grow: 1;}#sk-container-id-1 div.sk-label:hover label.sk-toggleable__label {background-color: #d4ebff;}#sk-container-id-1 div.sk-serial::before {content: \"\";position: absolute;border-left: 1px solid gray;box-sizing: border-box;top: 0;bottom: 0;left: 50%;z-index: 0;}#sk-container-id-1 div.sk-serial {display: flex;flex-direction: column;align-items: center;background-color: white;padding-right: 0.2em;padding-left: 0.2em;position: relative;}#sk-container-id-1 div.sk-item {position: relative;z-index: 1;}#sk-container-id-1 div.sk-parallel {display: flex;align-items: stretch;justify-content: center;background-color: white;position: relative;}#sk-container-id-1 div.sk-item::before, #sk-container-id-1 div.sk-parallel-item::before {content: \"\";position: absolute;border-left: 1px solid gray;box-sizing: border-box;top: 0;bottom: 0;left: 50%;z-index: -1;}#sk-container-id-1 div.sk-parallel-item {display: flex;flex-direction: column;z-index: 1;position: relative;background-color: white;}#sk-container-id-1 div.sk-parallel-item:first-child::after {align-self: flex-end;width: 50%;}#sk-container-id-1 div.sk-parallel-item:last-child::after {align-self: flex-start;width: 50%;}#sk-container-id-1 div.sk-parallel-item:only-child::after {width: 0;}#sk-container-id-1 div.sk-dashed-wrapped {border: 1px dashed gray;margin: 0 0.4em 0.5em 0.4em;box-sizing: border-box;padding-bottom: 0.4em;background-color: white;}#sk-container-id-1 div.sk-label label {font-family: monospace;font-weight: bold;display: inline-block;line-height: 1.2em;}#sk-container-id-1 div.sk-label-container {text-align: center;}#sk-container-id-1 div.sk-container {/* jupyter's `normalize.less` sets `[hidden] { display: none; }` but bootstrap.min.css set `[hidden] { display: none !important; }` so we also need the `!important` here to be able to override the default hidden behavior on the sphinx rendered scikit-learn.org. See: https://github.com/scikit-learn/scikit-learn/issues/21755 */display: inline-block !important;position: relative;}#sk-container-id-1 div.sk-text-repr-fallback {display: none;}</style><div id=\"sk-container-id-1\" class=\"sk-top-container\"><div class=\"sk-text-repr-fallback\"><pre>Pipeline(steps=[(&#x27;imputer&#x27;, SimpleImputer()), (&#x27;scaler&#x27;, StandardScaler())])</pre><b>In a Jupyter environment, please rerun this cell to show the HTML representation or trust the notebook. <br />On GitHub, the HTML representation is unable to render, please try loading this page with nbviewer.org.</b></div><div class=\"sk-container\" hidden><div class=\"sk-item sk-dashed-wrapped\"><div class=\"sk-label-container\"><div class=\"sk-label sk-toggleable\"><input class=\"sk-toggleable__control sk-hidden--visually\" id=\"sk-estimator-id-1\" type=\"checkbox\" ><label for=\"sk-estimator-id-1\" class=\"sk-toggleable__label sk-toggleable__label-arrow\">Pipeline</label><div class=\"sk-toggleable__content\"><pre>Pipeline(steps=[(&#x27;imputer&#x27;, SimpleImputer()), (&#x27;scaler&#x27;, StandardScaler())])</pre></div></div></div><div class=\"sk-serial\"><div class=\"sk-item\"><div class=\"sk-estimator sk-toggleable\"><input class=\"sk-toggleable__control sk-hidden--visually\" id=\"sk-estimator-id-2\" type=\"checkbox\" ><label for=\"sk-estimator-id-2\" class=\"sk-toggleable__label sk-toggleable__label-arrow\">SimpleImputer</label><div class=\"sk-toggleable__content\"><pre>SimpleImputer()</pre></div></div></div><div class=\"sk-item\"><div class=\"sk-estimator sk-toggleable\"><input class=\"sk-toggleable__control sk-hidden--visually\" id=\"sk-estimator-id-3\" type=\"checkbox\" ><label for=\"sk-estimator-id-3\" class=\"sk-toggleable__label sk-toggleable__label-arrow\">StandardScaler</label><div class=\"sk-toggleable__content\"><pre>StandardScaler()</pre></div></div></div></div></div></div></div>"
      ],
      "text/plain": [
       "Pipeline(steps=[('imputer', SimpleImputer()), ('scaler', StandardScaler())])"
      ]
     },
     "execution_count": 41,
     "metadata": {},
     "output_type": "execute_result"
    }
   ],
   "source": [
    "from sklearn.pipeline import Pipeline\n",
    "from sklearn.preprocessing import StandardScaler\n",
    "from sklearn.impute import SimpleImputer\n",
    "\n",
    "num_transformer = Pipeline([\n",
    "    ('imputer', SimpleImputer(strategy='mean')),\n",
    "    ('scaler', StandardScaler())\n",
    "    ])\n",
    "\n",
    "num_transformer"
   ]
  },
  {
   "cell_type": "markdown",
   "metadata": {},
   "source": [
    "<div class=\"alert alert-block alert-warning\">\n",
    "    \n",
    "<i class=\"fa fa-exclamation-circle\" aria-hidden=\"true\"></i> __Importante__. La normalización de las características mediante `StandardScaler` es, por ejemplo, una de las transformaciones que hay que hacer dentro del *pipeline*, ya que utiliza las medias y desviaciones estándar de las características en el conjunto de entrenamiento, y las almacena para reescalar en nuevos datos. \n",
    "</div>"
   ]
  },
  {
   "cell_type": "markdown",
   "metadata": {},
   "source": [
    "<div><font size=3 color=#00586D> <i class=\"fa fa-check-square-o\" aria-hidden=\"true\"></i></font></div>\n",
    "\n",
    "<!--comment -->"
   ]
  },
  {
   "cell_type": "markdown",
   "metadata": {},
   "source": [
    "\n",
    "#### <font color=\"#00586D\"> <i class=\"fa fa-pencil-square-o\" aria-hidden=\"true\" ></i> Ejercicio 10</font>\n",
    "\n",
    "Crear otro _Pipeline_, denominado `cat_transformer`, que defina la secuencia de transformaciones para las variables categóricas. Este debe estar formado por un objeto `SimpleImputer` que reemplace los valores perdidos por la etiqueta `missing` (`strategy='constant', fill_value='missing'`), y otro objeto, `OneHotEncoder` que transforme las variables categóricas a etiquetas binarias. Para este último, fijar el parámetro `handle_unknown='ignore'` para que los valores que no se han consierado en el entrenamiento, sean ignorados (codificados a cero)."
   ]
  },
  {
   "cell_type": "code",
   "execution_count": 42,
   "metadata": {},
   "outputs": [
    {
     "data": {
      "text/html": [
       "<style>#sk-container-id-2 {color: black;background-color: white;}#sk-container-id-2 pre{padding: 0;}#sk-container-id-2 div.sk-toggleable {background-color: white;}#sk-container-id-2 label.sk-toggleable__label {cursor: pointer;display: block;width: 100%;margin-bottom: 0;padding: 0.3em;box-sizing: border-box;text-align: center;}#sk-container-id-2 label.sk-toggleable__label-arrow:before {content: \"▸\";float: left;margin-right: 0.25em;color: #696969;}#sk-container-id-2 label.sk-toggleable__label-arrow:hover:before {color: black;}#sk-container-id-2 div.sk-estimator:hover label.sk-toggleable__label-arrow:before {color: black;}#sk-container-id-2 div.sk-toggleable__content {max-height: 0;max-width: 0;overflow: hidden;text-align: left;background-color: #f0f8ff;}#sk-container-id-2 div.sk-toggleable__content pre {margin: 0.2em;color: black;border-radius: 0.25em;background-color: #f0f8ff;}#sk-container-id-2 input.sk-toggleable__control:checked~div.sk-toggleable__content {max-height: 200px;max-width: 100%;overflow: auto;}#sk-container-id-2 input.sk-toggleable__control:checked~label.sk-toggleable__label-arrow:before {content: \"▾\";}#sk-container-id-2 div.sk-estimator input.sk-toggleable__control:checked~label.sk-toggleable__label {background-color: #d4ebff;}#sk-container-id-2 div.sk-label input.sk-toggleable__control:checked~label.sk-toggleable__label {background-color: #d4ebff;}#sk-container-id-2 input.sk-hidden--visually {border: 0;clip: rect(1px 1px 1px 1px);clip: rect(1px, 1px, 1px, 1px);height: 1px;margin: -1px;overflow: hidden;padding: 0;position: absolute;width: 1px;}#sk-container-id-2 div.sk-estimator {font-family: monospace;background-color: #f0f8ff;border: 1px dotted black;border-radius: 0.25em;box-sizing: border-box;margin-bottom: 0.5em;}#sk-container-id-2 div.sk-estimator:hover {background-color: #d4ebff;}#sk-container-id-2 div.sk-parallel-item::after {content: \"\";width: 100%;border-bottom: 1px solid gray;flex-grow: 1;}#sk-container-id-2 div.sk-label:hover label.sk-toggleable__label {background-color: #d4ebff;}#sk-container-id-2 div.sk-serial::before {content: \"\";position: absolute;border-left: 1px solid gray;box-sizing: border-box;top: 0;bottom: 0;left: 50%;z-index: 0;}#sk-container-id-2 div.sk-serial {display: flex;flex-direction: column;align-items: center;background-color: white;padding-right: 0.2em;padding-left: 0.2em;position: relative;}#sk-container-id-2 div.sk-item {position: relative;z-index: 1;}#sk-container-id-2 div.sk-parallel {display: flex;align-items: stretch;justify-content: center;background-color: white;position: relative;}#sk-container-id-2 div.sk-item::before, #sk-container-id-2 div.sk-parallel-item::before {content: \"\";position: absolute;border-left: 1px solid gray;box-sizing: border-box;top: 0;bottom: 0;left: 50%;z-index: -1;}#sk-container-id-2 div.sk-parallel-item {display: flex;flex-direction: column;z-index: 1;position: relative;background-color: white;}#sk-container-id-2 div.sk-parallel-item:first-child::after {align-self: flex-end;width: 50%;}#sk-container-id-2 div.sk-parallel-item:last-child::after {align-self: flex-start;width: 50%;}#sk-container-id-2 div.sk-parallel-item:only-child::after {width: 0;}#sk-container-id-2 div.sk-dashed-wrapped {border: 1px dashed gray;margin: 0 0.4em 0.5em 0.4em;box-sizing: border-box;padding-bottom: 0.4em;background-color: white;}#sk-container-id-2 div.sk-label label {font-family: monospace;font-weight: bold;display: inline-block;line-height: 1.2em;}#sk-container-id-2 div.sk-label-container {text-align: center;}#sk-container-id-2 div.sk-container {/* jupyter's `normalize.less` sets `[hidden] { display: none; }` but bootstrap.min.css set `[hidden] { display: none !important; }` so we also need the `!important` here to be able to override the default hidden behavior on the sphinx rendered scikit-learn.org. See: https://github.com/scikit-learn/scikit-learn/issues/21755 */display: inline-block !important;position: relative;}#sk-container-id-2 div.sk-text-repr-fallback {display: none;}</style><div id=\"sk-container-id-2\" class=\"sk-top-container\"><div class=\"sk-text-repr-fallback\"><pre>Pipeline(steps=[(&#x27;imputer&#x27;,\n",
       "                 SimpleImputer(fill_value=&#x27;missing&#x27;, strategy=&#x27;constant&#x27;)),\n",
       "                (&#x27;onehot&#x27;, OneHotEncoder(handle_unknown=&#x27;ignore&#x27;))])</pre><b>In a Jupyter environment, please rerun this cell to show the HTML representation or trust the notebook. <br />On GitHub, the HTML representation is unable to render, please try loading this page with nbviewer.org.</b></div><div class=\"sk-container\" hidden><div class=\"sk-item sk-dashed-wrapped\"><div class=\"sk-label-container\"><div class=\"sk-label sk-toggleable\"><input class=\"sk-toggleable__control sk-hidden--visually\" id=\"sk-estimator-id-4\" type=\"checkbox\" ><label for=\"sk-estimator-id-4\" class=\"sk-toggleable__label sk-toggleable__label-arrow\">Pipeline</label><div class=\"sk-toggleable__content\"><pre>Pipeline(steps=[(&#x27;imputer&#x27;,\n",
       "                 SimpleImputer(fill_value=&#x27;missing&#x27;, strategy=&#x27;constant&#x27;)),\n",
       "                (&#x27;onehot&#x27;, OneHotEncoder(handle_unknown=&#x27;ignore&#x27;))])</pre></div></div></div><div class=\"sk-serial\"><div class=\"sk-item\"><div class=\"sk-estimator sk-toggleable\"><input class=\"sk-toggleable__control sk-hidden--visually\" id=\"sk-estimator-id-5\" type=\"checkbox\" ><label for=\"sk-estimator-id-5\" class=\"sk-toggleable__label sk-toggleable__label-arrow\">SimpleImputer</label><div class=\"sk-toggleable__content\"><pre>SimpleImputer(fill_value=&#x27;missing&#x27;, strategy=&#x27;constant&#x27;)</pre></div></div></div><div class=\"sk-item\"><div class=\"sk-estimator sk-toggleable\"><input class=\"sk-toggleable__control sk-hidden--visually\" id=\"sk-estimator-id-6\" type=\"checkbox\" ><label for=\"sk-estimator-id-6\" class=\"sk-toggleable__label sk-toggleable__label-arrow\">OneHotEncoder</label><div class=\"sk-toggleable__content\"><pre>OneHotEncoder(handle_unknown=&#x27;ignore&#x27;)</pre></div></div></div></div></div></div></div>"
      ],
      "text/plain": [
       "Pipeline(steps=[('imputer',\n",
       "                 SimpleImputer(fill_value='missing', strategy='constant')),\n",
       "                ('onehot', OneHotEncoder(handle_unknown='ignore'))])"
      ]
     },
     "execution_count": 42,
     "metadata": {},
     "output_type": "execute_result"
    }
   ],
   "source": [
    "from sklearn.preprocessing import OneHotEncoder\n",
    "\n",
    "cat_transformer = Pipeline([\n",
    "    ('imputer', SimpleImputer(strategy='constant', fill_value='missing')),\n",
    "    ('onehot', OneHotEncoder(handle_unknown='ignore'))\n",
    "    ])\n",
    "\n",
    "cat_transformer"
   ]
  },
  {
   "cell_type": "markdown",
   "metadata": {},
   "source": [
    "<div><font size=3 color=#00586D> <i class=\"fa fa-check-square-o\" aria-hidden=\"true\"></i></font></div>\n",
    "\n",
    "<!--comment -->"
   ]
  },
  {
   "cell_type": "markdown",
   "metadata": {},
   "source": [
    "#### <font color=\"#00586D\"> <i class=\"fa fa-pencil-square-o\" aria-hidden=\"true\" ></i> Ejercicio 11</font>\n",
    "\n",
    "Crear un objeto de tipo `ColumnTransformer`, denominado `churn_trans`, que aplique las dos secuencias anteriores de transformación sobre las características correspondientes. "
   ]
  },
  {
   "cell_type": "code",
   "execution_count": 43,
   "metadata": {},
   "outputs": [
    {
     "data": {
      "text/html": [
       "<style>#sk-container-id-3 {color: black;background-color: white;}#sk-container-id-3 pre{padding: 0;}#sk-container-id-3 div.sk-toggleable {background-color: white;}#sk-container-id-3 label.sk-toggleable__label {cursor: pointer;display: block;width: 100%;margin-bottom: 0;padding: 0.3em;box-sizing: border-box;text-align: center;}#sk-container-id-3 label.sk-toggleable__label-arrow:before {content: \"▸\";float: left;margin-right: 0.25em;color: #696969;}#sk-container-id-3 label.sk-toggleable__label-arrow:hover:before {color: black;}#sk-container-id-3 div.sk-estimator:hover label.sk-toggleable__label-arrow:before {color: black;}#sk-container-id-3 div.sk-toggleable__content {max-height: 0;max-width: 0;overflow: hidden;text-align: left;background-color: #f0f8ff;}#sk-container-id-3 div.sk-toggleable__content pre {margin: 0.2em;color: black;border-radius: 0.25em;background-color: #f0f8ff;}#sk-container-id-3 input.sk-toggleable__control:checked~div.sk-toggleable__content {max-height: 200px;max-width: 100%;overflow: auto;}#sk-container-id-3 input.sk-toggleable__control:checked~label.sk-toggleable__label-arrow:before {content: \"▾\";}#sk-container-id-3 div.sk-estimator input.sk-toggleable__control:checked~label.sk-toggleable__label {background-color: #d4ebff;}#sk-container-id-3 div.sk-label input.sk-toggleable__control:checked~label.sk-toggleable__label {background-color: #d4ebff;}#sk-container-id-3 input.sk-hidden--visually {border: 0;clip: rect(1px 1px 1px 1px);clip: rect(1px, 1px, 1px, 1px);height: 1px;margin: -1px;overflow: hidden;padding: 0;position: absolute;width: 1px;}#sk-container-id-3 div.sk-estimator {font-family: monospace;background-color: #f0f8ff;border: 1px dotted black;border-radius: 0.25em;box-sizing: border-box;margin-bottom: 0.5em;}#sk-container-id-3 div.sk-estimator:hover {background-color: #d4ebff;}#sk-container-id-3 div.sk-parallel-item::after {content: \"\";width: 100%;border-bottom: 1px solid gray;flex-grow: 1;}#sk-container-id-3 div.sk-label:hover label.sk-toggleable__label {background-color: #d4ebff;}#sk-container-id-3 div.sk-serial::before {content: \"\";position: absolute;border-left: 1px solid gray;box-sizing: border-box;top: 0;bottom: 0;left: 50%;z-index: 0;}#sk-container-id-3 div.sk-serial {display: flex;flex-direction: column;align-items: center;background-color: white;padding-right: 0.2em;padding-left: 0.2em;position: relative;}#sk-container-id-3 div.sk-item {position: relative;z-index: 1;}#sk-container-id-3 div.sk-parallel {display: flex;align-items: stretch;justify-content: center;background-color: white;position: relative;}#sk-container-id-3 div.sk-item::before, #sk-container-id-3 div.sk-parallel-item::before {content: \"\";position: absolute;border-left: 1px solid gray;box-sizing: border-box;top: 0;bottom: 0;left: 50%;z-index: -1;}#sk-container-id-3 div.sk-parallel-item {display: flex;flex-direction: column;z-index: 1;position: relative;background-color: white;}#sk-container-id-3 div.sk-parallel-item:first-child::after {align-self: flex-end;width: 50%;}#sk-container-id-3 div.sk-parallel-item:last-child::after {align-self: flex-start;width: 50%;}#sk-container-id-3 div.sk-parallel-item:only-child::after {width: 0;}#sk-container-id-3 div.sk-dashed-wrapped {border: 1px dashed gray;margin: 0 0.4em 0.5em 0.4em;box-sizing: border-box;padding-bottom: 0.4em;background-color: white;}#sk-container-id-3 div.sk-label label {font-family: monospace;font-weight: bold;display: inline-block;line-height: 1.2em;}#sk-container-id-3 div.sk-label-container {text-align: center;}#sk-container-id-3 div.sk-container {/* jupyter's `normalize.less` sets `[hidden] { display: none; }` but bootstrap.min.css set `[hidden] { display: none !important; }` so we also need the `!important` here to be able to override the default hidden behavior on the sphinx rendered scikit-learn.org. See: https://github.com/scikit-learn/scikit-learn/issues/21755 */display: inline-block !important;position: relative;}#sk-container-id-3 div.sk-text-repr-fallback {display: none;}</style><div id=\"sk-container-id-3\" class=\"sk-top-container\"><div class=\"sk-text-repr-fallback\"><pre>ColumnTransformer(transformers=[(&#x27;num&#x27;,\n",
       "                                 Pipeline(steps=[(&#x27;imputer&#x27;, SimpleImputer()),\n",
       "                                                 (&#x27;scaler&#x27;, StandardScaler())]),\n",
       "                                 [&#x27;gender&#x27;, &#x27;Partner&#x27;, &#x27;Dependents&#x27;,\n",
       "                                  &#x27;PhoneService&#x27;, &#x27;PaperlessBilling&#x27;,\n",
       "                                  &#x27;Contract&#x27;, &#x27;TotalCharges&#x27;, &#x27;SeniorCitizen&#x27;,\n",
       "                                  &#x27;tenure&#x27;, &#x27;MonthlyCharges&#x27;]),\n",
       "                                (&#x27;cat&#x27;,\n",
       "                                 Pipeline(steps=[(&#x27;imputer&#x27;,\n",
       "                                                  SimpleImputer(fill_value=&#x27;missing&#x27;,\n",
       "                                                                strategy=&#x27;constant&#x27;)),\n",
       "                                                 (&#x27;onehot&#x27;,\n",
       "                                                  OneHotEncoder(handle_unknown=&#x27;ignore&#x27;))]),\n",
       "                                 [&#x27;MultipleLines&#x27;, &#x27;InternetService&#x27;,\n",
       "                                  &#x27;OnlineSecurity&#x27;, &#x27;OnlineBackup&#x27;,\n",
       "                                  &#x27;DeviceProtection&#x27;, &#x27;TechSupport&#x27;,\n",
       "                                  &#x27;StreamingTV&#x27;, &#x27;StreamingMovies&#x27;,\n",
       "                                  &#x27;PaymentMethod&#x27;])])</pre><b>In a Jupyter environment, please rerun this cell to show the HTML representation or trust the notebook. <br />On GitHub, the HTML representation is unable to render, please try loading this page with nbviewer.org.</b></div><div class=\"sk-container\" hidden><div class=\"sk-item sk-dashed-wrapped\"><div class=\"sk-label-container\"><div class=\"sk-label sk-toggleable\"><input class=\"sk-toggleable__control sk-hidden--visually\" id=\"sk-estimator-id-7\" type=\"checkbox\" ><label for=\"sk-estimator-id-7\" class=\"sk-toggleable__label sk-toggleable__label-arrow\">ColumnTransformer</label><div class=\"sk-toggleable__content\"><pre>ColumnTransformer(transformers=[(&#x27;num&#x27;,\n",
       "                                 Pipeline(steps=[(&#x27;imputer&#x27;, SimpleImputer()),\n",
       "                                                 (&#x27;scaler&#x27;, StandardScaler())]),\n",
       "                                 [&#x27;gender&#x27;, &#x27;Partner&#x27;, &#x27;Dependents&#x27;,\n",
       "                                  &#x27;PhoneService&#x27;, &#x27;PaperlessBilling&#x27;,\n",
       "                                  &#x27;Contract&#x27;, &#x27;TotalCharges&#x27;, &#x27;SeniorCitizen&#x27;,\n",
       "                                  &#x27;tenure&#x27;, &#x27;MonthlyCharges&#x27;]),\n",
       "                                (&#x27;cat&#x27;,\n",
       "                                 Pipeline(steps=[(&#x27;imputer&#x27;,\n",
       "                                                  SimpleImputer(fill_value=&#x27;missing&#x27;,\n",
       "                                                                strategy=&#x27;constant&#x27;)),\n",
       "                                                 (&#x27;onehot&#x27;,\n",
       "                                                  OneHotEncoder(handle_unknown=&#x27;ignore&#x27;))]),\n",
       "                                 [&#x27;MultipleLines&#x27;, &#x27;InternetService&#x27;,\n",
       "                                  &#x27;OnlineSecurity&#x27;, &#x27;OnlineBackup&#x27;,\n",
       "                                  &#x27;DeviceProtection&#x27;, &#x27;TechSupport&#x27;,\n",
       "                                  &#x27;StreamingTV&#x27;, &#x27;StreamingMovies&#x27;,\n",
       "                                  &#x27;PaymentMethod&#x27;])])</pre></div></div></div><div class=\"sk-parallel\"><div class=\"sk-parallel-item\"><div class=\"sk-item\"><div class=\"sk-label-container\"><div class=\"sk-label sk-toggleable\"><input class=\"sk-toggleable__control sk-hidden--visually\" id=\"sk-estimator-id-8\" type=\"checkbox\" ><label for=\"sk-estimator-id-8\" class=\"sk-toggleable__label sk-toggleable__label-arrow\">num</label><div class=\"sk-toggleable__content\"><pre>[&#x27;gender&#x27;, &#x27;Partner&#x27;, &#x27;Dependents&#x27;, &#x27;PhoneService&#x27;, &#x27;PaperlessBilling&#x27;, &#x27;Contract&#x27;, &#x27;TotalCharges&#x27;, &#x27;SeniorCitizen&#x27;, &#x27;tenure&#x27;, &#x27;MonthlyCharges&#x27;]</pre></div></div></div><div class=\"sk-serial\"><div class=\"sk-item\"><div class=\"sk-serial\"><div class=\"sk-item\"><div class=\"sk-estimator sk-toggleable\"><input class=\"sk-toggleable__control sk-hidden--visually\" id=\"sk-estimator-id-9\" type=\"checkbox\" ><label for=\"sk-estimator-id-9\" class=\"sk-toggleable__label sk-toggleable__label-arrow\">SimpleImputer</label><div class=\"sk-toggleable__content\"><pre>SimpleImputer()</pre></div></div></div><div class=\"sk-item\"><div class=\"sk-estimator sk-toggleable\"><input class=\"sk-toggleable__control sk-hidden--visually\" id=\"sk-estimator-id-10\" type=\"checkbox\" ><label for=\"sk-estimator-id-10\" class=\"sk-toggleable__label sk-toggleable__label-arrow\">StandardScaler</label><div class=\"sk-toggleable__content\"><pre>StandardScaler()</pre></div></div></div></div></div></div></div></div><div class=\"sk-parallel-item\"><div class=\"sk-item\"><div class=\"sk-label-container\"><div class=\"sk-label sk-toggleable\"><input class=\"sk-toggleable__control sk-hidden--visually\" id=\"sk-estimator-id-11\" type=\"checkbox\" ><label for=\"sk-estimator-id-11\" class=\"sk-toggleable__label sk-toggleable__label-arrow\">cat</label><div class=\"sk-toggleable__content\"><pre>[&#x27;MultipleLines&#x27;, &#x27;InternetService&#x27;, &#x27;OnlineSecurity&#x27;, &#x27;OnlineBackup&#x27;, &#x27;DeviceProtection&#x27;, &#x27;TechSupport&#x27;, &#x27;StreamingTV&#x27;, &#x27;StreamingMovies&#x27;, &#x27;PaymentMethod&#x27;]</pre></div></div></div><div class=\"sk-serial\"><div class=\"sk-item\"><div class=\"sk-serial\"><div class=\"sk-item\"><div class=\"sk-estimator sk-toggleable\"><input class=\"sk-toggleable__control sk-hidden--visually\" id=\"sk-estimator-id-12\" type=\"checkbox\" ><label for=\"sk-estimator-id-12\" class=\"sk-toggleable__label sk-toggleable__label-arrow\">SimpleImputer</label><div class=\"sk-toggleable__content\"><pre>SimpleImputer(fill_value=&#x27;missing&#x27;, strategy=&#x27;constant&#x27;)</pre></div></div></div><div class=\"sk-item\"><div class=\"sk-estimator sk-toggleable\"><input class=\"sk-toggleable__control sk-hidden--visually\" id=\"sk-estimator-id-13\" type=\"checkbox\" ><label for=\"sk-estimator-id-13\" class=\"sk-toggleable__label sk-toggleable__label-arrow\">OneHotEncoder</label><div class=\"sk-toggleable__content\"><pre>OneHotEncoder(handle_unknown=&#x27;ignore&#x27;)</pre></div></div></div></div></div></div></div></div></div></div></div></div>"
      ],
      "text/plain": [
       "ColumnTransformer(transformers=[('num',\n",
       "                                 Pipeline(steps=[('imputer', SimpleImputer()),\n",
       "                                                 ('scaler', StandardScaler())]),\n",
       "                                 ['gender', 'Partner', 'Dependents',\n",
       "                                  'PhoneService', 'PaperlessBilling',\n",
       "                                  'Contract', 'TotalCharges', 'SeniorCitizen',\n",
       "                                  'tenure', 'MonthlyCharges']),\n",
       "                                ('cat',\n",
       "                                 Pipeline(steps=[('imputer',\n",
       "                                                  SimpleImputer(fill_value='missing',\n",
       "                                                                strategy='constant')),\n",
       "                                                 ('onehot',\n",
       "                                                  OneHotEncoder(handle_unknown='ignore'))]),\n",
       "                                 ['MultipleLines', 'InternetService',\n",
       "                                  'OnlineSecurity', 'OnlineBackup',\n",
       "                                  'DeviceProtection', 'TechSupport',\n",
       "                                  'StreamingTV', 'StreamingMovies',\n",
       "                                  'PaymentMethod'])])"
      ]
     },
     "execution_count": 43,
     "metadata": {},
     "output_type": "execute_result"
    }
   ],
   "source": [
    "from sklearn.compose import ColumnTransformer\n",
    "\n",
    "churn_trans = ColumnTransformer(\n",
    "    transformers=[\n",
    "        ('num', num_transformer, num_features),\n",
    "        ('cat', cat_transformer, cat_features)\n",
    "        ]\n",
    "    )\n",
    "\n",
    "churn_trans"
   ]
  },
  {
   "cell_type": "markdown",
   "metadata": {},
   "source": [
    "<div><font size=3 color=#00586D> <i class=\"fa fa-check-square-o\" aria-hidden=\"true\"></i></font></div>\n",
    "\n",
    "<!--comment -->"
   ]
  },
  {
   "cell_type": "markdown",
   "metadata": {},
   "source": [
    "\n",
    "\n",
    "### <font color=\"#00586D\"> Creación de un Pipeline con un modelo de regresión logística</font>\n",
    "<br>\n",
    "\n",
    "Una vez defenidas las operaciones de transformación, se creará un _pipeline_ que será utilizado para aprender un modelo de regresión logística.\n",
    "\n",
    "#### <font color=\"#00586D\"> <i class=\"fa fa-pencil-square-o\" aria-hidden=\"true\" ></i> Ejercicio 12</font>\n",
    "\n",
    "Crear un objeto `Pipeline` que encadene la transformación definida en el objeto `churn_trans` anterior, y un modelo de regresión logística. Este modelo (_Pipeline_) se denominará `churn_pipe_logr`, y los pasos de transformación y clasificación, `prep` y `clas` respectivamente."
   ]
  },
  {
   "cell_type": "markdown",
   "metadata": {},
   "source": [
    "<div class=\"alert alert-block alert-warning\">\n",
    "    \n",
    "<i class=\"fa fa-exclamation-circle\" aria-hidden=\"true\"></i> \n",
    "Crear un objeto `LogisticRegression` con `max_iter=200`.\n",
    "</div> "
   ]
  },
  {
   "cell_type": "code",
   "execution_count": 44,
   "metadata": {},
   "outputs": [
    {
     "data": {
      "text/html": [
       "<style>#sk-container-id-4 {color: black;background-color: white;}#sk-container-id-4 pre{padding: 0;}#sk-container-id-4 div.sk-toggleable {background-color: white;}#sk-container-id-4 label.sk-toggleable__label {cursor: pointer;display: block;width: 100%;margin-bottom: 0;padding: 0.3em;box-sizing: border-box;text-align: center;}#sk-container-id-4 label.sk-toggleable__label-arrow:before {content: \"▸\";float: left;margin-right: 0.25em;color: #696969;}#sk-container-id-4 label.sk-toggleable__label-arrow:hover:before {color: black;}#sk-container-id-4 div.sk-estimator:hover label.sk-toggleable__label-arrow:before {color: black;}#sk-container-id-4 div.sk-toggleable__content {max-height: 0;max-width: 0;overflow: hidden;text-align: left;background-color: #f0f8ff;}#sk-container-id-4 div.sk-toggleable__content pre {margin: 0.2em;color: black;border-radius: 0.25em;background-color: #f0f8ff;}#sk-container-id-4 input.sk-toggleable__control:checked~div.sk-toggleable__content {max-height: 200px;max-width: 100%;overflow: auto;}#sk-container-id-4 input.sk-toggleable__control:checked~label.sk-toggleable__label-arrow:before {content: \"▾\";}#sk-container-id-4 div.sk-estimator input.sk-toggleable__control:checked~label.sk-toggleable__label {background-color: #d4ebff;}#sk-container-id-4 div.sk-label input.sk-toggleable__control:checked~label.sk-toggleable__label {background-color: #d4ebff;}#sk-container-id-4 input.sk-hidden--visually {border: 0;clip: rect(1px 1px 1px 1px);clip: rect(1px, 1px, 1px, 1px);height: 1px;margin: -1px;overflow: hidden;padding: 0;position: absolute;width: 1px;}#sk-container-id-4 div.sk-estimator {font-family: monospace;background-color: #f0f8ff;border: 1px dotted black;border-radius: 0.25em;box-sizing: border-box;margin-bottom: 0.5em;}#sk-container-id-4 div.sk-estimator:hover {background-color: #d4ebff;}#sk-container-id-4 div.sk-parallel-item::after {content: \"\";width: 100%;border-bottom: 1px solid gray;flex-grow: 1;}#sk-container-id-4 div.sk-label:hover label.sk-toggleable__label {background-color: #d4ebff;}#sk-container-id-4 div.sk-serial::before {content: \"\";position: absolute;border-left: 1px solid gray;box-sizing: border-box;top: 0;bottom: 0;left: 50%;z-index: 0;}#sk-container-id-4 div.sk-serial {display: flex;flex-direction: column;align-items: center;background-color: white;padding-right: 0.2em;padding-left: 0.2em;position: relative;}#sk-container-id-4 div.sk-item {position: relative;z-index: 1;}#sk-container-id-4 div.sk-parallel {display: flex;align-items: stretch;justify-content: center;background-color: white;position: relative;}#sk-container-id-4 div.sk-item::before, #sk-container-id-4 div.sk-parallel-item::before {content: \"\";position: absolute;border-left: 1px solid gray;box-sizing: border-box;top: 0;bottom: 0;left: 50%;z-index: -1;}#sk-container-id-4 div.sk-parallel-item {display: flex;flex-direction: column;z-index: 1;position: relative;background-color: white;}#sk-container-id-4 div.sk-parallel-item:first-child::after {align-self: flex-end;width: 50%;}#sk-container-id-4 div.sk-parallel-item:last-child::after {align-self: flex-start;width: 50%;}#sk-container-id-4 div.sk-parallel-item:only-child::after {width: 0;}#sk-container-id-4 div.sk-dashed-wrapped {border: 1px dashed gray;margin: 0 0.4em 0.5em 0.4em;box-sizing: border-box;padding-bottom: 0.4em;background-color: white;}#sk-container-id-4 div.sk-label label {font-family: monospace;font-weight: bold;display: inline-block;line-height: 1.2em;}#sk-container-id-4 div.sk-label-container {text-align: center;}#sk-container-id-4 div.sk-container {/* jupyter's `normalize.less` sets `[hidden] { display: none; }` but bootstrap.min.css set `[hidden] { display: none !important; }` so we also need the `!important` here to be able to override the default hidden behavior on the sphinx rendered scikit-learn.org. See: https://github.com/scikit-learn/scikit-learn/issues/21755 */display: inline-block !important;position: relative;}#sk-container-id-4 div.sk-text-repr-fallback {display: none;}</style><div id=\"sk-container-id-4\" class=\"sk-top-container\"><div class=\"sk-text-repr-fallback\"><pre>Pipeline(steps=[(&#x27;prep&#x27;,\n",
       "                 ColumnTransformer(transformers=[(&#x27;num&#x27;,\n",
       "                                                  Pipeline(steps=[(&#x27;imputer&#x27;,\n",
       "                                                                   SimpleImputer()),\n",
       "                                                                  (&#x27;scaler&#x27;,\n",
       "                                                                   StandardScaler())]),\n",
       "                                                  [&#x27;gender&#x27;, &#x27;Partner&#x27;,\n",
       "                                                   &#x27;Dependents&#x27;, &#x27;PhoneService&#x27;,\n",
       "                                                   &#x27;PaperlessBilling&#x27;,\n",
       "                                                   &#x27;Contract&#x27;, &#x27;TotalCharges&#x27;,\n",
       "                                                   &#x27;SeniorCitizen&#x27;, &#x27;tenure&#x27;,\n",
       "                                                   &#x27;MonthlyCharges&#x27;]),\n",
       "                                                 (&#x27;cat&#x27;,\n",
       "                                                  Pipeline(steps=[(&#x27;imputer&#x27;,\n",
       "                                                                   SimpleImputer(fill_value=&#x27;missing&#x27;,\n",
       "                                                                                 strategy=&#x27;constant&#x27;)),\n",
       "                                                                  (&#x27;onehot&#x27;,\n",
       "                                                                   OneHotEncoder(handle_unknown=&#x27;ignore&#x27;))]),\n",
       "                                                  [&#x27;MultipleLines&#x27;,\n",
       "                                                   &#x27;InternetService&#x27;,\n",
       "                                                   &#x27;OnlineSecurity&#x27;,\n",
       "                                                   &#x27;OnlineBackup&#x27;,\n",
       "                                                   &#x27;DeviceProtection&#x27;,\n",
       "                                                   &#x27;TechSupport&#x27;, &#x27;StreamingTV&#x27;,\n",
       "                                                   &#x27;StreamingMovies&#x27;,\n",
       "                                                   &#x27;PaymentMethod&#x27;])])),\n",
       "                (&#x27;clas&#x27;, LogisticRegression(max_iter=200))])</pre><b>In a Jupyter environment, please rerun this cell to show the HTML representation or trust the notebook. <br />On GitHub, the HTML representation is unable to render, please try loading this page with nbviewer.org.</b></div><div class=\"sk-container\" hidden><div class=\"sk-item sk-dashed-wrapped\"><div class=\"sk-label-container\"><div class=\"sk-label sk-toggleable\"><input class=\"sk-toggleable__control sk-hidden--visually\" id=\"sk-estimator-id-14\" type=\"checkbox\" ><label for=\"sk-estimator-id-14\" class=\"sk-toggleable__label sk-toggleable__label-arrow\">Pipeline</label><div class=\"sk-toggleable__content\"><pre>Pipeline(steps=[(&#x27;prep&#x27;,\n",
       "                 ColumnTransformer(transformers=[(&#x27;num&#x27;,\n",
       "                                                  Pipeline(steps=[(&#x27;imputer&#x27;,\n",
       "                                                                   SimpleImputer()),\n",
       "                                                                  (&#x27;scaler&#x27;,\n",
       "                                                                   StandardScaler())]),\n",
       "                                                  [&#x27;gender&#x27;, &#x27;Partner&#x27;,\n",
       "                                                   &#x27;Dependents&#x27;, &#x27;PhoneService&#x27;,\n",
       "                                                   &#x27;PaperlessBilling&#x27;,\n",
       "                                                   &#x27;Contract&#x27;, &#x27;TotalCharges&#x27;,\n",
       "                                                   &#x27;SeniorCitizen&#x27;, &#x27;tenure&#x27;,\n",
       "                                                   &#x27;MonthlyCharges&#x27;]),\n",
       "                                                 (&#x27;cat&#x27;,\n",
       "                                                  Pipeline(steps=[(&#x27;imputer&#x27;,\n",
       "                                                                   SimpleImputer(fill_value=&#x27;missing&#x27;,\n",
       "                                                                                 strategy=&#x27;constant&#x27;)),\n",
       "                                                                  (&#x27;onehot&#x27;,\n",
       "                                                                   OneHotEncoder(handle_unknown=&#x27;ignore&#x27;))]),\n",
       "                                                  [&#x27;MultipleLines&#x27;,\n",
       "                                                   &#x27;InternetService&#x27;,\n",
       "                                                   &#x27;OnlineSecurity&#x27;,\n",
       "                                                   &#x27;OnlineBackup&#x27;,\n",
       "                                                   &#x27;DeviceProtection&#x27;,\n",
       "                                                   &#x27;TechSupport&#x27;, &#x27;StreamingTV&#x27;,\n",
       "                                                   &#x27;StreamingMovies&#x27;,\n",
       "                                                   &#x27;PaymentMethod&#x27;])])),\n",
       "                (&#x27;clas&#x27;, LogisticRegression(max_iter=200))])</pre></div></div></div><div class=\"sk-serial\"><div class=\"sk-item sk-dashed-wrapped\"><div class=\"sk-label-container\"><div class=\"sk-label sk-toggleable\"><input class=\"sk-toggleable__control sk-hidden--visually\" id=\"sk-estimator-id-15\" type=\"checkbox\" ><label for=\"sk-estimator-id-15\" class=\"sk-toggleable__label sk-toggleable__label-arrow\">prep: ColumnTransformer</label><div class=\"sk-toggleable__content\"><pre>ColumnTransformer(transformers=[(&#x27;num&#x27;,\n",
       "                                 Pipeline(steps=[(&#x27;imputer&#x27;, SimpleImputer()),\n",
       "                                                 (&#x27;scaler&#x27;, StandardScaler())]),\n",
       "                                 [&#x27;gender&#x27;, &#x27;Partner&#x27;, &#x27;Dependents&#x27;,\n",
       "                                  &#x27;PhoneService&#x27;, &#x27;PaperlessBilling&#x27;,\n",
       "                                  &#x27;Contract&#x27;, &#x27;TotalCharges&#x27;, &#x27;SeniorCitizen&#x27;,\n",
       "                                  &#x27;tenure&#x27;, &#x27;MonthlyCharges&#x27;]),\n",
       "                                (&#x27;cat&#x27;,\n",
       "                                 Pipeline(steps=[(&#x27;imputer&#x27;,\n",
       "                                                  SimpleImputer(fill_value=&#x27;missing&#x27;,\n",
       "                                                                strategy=&#x27;constant&#x27;)),\n",
       "                                                 (&#x27;onehot&#x27;,\n",
       "                                                  OneHotEncoder(handle_unknown=&#x27;ignore&#x27;))]),\n",
       "                                 [&#x27;MultipleLines&#x27;, &#x27;InternetService&#x27;,\n",
       "                                  &#x27;OnlineSecurity&#x27;, &#x27;OnlineBackup&#x27;,\n",
       "                                  &#x27;DeviceProtection&#x27;, &#x27;TechSupport&#x27;,\n",
       "                                  &#x27;StreamingTV&#x27;, &#x27;StreamingMovies&#x27;,\n",
       "                                  &#x27;PaymentMethod&#x27;])])</pre></div></div></div><div class=\"sk-parallel\"><div class=\"sk-parallel-item\"><div class=\"sk-item\"><div class=\"sk-label-container\"><div class=\"sk-label sk-toggleable\"><input class=\"sk-toggleable__control sk-hidden--visually\" id=\"sk-estimator-id-16\" type=\"checkbox\" ><label for=\"sk-estimator-id-16\" class=\"sk-toggleable__label sk-toggleable__label-arrow\">num</label><div class=\"sk-toggleable__content\"><pre>[&#x27;gender&#x27;, &#x27;Partner&#x27;, &#x27;Dependents&#x27;, &#x27;PhoneService&#x27;, &#x27;PaperlessBilling&#x27;, &#x27;Contract&#x27;, &#x27;TotalCharges&#x27;, &#x27;SeniorCitizen&#x27;, &#x27;tenure&#x27;, &#x27;MonthlyCharges&#x27;]</pre></div></div></div><div class=\"sk-serial\"><div class=\"sk-item\"><div class=\"sk-serial\"><div class=\"sk-item\"><div class=\"sk-estimator sk-toggleable\"><input class=\"sk-toggleable__control sk-hidden--visually\" id=\"sk-estimator-id-17\" type=\"checkbox\" ><label for=\"sk-estimator-id-17\" class=\"sk-toggleable__label sk-toggleable__label-arrow\">SimpleImputer</label><div class=\"sk-toggleable__content\"><pre>SimpleImputer()</pre></div></div></div><div class=\"sk-item\"><div class=\"sk-estimator sk-toggleable\"><input class=\"sk-toggleable__control sk-hidden--visually\" id=\"sk-estimator-id-18\" type=\"checkbox\" ><label for=\"sk-estimator-id-18\" class=\"sk-toggleable__label sk-toggleable__label-arrow\">StandardScaler</label><div class=\"sk-toggleable__content\"><pre>StandardScaler()</pre></div></div></div></div></div></div></div></div><div class=\"sk-parallel-item\"><div class=\"sk-item\"><div class=\"sk-label-container\"><div class=\"sk-label sk-toggleable\"><input class=\"sk-toggleable__control sk-hidden--visually\" id=\"sk-estimator-id-19\" type=\"checkbox\" ><label for=\"sk-estimator-id-19\" class=\"sk-toggleable__label sk-toggleable__label-arrow\">cat</label><div class=\"sk-toggleable__content\"><pre>[&#x27;MultipleLines&#x27;, &#x27;InternetService&#x27;, &#x27;OnlineSecurity&#x27;, &#x27;OnlineBackup&#x27;, &#x27;DeviceProtection&#x27;, &#x27;TechSupport&#x27;, &#x27;StreamingTV&#x27;, &#x27;StreamingMovies&#x27;, &#x27;PaymentMethod&#x27;]</pre></div></div></div><div class=\"sk-serial\"><div class=\"sk-item\"><div class=\"sk-serial\"><div class=\"sk-item\"><div class=\"sk-estimator sk-toggleable\"><input class=\"sk-toggleable__control sk-hidden--visually\" id=\"sk-estimator-id-20\" type=\"checkbox\" ><label for=\"sk-estimator-id-20\" class=\"sk-toggleable__label sk-toggleable__label-arrow\">SimpleImputer</label><div class=\"sk-toggleable__content\"><pre>SimpleImputer(fill_value=&#x27;missing&#x27;, strategy=&#x27;constant&#x27;)</pre></div></div></div><div class=\"sk-item\"><div class=\"sk-estimator sk-toggleable\"><input class=\"sk-toggleable__control sk-hidden--visually\" id=\"sk-estimator-id-21\" type=\"checkbox\" ><label for=\"sk-estimator-id-21\" class=\"sk-toggleable__label sk-toggleable__label-arrow\">OneHotEncoder</label><div class=\"sk-toggleable__content\"><pre>OneHotEncoder(handle_unknown=&#x27;ignore&#x27;)</pre></div></div></div></div></div></div></div></div></div></div><div class=\"sk-item\"><div class=\"sk-estimator sk-toggleable\"><input class=\"sk-toggleable__control sk-hidden--visually\" id=\"sk-estimator-id-22\" type=\"checkbox\" ><label for=\"sk-estimator-id-22\" class=\"sk-toggleable__label sk-toggleable__label-arrow\">LogisticRegression</label><div class=\"sk-toggleable__content\"><pre>LogisticRegression(max_iter=200)</pre></div></div></div></div></div></div></div>"
      ],
      "text/plain": [
       "Pipeline(steps=[('prep',\n",
       "                 ColumnTransformer(transformers=[('num',\n",
       "                                                  Pipeline(steps=[('imputer',\n",
       "                                                                   SimpleImputer()),\n",
       "                                                                  ('scaler',\n",
       "                                                                   StandardScaler())]),\n",
       "                                                  ['gender', 'Partner',\n",
       "                                                   'Dependents', 'PhoneService',\n",
       "                                                   'PaperlessBilling',\n",
       "                                                   'Contract', 'TotalCharges',\n",
       "                                                   'SeniorCitizen', 'tenure',\n",
       "                                                   'MonthlyCharges']),\n",
       "                                                 ('cat',\n",
       "                                                  Pipeline(steps=[('imputer',\n",
       "                                                                   SimpleImputer(fill_value='missing',\n",
       "                                                                                 strategy='constant')),\n",
       "                                                                  ('onehot',\n",
       "                                                                   OneHotEncoder(handle_unknown='ignore'))]),\n",
       "                                                  ['MultipleLines',\n",
       "                                                   'InternetService',\n",
       "                                                   'OnlineSecurity',\n",
       "                                                   'OnlineBackup',\n",
       "                                                   'DeviceProtection',\n",
       "                                                   'TechSupport', 'StreamingTV',\n",
       "                                                   'StreamingMovies',\n",
       "                                                   'PaymentMethod'])])),\n",
       "                ('clas', LogisticRegression(max_iter=200))])"
      ]
     },
     "execution_count": 44,
     "metadata": {},
     "output_type": "execute_result"
    }
   ],
   "source": [
    "from sklearn.linear_model import LogisticRegression\n",
    "from sklearn.model_selection import GridSearchCV\n",
    "\n",
    "logr_model = LogisticRegression(max_iter=200);\n",
    "\n",
    "churn_pipe_logr = Pipeline(steps=[\n",
    "    ('prep', churn_trans), \n",
    "    ('clas', LogisticRegression(max_iter=200))\n",
    "])\n",
    "\n",
    "churn_pipe_logr"
   ]
  },
  {
   "cell_type": "markdown",
   "metadata": {},
   "source": [
    "<div><font size=3 color=#00586D> <i class=\"fa fa-check-square-o\" aria-hidden=\"true\"></i></font></div>\n",
    "\n",
    "<!--comment -->"
   ]
  },
  {
   "cell_type": "markdown",
   "metadata": {},
   "source": [
    "De cara a aprender el modelo predictivo (_Pipeline_ `churn_pipe_logr`), se han de ajustar varios parámetros. En concreto: \n",
    "* El valor utilizado para imputar valores perdidos numéricos `strategy`, que podrá ser `mean` o `median`.\n",
    "* La constante de regularización para regresión logística, `C`, que puede ser `[10e-3, 10e-2, 10e-1, 1, 10, 100, 1000]`.\n",
    "* El parámetro `class_weight` en regresión logística, que puede ser `[None, 'balanced']`, y determina si el peso de cada ejemplo en la función del coste es el mismo o no.\n",
    "\n",
    "#### <font color=\"#00586D\"> <i class=\"fa fa-pencil-square-o\" aria-hidden=\"true\" ></i> Ejercicio 13</font>\n",
    "\n",
    "Entrenar un objeto `GridSearchCV` para determinar cual es la mejor configuración; almacenar el resultado en la variable `GS`. Utilizar validación cruzada de 5 folds, y la función `scoring` adecuada. Almacenar el mejor modelo encontrado en la variable `churn_pipe_logr` (la definida anteriormente).\n",
    "\n",
    "<div class=\"alert alert-block alert-info\">\n",
    "    \n",
    "<i class=\"fa fa-info-circle\" aria-hidden=\"true\"></i> El parámetro `refit=True` (valor por defecto) hace que, una vez determinada la mejor configuración de parámetros, se entrene el modelo con todos los datos.\n",
    "</div>"
   ]
  },
  {
   "cell_type": "code",
   "execution_count": 45,
   "metadata": {},
   "outputs": [
    {
     "name": "stdout",
     "output_type": "stream",
     "text": [
      "Mejor score:  0.8111078660436137\n",
      "Mejor configuración de parámetros:  {'clas__C': 100, 'clas__class_weight': 'balanced', 'prep__num__imputer__strategy': 'median'}\n"
     ]
    }
   ],
   "source": [
    "parameters = {}\n",
    "parameters['prep__num__imputer__strategy'] = ['mean', 'median']\n",
    "parameters['clas__C'] = [10e-3, 10e-2, 10e-1, 1, 10, 100, 1000]\n",
    "parameters['clas__class_weight'] = [None, 'balanced']\n",
    "\n",
    "GS = GridSearchCV(churn_pipe_logr, \n",
    "                  param_grid=parameters, \n",
    "                  scoring=\"recall\",\n",
    "                  cv=5,\n",
    "                  refit=True)\n",
    "GS.fit(X, y)\n",
    "        \n",
    "print(\"Mejor score: \", GS.best_score_)\n",
    "print(\"Mejor configuración de parámetros: \", GS.best_params_)\n",
    "\n",
    "churn_pipe_logr = GS.best_estimator_"
   ]
  },
  {
   "cell_type": "markdown",
   "metadata": {},
   "source": [
    "<div><font size=3 color=#00586D> <i class=\"fa fa-check-square-o\" aria-hidden=\"true\"></i></font></div>\n",
    "\n",
    "<!--comment -->"
   ]
  },
  {
   "cell_type": "markdown",
   "metadata": {},
   "source": [
    "Es posible visualizar el `Pipeline` resultante."
   ]
  },
  {
   "cell_type": "code",
   "execution_count": 46,
   "metadata": {},
   "outputs": [
    {
     "data": {
      "text/html": [
       "<style>#sk-container-id-5 {color: black;background-color: white;}#sk-container-id-5 pre{padding: 0;}#sk-container-id-5 div.sk-toggleable {background-color: white;}#sk-container-id-5 label.sk-toggleable__label {cursor: pointer;display: block;width: 100%;margin-bottom: 0;padding: 0.3em;box-sizing: border-box;text-align: center;}#sk-container-id-5 label.sk-toggleable__label-arrow:before {content: \"▸\";float: left;margin-right: 0.25em;color: #696969;}#sk-container-id-5 label.sk-toggleable__label-arrow:hover:before {color: black;}#sk-container-id-5 div.sk-estimator:hover label.sk-toggleable__label-arrow:before {color: black;}#sk-container-id-5 div.sk-toggleable__content {max-height: 0;max-width: 0;overflow: hidden;text-align: left;background-color: #f0f8ff;}#sk-container-id-5 div.sk-toggleable__content pre {margin: 0.2em;color: black;border-radius: 0.25em;background-color: #f0f8ff;}#sk-container-id-5 input.sk-toggleable__control:checked~div.sk-toggleable__content {max-height: 200px;max-width: 100%;overflow: auto;}#sk-container-id-5 input.sk-toggleable__control:checked~label.sk-toggleable__label-arrow:before {content: \"▾\";}#sk-container-id-5 div.sk-estimator input.sk-toggleable__control:checked~label.sk-toggleable__label {background-color: #d4ebff;}#sk-container-id-5 div.sk-label input.sk-toggleable__control:checked~label.sk-toggleable__label {background-color: #d4ebff;}#sk-container-id-5 input.sk-hidden--visually {border: 0;clip: rect(1px 1px 1px 1px);clip: rect(1px, 1px, 1px, 1px);height: 1px;margin: -1px;overflow: hidden;padding: 0;position: absolute;width: 1px;}#sk-container-id-5 div.sk-estimator {font-family: monospace;background-color: #f0f8ff;border: 1px dotted black;border-radius: 0.25em;box-sizing: border-box;margin-bottom: 0.5em;}#sk-container-id-5 div.sk-estimator:hover {background-color: #d4ebff;}#sk-container-id-5 div.sk-parallel-item::after {content: \"\";width: 100%;border-bottom: 1px solid gray;flex-grow: 1;}#sk-container-id-5 div.sk-label:hover label.sk-toggleable__label {background-color: #d4ebff;}#sk-container-id-5 div.sk-serial::before {content: \"\";position: absolute;border-left: 1px solid gray;box-sizing: border-box;top: 0;bottom: 0;left: 50%;z-index: 0;}#sk-container-id-5 div.sk-serial {display: flex;flex-direction: column;align-items: center;background-color: white;padding-right: 0.2em;padding-left: 0.2em;position: relative;}#sk-container-id-5 div.sk-item {position: relative;z-index: 1;}#sk-container-id-5 div.sk-parallel {display: flex;align-items: stretch;justify-content: center;background-color: white;position: relative;}#sk-container-id-5 div.sk-item::before, #sk-container-id-5 div.sk-parallel-item::before {content: \"\";position: absolute;border-left: 1px solid gray;box-sizing: border-box;top: 0;bottom: 0;left: 50%;z-index: -1;}#sk-container-id-5 div.sk-parallel-item {display: flex;flex-direction: column;z-index: 1;position: relative;background-color: white;}#sk-container-id-5 div.sk-parallel-item:first-child::after {align-self: flex-end;width: 50%;}#sk-container-id-5 div.sk-parallel-item:last-child::after {align-self: flex-start;width: 50%;}#sk-container-id-5 div.sk-parallel-item:only-child::after {width: 0;}#sk-container-id-5 div.sk-dashed-wrapped {border: 1px dashed gray;margin: 0 0.4em 0.5em 0.4em;box-sizing: border-box;padding-bottom: 0.4em;background-color: white;}#sk-container-id-5 div.sk-label label {font-family: monospace;font-weight: bold;display: inline-block;line-height: 1.2em;}#sk-container-id-5 div.sk-label-container {text-align: center;}#sk-container-id-5 div.sk-container {/* jupyter's `normalize.less` sets `[hidden] { display: none; }` but bootstrap.min.css set `[hidden] { display: none !important; }` so we also need the `!important` here to be able to override the default hidden behavior on the sphinx rendered scikit-learn.org. See: https://github.com/scikit-learn/scikit-learn/issues/21755 */display: inline-block !important;position: relative;}#sk-container-id-5 div.sk-text-repr-fallback {display: none;}</style><div id=\"sk-container-id-5\" class=\"sk-top-container\"><div class=\"sk-text-repr-fallback\"><pre>Pipeline(steps=[(&#x27;prep&#x27;,\n",
       "                 ColumnTransformer(transformers=[(&#x27;num&#x27;,\n",
       "                                                  Pipeline(steps=[(&#x27;imputer&#x27;,\n",
       "                                                                   SimpleImputer(strategy=&#x27;median&#x27;)),\n",
       "                                                                  (&#x27;scaler&#x27;,\n",
       "                                                                   StandardScaler())]),\n",
       "                                                  [&#x27;gender&#x27;, &#x27;Partner&#x27;,\n",
       "                                                   &#x27;Dependents&#x27;, &#x27;PhoneService&#x27;,\n",
       "                                                   &#x27;PaperlessBilling&#x27;,\n",
       "                                                   &#x27;Contract&#x27;, &#x27;TotalCharges&#x27;,\n",
       "                                                   &#x27;SeniorCitizen&#x27;, &#x27;tenure&#x27;,\n",
       "                                                   &#x27;MonthlyCharges&#x27;]),\n",
       "                                                 (&#x27;cat&#x27;,\n",
       "                                                  Pipeline(steps=[(&#x27;imputer&#x27;,\n",
       "                                                                   SimpleImputer(fill_value=&#x27;missing&#x27;,\n",
       "                                                                                 strategy=&#x27;constant&#x27;)),\n",
       "                                                                  (&#x27;onehot&#x27;,\n",
       "                                                                   OneHotEncoder(handle_unknown=&#x27;ignore&#x27;))]),\n",
       "                                                  [&#x27;MultipleLines&#x27;,\n",
       "                                                   &#x27;InternetService&#x27;,\n",
       "                                                   &#x27;OnlineSecurity&#x27;,\n",
       "                                                   &#x27;OnlineBackup&#x27;,\n",
       "                                                   &#x27;DeviceProtection&#x27;,\n",
       "                                                   &#x27;TechSupport&#x27;, &#x27;StreamingTV&#x27;,\n",
       "                                                   &#x27;StreamingMovies&#x27;,\n",
       "                                                   &#x27;PaymentMethod&#x27;])])),\n",
       "                (&#x27;clas&#x27;,\n",
       "                 LogisticRegression(C=100, class_weight=&#x27;balanced&#x27;,\n",
       "                                    max_iter=200))])</pre><b>In a Jupyter environment, please rerun this cell to show the HTML representation or trust the notebook. <br />On GitHub, the HTML representation is unable to render, please try loading this page with nbviewer.org.</b></div><div class=\"sk-container\" hidden><div class=\"sk-item sk-dashed-wrapped\"><div class=\"sk-label-container\"><div class=\"sk-label sk-toggleable\"><input class=\"sk-toggleable__control sk-hidden--visually\" id=\"sk-estimator-id-23\" type=\"checkbox\" ><label for=\"sk-estimator-id-23\" class=\"sk-toggleable__label sk-toggleable__label-arrow\">Pipeline</label><div class=\"sk-toggleable__content\"><pre>Pipeline(steps=[(&#x27;prep&#x27;,\n",
       "                 ColumnTransformer(transformers=[(&#x27;num&#x27;,\n",
       "                                                  Pipeline(steps=[(&#x27;imputer&#x27;,\n",
       "                                                                   SimpleImputer(strategy=&#x27;median&#x27;)),\n",
       "                                                                  (&#x27;scaler&#x27;,\n",
       "                                                                   StandardScaler())]),\n",
       "                                                  [&#x27;gender&#x27;, &#x27;Partner&#x27;,\n",
       "                                                   &#x27;Dependents&#x27;, &#x27;PhoneService&#x27;,\n",
       "                                                   &#x27;PaperlessBilling&#x27;,\n",
       "                                                   &#x27;Contract&#x27;, &#x27;TotalCharges&#x27;,\n",
       "                                                   &#x27;SeniorCitizen&#x27;, &#x27;tenure&#x27;,\n",
       "                                                   &#x27;MonthlyCharges&#x27;]),\n",
       "                                                 (&#x27;cat&#x27;,\n",
       "                                                  Pipeline(steps=[(&#x27;imputer&#x27;,\n",
       "                                                                   SimpleImputer(fill_value=&#x27;missing&#x27;,\n",
       "                                                                                 strategy=&#x27;constant&#x27;)),\n",
       "                                                                  (&#x27;onehot&#x27;,\n",
       "                                                                   OneHotEncoder(handle_unknown=&#x27;ignore&#x27;))]),\n",
       "                                                  [&#x27;MultipleLines&#x27;,\n",
       "                                                   &#x27;InternetService&#x27;,\n",
       "                                                   &#x27;OnlineSecurity&#x27;,\n",
       "                                                   &#x27;OnlineBackup&#x27;,\n",
       "                                                   &#x27;DeviceProtection&#x27;,\n",
       "                                                   &#x27;TechSupport&#x27;, &#x27;StreamingTV&#x27;,\n",
       "                                                   &#x27;StreamingMovies&#x27;,\n",
       "                                                   &#x27;PaymentMethod&#x27;])])),\n",
       "                (&#x27;clas&#x27;,\n",
       "                 LogisticRegression(C=100, class_weight=&#x27;balanced&#x27;,\n",
       "                                    max_iter=200))])</pre></div></div></div><div class=\"sk-serial\"><div class=\"sk-item sk-dashed-wrapped\"><div class=\"sk-label-container\"><div class=\"sk-label sk-toggleable\"><input class=\"sk-toggleable__control sk-hidden--visually\" id=\"sk-estimator-id-24\" type=\"checkbox\" ><label for=\"sk-estimator-id-24\" class=\"sk-toggleable__label sk-toggleable__label-arrow\">prep: ColumnTransformer</label><div class=\"sk-toggleable__content\"><pre>ColumnTransformer(transformers=[(&#x27;num&#x27;,\n",
       "                                 Pipeline(steps=[(&#x27;imputer&#x27;,\n",
       "                                                  SimpleImputer(strategy=&#x27;median&#x27;)),\n",
       "                                                 (&#x27;scaler&#x27;, StandardScaler())]),\n",
       "                                 [&#x27;gender&#x27;, &#x27;Partner&#x27;, &#x27;Dependents&#x27;,\n",
       "                                  &#x27;PhoneService&#x27;, &#x27;PaperlessBilling&#x27;,\n",
       "                                  &#x27;Contract&#x27;, &#x27;TotalCharges&#x27;, &#x27;SeniorCitizen&#x27;,\n",
       "                                  &#x27;tenure&#x27;, &#x27;MonthlyCharges&#x27;]),\n",
       "                                (&#x27;cat&#x27;,\n",
       "                                 Pipeline(steps=[(&#x27;imputer&#x27;,\n",
       "                                                  SimpleImputer(fill_value=&#x27;missing&#x27;,\n",
       "                                                                strategy=&#x27;constant&#x27;)),\n",
       "                                                 (&#x27;onehot&#x27;,\n",
       "                                                  OneHotEncoder(handle_unknown=&#x27;ignore&#x27;))]),\n",
       "                                 [&#x27;MultipleLines&#x27;, &#x27;InternetService&#x27;,\n",
       "                                  &#x27;OnlineSecurity&#x27;, &#x27;OnlineBackup&#x27;,\n",
       "                                  &#x27;DeviceProtection&#x27;, &#x27;TechSupport&#x27;,\n",
       "                                  &#x27;StreamingTV&#x27;, &#x27;StreamingMovies&#x27;,\n",
       "                                  &#x27;PaymentMethod&#x27;])])</pre></div></div></div><div class=\"sk-parallel\"><div class=\"sk-parallel-item\"><div class=\"sk-item\"><div class=\"sk-label-container\"><div class=\"sk-label sk-toggleable\"><input class=\"sk-toggleable__control sk-hidden--visually\" id=\"sk-estimator-id-25\" type=\"checkbox\" ><label for=\"sk-estimator-id-25\" class=\"sk-toggleable__label sk-toggleable__label-arrow\">num</label><div class=\"sk-toggleable__content\"><pre>[&#x27;gender&#x27;, &#x27;Partner&#x27;, &#x27;Dependents&#x27;, &#x27;PhoneService&#x27;, &#x27;PaperlessBilling&#x27;, &#x27;Contract&#x27;, &#x27;TotalCharges&#x27;, &#x27;SeniorCitizen&#x27;, &#x27;tenure&#x27;, &#x27;MonthlyCharges&#x27;]</pre></div></div></div><div class=\"sk-serial\"><div class=\"sk-item\"><div class=\"sk-serial\"><div class=\"sk-item\"><div class=\"sk-estimator sk-toggleable\"><input class=\"sk-toggleable__control sk-hidden--visually\" id=\"sk-estimator-id-26\" type=\"checkbox\" ><label for=\"sk-estimator-id-26\" class=\"sk-toggleable__label sk-toggleable__label-arrow\">SimpleImputer</label><div class=\"sk-toggleable__content\"><pre>SimpleImputer(strategy=&#x27;median&#x27;)</pre></div></div></div><div class=\"sk-item\"><div class=\"sk-estimator sk-toggleable\"><input class=\"sk-toggleable__control sk-hidden--visually\" id=\"sk-estimator-id-27\" type=\"checkbox\" ><label for=\"sk-estimator-id-27\" class=\"sk-toggleable__label sk-toggleable__label-arrow\">StandardScaler</label><div class=\"sk-toggleable__content\"><pre>StandardScaler()</pre></div></div></div></div></div></div></div></div><div class=\"sk-parallel-item\"><div class=\"sk-item\"><div class=\"sk-label-container\"><div class=\"sk-label sk-toggleable\"><input class=\"sk-toggleable__control sk-hidden--visually\" id=\"sk-estimator-id-28\" type=\"checkbox\" ><label for=\"sk-estimator-id-28\" class=\"sk-toggleable__label sk-toggleable__label-arrow\">cat</label><div class=\"sk-toggleable__content\"><pre>[&#x27;MultipleLines&#x27;, &#x27;InternetService&#x27;, &#x27;OnlineSecurity&#x27;, &#x27;OnlineBackup&#x27;, &#x27;DeviceProtection&#x27;, &#x27;TechSupport&#x27;, &#x27;StreamingTV&#x27;, &#x27;StreamingMovies&#x27;, &#x27;PaymentMethod&#x27;]</pre></div></div></div><div class=\"sk-serial\"><div class=\"sk-item\"><div class=\"sk-serial\"><div class=\"sk-item\"><div class=\"sk-estimator sk-toggleable\"><input class=\"sk-toggleable__control sk-hidden--visually\" id=\"sk-estimator-id-29\" type=\"checkbox\" ><label for=\"sk-estimator-id-29\" class=\"sk-toggleable__label sk-toggleable__label-arrow\">SimpleImputer</label><div class=\"sk-toggleable__content\"><pre>SimpleImputer(fill_value=&#x27;missing&#x27;, strategy=&#x27;constant&#x27;)</pre></div></div></div><div class=\"sk-item\"><div class=\"sk-estimator sk-toggleable\"><input class=\"sk-toggleable__control sk-hidden--visually\" id=\"sk-estimator-id-30\" type=\"checkbox\" ><label for=\"sk-estimator-id-30\" class=\"sk-toggleable__label sk-toggleable__label-arrow\">OneHotEncoder</label><div class=\"sk-toggleable__content\"><pre>OneHotEncoder(handle_unknown=&#x27;ignore&#x27;)</pre></div></div></div></div></div></div></div></div></div></div><div class=\"sk-item\"><div class=\"sk-estimator sk-toggleable\"><input class=\"sk-toggleable__control sk-hidden--visually\" id=\"sk-estimator-id-31\" type=\"checkbox\" ><label for=\"sk-estimator-id-31\" class=\"sk-toggleable__label sk-toggleable__label-arrow\">LogisticRegression</label><div class=\"sk-toggleable__content\"><pre>LogisticRegression(C=100, class_weight=&#x27;balanced&#x27;, max_iter=200)</pre></div></div></div></div></div></div></div>"
      ],
      "text/plain": [
       "Pipeline(steps=[('prep',\n",
       "                 ColumnTransformer(transformers=[('num',\n",
       "                                                  Pipeline(steps=[('imputer',\n",
       "                                                                   SimpleImputer(strategy='median')),\n",
       "                                                                  ('scaler',\n",
       "                                                                   StandardScaler())]),\n",
       "                                                  ['gender', 'Partner',\n",
       "                                                   'Dependents', 'PhoneService',\n",
       "                                                   'PaperlessBilling',\n",
       "                                                   'Contract', 'TotalCharges',\n",
       "                                                   'SeniorCitizen', 'tenure',\n",
       "                                                   'MonthlyCharges']),\n",
       "                                                 ('cat',\n",
       "                                                  Pipeline(steps=[('imputer',\n",
       "                                                                   SimpleImputer(fill_value='missing',\n",
       "                                                                                 strategy='constant')),\n",
       "                                                                  ('onehot',\n",
       "                                                                   OneHotEncoder(handle_unknown='ignore'))]),\n",
       "                                                  ['MultipleLines',\n",
       "                                                   'InternetService',\n",
       "                                                   'OnlineSecurity',\n",
       "                                                   'OnlineBackup',\n",
       "                                                   'DeviceProtection',\n",
       "                                                   'TechSupport', 'StreamingTV',\n",
       "                                                   'StreamingMovies',\n",
       "                                                   'PaymentMethod'])])),\n",
       "                ('clas',\n",
       "                 LogisticRegression(C=100, class_weight='balanced',\n",
       "                                    max_iter=200))])"
      ]
     },
     "execution_count": 46,
     "metadata": {},
     "output_type": "execute_result"
    }
   ],
   "source": [
    "churn_pipe_logr"
   ]
  },
  {
   "cell_type": "markdown",
   "metadata": {},
   "source": [
    "#### <font color=\"#00586D\"> <i class=\"fa fa-pencil-square-o\" aria-hidden=\"true\" ></i> Ejercicio 14</font>\n",
    "\n",
    "Contestar a las siguientes preguntas. "
   ]
  },
  {
   "cell_type": "markdown",
   "metadata": {},
   "source": [
    "___1)___ ¿Para qué sirve el parámetro C (Equivale a $1/\\lambda$, siendo $\\lambda$ el parámetro visto en clase)?\n",
    "<br>\n",
    "___Respuesta:___\n",
    "\n",
    "<font color='blue'>\n",
    "El parámetro C es el inverso de la regularización $\\lambda$. La regularización intenta encontrar un equilibrio entre ajustar el modelo a los datos de entrenamiento y predecir datos nuevos. \n",
    "<br>\n",
    "    En un modelo de aprendizaje automático C determina qué tan riguroso es el modelo a la hora de penalizar errores en la predicción. \n",
    "<br>\n",
    "    - Un valor más alto de C indica una mayor penalización por errores (modelo sobreajustado): el modelo va a poder predecir con mucha exactitud los datos de entrenamiento, pero no otros datos nuevos.<br>\n",
    "    - Un valor más bajo de C indica una menor penalización por errores: el modelo no se ajusta tan bien a los datos de entrenamiento, pero que puede generalizar mejor a nuevos datos.\n",
    "\n",
    "<br><br>\n",
    "<font color='black'>\n",
    "___2)___ ¿Por qué se utilizan todos los datos `refit=True` para entrenar el mejor modelo una vez encontrados los parámetros?\n",
    "<br>\n",
    "___Respuesta:___\n",
    "\n",
    "<font color='blue'>\n",
    "Cuando se establece refit=True, el modelo se entrenará con todos los datos disponibles después de encontrar los mejores parámetros utilizando la validación cruzada, lo que puede mejorar la precisión del modelo en la predicción de nuevos datos.\n",
    "Sin embargo, si el parámetro se establece refit=False, el modelo solo se entrenará con un subconjunto de los datos, lo que puede evitar que el modelo alcance su máximo potencial de precisión en la predicción de nuevos datos. \n",
    "\n",
    "    \n",
    "<br><br>\n",
    "<font color='black'>\n",
    "___3)___ ¿Qué función has utilizado como `scoring`? ¿Por qué?\n",
    "<br>\n",
    "___Respuesta:___\n",
    "\n",
    "<font color='blue'>\n",
    "He utilizado scoring='recall' porque el objetivo es predecir con precisión qué clientes abandonarán la compañía para tomar medidas preventivas. En este caso, los falsos positivos no son tan problemáticos, ya que son clientes que se espera que se vayan de la compañía pero finalmente no lo hacen (lo que realmente queremos lograr).\n",
    "<br>"
   ]
  },
  {
   "cell_type": "markdown",
   "metadata": {},
   "source": [
    "<div><font size=3 color=#00586D> <i class=\"fa fa-check-square-o\" aria-hidden=\"true\"></i></font></div>\n",
    "\n",
    "<!--comment -->"
   ]
  },
  {
   "cell_type": "markdown",
   "metadata": {},
   "source": [
    "### <font color=\"#00586D\"> Evaluación del modelo </font>\n",
    "\n",
    "La función `show_results` recibe dos vectores de igual tamaño, denominados `y` e `y_pred`, con las salidas reales y predicciones del modelo respectivamente; dibuja la matriz de confusión; e imprime por pantalla las métricas de interés. "
   ]
  },
  {
   "cell_type": "code",
   "execution_count": 47,
   "metadata": {},
   "outputs": [],
   "source": [
    "from sklearn.metrics import accuracy_score, precision_score, recall_score, f1_score\n",
    "\n",
    "def show_results(y, y_pred):\n",
    "    from sklearn.metrics import confusion_matrix\n",
    "    c_mat = confusion_matrix(y, y_pred)\n",
    "    sns.heatmap(c_mat, square=True, annot=True, fmt='d', cbar=True, cmap=plt.cm.Blues)\n",
    "    plt.ylabel('Clase real')\n",
    "    plt.xlabel('Predicción');\n",
    "    plt.gca().set_ylim(2.0, 0)\n",
    "    plt.show()\n",
    "    print(\"Resultados: \")\n",
    "    print(f'\\taccuracy: {accuracy_score(y, y_pred):.3f}')\n",
    "    print(f'\\trecall: {recall_score(y, y_pred):.3f}')\n",
    "    print(f'\\tprecision: {precision_score(y, y_pred):.3f}')\n",
    "    print(f'\\tf1_score: {f1_score(y, y_pred):.3f}')"
   ]
  },
  {
   "cell_type": "markdown",
   "metadata": {},
   "source": [
    "#### <font color=\"#00586D\"> <i class=\"fa fa-pencil-square-o\" aria-hidden=\"true\" ></i> Ejercicio 15</font>\n",
    "\n",
    "Utilizar `show_results` para mostrar los resultados del modelo anterior y comentar los resultados"
   ]
  },
  {
   "cell_type": "code",
   "execution_count": 48,
   "metadata": {},
   "outputs": [
    {
     "data": {
      "image/png": "[encoded data removed]",
      "text/plain": [
       "<Figure size 432x288 with 2 Axes>"
      ]
     },
     "metadata": {},
     "output_type": "display_data"
    },
    {
     "name": "stdout",
     "output_type": "stream",
     "text": [
      "Resultados: \n",
      "\taccuracy: 0.745\n",
      "\trecall: 0.806\n",
      "\tprecision: 0.516\n",
      "\tf1_score: 0.629\n"
     ]
    }
   ],
   "source": [
    "y_pred = churn_pipe_logr.predict(X)\n",
    "show_results(y, y_pred)"
   ]
  },
  {
   "cell_type": "markdown",
   "metadata": {},
   "source": [
    "___Respuesta:___\n",
    "\n",
    "<br><font color='blue'>\n",
    "    El objetivo principal es encontrar la mayor cantidad posible de personas que abandonen la compañía, lo que llamamos recall. Hemos logrado identificar correctamente alrededor del 80% de los casos de abandono, lo cual es una buena capacidad de predicción. En cuanto a las personas que no abandonaron la compañía, nuestro modelo acertó en aproximadamente el 70% de los casos.\n",
    "<br>"
   ]
  },
  {
   "cell_type": "markdown",
   "metadata": {},
   "source": [
    "<div><font size=3 color=#00586D> <i class=\"fa fa-check-square-o\" aria-hidden=\"true\"></i></font></div>\n",
    "\n",
    "<!--comment -->"
   ]
  },
  {
   "cell_type": "markdown",
   "metadata": {},
   "source": [
    "#### <font color=\"#00586D\"> Umbral de clasificación</font>\n",
    "\n",
    "\n",
    "En el modelo de regresión logística, por ejemplo $c_\\theta(x)=1$ si $h_\\theta(x)>0.5$. Es posible cambiar este umbral (0.5), y con ello se modifican las propiedades del clasificador. Esto es aplicable a todos los modelos que devuelven probabilidad. En este apartado, veremos como afecta este cambio utilizando 3 umbrales: 0.25, 0.5, y 0.75.\n",
    "\n",
    "<div class=\"alert alert-block alert-warning\">\n",
    "    \n",
    "<i class=\"fa fa-exclamation-circle\" aria-hidden=\"true\"></i> Por simplicidad, no incluiremos este proceso en el _Pipeline_.\n",
    "</div>"
   ]
  },
  {
   "cell_type": "code",
   "execution_count": 49,
   "metadata": {},
   "outputs": [],
   "source": [
    "y_prob = churn_pipe_logr.predict_proba(X)[:,1]"
   ]
  },
  {
   "cell_type": "markdown",
   "metadata": {},
   "source": [
    "* $c_\\theta(x)=1$ si $h_\\theta(x) >= 0.25$"
   ]
  },
  {
   "cell_type": "code",
   "execution_count": 50,
   "metadata": {},
   "outputs": [
    {
     "data": {
      "image/png": "[encoded data removed]",
      "text/plain": [
       "<Figure size 432x288 with 2 Axes>"
      ]
     },
     "metadata": {},
     "output_type": "display_data"
    },
    {
     "name": "stdout",
     "output_type": "stream",
     "text": [
      "Resultados: \n",
      "\taccuracy: 0.619\n",
      "\trecall: 0.945\n",
      "\tprecision: 0.409\n",
      "\tf1_score: 0.571\n"
     ]
    }
   ],
   "source": [
    "y_pred = y_prob >= 0.25\n",
    "show_results(y, y_pred)"
   ]
  },
  {
   "cell_type": "markdown",
   "metadata": {},
   "source": [
    "* $c_\\theta(x)=1$ si $h_\\theta(x) >= 0.5$"
   ]
  },
  {
   "cell_type": "code",
   "execution_count": 51,
   "metadata": {},
   "outputs": [
    {
     "data": {
      "image/png": "[encoded data removed]",
      "text/plain": [
       "<Figure size 432x288 with 2 Axes>"
      ]
     },
     "metadata": {},
     "output_type": "display_data"
    },
    {
     "name": "stdout",
     "output_type": "stream",
     "text": [
      "Resultados: \n",
      "\taccuracy: 0.745\n",
      "\trecall: 0.806\n",
      "\tprecision: 0.516\n",
      "\tf1_score: 0.629\n"
     ]
    }
   ],
   "source": [
    "y_pred = y_prob >= 0.5\n",
    "show_results(y, y_pred)"
   ]
  },
  {
   "cell_type": "markdown",
   "metadata": {},
   "source": [
    "* $c_\\theta(x)=1$ si $h_\\theta(x) >= 0.75$"
   ]
  },
  {
   "cell_type": "code",
   "execution_count": 52,
   "metadata": {},
   "outputs": [
    {
     "data": {
      "image/png": "[encoded data removed]",
      "text/plain": [
       "<Figure size 432x288 with 2 Axes>"
      ]
     },
     "metadata": {},
     "output_type": "display_data"
    },
    {
     "name": "stdout",
     "output_type": "stream",
     "text": [
      "Resultados: \n",
      "\taccuracy: 0.805\n",
      "\trecall: 0.518\n",
      "\tprecision: 0.677\n",
      "\tf1_score: 0.587\n"
     ]
    }
   ],
   "source": [
    "y_pred = y_prob >= 0.75\n",
    "show_results(y, y_pred)"
   ]
  },
  {
   "cell_type": "markdown",
   "metadata": {},
   "source": [
    "#### <font color=\"#00586D\"> <i class=\"fa fa-pencil-square-o\" aria-hidden=\"true\" ></i> Ejercicio 16</font>\n",
    "\n",
    "¿Cómo influye el cambio del umbral en las distintas métricas? ¿Por qué?"
   ]
  },
  {
   "cell_type": "markdown",
   "metadata": {},
   "source": [
    "___Respuesta:___\n",
    "\n",
    "<br><font color='blue'>\n",
    "    El umbral de clasificación es el valor de probabilidad por encima del cual un modelo de clasificación considera que una instancia pertenece a una clase en particular. Dependiendo del umbral utilizado, se pueden obtener diferentes tasas de aciertos en la clasificación.  <br>\n",
    "     - Si el umbral es muy bajo ($h_{0} (x) = 0.25$), se pueden clasificar correctamente la mayoría de los positivos, pero se corre el riesgo de clasificar incorrectamente muchos negativos. <br>\n",
    "     - Si es muy alto ($h_{0} (x) = 0.75$), se pueden clasificar correctamente muchos negativos, pero se falla en clasificar casi la mitad de los positivos (son los que más nos interesan). <br>\n",
    "     - Con un umbral moderado ($h_{0} (x) = 0.5$) como el que utilizamos en nuestra predicción, logramos un equilibrio razonable entre la precisión en la clasificación de negativos y positivos.<br>\n",
    "    <br>\n",
    "    Es importante tener en cuenta que al aumentar el umbral, aumenta la precisión en la clasificación de la clase en cuestión, pero disminuye el recall, lo que puede ser un problema en problemas de clasificación desbalanceados donde es importante identificar correctamente los casos positivos."
   ]
  },
  {
   "cell_type": "markdown",
   "metadata": {},
   "source": [
    "<div><font size=3 color=#00586D> <i class=\"fa fa-check-square-o\" aria-hidden=\"true\"></i></font></div>\n",
    "\n",
    "<!--comment -->"
   ]
  },
  {
   "cell_type": "markdown",
   "metadata": {},
   "source": [
    "#### <font color=\"#00586D\"> <i class=\"fa fa-pencil-square-o\" aria-hidden=\"true\" ></i> Ejercicio 17</font>\n",
    "\n",
    "Dibujar la curva _precision/recall_ utilizando `sklearn.metrics.precision_recall_curve`. ¿Hay un umbral más adecuado para este caso? ¿De qué factor dependería?\n",
    "\n",
    "<font size=2 color=\"#00586D\"> <i class=\"fa fa-info-circle\"  aria-hidden=\"true\"></i> </font> La función devuelve tres vectores, cada uno de ellos con los valores correspondientes a _precision_ y _recall_ d eun _threshold_, que es el tercer vector. Se trata de obtener estos valores y dibujar la curva correspondiente mediante, por ejemplo, `plt.plot()`."
   ]
  },
  {
   "cell_type": "code",
   "execution_count": 53,
   "metadata": {},
   "outputs": [
    {
     "data": {
      "image/png": "[encoded data removed]",
      "text/plain": [
       "<Figure size 576x432 with 1 Axes>"
      ]
     },
     "metadata": {},
     "output_type": "display_data"
    }
   ],
   "source": [
    "from sklearn.metrics import precision_recall_curve\n",
    "import matplotlib.pyplot as plt\n",
    "\n",
    "# Calculo la curva de precision-recall\n",
    "precision, recall, thresholds = precision_recall_curve(y_true=y, probas_pred=y_prob)\n",
    "\n",
    "# Dibujo la curva de precision-recall\n",
    "fig, ax = plt.subplots(figsize=(8, 6))\n",
    "ax.plot(recall, precision, color='navy')\n",
    "\n",
    "# Defino los umbrales para encontrar los puntos de la curva más cercanos a ellos\n",
    "thresholds_to_find = [0.25, 0.5, 0.75]\n",
    "for th in thresholds_to_find:\n",
    "    idx, nearest = min(enumerate(thresholds), key=lambda x: abs(x[1] - th))\n",
    "    color = {0.25: 'oc', 0.5: 'og', 0.75: 'or'}[th]\n",
    "    plt.plot(recall[idx], precision[idx], color, markersize=12)\n",
    "\n",
    "    \n",
    "# Agrego leyenda y etiquetas de los ejes\n",
    "plt.legend(['Precision-Recall Curve', 'Threshold = 0.25', 'Threshold = 0.50', 'Threshold = 0.75'])\n",
    "plt.xlabel('Recall')\n",
    "plt.ylabel('Precision')\n",
    "plt.title('Precision-Recall Curve')\n",
    "\n",
    "# Muestro el gráfico\n",
    "plt.show()"
   ]
  },
  {
   "cell_type": "markdown",
   "metadata": {},
   "source": [
    "___Respuesta:___\n",
    "<br><font color='blue'>\n",
    "    En el gráfico de Precision-Recall, la curva comienza en el extremo superior izquierdo, donde el Recall=0 y la Precision=1, lo que indica que no se ha identificado ningún verdadero positivo. A medida que el Recall aumenta, la Precision disminuye debido a la inclusión de falsos positivos. Cuando se llega al extremo inferior derecho del gráfico, con un Recall=1, significa que se han identificado todos los verdaderos positivos, pero la Precision ha disminuido significativamente debido a la inclusión de falsos positivos.\n",
    "    <br>\n",
    "    El umbral más adecuado en este caso es 0.5, ya que se tiene un alto Recall y una Precision no menor a 0.5.\n"
   ]
  },
  {
   "cell_type": "markdown",
   "metadata": {},
   "source": [
    "<div><font size=3 color=#00586D> <i class=\"fa fa-check-square-o\" aria-hidden=\"true\"></i></font></div>\n",
    "\n",
    "<!--comment -->"
   ]
  },
  {
   "cell_type": "markdown",
   "metadata": {},
   "source": [
    "<div align=\"right\">\n",
    "<a href=\"#indice\"><font size=5 color=\"#00586D\"><i class=\"fa fa-arrow-circle-up\" aria-hidden=\"true\"></i></font></a>\n",
    "</div>\n",
    "\n",
    "---\n",
    "\n",
    "\n",
    "<a id=\"section13\"></a>\n",
    "## <font color=\"#00586D\"> 1.3 Validación sobre nuevos datos </font>\n",
    "<br>\n",
    "\n",
    "\n",
    "\n",
    "En este proceso se ha construído el modelo, y se dispone del flujo de trabajo completo, que se compone por una preparación de la base de datos original mediante `preprocess_data`, y del _Pipeline_ `churn_pipe_logr`. \n",
    "\n",
    "#### <font color=\"#00586D\"> <i class=\"fa fa-pencil-square-o\" aria-hidden=\"true\" ></i> Ejercicio 18</font>\n",
    "\n",
    "Utilizar ambos para predecir los casos de abandono en `df_churn_new`. Puede utilizarse también un umbral de entre los seleccionados anteriormente. Mostrar los resultados.\n",
    "\n",
    "<div class=\"alert alert-block alert-info\">\n",
    "    \n",
    "<i class=\"fa fa-info-circle\" aria-hidden=\"true\"></i> __Nota__: Ha de convertirse la clase a `int` porque ese paso se había sacado fuera del pipeline.                   \n",
    "</div>"
   ]
  },
  {
   "cell_type": "code",
   "execution_count": 54,
   "metadata": {},
   "outputs": [
    {
     "data": {
      "image/png": "[encoded data removed]",
      "text/plain": [
       "<Figure size 432x288 with 2 Axes>"
      ]
     },
     "metadata": {},
     "output_type": "display_data"
    },
    {
     "name": "stdout",
     "output_type": "stream",
     "text": [
      "Resultados: \n",
      "\taccuracy: 0.763\n",
      "\trecall: 0.777\n",
      "\tprecision: 0.518\n",
      "\tf1_score: 0.621\n"
     ]
    }
   ],
   "source": [
    "# Preproceso los datos de prueba\n",
    "df_test = preprocess_data(df_churn_new, churn_data_prep_pipeline)\n",
    "\n",
    "# Divido los datos\n",
    "X_test = df_test.drop('Churn', axis = \"columns\")\n",
    "y_test = (df_test['Churn']=='Yes').astype(int)\n",
    "\n",
    "# Hago la predicción del conjunto de prueba utilizando el modelo de regresión logística\n",
    "# Probabilidades de que el cliente abandone la compañía:\n",
    "y_prob = churn_pipe_logr.predict_proba(X_test)[:,1]\n",
    "\n",
    "# Clasificación de los clientes en función del umbral de clasificación de 0.5\n",
    "y_pred = y_prob >= 0.5\n",
    "\n",
    "# Muestro resultados\n",
    "show_results(y_test, y_pred)"
   ]
  },
  {
   "cell_type": "markdown",
   "metadata": {},
   "source": [
    "<div><font size=3 color=#00586D> <i class=\"fa fa-check-square-o\" aria-hidden=\"true\"></i></font></div>\n",
    "\n",
    "<!--comment -->"
   ]
  },
  {
   "cell_type": "markdown",
   "metadata": {},
   "source": [
    "<div align=\"right\">\n",
    "<a href=\"#indice\"><font size=5 color=\"#00586D\"><i class=\"fa fa-arrow-circle-up\" aria-hidden=\"true\"></i></font></a>\n",
    "</div>\n",
    "\n",
    "---\n",
    "\n",
    "\n",
    "<a id=\"section14\"></a>\n",
    "## <font color=\"#00586D\"> 1.4 Comparación con otros clasificadores </font>\n",
    "<br>\n",
    "\n",
    "Una vez definido el proceso, se repetirá el entrenamiento con otros clasificadores: Un árbol y una máquina de soporte vectorial.\n",
    "\n",
    "#### <font color=\"#00586D\"> <i class=\"fa fa-pencil-square-o\" aria-hidden=\"true\" ></i> Ejercicio 19</font>\n",
    "\n",
    " Construir un _Pipeline_ similar al anterior, denominado `churn_pipe_tree`, pero utilizando un árbol en lugar de un modelo de regresión logística.  Determinar la mejor configuración de los parámetros con `GridSearchCV`, utilizando como `scoring` la medida que consideréis más adecuada. Guardar el modelo resultante en `churn_pipe_tree`. Mostrar los resultados con respecto al conjunto de nuevos datos `X_new, y_new`. "
   ]
  },
  {
   "cell_type": "code",
   "execution_count": 55,
   "metadata": {},
   "outputs": [
    {
     "name": "stdout",
     "output_type": "stream",
     "text": [
      "Mejor score:  0.6133507913283166\n",
      "Mejor configuración de parámetros:  {'clas__class_weight': 'balanced', 'clas__max_depth': 5, 'prep__num__imputer__strategy': 'mean'}\n"
     ]
    },
    {
     "data": {
      "image/png": "[encoded data removed]",
      "text/plain": [
       "<Figure size 432x288 with 2 Axes>"
      ]
     },
     "metadata": {},
     "output_type": "display_data"
    },
    {
     "name": "stdout",
     "output_type": "stream",
     "text": [
      "Resultados: \n",
      "\taccuracy: 0.746\n",
      "\trecall: 0.796\n",
      "\tprecision: 0.496\n",
      "\tf1_score: 0.612\n"
     ]
    }
   ],
   "source": [
    "from sklearn.tree import DecisionTreeClassifier\n",
    "from sklearn.model_selection import GridSearchCV\n",
    "from sklearn.metrics import accuracy_score, precision_score, recall_score, f1_score\n",
    "\n",
    "# Creo el modelo de árbol de decisión\n",
    "dt_model = DecisionTreeClassifier()\n",
    "\n",
    "# Creo el pipeline\n",
    "churn_pipe_tree = Pipeline(steps=[('prep', churn_trans),\n",
    "                                  ('clas', dt_model)])\n",
    "\n",
    "# Defino los parámetros para la búsqueda\n",
    "parameters = {\n",
    "    'prep__num__imputer__strategy': ['mean', 'median'],\n",
    "    'clas__max_depth': [None, 3, 5, 7, 9],\n",
    "    'clas__class_weight': [None, 'balanced']\n",
    "}\n",
    "\n",
    "# Realizo la búsqueda de los mejores parámetros\n",
    "GS = GridSearchCV(churn_pipe_tree, param_grid=parameters, cv=5, refit=True, scoring='f1')\n",
    "GS.fit(X, y)\n",
    "\n",
    "# Obtengo el mejor modelo\n",
    "churn_pipe_tree = GS.best_estimator_\n",
    "\n",
    "# Muestro los resultados de la búsqueda\n",
    "print(\"Mejor score: \", GS.best_score_)\n",
    "print(\"Mejor configuración de parámetros: \", GS.best_params_)\n",
    "\n",
    "# Nuevo conjunto de datos\n",
    "X_new = df_test.drop('Churn', axis = \"columns\")\n",
    "y_new = (df_test['Churn']=='Yes').astype(int)\n",
    "\n",
    "# Predigo la clase de los datos de prueba\n",
    "y_prob = churn_pipe_tree.predict_proba(X_new)[:,1]\n",
    "y_pred = y_prob >= 0.5\n",
    "\n",
    "# Muestro los resultados de las métricas de evaluación\n",
    "show_results(y_new, y_pred)"
   ]
  },
  {
   "cell_type": "markdown",
   "metadata": {},
   "source": [
    "<div><font size=3 color=#00586D> <i class=\"fa fa-check-square-o\" aria-hidden=\"true\"></i></font></div>\n",
    "\n",
    "<!--comment -->"
   ]
  },
  {
   "cell_type": "markdown",
   "metadata": {},
   "source": [
    "#### <font color=\"#00586D\"> <i class=\"fa fa-pencil-square-o\" aria-hidden=\"true\" ></i> Ejercicio 20</font> \n",
    "\n",
    "Dibujar la curva _Precision/Recall_ también con respecto a los nuevos datos.\n",
    "\n",
    "\n",
    "<div class=\"alert alert-block alert-info\">\n",
    "    \n",
    "<i class=\"fa fa-info-circle\" aria-hidden=\"true\"></i> __Nota__: La  curva se puede dibujar con `sklearn.metrics.PrecisionRecallDisplay.from_estimator`. Puede verse que cambia el aspecto, ya que, en realidad, la curva se debe hacer escalonada.                   \n",
    "</div>"
   ]
  },
  {
   "cell_type": "code",
   "execution_count": 56,
   "metadata": {},
   "outputs": [
    {
     "data": {
      "image/png": "[encoded data removed]",
      "text/plain": [
       "<Figure size 432x288 with 1 Axes>"
      ]
     },
     "metadata": {},
     "output_type": "display_data"
    }
   ],
   "source": [
    "from sklearn.metrics import PrecisionRecallDisplay\n",
    "\n",
    "# Calculo la precisión, el recall y el umbral\n",
    "precision, recall, thresholds = precision_recall_curve(y_true=y_new, probas_pred = y_prob)\n",
    "\n",
    "# Creo el gráfico de precisión/recall\n",
    "prd = PrecisionRecallDisplay(precision=precision, recall=recall)\n",
    "prd.plot()\n",
    "\n",
    "# Pongo un título al gráfico\n",
    "prd.ax_.set_title('Precision/Recall')\n",
    "\n",
    "# Muestro el gráfico\n",
    "plt.show()"
   ]
  },
  {
   "cell_type": "markdown",
   "metadata": {},
   "source": [
    "<div><font size=3 color=#00586D> <i class=\"fa fa-check-square-o\" aria-hidden=\"true\"></i></font></div>\n",
    "\n",
    "<!--comment -->"
   ]
  },
  {
   "cell_type": "markdown",
   "metadata": {},
   "source": [
    "#### <font color=\"#00586D\"> <i class=\"fa fa-pencil-square-o\" aria-hidden=\"true\" ></i> Ejercicio 21</font>\n",
    "\n",
    "¿Cómo aumentaríamos al precisión hasta un 0.75 (con respecto a los datos obtenidos en el ejercicio anterior, con umbral 0.5)? ¿Compensaría hacerlo?"
   ]
  },
  {
   "cell_type": "markdown",
   "metadata": {},
   "source": [
    "___Respuesta:___\n",
    "\n",
    "<br><font color='blue'>\n",
    "    Para alcanzar una precisión del 0.75 con respecto a los datos obtenidos anteriormente, tendríamos que aumentar el umbral utilizado en el análisis. Sin embargo, al hacerlo, es probable que obtengamos valores de Recall por debajo del 0.4. <br>\n",
    "    Esto no sería beneficioso para este problema en particular, ya que el objetivo principal es detectar todos los clientes que podrían abandonar la compañía en el futuro.\n",
    "    "
   ]
  },
  {
   "cell_type": "markdown",
   "metadata": {},
   "source": [
    "<div><font size=3 color=#00586D> <i class=\"fa fa-check-square-o\" aria-hidden=\"true\"></i></font></div>\n",
    "\n",
    "<!--comment -->"
   ]
  },
  {
   "cell_type": "markdown",
   "metadata": {},
   "source": [
    "#### <font color=\"#00586D\"> <i class=\"fa fa-pencil-square-o\" aria-hidden=\"true\" ></i> Ejercicio 22</font>\n",
    "\n",
    "Construir un _Pipeline_ similar al anterior, denominado `churn_pipe_svc`, y que utilice una máquina de soporte vectorial.  Determinar la mejor configuración de los parámetros con `GridSearchCV`, utilizando como `scoring` la medida que consideréis más adecuada. Guardar el modelo resultante en `churn_pipe_svc`. Mostrar los resultados con respecto al conjunto de nuevos datos `X_new, y_new`."
   ]
  },
  {
   "cell_type": "code",
   "execution_count": 57,
   "metadata": {},
   "outputs": [
    {
     "name": "stdout",
     "output_type": "stream",
     "text": [
      "{'clas__C': 100, 'clas__kernel': 'linear', 'prep__num__imputer__strategy': 'median'}\n",
      "Mejor score:  0.54116238317757\n",
      "Mejor configuración de parámetros:  {'clas__C': 100, 'clas__kernel': 'linear', 'prep__num__imputer__strategy': 'median'}\n"
     ]
    },
    {
     "data": {
      "image/png": "[encoded data removed]",
      "text/plain": [
       "<Figure size 432x288 with 2 Axes>"
      ]
     },
     "metadata": {},
     "output_type": "display_data"
    },
    {
     "name": "stdout",
     "output_type": "stream",
     "text": [
      "Resultados: \n",
      "\taccuracy: 0.826\n",
      "\trecall: 0.562\n",
      "\tprecision: 0.687\n",
      "\tf1_score: 0.618\n"
     ]
    }
   ],
   "source": [
    "import os\n",
    "import joblib\n",
    "from sklearn.svm import SVC\n",
    "\n",
    "# Creo una instancia de la clase SVC \n",
    "svm_model = SVC(probability=True);\n",
    "\n",
    "# Hago un pipeline con el preprocesado de los datos y nuestro modelo SVM\n",
    "churn_pipe_svc = Pipeline(steps=[('prep', churn_trans),\n",
    "                                 ('clas', svm_model)])\n",
    "\n",
    "# Creo un diccionario de parámetros para la búsqueda de hiperparámetros\n",
    "parameters = {}\n",
    "parameters['prep__num__imputer__strategy'] = ['mean', 'median']\n",
    "parameters['clas__C'] = [10e-2, 1, 100]\n",
    "parameters['clas__kernel'] = ['linear', 'rbf']\n",
    "\n",
    "# Guardo el modelo\n",
    "filename = 'churn_pipe_svc_model.joblib'\n",
    "\n",
    "if not os.path.exists(filename):\n",
    "    # Se entrena el modelo\n",
    "    GS = GridSearchCV(churn_pipe_svc, param_grid=parameters, scoring='recall', cv=5, refit=True)\n",
    "    GS.fit(X, y)\n",
    "    print(GS.best_params_)\n",
    "    \n",
    "    # Guardo el modelo entrenado\n",
    "    joblib.dump(GS, filename)\n",
    "\n",
    "else:\n",
    "    # Carga el modelo guardado\n",
    "    GS = joblib.load(filename)\n",
    "    print(GS.best_params_)\n",
    "    \n",
    "# Obtengo el mejor modelo   \n",
    "churn_pipe_svc = GS.best_estimator_\n",
    "\n",
    "# Muestro los resultados de la búsqueda\n",
    "print(\"Mejor score: \", GS.best_score_)\n",
    "print(\"Mejor configuración de parámetros: \", GS.best_params_)\n",
    "\n",
    "# Predigo la clase de los datos de prueba\n",
    "#y_prob = churn_pipe_svc.predict_proba(X_test)[:,1]\n",
    "#y_pred = y_prob >= 0.25\n",
    "\n",
    "# Muestro los resultados\n",
    "#show_results(y_new, y_pred)\n",
    "\n",
    "###############################\n",
    "\n",
    "# Nuevo conjunto de datos\n",
    "X_new = df_test.drop('Churn', axis = \"columns\")\n",
    "y_new = (df_test['Churn']=='Yes').astype(int)\n",
    "\n",
    "# Predigo la clase de los datos de prueba\n",
    "y_prob = churn_pipe_svc.predict_proba(X_new)[:,1]\n",
    "y_pred = y_prob >= 0.5\n",
    "\n",
    "# Muestro los resultados\n",
    "show_results(y_new, y_pred)"
   ]
  },
  {
   "cell_type": "markdown",
   "metadata": {},
   "source": [
    "<div><font size=3 color=#00586D> <i class=\"fa fa-check-square-o\" aria-hidden=\"true\"></i></font></div>\n",
    "\n",
    "<!--comment -->"
   ]
  },
  {
   "cell_type": "markdown",
   "metadata": {},
   "source": [
    "#### <font color=\"#00586D\"> <i class=\"fa fa-pencil-square-o\" aria-hidden=\"true\" ></i> Ejercicio 23</font>\n",
    "\n",
    "Dibujar la curva _Precision/Recall_ también con respecto a los nuevos datos."
   ]
  },
  {
   "cell_type": "code",
   "execution_count": 58,
   "metadata": {},
   "outputs": [
    {
     "data": {
      "image/png": "[encoded data removed]",
      "text/plain": [
       "<Figure size 432x288 with 1 Axes>"
      ]
     },
     "metadata": {},
     "output_type": "display_data"
    }
   ],
   "source": [
    "# Calculo la precisión, el recall y el umbral\n",
    "precision, recall, thresholds = precision_recall_curve(y_true=y_new, probas_pred = y_prob)\n",
    "\n",
    "# Creo el gráfico de precisión/recall\n",
    "prd = PrecisionRecallDisplay(precision=precision, recall=recall)\n",
    "prd.plot()\n",
    "\n",
    "# Pongo un título al gráfico\n",
    "prd.ax_.set_title('Precision/Recall')\n",
    "\n",
    "# Muestro el gráfico\n",
    "plt.show()"
   ]
  },
  {
   "cell_type": "markdown",
   "metadata": {},
   "source": [
    "<div><font size=3 color=#00586D> <i class=\"fa fa-check-square-o\" aria-hidden=\"true\"></i></font></div>\n",
    "\n",
    "<!--comment -->"
   ]
  },
  {
   "cell_type": "markdown",
   "metadata": {},
   "source": [
    "#### <font color=\"#00586D\"> Comparación de los modelos </font>\n",
    "<br>\n",
    "\n",
    "Como se ha visto anteriormente, el rendimiento de cada modelo de clasificación depende del umbral a partir del cual se considere una predicción como positiva. A la hora de comparar se podría determinar el umbral más conveniente para cada uno, y después utilizar los resultados obtenidos. \n",
    "\n",
    "El área bajo la curva ROC (AUC) proporciona una medida del rendimiento considerando todos los umbrales posibles. Representa la probabilidad de que el modelo asigne un _score_ mayor a un modelo positivo que a un negativo, y es invariable con respecto a este factor. Por eso se utiliza para la comparación de modelos. \n",
    "\n",
    "#### <font color=\"#00586D\"> <i class=\"fa fa-pencil-square-o\" aria-hidden=\"true\" ></i> Ejercicio 24</font>\n",
    "Dibujar la curva ROC para los tres modelos (utilizar los datos nuevos). ¿Qué clasificador es mejor?"
   ]
  },
  {
   "cell_type": "code",
   "execution_count": 60,
   "metadata": {},
   "outputs": [
    {
     "data": {
      "image/png": "[encoded data removed]",
      "text/plain": [
       "<Figure size 720x504 with 1 Axes>"
      ]
     },
     "metadata": {},
     "output_type": "display_data"
    }
   ],
   "source": [
    "from sklearn.metrics import roc_curve\n",
    "from sklearn.metrics import roc_auc_score\n",
    "\n",
    "# Predigo las probabilidades con cada modelo\n",
    "y_prob_logr = churn_pipe_logr.predict_proba(X_new)[:,1]\n",
    "y_prob_tree = churn_pipe_tree.predict_proba(X_new)[:,1]\n",
    "y_prob_svc = churn_pipe_svc.predict_proba(X_new)[:,1]\n",
    "\n",
    "# Calculo las tasas de cada modelo\n",
    "tasa_falsos_positivos_logr, tasa_verdaderos_positivos_logr, thresholds_logr = roc_curve(y_new, y_prob_logr)\n",
    "tasa_falsos_positivos_tree, tasa_verdaderos_positivos_tree, thresholds_tree = roc_curve(y_new, y_prob_tree)\n",
    "tasa_falsos_positivos_svc,  tasa_verdaderos_positivos_svc,  thresholds_svc = roc_curve(y_new, y_prob_svc)\n",
    "\n",
    "# Calculo del área bajo la curva ROC\n",
    "logr_roc_area = roc_auc_score(y_test, y_prob_logr)\n",
    "tree_roc_area = roc_auc_score(y_test, y_prob_tree)\n",
    "svc_roc_area = roc_auc_score(y_test, y_prob_svc)\n",
    "\n",
    "# Creo la figura\n",
    "fig,ax = plt.subplots(figsize=(10, 7))\n",
    "plt.plot(tasa_falsos_positivos_logr, tasa_verdaderos_positivos_logr, label='Logistic Regresssion (Area = {:.3f})'.format(logr_roc_area))\n",
    "plt.plot(tasa_falsos_positivos_tree, tasa_verdaderos_positivos_tree, label='Decision Tree (Area = {:.3f})'.format(tree_roc_area))\n",
    "plt.plot(tasa_falsos_positivos_svc,  tasa_verdaderos_positivos_svc,  label='Support Vector Machine (Area = {:.3f})'.format(svc_roc_area))\n",
    "ax.set_ylabel(\"Tasa de Verdaderos Positivos\")\n",
    "ax.set_xlabel(\"Tasa de Falsos Positivos\")\n",
    "plt.legend()\n",
    "plt.show()"
   ]
  },
  {
   "cell_type": "markdown",
   "metadata": {},
   "source": [
    "___Respuesta:___\n",
    "\n",
    "<br><font color='blue'>\n",
    "    Los resultados muestran que los clasificadores tienen un rendimiento bastante bueno en términos generales, con áreas bajo la curva (AUC) que rondan el 0.8. Si se compara con el clasificador ideal (AUC=1), se puede decir que estos modelos todavía tienen margen de mejora pero que en general están funcionando bien. \n",
    "    <br>\n",
    "    La Máquina de Vectores de Soporte es el clasificador con el mejor rendimiento. Sin embargo, la diferencia entre los tres clasificadores es relativamente pequeña, por lo que en este problema en particular, la elección de un clasificador específico puede depender de otros factores, como la interpretabilidad del modelo o la eficiencia computacional.\n"
   ]
  },
  {
   "cell_type": "markdown",
   "metadata": {},
   "source": [
    "<div><font size=3 color=#00586D> <i class=\"fa fa-check-square-o\" aria-hidden=\"true\"></i></font></div>\n",
    "\n",
    "<!--comment -->"
   ]
  },
  {
   "cell_type": "markdown",
   "metadata": {},
   "source": [
    "#### <font color=\"#00586D\"> <i class=\"fa fa-pencil-square-o\" aria-hidden=\"true\" ></i> Ejercicio 25</font>\n",
    "Mostrar el AUC para cada uno de los clasificadores. ¿Se corresponde con lo esperado?"
   ]
  },
  {
   "cell_type": "code",
   "execution_count": 61,
   "metadata": {},
   "outputs": [
    {
     "name": "stdout",
     "output_type": "stream",
     "text": [
      "Regresión logística:  0.845926243567753\n",
      "Árbol de decisión:  0.83732132647227\n",
      "Máquina de vectores de soporte:  0.8565990089574994\n"
     ]
    }
   ],
   "source": [
    "from sklearn.metrics import roc_auc_score\n",
    "print(\"Regresión logística: \", roc_auc_score(y_new, y_prob_logr))\n",
    "print(\"Árbol de decisión: \", roc_auc_score(y_new, y_prob_tree))\n",
    "print(\"Máquina de vectores de soporte: \", roc_auc_score(y_new, y_prob_svc))"
   ]
  },
  {
   "cell_type": "markdown",
   "metadata": {},
   "source": [
    "<div><font size=3 color=#00586D> <i class=\"fa fa-check-square-o\" aria-hidden=\"true\"></i></font></div>\n",
    "\n",
    "<!--comment -->"
   ]
  },
  {
   "cell_type": "markdown",
   "metadata": {},
   "source": [
    "<div align=\"right\">\n",
    "<a href=\"#indice\"><font size=5 color=\"#00586D\"><i class=\"fa fa-arrow-circle-up\" aria-hidden=\"true\"></i></font></a>\n",
    "</div>\n",
    "\n",
    "---\n",
    "\n",
    "<a id=\"section2\"></a>\n",
    "# <font color=\"#00586D\"> 2. Predicción del valor potencial de un cliente (_Customer Lifetime Value_)</font>\n",
    "<br>\n",
    "\n",
    "El valor potencial de un cliente (_Customer Lifetime Value_ o _CLV_) permite determinar el beneficio que un cliente puede proporcionar a lo largo de un periodo de tiempo. En muchos casos, este valor es función de otros, por lo que es posible elaborar modelos predictivos para llevar a cabo una estimación. En este ejercicio se parte de un conjunto de datos denominado `Marketing-Customer-Value-Analysis.csv`, obtenido también del sitio de [IBM analytics](https://www.ibm.com/analytics) con datos sobre CLV. \n",
    "<br>\n",
    "\n",
    "\n",
    "<div class=\"alert alert-block alert-info\">\n",
    "    \n",
    "<i class=\"fa fa-info-circle\" aria-hidden=\"true\"></i> A diferencia de la tarea anterior, en este caso el preprocesamiento se hará de modo más simple (no es necesario hacer más), y el trabajo se centrará en el desarrollo y análisis de un modelo de regresión.\n",
    "</div>"
   ]
  },
  {
   "cell_type": "code",
   "execution_count": 62,
   "metadata": {},
   "outputs": [
    {
     "name": "stdout",
     "output_type": "stream",
     "text": [
      "Tamaño del conjunto de datos:  9134\n",
      "Número de variables: 23\n",
      "El índice es único.\n"
     ]
    },
    {
     "data": {
      "text/html": [
       "<div>\n",
       "<style scoped>\n",
       "    .dataframe tbody tr th:only-of-type {\n",
       "        vertical-align: middle;\n",
       "    }\n",
       "\n",
       "    .dataframe tbody tr th {\n",
       "        vertical-align: top;\n",
       "    }\n",
       "\n",
       "    .dataframe thead th {\n",
       "        text-align: right;\n",
       "    }\n",
       "</style>\n",
       "<table border=\"1\" class=\"dataframe\">\n",
       "  <thead>\n",
       "    <tr style=\"text-align: right;\">\n",
       "      <th></th>\n",
       "      <th>State</th>\n",
       "      <th>Customer Lifetime Value</th>\n",
       "      <th>Response</th>\n",
       "      <th>Coverage</th>\n",
       "      <th>Education</th>\n",
       "      <th>Effective To Date</th>\n",
       "      <th>EmploymentStatus</th>\n",
       "      <th>Gender</th>\n",
       "      <th>Income</th>\n",
       "      <th>Location Code</th>\n",
       "      <th>...</th>\n",
       "      <th>Months Since Policy Inception</th>\n",
       "      <th>Number of Open Complaints</th>\n",
       "      <th>Number of Policies</th>\n",
       "      <th>Policy Type</th>\n",
       "      <th>Policy</th>\n",
       "      <th>Renew Offer Type</th>\n",
       "      <th>Sales Channel</th>\n",
       "      <th>Total Claim Amount</th>\n",
       "      <th>Vehicle Class</th>\n",
       "      <th>Vehicle Size</th>\n",
       "    </tr>\n",
       "    <tr>\n",
       "      <th>Customer</th>\n",
       "      <th></th>\n",
       "      <th></th>\n",
       "      <th></th>\n",
       "      <th></th>\n",
       "      <th></th>\n",
       "      <th></th>\n",
       "      <th></th>\n",
       "      <th></th>\n",
       "      <th></th>\n",
       "      <th></th>\n",
       "      <th></th>\n",
       "      <th></th>\n",
       "      <th></th>\n",
       "      <th></th>\n",
       "      <th></th>\n",
       "      <th></th>\n",
       "      <th></th>\n",
       "      <th></th>\n",
       "      <th></th>\n",
       "      <th></th>\n",
       "      <th></th>\n",
       "    </tr>\n",
       "  </thead>\n",
       "  <tbody>\n",
       "    <tr>\n",
       "      <th>BU79786</th>\n",
       "      <td>Washington</td>\n",
       "      <td>2763.519279</td>\n",
       "      <td>No</td>\n",
       "      <td>Basic</td>\n",
       "      <td>Bachelor</td>\n",
       "      <td>2/24/11</td>\n",
       "      <td>Employed</td>\n",
       "      <td>F</td>\n",
       "      <td>56274</td>\n",
       "      <td>Suburban</td>\n",
       "      <td>...</td>\n",
       "      <td>5</td>\n",
       "      <td>0</td>\n",
       "      <td>1</td>\n",
       "      <td>Corporate Auto</td>\n",
       "      <td>Corporate L3</td>\n",
       "      <td>Offer1</td>\n",
       "      <td>Agent</td>\n",
       "      <td>384.811147</td>\n",
       "      <td>Two-Door Car</td>\n",
       "      <td>Medsize</td>\n",
       "    </tr>\n",
       "    <tr>\n",
       "      <th>QZ44356</th>\n",
       "      <td>Arizona</td>\n",
       "      <td>6979.535903</td>\n",
       "      <td>No</td>\n",
       "      <td>Extended</td>\n",
       "      <td>Bachelor</td>\n",
       "      <td>1/31/11</td>\n",
       "      <td>Unemployed</td>\n",
       "      <td>F</td>\n",
       "      <td>0</td>\n",
       "      <td>Suburban</td>\n",
       "      <td>...</td>\n",
       "      <td>42</td>\n",
       "      <td>0</td>\n",
       "      <td>8</td>\n",
       "      <td>Personal Auto</td>\n",
       "      <td>Personal L3</td>\n",
       "      <td>Offer3</td>\n",
       "      <td>Agent</td>\n",
       "      <td>1131.464935</td>\n",
       "      <td>Four-Door Car</td>\n",
       "      <td>Medsize</td>\n",
       "    </tr>\n",
       "    <tr>\n",
       "      <th>AI49188</th>\n",
       "      <td>Nevada</td>\n",
       "      <td>12887.431650</td>\n",
       "      <td>No</td>\n",
       "      <td>Premium</td>\n",
       "      <td>Bachelor</td>\n",
       "      <td>2/19/11</td>\n",
       "      <td>Employed</td>\n",
       "      <td>F</td>\n",
       "      <td>48767</td>\n",
       "      <td>Suburban</td>\n",
       "      <td>...</td>\n",
       "      <td>38</td>\n",
       "      <td>0</td>\n",
       "      <td>2</td>\n",
       "      <td>Personal Auto</td>\n",
       "      <td>Personal L3</td>\n",
       "      <td>Offer1</td>\n",
       "      <td>Agent</td>\n",
       "      <td>566.472247</td>\n",
       "      <td>Two-Door Car</td>\n",
       "      <td>Medsize</td>\n",
       "    </tr>\n",
       "    <tr>\n",
       "      <th>WW63253</th>\n",
       "      <td>California</td>\n",
       "      <td>7645.861827</td>\n",
       "      <td>No</td>\n",
       "      <td>Basic</td>\n",
       "      <td>Bachelor</td>\n",
       "      <td>1/20/11</td>\n",
       "      <td>Unemployed</td>\n",
       "      <td>M</td>\n",
       "      <td>0</td>\n",
       "      <td>Suburban</td>\n",
       "      <td>...</td>\n",
       "      <td>65</td>\n",
       "      <td>0</td>\n",
       "      <td>7</td>\n",
       "      <td>Corporate Auto</td>\n",
       "      <td>Corporate L2</td>\n",
       "      <td>Offer1</td>\n",
       "      <td>Call Center</td>\n",
       "      <td>529.881344</td>\n",
       "      <td>SUV</td>\n",
       "      <td>Medsize</td>\n",
       "    </tr>\n",
       "    <tr>\n",
       "      <th>HB64268</th>\n",
       "      <td>Washington</td>\n",
       "      <td>2813.692575</td>\n",
       "      <td>No</td>\n",
       "      <td>Basic</td>\n",
       "      <td>Bachelor</td>\n",
       "      <td>2/3/11</td>\n",
       "      <td>Employed</td>\n",
       "      <td>M</td>\n",
       "      <td>43836</td>\n",
       "      <td>Rural</td>\n",
       "      <td>...</td>\n",
       "      <td>44</td>\n",
       "      <td>0</td>\n",
       "      <td>1</td>\n",
       "      <td>Personal Auto</td>\n",
       "      <td>Personal L1</td>\n",
       "      <td>Offer1</td>\n",
       "      <td>Agent</td>\n",
       "      <td>138.130879</td>\n",
       "      <td>Four-Door Car</td>\n",
       "      <td>Medsize</td>\n",
       "    </tr>\n",
       "  </tbody>\n",
       "</table>\n",
       "<p>5 rows × 23 columns</p>\n",
       "</div>"
      ],
      "text/plain": [
       "               State  Customer Lifetime Value Response  Coverage Education  \\\n",
       "Customer                                                                     \n",
       "BU79786   Washington              2763.519279       No     Basic  Bachelor   \n",
       "QZ44356      Arizona              6979.535903       No  Extended  Bachelor   \n",
       "AI49188       Nevada             12887.431650       No   Premium  Bachelor   \n",
       "WW63253   California              7645.861827       No     Basic  Bachelor   \n",
       "HB64268   Washington              2813.692575       No     Basic  Bachelor   \n",
       "\n",
       "         Effective To Date EmploymentStatus Gender  Income Location Code  ...  \\\n",
       "Customer                                                                  ...   \n",
       "BU79786            2/24/11         Employed      F   56274      Suburban  ...   \n",
       "QZ44356            1/31/11       Unemployed      F       0      Suburban  ...   \n",
       "AI49188            2/19/11         Employed      F   48767      Suburban  ...   \n",
       "WW63253            1/20/11       Unemployed      M       0      Suburban  ...   \n",
       "HB64268             2/3/11         Employed      M   43836         Rural  ...   \n",
       "\n",
       "         Months Since Policy Inception  Number of Open Complaints  \\\n",
       "Customer                                                            \n",
       "BU79786                              5                          0   \n",
       "QZ44356                             42                          0   \n",
       "AI49188                             38                          0   \n",
       "WW63253                             65                          0   \n",
       "HB64268                             44                          0   \n",
       "\n",
       "          Number of Policies     Policy Type        Policy  Renew Offer Type  \\\n",
       "Customer                                                                       \n",
       "BU79786                    1  Corporate Auto  Corporate L3            Offer1   \n",
       "QZ44356                    8   Personal Auto   Personal L3            Offer3   \n",
       "AI49188                    2   Personal Auto   Personal L3            Offer1   \n",
       "WW63253                    7  Corporate Auto  Corporate L2            Offer1   \n",
       "HB64268                    1   Personal Auto   Personal L1            Offer1   \n",
       "\n",
       "         Sales Channel Total Claim Amount  Vehicle Class Vehicle Size  \n",
       "Customer                                                               \n",
       "BU79786          Agent         384.811147   Two-Door Car      Medsize  \n",
       "QZ44356          Agent        1131.464935  Four-Door Car      Medsize  \n",
       "AI49188          Agent         566.472247   Two-Door Car      Medsize  \n",
       "WW63253    Call Center         529.881344            SUV      Medsize  \n",
       "HB64268          Agent         138.130879  Four-Door Car      Medsize  \n",
       "\n",
       "[5 rows x 23 columns]"
      ]
     },
     "execution_count": 62,
     "metadata": {},
     "output_type": "execute_result"
    }
   ],
   "source": [
    "df_clv = pd.read_csv('data/clv/Marketing-Customer-Value-Analysis.csv', index_col=0)\n",
    "\n",
    "print(\"Tamaño del conjunto de datos:  %d\" % df_clv.shape[0])\n",
    "print(\"Número de variables: %d\" % df_clv.shape[1])\n",
    "if df_clv.index.is_unique:\n",
    "    print('El índice es único.')\n",
    "else:\n",
    "    print('Los índices están duplicados.')\n",
    "    \n",
    "# Visualiza las primeras instancias\n",
    "df_clv.head()"
   ]
  },
  {
   "cell_type": "markdown",
   "metadata": {},
   "source": [
    "Los nombres de las columnas numéricas del _DataFrame_ se almacenan en una lista denominada `num_df_columns`, y el resto en otra denominada `dis_df_columns`. "
   ]
  },
  {
   "cell_type": "code",
   "execution_count": 63,
   "metadata": {},
   "outputs": [
    {
     "name": "stdout",
     "output_type": "stream",
     "text": [
      "Discretas:  ['State', 'Response', 'Coverage', 'Education', 'Effective To Date', 'EmploymentStatus', 'Gender', 'Location Code', 'Marital Status', 'Policy Type', 'Policy', 'Renew Offer Type', 'Sales Channel', 'Vehicle Class', 'Vehicle Size']\n",
      "\n",
      "Numéricas:  ['Customer Lifetime Value', 'Income', 'Monthly Premium Auto', 'Months Since Last Claim', 'Months Since Policy Inception', 'Number of Open Complaints', 'Number of Policies', 'Total Claim Amount']\n"
     ]
    }
   ],
   "source": [
    "dis_df_columns = df_clv.select_dtypes(exclude=np.number).columns.to_list()\n",
    "num_df_columns = df_clv.select_dtypes(include=np.number).columns.to_list()\n",
    "\n",
    "print('Discretas: ',dis_df_columns)\n",
    "print('\\nNuméricas: ',num_df_columns)"
   ]
  },
  {
   "cell_type": "markdown",
   "metadata": {},
   "source": [
    "En primer lugar, se procederá con las columnas que contienen valores discretos. Igual que anteriormente, conviene ver el número de valores que toma cada una para comprobar que, efectivamente, la representación corresponde a los datos. A continuación, se obtiene el número de valores para cada una de las variables discretas y se almacena en una lista denominada `num_values_dis_df_col`. Cada elemento de la lista ha de ser una tupla con el nombre de la columna y el número de variables. "
   ]
  },
  {
   "cell_type": "code",
   "execution_count": 64,
   "metadata": {},
   "outputs": [
    {
     "data": {
      "text/plain": [
       "[('State', 5),\n",
       " ('Response', 2),\n",
       " ('Coverage', 3),\n",
       " ('Education', 5),\n",
       " ('Effective To Date', 59),\n",
       " ('EmploymentStatus', 5),\n",
       " ('Gender', 2),\n",
       " ('Location Code', 3),\n",
       " ('Marital Status', 3),\n",
       " ('Policy Type', 3),\n",
       " ('Policy', 9),\n",
       " ('Renew Offer Type', 4),\n",
       " ('Sales Channel', 4),\n",
       " ('Vehicle Class', 6),\n",
       " ('Vehicle Size', 3)]"
      ]
     },
     "execution_count": 64,
     "metadata": {},
     "output_type": "execute_result"
    }
   ],
   "source": [
    "num_values_dis_df_col = list(map(lambda col: (col,len(df_clv[col].value_counts())), dis_df_columns))\n",
    "num_values_dis_df_col"
   ]
  },
  {
   "cell_type": "markdown",
   "metadata": {},
   "source": [
    "La columna `Effective To Date` contiene datos relativos a fechas. Estos no pueden manejarse directamente en `scikit-learn`. Sin embargo, es posible convertirlos a enteros que representen días transcurridos desde una fecha determinada. Por ejemplo, la más temprana que aparezca en la columna.\n",
    "\n",
    "En la siguiente celda, se convierte la columna `Effective To Date` a formato `DateTime`. Posteriormente se calcula la diferencia con la primera fecha y se convierte a entera (con `TimeDelta.dt.days`). Por último, se elimina la columna de `num_df_columns` y se añade a `dis_df_columns`."
   ]
  },
  {
   "cell_type": "code",
   "execution_count": 65,
   "metadata": {},
   "outputs": [],
   "source": [
    "df_clv['Effective To Date'] = pd.to_datetime(df_clv['Effective To Date'])\n",
    "\n",
    "min_date = min(df_clv['Effective To Date'])\n",
    "df_clv['Effective To Date'] = df_clv['Effective To Date'].apply(lambda date: date - min_date)\n",
    "df_clv['Effective To Date'] = df_clv['Effective To Date'].dt.days\n",
    "\n",
    "num_df_columns.append('Effective To Date')\n",
    "dis_df_columns.remove('Effective To Date')"
   ]
  },
  {
   "cell_type": "markdown",
   "metadata": {},
   "source": [
    "Debido a que solamente dos variables son binarias, y con el ánimo de simplificar, se tratarán todas como categóricas. \n",
    "<br>\n",
    "\n",
    "A continuación se explorarán las variables numéricas para encontrar outliers. "
   ]
  },
  {
   "cell_type": "code",
   "execution_count": 66,
   "metadata": {},
   "outputs": [
    {
     "data": {
      "text/html": [
       "<div>\n",
       "<style scoped>\n",
       "    .dataframe tbody tr th:only-of-type {\n",
       "        vertical-align: middle;\n",
       "    }\n",
       "\n",
       "    .dataframe tbody tr th {\n",
       "        vertical-align: top;\n",
       "    }\n",
       "\n",
       "    .dataframe thead th {\n",
       "        text-align: right;\n",
       "    }\n",
       "</style>\n",
       "<table border=\"1\" class=\"dataframe\">\n",
       "  <thead>\n",
       "    <tr style=\"text-align: right;\">\n",
       "      <th></th>\n",
       "      <th>Customer Lifetime Value</th>\n",
       "      <th>Income</th>\n",
       "      <th>Monthly Premium Auto</th>\n",
       "      <th>Months Since Last Claim</th>\n",
       "      <th>Months Since Policy Inception</th>\n",
       "      <th>Number of Open Complaints</th>\n",
       "      <th>Number of Policies</th>\n",
       "      <th>Total Claim Amount</th>\n",
       "      <th>Effective To Date</th>\n",
       "    </tr>\n",
       "  </thead>\n",
       "  <tbody>\n",
       "    <tr>\n",
       "      <th>count</th>\n",
       "      <td>9134.000000</td>\n",
       "      <td>9134.000000</td>\n",
       "      <td>9134.000000</td>\n",
       "      <td>9134.000000</td>\n",
       "      <td>9134.000000</td>\n",
       "      <td>9134.000000</td>\n",
       "      <td>9134.000000</td>\n",
       "      <td>9134.000000</td>\n",
       "      <td>9134.000000</td>\n",
       "    </tr>\n",
       "    <tr>\n",
       "      <th>mean</th>\n",
       "      <td>8004.940475</td>\n",
       "      <td>37657.380009</td>\n",
       "      <td>93.219291</td>\n",
       "      <td>15.097000</td>\n",
       "      <td>48.064594</td>\n",
       "      <td>0.384388</td>\n",
       "      <td>2.966170</td>\n",
       "      <td>434.088794</td>\n",
       "      <td>28.837749</td>\n",
       "    </tr>\n",
       "    <tr>\n",
       "      <th>std</th>\n",
       "      <td>6870.967608</td>\n",
       "      <td>30379.904734</td>\n",
       "      <td>34.407967</td>\n",
       "      <td>10.073257</td>\n",
       "      <td>27.905991</td>\n",
       "      <td>0.910384</td>\n",
       "      <td>2.390182</td>\n",
       "      <td>290.500092</td>\n",
       "      <td>16.942769</td>\n",
       "    </tr>\n",
       "    <tr>\n",
       "      <th>min</th>\n",
       "      <td>1898.007675</td>\n",
       "      <td>0.000000</td>\n",
       "      <td>61.000000</td>\n",
       "      <td>0.000000</td>\n",
       "      <td>0.000000</td>\n",
       "      <td>0.000000</td>\n",
       "      <td>1.000000</td>\n",
       "      <td>0.099007</td>\n",
       "      <td>0.000000</td>\n",
       "    </tr>\n",
       "    <tr>\n",
       "      <th>1%</th>\n",
       "      <td>2230.433731</td>\n",
       "      <td>0.000000</td>\n",
       "      <td>61.000000</td>\n",
       "      <td>0.000000</td>\n",
       "      <td>1.000000</td>\n",
       "      <td>0.000000</td>\n",
       "      <td>1.000000</td>\n",
       "      <td>10.402835</td>\n",
       "      <td>0.000000</td>\n",
       "    </tr>\n",
       "    <tr>\n",
       "      <th>5%</th>\n",
       "      <td>2475.109047</td>\n",
       "      <td>0.000000</td>\n",
       "      <td>62.000000</td>\n",
       "      <td>1.000000</td>\n",
       "      <td>4.000000</td>\n",
       "      <td>0.000000</td>\n",
       "      <td>1.000000</td>\n",
       "      <td>52.261227</td>\n",
       "      <td>2.000000</td>\n",
       "    </tr>\n",
       "    <tr>\n",
       "      <th>25%</th>\n",
       "      <td>3994.251794</td>\n",
       "      <td>0.000000</td>\n",
       "      <td>68.000000</td>\n",
       "      <td>6.000000</td>\n",
       "      <td>24.000000</td>\n",
       "      <td>0.000000</td>\n",
       "      <td>1.000000</td>\n",
       "      <td>272.258244</td>\n",
       "      <td>14.000000</td>\n",
       "    </tr>\n",
       "    <tr>\n",
       "      <th>50%</th>\n",
       "      <td>5780.182197</td>\n",
       "      <td>33889.500000</td>\n",
       "      <td>83.000000</td>\n",
       "      <td>14.000000</td>\n",
       "      <td>48.000000</td>\n",
       "      <td>0.000000</td>\n",
       "      <td>2.000000</td>\n",
       "      <td>383.945434</td>\n",
       "      <td>28.000000</td>\n",
       "    </tr>\n",
       "    <tr>\n",
       "      <th>75%</th>\n",
       "      <td>8962.167041</td>\n",
       "      <td>62320.000000</td>\n",
       "      <td>109.000000</td>\n",
       "      <td>23.000000</td>\n",
       "      <td>71.000000</td>\n",
       "      <td>0.000000</td>\n",
       "      <td>4.000000</td>\n",
       "      <td>547.514839</td>\n",
       "      <td>43.000000</td>\n",
       "    </tr>\n",
       "    <tr>\n",
       "      <th>95%</th>\n",
       "      <td>22064.361267</td>\n",
       "      <td>90374.350000</td>\n",
       "      <td>163.350000</td>\n",
       "      <td>33.000000</td>\n",
       "      <td>93.000000</td>\n",
       "      <td>3.000000</td>\n",
       "      <td>8.000000</td>\n",
       "      <td>960.115399</td>\n",
       "      <td>56.000000</td>\n",
       "    </tr>\n",
       "    <tr>\n",
       "      <th>99%</th>\n",
       "      <td>35971.104520</td>\n",
       "      <td>97831.340000</td>\n",
       "      <td>228.670000</td>\n",
       "      <td>35.000000</td>\n",
       "      <td>98.000000</td>\n",
       "      <td>4.000000</td>\n",
       "      <td>9.000000</td>\n",
       "      <td>1408.560051</td>\n",
       "      <td>58.000000</td>\n",
       "    </tr>\n",
       "    <tr>\n",
       "      <th>max</th>\n",
       "      <td>83325.381190</td>\n",
       "      <td>99981.000000</td>\n",
       "      <td>298.000000</td>\n",
       "      <td>35.000000</td>\n",
       "      <td>99.000000</td>\n",
       "      <td>5.000000</td>\n",
       "      <td>9.000000</td>\n",
       "      <td>2893.239678</td>\n",
       "      <td>58.000000</td>\n",
       "    </tr>\n",
       "  </tbody>\n",
       "</table>\n",
       "</div>"
      ],
      "text/plain": [
       "       Customer Lifetime Value        Income  Monthly Premium Auto  \\\n",
       "count              9134.000000   9134.000000           9134.000000   \n",
       "mean               8004.940475  37657.380009             93.219291   \n",
       "std                6870.967608  30379.904734             34.407967   \n",
       "min                1898.007675      0.000000             61.000000   \n",
       "1%                 2230.433731      0.000000             61.000000   \n",
       "5%                 2475.109047      0.000000             62.000000   \n",
       "25%                3994.251794      0.000000             68.000000   \n",
       "50%                5780.182197  33889.500000             83.000000   \n",
       "75%                8962.167041  62320.000000            109.000000   \n",
       "95%               22064.361267  90374.350000            163.350000   \n",
       "99%               35971.104520  97831.340000            228.670000   \n",
       "max               83325.381190  99981.000000            298.000000   \n",
       "\n",
       "       Months Since Last Claim  Months Since Policy Inception  \\\n",
       "count              9134.000000                    9134.000000   \n",
       "mean                 15.097000                      48.064594   \n",
       "std                  10.073257                      27.905991   \n",
       "min                   0.000000                       0.000000   \n",
       "1%                    0.000000                       1.000000   \n",
       "5%                    1.000000                       4.000000   \n",
       "25%                   6.000000                      24.000000   \n",
       "50%                  14.000000                      48.000000   \n",
       "75%                  23.000000                      71.000000   \n",
       "95%                  33.000000                      93.000000   \n",
       "99%                  35.000000                      98.000000   \n",
       "max                  35.000000                      99.000000   \n",
       "\n",
       "       Number of Open Complaints  Number of Policies  Total Claim Amount  \\\n",
       "count                9134.000000         9134.000000         9134.000000   \n",
       "mean                    0.384388            2.966170          434.088794   \n",
       "std                     0.910384            2.390182          290.500092   \n",
       "min                     0.000000            1.000000            0.099007   \n",
       "1%                      0.000000            1.000000           10.402835   \n",
       "5%                      0.000000            1.000000           52.261227   \n",
       "25%                     0.000000            1.000000          272.258244   \n",
       "50%                     0.000000            2.000000          383.945434   \n",
       "75%                     0.000000            4.000000          547.514839   \n",
       "95%                     3.000000            8.000000          960.115399   \n",
       "99%                     4.000000            9.000000         1408.560051   \n",
       "max                     5.000000            9.000000         2893.239678   \n",
       "\n",
       "       Effective To Date  \n",
       "count        9134.000000  \n",
       "mean           28.837749  \n",
       "std            16.942769  \n",
       "min             0.000000  \n",
       "1%              0.000000  \n",
       "5%              2.000000  \n",
       "25%            14.000000  \n",
       "50%            28.000000  \n",
       "75%            43.000000  \n",
       "95%            56.000000  \n",
       "99%            58.000000  \n",
       "max            58.000000  "
      ]
     },
     "execution_count": 66,
     "metadata": {},
     "output_type": "execute_result"
    }
   ],
   "source": [
    "df_clv[num_df_columns].describe(percentiles=[0.01,0.05,0.25,0.5,0.75,0.95,0.99])"
   ]
  },
  {
   "cell_type": "markdown",
   "metadata": {},
   "source": [
    "Parece que solamente la variable de clase, `Customer Lifetime Value` podría presentar _outliers_. Para comprobar si esos valores extremos corresponden a un error o son parte del \"fenómeno\" que representa la variable, puede dibujarse la distribución de la misma. \n",
    "\n",
    "#### <font color=\"#00586D\"> <i class=\"fa fa-pencil-square-o\" aria-hidden=\"true\" ></i> Ejercicio 26</font> \n",
    "Dibujar la distribución de la variable `Customer Lifetime Value`  con una gráfica `sns.distplot()`/`sns.kdeplot()`."
   ]
  },
  {
   "cell_type": "code",
   "execution_count": 67,
   "metadata": {},
   "outputs": [
    {
     "name": "stderr",
     "output_type": "stream",
     "text": [
      "C:\\Users\\mbc98\\AppData\\Local\\Temp\\ipykernel_776\\815063694.py:2: UserWarning: \n",
      "\n",
      "`distplot` is a deprecated function and will be removed in seaborn v0.14.0.\n",
      "\n",
      "Please adapt your code to use either `displot` (a figure-level function with\n",
      "similar flexibility) or `histplot` (an axes-level function for histograms).\n",
      "\n",
      "For a guide to updating your code to use the new functions, please see\n",
      "https://gist.github.com/mwaskom/de44147ed2974457ad6372750bbe5751\n",
      "\n",
      "  sns.distplot(df_clv[\"Customer Lifetime Value\"]);\n"
     ]
    },
    {
     "data": {
      "image/png": "[encoded data removed]",
      "text/plain": [
       "<Figure size 432x288 with 1 Axes>"
      ]
     },
     "metadata": {},
     "output_type": "display_data"
    }
   ],
   "source": [
    "import seaborn as sns\n",
    "sns.distplot(df_clv[\"Customer Lifetime Value\"]);"
   ]
  },
  {
   "cell_type": "markdown",
   "metadata": {},
   "source": [
    "Se aprecia que los valores extremos no son anomalías o errores. Sin embargo, la diferencia con la mayoría de valores es tan grande, y su proporción en la base de datos tan reducida, que conviene no incluirlos en el modelo. Por tanto, se van a considerar los clientes con un $CLV < 22000$, es decir, aproximadamente el 95%."
   ]
  },
  {
   "cell_type": "markdown",
   "metadata": {},
   "source": [
    "Una vez determinados los tipos de las características, y filtrados los casos extremos, se crearán los conjuntos de entrenamiento y test. "
   ]
  },
  {
   "cell_type": "code",
   "execution_count": 68,
   "metadata": {},
   "outputs": [],
   "source": [
    "from sklearn.model_selection import train_test_split\n",
    "\n",
    "num_df_columns.remove('Customer Lifetime Value')\n",
    "X = df_clv[df_clv['Customer Lifetime Value']<22000].drop('Customer Lifetime Value', axis=1)\n",
    "y = df_clv.loc[df_clv['Customer Lifetime Value']<22000,'Customer Lifetime Value']\n",
    "\n",
    "X_train, X_test, y_train, y_test = train_test_split(X, y, test_size=0.33, random_state=0)"
   ]
  },
  {
   "cell_type": "markdown",
   "metadata": {},
   "source": [
    "<div><font size=3 color=#00586D> <i class=\"fa fa-check-square-o\" aria-hidden=\"true\"></i></font></div>\n",
    "\n",
    "<!--comment -->"
   ]
  },
  {
   "cell_type": "markdown",
   "metadata": {},
   "source": [
    "Para llevar a cabo la transformación se utilizará el mismo procedimiento que en la tarea anterior(los _Pipelines_ `num_transformer` y  `cat_transformer`)."
   ]
  },
  {
   "cell_type": "markdown",
   "metadata": {},
   "source": [
    "#### <font color=\"#00586D\"> <i class=\"fa fa-pencil-square-o\" aria-hidden=\"true\" ></i> Ejercicio 27</font>\n",
    "\n",
    "Crear un objeto `ColumnTransformer` que aplique el _Pipeline_ de transformación `num_transformer` a las columnas en `num_df_colums`, el _Pipeline_ `cat_transformer` a las columnas en `dis_df_columns`. Denominarlo `clf_trans`. (Ambos fueron creados en la sección anterior)."
   ]
  },
  {
   "cell_type": "code",
   "execution_count": 69,
   "metadata": {},
   "outputs": [],
   "source": [
    "clv_trans = ColumnTransformer(transformers=[('num', num_transformer, num_df_columns),\n",
    "                                            ('cat', cat_transformer, dis_df_columns)]\n",
    "                             )"
   ]
  },
  {
   "cell_type": "markdown",
   "metadata": {},
   "source": [
    "<div><font size=3 color=#00586D> <i class=\"fa fa-check-square-o\" aria-hidden=\"true\"></i></font></div>\n",
    "\n",
    "<!--comment -->"
   ]
  },
  {
   "cell_type": "markdown",
   "metadata": {},
   "source": [
    "Con respecto a la predicción, se utilizará inicialmente un modelo de regresión lineal.\n",
    "\n",
    "#### <font color=\"#00586D\"> <i class=\"fa fa-pencil-square-o\" aria-hidden=\"true\" ></i> Ejercicio 28</font>\n",
    "\n",
    "Crear un objeto _Pipeline_, denominado `churn_pipe_linr` a partir de `clv_trans` y un modelo de regresión, que estará almacenado en la variable `linr_model`. Entrenarlo con los datos de entrenamiento. Imprimir el _score_ del modelo para entrenamiento y test. ¿Qué representa este _score_? ¿Qué valoración podría hacerse del mismo?"
   ]
  },
  {
   "cell_type": "code",
   "execution_count": 70,
   "metadata": {},
   "outputs": [
    {
     "name": "stdout",
     "output_type": "stream",
     "text": [
      "Entrenamiento: 0.20364801290343515\n",
      "Test: 0.2009558298286468\n"
     ]
    }
   ],
   "source": [
    "from sklearn.linear_model import LinearRegression\n",
    "\n",
    "# Creo una instancia del modelo\n",
    "linr_model = LinearRegression();\n",
    "\n",
    "# Creo un pipeline\n",
    "churn_pipe_linr =   Pipeline([('prep', clv_trans ),\n",
    "                              ('clas', linr_model)])\n",
    "# Entreno el modelo\n",
    "churn_pipe_linr.fit(X_train, y_train);\n",
    "\n",
    "# Imprimo los resultados\n",
    "print(\"Entrenamiento:\", churn_pipe_linr.score(X_train, y_train))\n",
    "print(\"Test:\", churn_pipe_linr.score(X_test, y_test))"
   ]
  },
  {
   "cell_type": "markdown",
   "metadata": {},
   "source": [
    "___Respuesta:___\n",
    "\n",
    "<br><font color='blue'>\n",
    "    El score del modelo es una medida de qué tan bien se ajusta el modelo a los datos de entrenamiento y test. Es un valor entre 0 y 1, donde un valor más cercano a 1 indica que el modelo se ajusta mejor a los datos. En este caso, el score del modelo para el entrenamiento y el test es bajo, lo que indica que el modelo no se ajusta muy bien a los datos y no es muy preciso en la predicción de los valores de respuesta. Por lo tanto, se puede decir que este modelo no es muy adecuado para predecir la variable objetivo en cuestión.  "
   ]
  },
  {
   "cell_type": "markdown",
   "metadata": {},
   "source": [
    "<div><font size=3 color=#00586D> <i class=\"fa fa-check-square-o\" aria-hidden=\"true\"></i></font></div>\n",
    "\n",
    "<!--comment -->"
   ]
  },
  {
   "cell_type": "markdown",
   "metadata": {},
   "source": [
    "La función `show_errors` muestra el error absoluto medio con respecto a los datos de entrenamiento y test, y también una medida del error relativo absoluto medio. Mostrar los errores relativos al modelo `churn_pipe_linr`. \n",
    "\n",
    "<div class=\"alert alert-block alert-info\">\n",
    "    \n",
    "<i class=\"fa fa-info-circle\" aria-hidden=\"true\"></i> El error relativo absoluto medio se calculará aquí como:\n",
    "\n",
    "$$\n",
    "error_{rel} = \\frac{\\sum_{i=1}^m \\frac{|\\hat{y_i} - y_i|}{y_i}}{m}.\n",
    "$$\n",
    "\n",
    "<br>\n",
    "\n",
    "Hemos creado expresamente esta última medida para hacernos una idea de la magnitud del error con respecto al _CLV_ de cada usuario.\n",
    "</div>"
   ]
  },
  {
   "cell_type": "code",
   "execution_count": 71,
   "metadata": {},
   "outputs": [
    {
     "name": "stdout",
     "output_type": "stream",
     "text": [
      "Entrenamiento\n",
      "\tEl error absoluto medio es: 2627.97\n",
      "\tEl error absoluto relativo medio es: 0.46\n",
      "Test\n",
      "\tEl error absoluto medio es: 2573.59\n",
      "\tEl error absoluto relativo medio es: 0.46\n"
     ]
    }
   ],
   "source": [
    "from sklearn.metrics import mean_absolute_error\n",
    "\n",
    "def show_errors(y, y_pred):\n",
    "    mae = mean_absolute_error(y, y_pred)\n",
    "    rmae = np.sum(np.abs(y-y_pred)/y)/len(y)    \n",
    "    print(f'\\tEl error absoluto medio es: {mae:.2f}')\n",
    "    print(f'\\tEl error absoluto relativo medio es: {rmae:.2f}')\n",
    "\n",
    "print('Entrenamiento')\n",
    "y_pred = churn_pipe_linr.predict(X_train)\n",
    "show_errors(y_train, y_pred)\n",
    "\n",
    "print('Test')\n",
    "y_pred = churn_pipe_linr.predict(X_test)\n",
    "show_errors(y_test, y_pred)"
   ]
  },
  {
   "cell_type": "markdown",
   "metadata": {},
   "source": [
    "<div align=\"right\">\n",
    "<a href=\"#indice\"><font size=5 color=\"#00586D\"><i class=\"fa fa-arrow-circle-up\" aria-hidden=\"true\"></i></font></a>\n",
    "</div>\n",
    "\n",
    "---\n",
    "\n",
    "\n",
    "<a id=\"section21\"></a>\n",
    "## <font color=\"#00586D\"> 2.1 Construcción de un árbol de regresión </font>\n",
    "<br>\n",
    "\n",
    "\n",
    "\n",
    "Puede apreciarse que, tal y como era de esperar, el error es muy alto. Por tanto se va a definir el procedimiento anterior, pero con un árbol de regresión.\n",
    "\n",
    "\n",
    "#### <font color=\"#00586D\"> <i class=\"fa fa-pencil-square-o\" aria-hidden=\"true\" ></i> Ejercicio 29</font>\n",
    "\n",
    "Crear un _Pipeline_ denominado `churn_pipe_dtr`, similar al anterior, pero en el que el modelo predictivo sea un árbol de regresión. Entrenarlo e imprimir su _score_ para entrenamiento y test. \n",
    "\n"
   ]
  },
  {
   "cell_type": "code",
   "execution_count": 72,
   "metadata": {},
   "outputs": [
    {
     "name": "stdout",
     "output_type": "stream",
     "text": [
      "Entrenamiento: 1.0\n",
      "Test: 0.702649059852204\n"
     ]
    }
   ],
   "source": [
    "from sklearn.tree import DecisionTreeRegressor\n",
    "\n",
    "\n",
    "dtr_model = DecisionTreeRegressor(random_state=0);\n",
    "\n",
    "churn_pipe_dtr = Pipeline([ ('prep', clv_trans ),\n",
    "                            ('clas', dtr_model)])\n",
    "\n",
    "churn_pipe_dtr.fit(X_train, y_train);\n",
    "\n",
    "print(\"Entrenamiento:\", churn_pipe_dtr.score(X_train,y_train))\n",
    "print(\"Test:\", churn_pipe_dtr.score(X_test,y_test))"
   ]
  },
  {
   "cell_type": "markdown",
   "metadata": {},
   "source": [
    "<div><font size=3 color=#00586D> <i class=\"fa fa-check-square-o\" aria-hidden=\"true\"></i></font></div>\n",
    "\n",
    "<!--comment -->"
   ]
  },
  {
   "cell_type": "markdown",
   "metadata": {},
   "source": [
    "La siguiente celda muestra el error absoluto medio (también el relativo) para entrenamiento y test: "
   ]
  },
  {
   "cell_type": "code",
   "execution_count": 73,
   "metadata": {},
   "outputs": [
    {
     "name": "stdout",
     "output_type": "stream",
     "text": [
      "Entrenamiento\n",
      "\tEl error absoluto medio es: 0.00\n",
      "\tEl error absoluto relativo medio es: 0.00\n",
      "Test\n",
      "\tEl error absoluto medio es: 692.63\n",
      "\tEl error absoluto relativo medio es: 0.07\n"
     ]
    }
   ],
   "source": [
    "print('Entrenamiento')\n",
    "y_pred = churn_pipe_dtr.predict(X_train)\n",
    "show_errors(y_train, y_pred)\n",
    "\n",
    "print('Test')\n",
    "y_pred = churn_pipe_dtr.predict(X_test)\n",
    "show_errors(y_test, y_pred)"
   ]
  },
  {
   "cell_type": "markdown",
   "metadata": {},
   "source": [
    "Por otra parte, el tamaño del árbol obtenido es:"
   ]
  },
  {
   "cell_type": "code",
   "execution_count": 74,
   "metadata": {},
   "outputs": [
    {
     "name": "stdout",
     "output_type": "stream",
     "text": [
      "Profundidad: 30\n",
      "Número de hojas: 5278\n"
     ]
    }
   ],
   "source": [
    "print(f\"Profundidad: {churn_pipe_dtr.named_steps['clas'].get_depth()}\")\n",
    "print(f\"Número de hojas: {churn_pipe_dtr.named_steps['clas'].get_n_leaves()}\")"
   ]
  },
  {
   "cell_type": "markdown",
   "metadata": {},
   "source": [
    "#### <font color=\"#00586D\"> <i class=\"fa fa-pencil-square-o\" aria-hidden=\"true\" ></i> Ejercicio 30</font> \n",
    "\n",
    "¿Qué conclusión se puede sacar de los resultados?"
   ]
  },
  {
   "cell_type": "markdown",
   "metadata": {},
   "source": [
    "___Respuesta:___\n",
    "\n",
    "<br><font color='blue'>\n",
    "En el análisis del modelo de regresión, vemos que el árbol de regresión puede predecir con mayor precisión que otros modelos. Sin embargo, existe una diferencia significativa entre la precisión en los datos de entrenamiento (1.0) y en los datos de prueba (0.7), lo que sugiere que el modelo puede estar sobreajustado a los datos de entrenamiento y no generalizar bien a otros datos nuevos."
   ]
  },
  {
   "cell_type": "markdown",
   "metadata": {},
   "source": [
    "<div><font size=3 color=#00586D> <i class=\"fa fa-check-square-o\" aria-hidden=\"true\"></i></font></div>\n",
    "\n",
    "<!--comment -->"
   ]
  },
  {
   "cell_type": "markdown",
   "metadata": {},
   "source": [
    "En el caso anterior, no se había limitado la profundidad, por lo que el tamaño del árbol resultante es muy grande.\n",
    " \n",
    "#### <font color=\"#00586D\"> <i class=\"fa fa-pencil-square-o\" aria-hidden=\"true\" ></i> Ejercicio 31</font> \n",
    "\n",
    "\n",
    "A continuación se determinará, mediante `GridSearchCV` la profundidad adecuada. Crear un _Pipeline_ similar anterior, denominado `churn_pipe_dtr_p`. Utilizar validación cruzada de 5 particiones, y `neg_mean_absolute_error` como medida de _scoring_.  Almacenar el _Pipeline_ resultante en `churn_pipe_dtr_p`. Por último, imprimir los _score_ ($R^2$) del modelo obtenido."
   ]
  },
  {
   "cell_type": "code",
   "execution_count": 75,
   "metadata": {},
   "outputs": [
    {
     "name": "stdout",
     "output_type": "stream",
     "text": [
      "Mejor score:  -725.3055980428136\n",
      "Mejor configuración de parámetros:  {'clas__max_depth': 10}\n",
      "\n",
      "Entrenamiento: 0.8893117529464726\n",
      "Test: 0.7836483671865917\n"
     ]
    }
   ],
   "source": [
    "parameters = {}\n",
    "parameters['clas__max_depth'] = [None, 2, 5, 10, 15, 20]\n",
    "\n",
    "dtr_p_model = DecisionTreeRegressor(random_state=0);\n",
    "\n",
    "churn_pipe_dtr_p = Pipeline(steps=[('prep', clv_trans),\n",
    "                                   ('clas', dtr_p_model)])\n",
    "\n",
    "GS_p = GridSearchCV(churn_pipe_dtr_p, param_grid=parameters, scoring='neg_mean_absolute_error', cv=5, refit=True)\n",
    "GS_p.fit(X_train, y_train)\n",
    "\n",
    "# Muestro los resultados de la búsqueda    \n",
    "print(\"Mejor score: \", GS_p.best_score_)\n",
    "print(\"Mejor configuración de parámetros: \", GS_p.best_params_)\n",
    "\n",
    "# Obtengo el mejor modelo   \n",
    "churn_pipe_dtr_p = GS_p.best_estimator_\n",
    "\n",
    "print(\"\\nEntrenamiento:\", churn_pipe_dtr_p.score(X_train, y_train))\n",
    "print(\"Test:\", churn_pipe_dtr_p.score(X_test, y_test))"
   ]
  },
  {
   "cell_type": "markdown",
   "metadata": {},
   "source": [
    "Por otra parte, el tamaño del árbol obtenido es ahora:"
   ]
  },
  {
   "cell_type": "code",
   "execution_count": 76,
   "metadata": {},
   "outputs": [
    {
     "name": "stdout",
     "output_type": "stream",
     "text": [
      "Profundidad: 10\n",
      "Número de hojas: 695\n"
     ]
    }
   ],
   "source": [
    "print(f\"Profundidad: {churn_pipe_dtr_p.named_steps['clas'].get_depth()}\")\n",
    "print(f\"Número de hojas: {churn_pipe_dtr_p.named_steps['clas'].get_n_leaves()}\")"
   ]
  },
  {
   "cell_type": "markdown",
   "metadata": {},
   "source": [
    "Error absoluto medio (también el relativo) para entrenamiento y test: "
   ]
  },
  {
   "cell_type": "code",
   "execution_count": 77,
   "metadata": {},
   "outputs": [
    {
     "name": "stdout",
     "output_type": "stream",
     "text": [
      "Entrenamiento\n",
      "\tEl error absoluto medio es: 466.04\n",
      "\tEl error absoluto relativo medio es: 0.05\n",
      "Test\n",
      "\tEl error absoluto medio es: 673.70\n",
      "\tEl error absoluto relativo medio es: 0.07\n"
     ]
    }
   ],
   "source": [
    "print('Entrenamiento')\n",
    "y_pred = churn_pipe_dtr_p.predict(X_train)\n",
    "show_errors(y_train, y_pred)\n",
    "\n",
    "print('Test')\n",
    "y_pred = churn_pipe_dtr_p.predict(X_test)\n",
    "show_errors(y_test, y_pred)"
   ]
  },
  {
   "cell_type": "markdown",
   "metadata": {},
   "source": [
    "<div><font size=3 color=#00586D> <i class=\"fa fa-check-square-o\" aria-hidden=\"true\"></i></font></div>\n",
    "\n",
    "<!--comment -->"
   ]
  },
  {
   "cell_type": "markdown",
   "metadata": {},
   "source": [
    "#### <font color=\"#00586D\"> <i class=\"fa fa-pencil-square-o\" aria-hidden=\"true\" ></i> Ejercicio 32</font>\n",
    "\n",
    "\n",
    "Compara y analiza los resultados obtenidos con respecto a los obtenidos anteriormente."
   ]
  },
  {
   "cell_type": "markdown",
   "metadata": {},
   "source": [
    "___Respuesta:___\n",
    "\n",
    "<br><font color='blue'>\n",
    "    Se observa que el primer árbol de regresión presentaba sobreajuste debido a su gran profundidad de 30 y una puntuación perfecta de 1 en entrenamiento, pero una puntuación menor de 0.7 en la prueba. <br>\n",
    "    En este apartado se ha utilizado GridSearchCV para determinar la profundidad más apropiada del árbol, resultando ser 10. Esto ha mejorado la capacidad predictiva del modelo, reduciendo el sobreajuste y obteniendo una puntuación de 0.89 en entrenamiento y 0.78 en la prueba.\n"
   ]
  },
  {
   "cell_type": "markdown",
   "metadata": {},
   "source": [
    "<div><font size=3 color=#00586D> <i class=\"fa fa-check-square-o\" aria-hidden=\"true\"></i></font></div>\n",
    "\n",
    "<!--comment -->"
   ]
  },
  {
   "cell_type": "markdown",
   "metadata": {},
   "source": [
    "<div align=\"right\">\n",
    "<a href=\"#indice\"><font size=5 color=\"#00586D\"><i class=\"fa fa-arrow-circle-up\" aria-hidden=\"true\"></i></font></a>\n",
    "</div>\n",
    "\n",
    "---\n",
    "\n",
    "<a id=\"section3\"></a>\n",
    "# <font color=\"#00586D\"> 3. Segmentación de clientes</font>\n",
    "<br>\n",
    "\n",
    "En el manejo de la relación con el cliente (_CRM_) es necesario tener en cuenta varios factores. Por un lado, cada cliente tiene unas peculiaridades, y la relación con él se ha de definir de manera concreta. Por otro lado, el número de clientes es elevado, y no es posible personalizar completamente el modo en que se va a llevar la relación. Debido a esto, una de las tareas relacionadas con ciencia de datos que son más comunes en _CRM_ es la segmentación, cuyo objetivo es crear grupos de clientes con el mismo perfil.\n",
    "<br>\n",
    "\n",
    "Para abordar la segmentación se utilizan algoritmos de _clustering_. Una de las particularidades de estos algoritmos es que pierden utilidad cuando se trata con un número muy elevado de variables. Por eso suelen utilizarse con conjuntos reducidos. Un tipo de análisis frecuente en este sentido es el RFM (_Recency_, _Frequency_, _Monetary value_), en el que se segmenta a los clientes en función de cuando hicieron su última transacción, con qué frecuencia han hecho transacciones, y cuanto dinero han gastado en total. \n",
    "<br>\n",
    "\n",
    "En esta tarea se partirá de un conjunto de datos de venta online obtenido en el repositorio de conjuntos de datos de la [UCI](https://archive.ics.uci.edu/ml/datasets/online+retail) (un subconjunto de éste). Tras una serie de transformaciones, se utilizará `KMeans` para caracterizar los clusters."
   ]
  },
  {
   "cell_type": "markdown",
   "metadata": {},
   "source": [
    "A continuación, se lee el conjunto de datos `data/segmentation/online12M.csv` y se guarda en el `DataFrame` `df_ol`. La columna `InvoiceDate` se trata como marca de tiempo. "
   ]
  },
  {
   "cell_type": "code",
   "execution_count": 78,
   "metadata": {},
   "outputs": [
    {
     "name": "stdout",
     "output_type": "stream",
     "text": [
      "Tamaño del conjunto de datos:  68176\n",
      "Número de variables: 8\n",
      "El índice es único.\n"
     ]
    },
    {
     "data": {
      "text/html": [
       "<div>\n",
       "<style scoped>\n",
       "    .dataframe tbody tr th:only-of-type {\n",
       "        vertical-align: middle;\n",
       "    }\n",
       "\n",
       "    .dataframe tbody tr th {\n",
       "        vertical-align: top;\n",
       "    }\n",
       "\n",
       "    .dataframe thead th {\n",
       "        text-align: right;\n",
       "    }\n",
       "</style>\n",
       "<table border=\"1\" class=\"dataframe\">\n",
       "  <thead>\n",
       "    <tr style=\"text-align: right;\">\n",
       "      <th></th>\n",
       "      <th>InvoiceNo</th>\n",
       "      <th>StockCode</th>\n",
       "      <th>Description</th>\n",
       "      <th>Quantity</th>\n",
       "      <th>InvoiceDate</th>\n",
       "      <th>UnitPrice</th>\n",
       "      <th>CustomerID</th>\n",
       "      <th>Country</th>\n",
       "    </tr>\n",
       "  </thead>\n",
       "  <tbody>\n",
       "    <tr>\n",
       "      <th>416792</th>\n",
       "      <td>572558</td>\n",
       "      <td>22745</td>\n",
       "      <td>POPPY'S PLAYHOUSE BEDROOM</td>\n",
       "      <td>6</td>\n",
       "      <td>2011-10-25</td>\n",
       "      <td>2.10</td>\n",
       "      <td>14286</td>\n",
       "      <td>United Kingdom</td>\n",
       "    </tr>\n",
       "    <tr>\n",
       "      <th>482904</th>\n",
       "      <td>577485</td>\n",
       "      <td>23196</td>\n",
       "      <td>VINTAGE LEAF MAGNETIC NOTEPAD</td>\n",
       "      <td>1</td>\n",
       "      <td>2011-11-20</td>\n",
       "      <td>1.45</td>\n",
       "      <td>16360</td>\n",
       "      <td>United Kingdom</td>\n",
       "    </tr>\n",
       "    <tr>\n",
       "      <th>263743</th>\n",
       "      <td>560034</td>\n",
       "      <td>23299</td>\n",
       "      <td>FOOD COVER WITH BEADS SET 2</td>\n",
       "      <td>6</td>\n",
       "      <td>2011-07-14</td>\n",
       "      <td>3.75</td>\n",
       "      <td>13933</td>\n",
       "      <td>United Kingdom</td>\n",
       "    </tr>\n",
       "    <tr>\n",
       "      <th>495549</th>\n",
       "      <td>578307</td>\n",
       "      <td>72349B</td>\n",
       "      <td>SET/6 PURPLE BUTTERFLY T-LIGHTS</td>\n",
       "      <td>1</td>\n",
       "      <td>2011-11-23</td>\n",
       "      <td>2.10</td>\n",
       "      <td>17290</td>\n",
       "      <td>United Kingdom</td>\n",
       "    </tr>\n",
       "    <tr>\n",
       "      <th>204384</th>\n",
       "      <td>554656</td>\n",
       "      <td>21756</td>\n",
       "      <td>BATH BUILDING BLOCK WORD</td>\n",
       "      <td>3</td>\n",
       "      <td>2011-05-25</td>\n",
       "      <td>5.95</td>\n",
       "      <td>17663</td>\n",
       "      <td>United Kingdom</td>\n",
       "    </tr>\n",
       "  </tbody>\n",
       "</table>\n",
       "</div>"
      ],
      "text/plain": [
       "        InvoiceNo StockCode                      Description  Quantity  \\\n",
       "416792     572558     22745       POPPY'S PLAYHOUSE BEDROOM          6   \n",
       "482904     577485     23196    VINTAGE LEAF MAGNETIC NOTEPAD         1   \n",
       "263743     560034     23299     FOOD COVER WITH BEADS SET 2          6   \n",
       "495549     578307    72349B  SET/6 PURPLE BUTTERFLY T-LIGHTS         1   \n",
       "204384     554656     21756         BATH BUILDING BLOCK WORD         3   \n",
       "\n",
       "       InvoiceDate  UnitPrice  CustomerID         Country  \n",
       "416792  2011-10-25       2.10       14286  United Kingdom  \n",
       "482904  2011-11-20       1.45       16360  United Kingdom  \n",
       "263743  2011-07-14       3.75       13933  United Kingdom  \n",
       "495549  2011-11-23       2.10       17290  United Kingdom  \n",
       "204384  2011-05-25       5.95       17663  United Kingdom  "
      ]
     },
     "execution_count": 78,
     "metadata": {},
     "output_type": "execute_result"
    }
   ],
   "source": [
    "# Carga los datos \n",
    "df_ol = pd.read_csv('data/segmentation/online12M.csv', index_col=0, parse_dates=['InvoiceDate']);\n",
    "\n",
    "print(\"Tamaño del conjunto de datos:  %d\" % df_ol.shape[0])\n",
    "print(\"Número de variables: %d\" % df_ol.shape[1])\n",
    "if df_ol.index.is_unique:\n",
    "    print('El índice es único.')\n",
    "else:\n",
    "    print('Los índices están duplicados.')\n",
    "    \n",
    "# Visualiza las primeras instancias\n",
    "df_ol.head()"
   ]
  },
  {
   "cell_type": "markdown",
   "metadata": {},
   "source": [
    "Una de las columnas que vamos a utilizar (_Monetary Value_) hace referencia al precio total gastado por cliente. La columna  `Total` almacena el resultado de multiplicar el precio por unidad de cada compra (`UnitPrice`) por la cantidad de unidades (`Quantity`)."
   ]
  },
  {
   "cell_type": "code",
   "execution_count": 79,
   "metadata": {},
   "outputs": [
    {
     "data": {
      "text/html": [
       "<div>\n",
       "<style scoped>\n",
       "    .dataframe tbody tr th:only-of-type {\n",
       "        vertical-align: middle;\n",
       "    }\n",
       "\n",
       "    .dataframe tbody tr th {\n",
       "        vertical-align: top;\n",
       "    }\n",
       "\n",
       "    .dataframe thead th {\n",
       "        text-align: right;\n",
       "    }\n",
       "</style>\n",
       "<table border=\"1\" class=\"dataframe\">\n",
       "  <thead>\n",
       "    <tr style=\"text-align: right;\">\n",
       "      <th></th>\n",
       "      <th>InvoiceNo</th>\n",
       "      <th>StockCode</th>\n",
       "      <th>Description</th>\n",
       "      <th>Quantity</th>\n",
       "      <th>InvoiceDate</th>\n",
       "      <th>UnitPrice</th>\n",
       "      <th>CustomerID</th>\n",
       "      <th>Country</th>\n",
       "      <th>Total</th>\n",
       "    </tr>\n",
       "  </thead>\n",
       "  <tbody>\n",
       "    <tr>\n",
       "      <th>416792</th>\n",
       "      <td>572558</td>\n",
       "      <td>22745</td>\n",
       "      <td>POPPY'S PLAYHOUSE BEDROOM</td>\n",
       "      <td>6</td>\n",
       "      <td>2011-10-25</td>\n",
       "      <td>2.10</td>\n",
       "      <td>14286</td>\n",
       "      <td>United Kingdom</td>\n",
       "      <td>12.60</td>\n",
       "    </tr>\n",
       "    <tr>\n",
       "      <th>482904</th>\n",
       "      <td>577485</td>\n",
       "      <td>23196</td>\n",
       "      <td>VINTAGE LEAF MAGNETIC NOTEPAD</td>\n",
       "      <td>1</td>\n",
       "      <td>2011-11-20</td>\n",
       "      <td>1.45</td>\n",
       "      <td>16360</td>\n",
       "      <td>United Kingdom</td>\n",
       "      <td>1.45</td>\n",
       "    </tr>\n",
       "    <tr>\n",
       "      <th>263743</th>\n",
       "      <td>560034</td>\n",
       "      <td>23299</td>\n",
       "      <td>FOOD COVER WITH BEADS SET 2</td>\n",
       "      <td>6</td>\n",
       "      <td>2011-07-14</td>\n",
       "      <td>3.75</td>\n",
       "      <td>13933</td>\n",
       "      <td>United Kingdom</td>\n",
       "      <td>22.50</td>\n",
       "    </tr>\n",
       "    <tr>\n",
       "      <th>495549</th>\n",
       "      <td>578307</td>\n",
       "      <td>72349B</td>\n",
       "      <td>SET/6 PURPLE BUTTERFLY T-LIGHTS</td>\n",
       "      <td>1</td>\n",
       "      <td>2011-11-23</td>\n",
       "      <td>2.10</td>\n",
       "      <td>17290</td>\n",
       "      <td>United Kingdom</td>\n",
       "      <td>2.10</td>\n",
       "    </tr>\n",
       "    <tr>\n",
       "      <th>204384</th>\n",
       "      <td>554656</td>\n",
       "      <td>21756</td>\n",
       "      <td>BATH BUILDING BLOCK WORD</td>\n",
       "      <td>3</td>\n",
       "      <td>2011-05-25</td>\n",
       "      <td>5.95</td>\n",
       "      <td>17663</td>\n",
       "      <td>United Kingdom</td>\n",
       "      <td>17.85</td>\n",
       "    </tr>\n",
       "  </tbody>\n",
       "</table>\n",
       "</div>"
      ],
      "text/plain": [
       "        InvoiceNo StockCode                      Description  Quantity  \\\n",
       "416792     572558     22745       POPPY'S PLAYHOUSE BEDROOM          6   \n",
       "482904     577485     23196    VINTAGE LEAF MAGNETIC NOTEPAD         1   \n",
       "263743     560034     23299     FOOD COVER WITH BEADS SET 2          6   \n",
       "495549     578307    72349B  SET/6 PURPLE BUTTERFLY T-LIGHTS         1   \n",
       "204384     554656     21756         BATH BUILDING BLOCK WORD         3   \n",
       "\n",
       "       InvoiceDate  UnitPrice  CustomerID         Country  Total  \n",
       "416792  2011-10-25       2.10       14286  United Kingdom  12.60  \n",
       "482904  2011-11-20       1.45       16360  United Kingdom   1.45  \n",
       "263743  2011-07-14       3.75       13933  United Kingdom  22.50  \n",
       "495549  2011-11-23       2.10       17290  United Kingdom   2.10  \n",
       "204384  2011-05-25       5.95       17663  United Kingdom  17.85  "
      ]
     },
     "execution_count": 79,
     "metadata": {},
     "output_type": "execute_result"
    }
   ],
   "source": [
    "df_ol['Total'] = df_ol['Quantity']*df_ol['UnitPrice']\n",
    "df_ol.head()"
   ]
  },
  {
   "cell_type": "markdown",
   "metadata": {},
   "source": [
    "A continuación se crearán las columnas `Recency, Frequency` y `MonetaryValue`. Para ello, se han de agrupar los datos por cliente, y después hacer una agregación a partir del grupo sobre las columnas:\n",
    "* `InvoiceDat`. Hay que crear un día de referencia (el posterior al último de la lista) y restarle el último día (`max`) en que compró cada cliente. El resultado, un `TimeDelta` se devuelve en días (`.days`).\n",
    "* `InvoiceNo`. Se cuenta el número de facturas.\n",
    "* `MonitaryValue`. Se suma, para cada grupo, la columna `Total`."
   ]
  },
  {
   "cell_type": "markdown",
   "metadata": {},
   "source": [
    "A continuación se obtiene la información según el procedimiento descrito, y se almacena en el `DataFrame` `df_rfm`."
   ]
  },
  {
   "cell_type": "code",
   "execution_count": 80,
   "metadata": {},
   "outputs": [],
   "source": [
    "import datetime\n",
    "dia_ref = max(df_ol['InvoiceDate']) + datetime.timedelta(days=1)"
   ]
  },
  {
   "cell_type": "code",
   "execution_count": 81,
   "metadata": {},
   "outputs": [
    {
     "data": {
      "text/html": [
       "<div>\n",
       "<style scoped>\n",
       "    .dataframe tbody tr th:only-of-type {\n",
       "        vertical-align: middle;\n",
       "    }\n",
       "\n",
       "    .dataframe tbody tr th {\n",
       "        vertical-align: top;\n",
       "    }\n",
       "\n",
       "    .dataframe thead th {\n",
       "        text-align: right;\n",
       "    }\n",
       "</style>\n",
       "<table border=\"1\" class=\"dataframe\">\n",
       "  <thead>\n",
       "    <tr style=\"text-align: right;\">\n",
       "      <th></th>\n",
       "      <th>Recency</th>\n",
       "      <th>Frequency</th>\n",
       "      <th>MonetaryValue</th>\n",
       "    </tr>\n",
       "    <tr>\n",
       "      <th>CustomerID</th>\n",
       "      <th></th>\n",
       "      <th></th>\n",
       "      <th></th>\n",
       "    </tr>\n",
       "  </thead>\n",
       "  <tbody>\n",
       "    <tr>\n",
       "      <th>12747</th>\n",
       "      <td>3</td>\n",
       "      <td>25</td>\n",
       "      <td>948.70</td>\n",
       "    </tr>\n",
       "    <tr>\n",
       "      <th>12748</th>\n",
       "      <td>1</td>\n",
       "      <td>888</td>\n",
       "      <td>7046.16</td>\n",
       "    </tr>\n",
       "    <tr>\n",
       "      <th>12749</th>\n",
       "      <td>4</td>\n",
       "      <td>37</td>\n",
       "      <td>813.45</td>\n",
       "    </tr>\n",
       "    <tr>\n",
       "      <th>12820</th>\n",
       "      <td>4</td>\n",
       "      <td>17</td>\n",
       "      <td>268.02</td>\n",
       "    </tr>\n",
       "    <tr>\n",
       "      <th>12822</th>\n",
       "      <td>71</td>\n",
       "      <td>9</td>\n",
       "      <td>146.15</td>\n",
       "    </tr>\n",
       "  </tbody>\n",
       "</table>\n",
       "</div>"
      ],
      "text/plain": [
       "            Recency  Frequency  MonetaryValue\n",
       "CustomerID                                   \n",
       "12747             3         25         948.70\n",
       "12748             1        888        7046.16\n",
       "12749             4         37         813.45\n",
       "12820             4         17         268.02\n",
       "12822            71          9         146.15"
      ]
     },
     "execution_count": 81,
     "metadata": {},
     "output_type": "execute_result"
    }
   ],
   "source": [
    "df_rfm = df_ol.groupby(['CustomerID']).agg({ \n",
    "    'InvoiceDate': lambda x: (dia_ref - x.max()).days, \n",
    "    'InvoiceNo': 'count',\n",
    "    'Total': 'sum'})\n",
    "\n",
    "df_rfm.rename(columns = {'InvoiceDate': 'Recency', 'InvoiceNo': 'Frequency', 'Total': 'MonetaryValue'}, inplace=True)\n",
    "\n",
    "df_rfm.head()"
   ]
  },
  {
   "cell_type": "markdown",
   "metadata": {},
   "source": [
    "<div class=\"alert alert-block alert-info\">\n",
    "    \n",
    "<i class=\"fa fa-info-circle\" aria-hidden=\"true\"></i> Un valor más alto de `Recency` implica que la última compra del cliente ocurrió hace más tiempo.\n",
    "</div>"
   ]
  },
  {
   "cell_type": "markdown",
   "metadata": {},
   "source": [
    "#### <font color=\"#00586D\"> <i class=\"fa fa-pencil-square-o\" aria-hidden=\"true\" ></i> Ejercicio 33</font>\n",
    "\n",
    "Dibujar la distribución de cada una de las variables mediante `sns.kdeplot()` en una figura de $1 \\times 3$ gráficas."
   ]
  },
  {
   "cell_type": "code",
   "execution_count": 82,
   "metadata": {},
   "outputs": [
    {
     "data": {
      "image/png": "[encoded data removed]",
      "text/plain": [
       "<Figure size 1080x360 with 3 Axes>"
      ]
     },
     "metadata": {},
     "output_type": "display_data"
    }
   ],
   "source": [
    "fig, axs = plt.subplots(1, 3, figsize=(15, 5))\n",
    "features = ['Recency', 'Frequency','MonetaryValue']\n",
    "for col, ax in enumerate(axs.flatten()):\n",
    "    col_name = features[col]\n",
    "    sns.kdeplot(df_rfm[features[col]], ax=ax) \n",
    "    ax.set_yticks([])"
   ]
  },
  {
   "cell_type": "markdown",
   "metadata": {},
   "source": [
    "<div><font size=3 color=#00586D> <i class=\"fa fa-check-square-o\" aria-hidden=\"true\"></i></font></div>\n",
    "\n",
    "<!--comment -->"
   ]
  },
  {
   "cell_type": "markdown",
   "metadata": {},
   "source": [
    "Puede apreciarse que las distribuciones están muy sesgadas. Esto supone un problema para el algoritmo `KMeans` que construye los clusters por distancias. Una forma de solucionarlo es utilizar el logaritmo de las variables.  El resultado se almacena en el `DataFrame` `dt_rfm_log`."
   ]
  },
  {
   "cell_type": "code",
   "execution_count": 83,
   "metadata": {},
   "outputs": [],
   "source": [
    "df_rfm_log = np.log(df_rfm)"
   ]
  },
  {
   "cell_type": "markdown",
   "metadata": {},
   "source": [
    "**La diferencia de escalas también supone un problema**, ya que intrínsecamente, hace que el cálculo de las distancias de más importancia a las variables con mayor rango. Debido a esto, es necesario estandarizar los datos. El resultado se almacena en el *DataFrame* `df_rfm_norm`."
   ]
  },
  {
   "cell_type": "code",
   "execution_count": 84,
   "metadata": {},
   "outputs": [
    {
     "data": {
      "text/html": [
       "<div>\n",
       "<style scoped>\n",
       "    .dataframe tbody tr th:only-of-type {\n",
       "        vertical-align: middle;\n",
       "    }\n",
       "\n",
       "    .dataframe tbody tr th {\n",
       "        vertical-align: top;\n",
       "    }\n",
       "\n",
       "    .dataframe thead th {\n",
       "        text-align: right;\n",
       "    }\n",
       "</style>\n",
       "<table border=\"1\" class=\"dataframe\">\n",
       "  <thead>\n",
       "    <tr style=\"text-align: right;\">\n",
       "      <th></th>\n",
       "      <th>Recency</th>\n",
       "      <th>Frequency</th>\n",
       "      <th>MonetaryValue</th>\n",
       "    </tr>\n",
       "  </thead>\n",
       "  <tbody>\n",
       "    <tr>\n",
       "      <th>count</th>\n",
       "      <td>3.643000e+03</td>\n",
       "      <td>3.643000e+03</td>\n",
       "      <td>3.643000e+03</td>\n",
       "    </tr>\n",
       "    <tr>\n",
       "      <th>mean</th>\n",
       "      <td>-7.604344e-15</td>\n",
       "      <td>-1.081413e-14</td>\n",
       "      <td>-1.258779e-14</td>\n",
       "    </tr>\n",
       "    <tr>\n",
       "      <th>std</th>\n",
       "      <td>1.000000e+00</td>\n",
       "      <td>1.000000e+00</td>\n",
       "      <td>1.000000e+00</td>\n",
       "    </tr>\n",
       "    <tr>\n",
       "      <th>min</th>\n",
       "      <td>-2.814131e+00</td>\n",
       "      <td>-1.794485e+00</td>\n",
       "      <td>-4.092988e+00</td>\n",
       "    </tr>\n",
       "    <tr>\n",
       "      <th>25%</th>\n",
       "      <td>-6.373074e-01</td>\n",
       "      <td>-6.490904e-01</td>\n",
       "      <td>-6.578277e-01</td>\n",
       "    </tr>\n",
       "    <tr>\n",
       "      <th>50%</th>\n",
       "      <td>9.266763e-02</td>\n",
       "      <td>2.092218e-02</td>\n",
       "      <td>-1.489601e-02</td>\n",
       "    </tr>\n",
       "    <tr>\n",
       "      <th>75%</th>\n",
       "      <td>8.339256e-01</td>\n",
       "      <td>7.209827e-01</td>\n",
       "      <td>6.692029e-01</td>\n",
       "    </tr>\n",
       "    <tr>\n",
       "      <th>max</th>\n",
       "      <td>1.547663e+00</td>\n",
       "      <td>4.246243e+00</td>\n",
       "      <td>4.458854e+00</td>\n",
       "    </tr>\n",
       "  </tbody>\n",
       "</table>\n",
       "</div>"
      ],
      "text/plain": [
       "            Recency     Frequency  MonetaryValue\n",
       "count  3.643000e+03  3.643000e+03   3.643000e+03\n",
       "mean  -7.604344e-15 -1.081413e-14  -1.258779e-14\n",
       "std    1.000000e+00  1.000000e+00   1.000000e+00\n",
       "min   -2.814131e+00 -1.794485e+00  -4.092988e+00\n",
       "25%   -6.373074e-01 -6.490904e-01  -6.578277e-01\n",
       "50%    9.266763e-02  2.092218e-02  -1.489601e-02\n",
       "75%    8.339256e-01  7.209827e-01   6.692029e-01\n",
       "max    1.547663e+00  4.246243e+00   4.458854e+00"
      ]
     },
     "execution_count": 84,
     "metadata": {},
     "output_type": "execute_result"
    }
   ],
   "source": [
    "df_rfm_norm = df_rfm_log - df_rfm_log.mean()\n",
    "df_rfm_norm = df_rfm_norm / df_rfm_log.std()\n",
    "df_rfm_norm.describe()"
   ]
  },
  {
   "cell_type": "markdown",
   "metadata": {},
   "source": [
    "Una vez preparados los datos, se puede llevar a cabo el procedimiento de agrupación. El algoritmo `KMeans` toma como parametro más importante `k` que corresponde al número de clusters. Cuando no se tiene información a priori, se dibuja la curva del coste en función de `k`. Debido a que se busca un compromiso entre un bajo coste, y un número reducido de clusters,  se toma aquel valor de `k ` a partir del cual el descenso es menor. Este método se conoce como _método del codo_.\n",
    "\n",
    "#### <font color=\"#00586D\"> <i class=\"fa fa-pencil-square-o\" aria-hidden=\"true\" ></i> Ejercicio 34</font>\n",
    "\n",
    "Ejecutar `KMeans` para valores del 1 al 15 sobre el conjunto de datos `df_rfm_norm`. Almacenando el coste resultante (`KMeans.inertia_`) para cada valor de `k` en el diccionario `cost`."
   ]
  },
  {
   "cell_type": "code",
   "execution_count": 85,
   "metadata": {},
   "outputs": [],
   "source": [
    "from sklearn.cluster import KMeans\n",
    "\n",
    "cost = {}\n",
    "for k in range(1, 15):\n",
    "    kmeans = KMeans(n_clusters=k, random_state=0, n_init=10)\n",
    "    kmeans.fit(df_rfm_norm)\n",
    "    cost[k] = kmeans.inertia_"
   ]
  },
  {
   "cell_type": "markdown",
   "metadata": {},
   "source": [
    "<div><font size=3 color=#00586D> <i class=\"fa fa-check-square-o\" aria-hidden=\"true\"></i></font></div>\n",
    "\n",
    "<!--comment -->"
   ]
  },
  {
   "cell_type": "markdown",
   "metadata": {},
   "source": [
    " #### <font color=\"#00586D\"> <i class=\"fa fa-pencil-square-o\" aria-hidden=\"true\" ></i> Ejercicio 35</font> \n",
    " \n",
    " Dibujar la función de coste (utilizar `cost.keys()` y `cost.values()`)."
   ]
  },
  {
   "cell_type": "code",
   "execution_count": 86,
   "metadata": {},
   "outputs": [
    {
     "data": {
      "image/png": "[encoded data removed]",
      "text/plain": [
       "<Figure size 432x288 with 1 Axes>"
      ]
     },
     "metadata": {},
     "output_type": "display_data"
    }
   ],
   "source": [
    "plt.plot(list(cost.keys()), list(cost.values()))\n",
    "plt.title('Kmeans performance in terms of the number of groups')\n",
    "plt.xlabel(\"Number of clusters (k)\")\n",
    "plt.ylabel(\"Cost (KMeans.inertia_)\")\n",
    "plt.show()"
   ]
  },
  {
   "cell_type": "markdown",
   "metadata": {},
   "source": [
    "<div><font size=3 color=#00586D> <i class=\"fa fa-check-square-o\" aria-hidden=\"true\"></i></font></div>\n",
    "\n",
    "<!--comment -->"
   ]
  },
  {
   "cell_type": "markdown",
   "metadata": {},
   "source": [
    "Parece que a partir de $k=4$ el descenso es menor. \n",
    "\n",
    "#### <font color=\"#00586D\"> <i class=\"fa fa-pencil-square-o\" aria-hidden=\"true\" ></i> Ejercicio 36</font> \n",
    "\n",
    "Realizar el agrupamiento con `k=4`."
   ]
  },
  {
   "cell_type": "code",
   "execution_count": 87,
   "metadata": {},
   "outputs": [
    {
     "data": {
      "text/html": [
       "<style>#sk-container-id-6 {color: black;background-color: white;}#sk-container-id-6 pre{padding: 0;}#sk-container-id-6 div.sk-toggleable {background-color: white;}#sk-container-id-6 label.sk-toggleable__label {cursor: pointer;display: block;width: 100%;margin-bottom: 0;padding: 0.3em;box-sizing: border-box;text-align: center;}#sk-container-id-6 label.sk-toggleable__label-arrow:before {content: \"▸\";float: left;margin-right: 0.25em;color: #696969;}#sk-container-id-6 label.sk-toggleable__label-arrow:hover:before {color: black;}#sk-container-id-6 div.sk-estimator:hover label.sk-toggleable__label-arrow:before {color: black;}#sk-container-id-6 div.sk-toggleable__content {max-height: 0;max-width: 0;overflow: hidden;text-align: left;background-color: #f0f8ff;}#sk-container-id-6 div.sk-toggleable__content pre {margin: 0.2em;color: black;border-radius: 0.25em;background-color: #f0f8ff;}#sk-container-id-6 input.sk-toggleable__control:checked~div.sk-toggleable__content {max-height: 200px;max-width: 100%;overflow: auto;}#sk-container-id-6 input.sk-toggleable__control:checked~label.sk-toggleable__label-arrow:before {content: \"▾\";}#sk-container-id-6 div.sk-estimator input.sk-toggleable__control:checked~label.sk-toggleable__label {background-color: #d4ebff;}#sk-container-id-6 div.sk-label input.sk-toggleable__control:checked~label.sk-toggleable__label {background-color: #d4ebff;}#sk-container-id-6 input.sk-hidden--visually {border: 0;clip: rect(1px 1px 1px 1px);clip: rect(1px, 1px, 1px, 1px);height: 1px;margin: -1px;overflow: hidden;padding: 0;position: absolute;width: 1px;}#sk-container-id-6 div.sk-estimator {font-family: monospace;background-color: #f0f8ff;border: 1px dotted black;border-radius: 0.25em;box-sizing: border-box;margin-bottom: 0.5em;}#sk-container-id-6 div.sk-estimator:hover {background-color: #d4ebff;}#sk-container-id-6 div.sk-parallel-item::after {content: \"\";width: 100%;border-bottom: 1px solid gray;flex-grow: 1;}#sk-container-id-6 div.sk-label:hover label.sk-toggleable__label {background-color: #d4ebff;}#sk-container-id-6 div.sk-serial::before {content: \"\";position: absolute;border-left: 1px solid gray;box-sizing: border-box;top: 0;bottom: 0;left: 50%;z-index: 0;}#sk-container-id-6 div.sk-serial {display: flex;flex-direction: column;align-items: center;background-color: white;padding-right: 0.2em;padding-left: 0.2em;position: relative;}#sk-container-id-6 div.sk-item {position: relative;z-index: 1;}#sk-container-id-6 div.sk-parallel {display: flex;align-items: stretch;justify-content: center;background-color: white;position: relative;}#sk-container-id-6 div.sk-item::before, #sk-container-id-6 div.sk-parallel-item::before {content: \"\";position: absolute;border-left: 1px solid gray;box-sizing: border-box;top: 0;bottom: 0;left: 50%;z-index: -1;}#sk-container-id-6 div.sk-parallel-item {display: flex;flex-direction: column;z-index: 1;position: relative;background-color: white;}#sk-container-id-6 div.sk-parallel-item:first-child::after {align-self: flex-end;width: 50%;}#sk-container-id-6 div.sk-parallel-item:last-child::after {align-self: flex-start;width: 50%;}#sk-container-id-6 div.sk-parallel-item:only-child::after {width: 0;}#sk-container-id-6 div.sk-dashed-wrapped {border: 1px dashed gray;margin: 0 0.4em 0.5em 0.4em;box-sizing: border-box;padding-bottom: 0.4em;background-color: white;}#sk-container-id-6 div.sk-label label {font-family: monospace;font-weight: bold;display: inline-block;line-height: 1.2em;}#sk-container-id-6 div.sk-label-container {text-align: center;}#sk-container-id-6 div.sk-container {/* jupyter's `normalize.less` sets `[hidden] { display: none; }` but bootstrap.min.css set `[hidden] { display: none !important; }` so we also need the `!important` here to be able to override the default hidden behavior on the sphinx rendered scikit-learn.org. See: https://github.com/scikit-learn/scikit-learn/issues/21755 */display: inline-block !important;position: relative;}#sk-container-id-6 div.sk-text-repr-fallback {display: none;}</style><div id=\"sk-container-id-6\" class=\"sk-top-container\"><div class=\"sk-text-repr-fallback\"><pre>KMeans(n_clusters=4, n_init=10, random_state=0)</pre><b>In a Jupyter environment, please rerun this cell to show the HTML representation or trust the notebook. <br />On GitHub, the HTML representation is unable to render, please try loading this page with nbviewer.org.</b></div><div class=\"sk-container\" hidden><div class=\"sk-item\"><div class=\"sk-estimator sk-toggleable\"><input class=\"sk-toggleable__control sk-hidden--visually\" id=\"sk-estimator-id-32\" type=\"checkbox\" checked><label for=\"sk-estimator-id-32\" class=\"sk-toggleable__label sk-toggleable__label-arrow\">KMeans</label><div class=\"sk-toggleable__content\"><pre>KMeans(n_clusters=4, n_init=10, random_state=0)</pre></div></div></div></div></div>"
      ],
      "text/plain": [
       "KMeans(n_clusters=4, n_init=10, random_state=0)"
      ]
     },
     "execution_count": 87,
     "metadata": {},
     "output_type": "execute_result"
    }
   ],
   "source": [
    "kmeans = KMeans(n_clusters=4, random_state=0, n_init=10)\n",
    "kmeans.fit(df_rfm_norm)"
   ]
  },
  {
   "cell_type": "markdown",
   "metadata": {},
   "source": [
    "<div><font size=3 color=#00586D> <i class=\"fa fa-check-square-o\" aria-hidden=\"true\"></i></font></div>\n",
    "\n",
    "<!--comment -->"
   ]
  },
  {
   "cell_type": "markdown",
   "metadata": {},
   "source": [
    "Con el fin de analizar cada grupo, se trabajará con los datos de `df_rfm` (podría trabajarse incluso con el conjunto inicial si fuese necesario). A continuación, se añade a cada entrada de `df_rfm `, una columna denominada `Group` con la etiqueta correspondiente al cluster (`KMeans.labels_`)."
   ]
  },
  {
   "cell_type": "code",
   "execution_count": 88,
   "metadata": {},
   "outputs": [
    {
     "data": {
      "text/html": [
       "<div>\n",
       "<style scoped>\n",
       "    .dataframe tbody tr th:only-of-type {\n",
       "        vertical-align: middle;\n",
       "    }\n",
       "\n",
       "    .dataframe tbody tr th {\n",
       "        vertical-align: top;\n",
       "    }\n",
       "\n",
       "    .dataframe thead th {\n",
       "        text-align: right;\n",
       "    }\n",
       "</style>\n",
       "<table border=\"1\" class=\"dataframe\">\n",
       "  <thead>\n",
       "    <tr style=\"text-align: right;\">\n",
       "      <th></th>\n",
       "      <th>Recency</th>\n",
       "      <th>Frequency</th>\n",
       "      <th>MonetaryValue</th>\n",
       "      <th>Group</th>\n",
       "    </tr>\n",
       "    <tr>\n",
       "      <th>CustomerID</th>\n",
       "      <th></th>\n",
       "      <th></th>\n",
       "      <th></th>\n",
       "      <th></th>\n",
       "    </tr>\n",
       "  </thead>\n",
       "  <tbody>\n",
       "    <tr>\n",
       "      <th>12747</th>\n",
       "      <td>3</td>\n",
       "      <td>25</td>\n",
       "      <td>948.70</td>\n",
       "      <td>0</td>\n",
       "    </tr>\n",
       "    <tr>\n",
       "      <th>12748</th>\n",
       "      <td>1</td>\n",
       "      <td>888</td>\n",
       "      <td>7046.16</td>\n",
       "      <td>0</td>\n",
       "    </tr>\n",
       "    <tr>\n",
       "      <th>12749</th>\n",
       "      <td>4</td>\n",
       "      <td>37</td>\n",
       "      <td>813.45</td>\n",
       "      <td>0</td>\n",
       "    </tr>\n",
       "    <tr>\n",
       "      <th>12820</th>\n",
       "      <td>4</td>\n",
       "      <td>17</td>\n",
       "      <td>268.02</td>\n",
       "      <td>0</td>\n",
       "    </tr>\n",
       "    <tr>\n",
       "      <th>12822</th>\n",
       "      <td>71</td>\n",
       "      <td>9</td>\n",
       "      <td>146.15</td>\n",
       "      <td>1</td>\n",
       "    </tr>\n",
       "  </tbody>\n",
       "</table>\n",
       "</div>"
      ],
      "text/plain": [
       "            Recency  Frequency  MonetaryValue  Group\n",
       "CustomerID                                          \n",
       "12747             3         25         948.70      0\n",
       "12748             1        888        7046.16      0\n",
       "12749             4         37         813.45      0\n",
       "12820             4         17         268.02      0\n",
       "12822            71          9         146.15      1"
      ]
     },
     "execution_count": 88,
     "metadata": {},
     "output_type": "execute_result"
    }
   ],
   "source": [
    "df_rfm = df_rfm.assign(Group = kmeans.labels_)\n",
    "df_rfm.head()"
   ]
  },
  {
   "cell_type": "markdown",
   "metadata": {},
   "source": [
    "#### <font color=\"#00586D\"> <i class=\"fa fa-pencil-square-o\" aria-hidden=\"true\" ></i> Ejercicio 37</font>\n",
    "\n",
    "Obtener la media por grupo para cada una de las columnas de `df_rfm` (excepto `Group`, obviamente). Almacenar el resultado en `df_clusters_mean`.\n",
    " \n",
    "\n",
    "<div class=\"alert alert-block alert-warning\">\n",
    "    \n",
    "<i class=\"fa fa-exclamation-circle\" aria-hidden=\"true\"></i> Esto nos da los centroides, pero con respecto al conjunto original. `kmeans.cluster_centers_` nos daría esa información, pero con respecto al logaritmo de los datos normalizado. Lo que no es representativo de cara a describir los grupos.\n",
    "</div>"
   ]
  },
  {
   "cell_type": "code",
   "execution_count": 89,
   "metadata": {},
   "outputs": [
    {
     "data": {
      "text/html": [
       "<div>\n",
       "<style scoped>\n",
       "    .dataframe tbody tr th:only-of-type {\n",
       "        vertical-align: middle;\n",
       "    }\n",
       "\n",
       "    .dataframe tbody tr th {\n",
       "        vertical-align: top;\n",
       "    }\n",
       "\n",
       "    .dataframe thead th {\n",
       "        text-align: right;\n",
       "    }\n",
       "</style>\n",
       "<table border=\"1\" class=\"dataframe\">\n",
       "  <thead>\n",
       "    <tr style=\"text-align: right;\">\n",
       "      <th></th>\n",
       "      <th>Recency</th>\n",
       "      <th>Frequency</th>\n",
       "      <th>MonetaryValue</th>\n",
       "    </tr>\n",
       "    <tr>\n",
       "      <th>Group</th>\n",
       "      <th></th>\n",
       "      <th></th>\n",
       "      <th></th>\n",
       "    </tr>\n",
       "  </thead>\n",
       "  <tbody>\n",
       "    <tr>\n",
       "      <th>0</th>\n",
       "      <td>19.475449</td>\n",
       "      <td>53.742515</td>\n",
       "      <td>1129.977401</td>\n",
       "    </tr>\n",
       "    <tr>\n",
       "      <th>1</th>\n",
       "      <td>129.379689</td>\n",
       "      <td>11.797804</td>\n",
       "      <td>231.814584</td>\n",
       "    </tr>\n",
       "    <tr>\n",
       "      <th>2</th>\n",
       "      <td>19.507171</td>\n",
       "      <td>10.348110</td>\n",
       "      <td>145.583978</td>\n",
       "    </tr>\n",
       "    <tr>\n",
       "      <th>3</th>\n",
       "      <td>165.422996</td>\n",
       "      <td>2.604430</td>\n",
       "      <td>44.169061</td>\n",
       "    </tr>\n",
       "  </tbody>\n",
       "</table>\n",
       "</div>"
      ],
      "text/plain": [
       "          Recency  Frequency  MonetaryValue\n",
       "Group                                      \n",
       "0       19.475449  53.742515    1129.977401\n",
       "1      129.379689  11.797804     231.814584\n",
       "2       19.507171  10.348110     145.583978\n",
       "3      165.422996   2.604430      44.169061"
      ]
     },
     "metadata": {},
     "output_type": "display_data"
    }
   ],
   "source": [
    "df_clusters_mean = df_rfm.groupby(['Group']).mean()\n",
    "display(df_clusters_mean)"
   ]
  },
  {
   "cell_type": "markdown",
   "metadata": {},
   "source": [
    "<div><font size=3 color=#00586D> <i class=\"fa fa-check-square-o\" aria-hidden=\"true\"></i></font></div>\n",
    "\n",
    "<!--comment -->"
   ]
  },
  {
   "cell_type": "markdown",
   "metadata": {},
   "source": [
    "Un modo sencillo de visualizar los datos consiste dividir los valores medios de cada grupo por las medias de cada columna para el total de la información. Esto devolvería la importancia relativa de cada variable en cada cluster.  \n",
    "\n",
    "#### <font color=\"#00586D\"> <i class=\"fa fa-pencil-square-o\" aria-hidden=\"true\" ></i> Ejercicio 38</font>\n",
    "  Llevar a cabo esta operación y almacenar el resultado en `relative_imp`. Restar 1 al resultado para que un valor 0 corresponda con la media de cada columna (no hay diferencia entre el grupo y el total).\n",
    "  \n",
    "  <font size=2 color=\"#00586D\"> <i class=\"fa fa-info-circle\"  aria-hidden=\"true\"></i> </font> En el ejercicio anterior se han obtenido las medias para cada columna/grupo, y se han almacenado en `df_clusters_mean`. En este, se ha de calcular la media de cada columna de `df_rfm`, lo que da lugar a una *Serie* con tres elementos. La división del *DataFrame* por la *Serie* se hace por *Broadcasting*, por lo que se divide cada una de las filas. Al resultado hay que restarle uno."
   ]
  },
  {
   "cell_type": "code",
   "execution_count": 90,
   "metadata": {},
   "outputs": [
    {
     "data": {
      "text/html": [
       "<div>\n",
       "<style scoped>\n",
       "    .dataframe tbody tr th:only-of-type {\n",
       "        vertical-align: middle;\n",
       "    }\n",
       "\n",
       "    .dataframe tbody tr th {\n",
       "        vertical-align: top;\n",
       "    }\n",
       "\n",
       "    .dataframe thead th {\n",
       "        text-align: right;\n",
       "    }\n",
       "</style>\n",
       "<table border=\"1\" class=\"dataframe\">\n",
       "  <thead>\n",
       "    <tr style=\"text-align: right;\">\n",
       "      <th></th>\n",
       "      <th>Recency</th>\n",
       "      <th>Frequency</th>\n",
       "      <th>MonetaryValue</th>\n",
       "    </tr>\n",
       "    <tr>\n",
       "      <th>Group</th>\n",
       "      <th></th>\n",
       "      <th></th>\n",
       "      <th></th>\n",
       "    </tr>\n",
       "  </thead>\n",
       "  <tbody>\n",
       "    <tr>\n",
       "      <th>0</th>\n",
       "      <td>-0.784648</td>\n",
       "      <td>1.871743</td>\n",
       "      <td>2.048272</td>\n",
       "    </tr>\n",
       "    <tr>\n",
       "      <th>1</th>\n",
       "      <td>0.430627</td>\n",
       "      <td>-0.369582</td>\n",
       "      <td>-0.374648</td>\n",
       "    </tr>\n",
       "    <tr>\n",
       "      <th>2</th>\n",
       "      <td>-0.784298</td>\n",
       "      <td>-0.447046</td>\n",
       "      <td>-0.607267</td>\n",
       "    </tr>\n",
       "    <tr>\n",
       "      <th>3</th>\n",
       "      <td>0.829179</td>\n",
       "      <td>-0.860832</td>\n",
       "      <td>-0.880848</td>\n",
       "    </tr>\n",
       "  </tbody>\n",
       "</table>\n",
       "</div>"
      ],
      "text/plain": [
       "        Recency  Frequency  MonetaryValue\n",
       "Group                                    \n",
       "0     -0.784648   1.871743       2.048272\n",
       "1      0.430627  -0.369582      -0.374648\n",
       "2     -0.784298  -0.447046      -0.607267\n",
       "3      0.829179  -0.860832      -0.880848"
      ]
     },
     "metadata": {},
     "output_type": "display_data"
    }
   ],
   "source": [
    "df_rfm_mean = df_rfm[[\"Recency\",\"Frequency\",\"MonetaryValue\"]].mean()\n",
    "relative_imp = df_clusters_mean.div(df_rfm_mean, axis='columns')-1\n",
    "relative_imp\n",
    "display(relative_imp)"
   ]
  },
  {
   "cell_type": "markdown",
   "metadata": {},
   "source": [
    "<div><font size=3 color=#00586D> <i class=\"fa fa-check-square-o\" aria-hidden=\"true\"></i></font></div>\n",
    "\n",
    "<!--comment -->"
   ]
  },
  {
   "cell_type": "markdown",
   "metadata": {},
   "source": [
    "\n",
    "#### <font color=\"#00586D\"> <i class=\"fa fa-pencil-square-o\" aria-hidden=\"true\" ></i> Ejercicio 39</font>  \n",
    "\n",
    "Dibujar un mapa de calor con los datos de `relative_imp`. Utilizar anotaciones con formato `.2f` y el mapa de color `RdYlGn`."
   ]
  },
  {
   "cell_type": "code",
   "execution_count": 91,
   "metadata": {},
   "outputs": [
    {
     "data": {
      "text/plain": [
       "(0.0, 4.0)"
      ]
     },
     "execution_count": 91,
     "metadata": {},
     "output_type": "execute_result"
    },
    {
     "data": {
      "image/png": "[encoded data removed]",
      "text/plain": [
       "<Figure size 576x432 with 2 Axes>"
      ]
     },
     "metadata": {},
     "output_type": "display_data"
    }
   ],
   "source": [
    "plt.figure(figsize=(8, 6))\n",
    "plt.title('Relative importance of attributes', fontdict={'fontsize': 16})\n",
    "sns.heatmap(relative_imp, annot=True, fmt='.2f', cmap='coolwarm')\n",
    "plt.gca().set_ylim(0, 4)"
   ]
  },
  {
   "cell_type": "markdown",
   "metadata": {},
   "source": [
    "<div><font size=3 color=#00586D> <i class=\"fa fa-check-square-o\" aria-hidden=\"true\"></i></font></div>\n",
    "\n",
    "<!--comment -->"
   ]
  },
  {
   "cell_type": "markdown",
   "metadata": {},
   "source": [
    "#### <font color=\"#00586D\"> <i class=\"fa fa-pencil-square-o\" aria-hidden=\"true\" ></i> Ejercicio 40</font>  \n",
    "\n",
    "¿Qué caracteriza, a cada grupo? Proporcionar una descripción de los mismos."
   ]
  },
  {
   "cell_type": "markdown",
   "metadata": {},
   "source": [
    "___Respuesta:___\n",
    "\n",
    "<br><font color='blue'>\n",
    "    - Grupo 0: Este grupo tiene una Recency relativamente baja, lo que significa que han realizado una compra recientemente. Además, tienen una alta frecuencia de compra y un alto valor monetario, lo que indica que son clientes leales y valiosos para la empresa.\n",
    "    <br><br>\n",
    "    - Grupo 1: Este grupo tiene una Recency alta, lo que sugiere que han pasado mucho tiempo desde su última compra. También tienen una frecuencia de compra relativamente baja y un bajo valor monetario, lo que indica que no son clientes muy activos o valiosos.\n",
    "    <br><br>\n",
    "    - Grupo 2: Este grupo tiene una Recency baja, similar al Grupo 0, pero su frecuencia de compra y valor monetario son relativamente bajos. Son clientes menos valiosos que los del Grupo 0, pero que pueden llegar a convertirse en futuros Grupo 0 si se los consigue fidelizar.\n",
    "    <br><br>\n",
    "    - Grupo 3: Este grupo tiene la Recency más alta, lo que indica que han pasado mucho tiempo desde su última compra. Además, tienen una frecuencia de compra muy baja y un valor monetario extremadamente bajo, lo que indica que no son clientes activos ni valiosos para la empresa.\n"
   ]
  },
  {
   "cell_type": "markdown",
   "metadata": {},
   "source": [
    "<div><font size=3 color=#00586D> <i class=\"fa fa-check-square-o\" aria-hidden=\"true\"></i></font></div>\n",
    "\n",
    "<!--comment -->"
   ]
  },
  {
   "cell_type": "markdown",
   "metadata": {},
   "source": [
    "<div align=\"right\">\n",
    "<a href=\"#indice\"><font size=5 color=\"#00586D\"><i class=\"fa fa-arrow-circle-up\" aria-hidden=\"true\"></i></font></a>\n",
    "</div>\n",
    "\n",
    "---\n",
    "\n",
    "<div align=\"right\">\n",
    "<a href=\"#indice\"><font size=6 color=\"#00586D\"><i class=\"fa fa-coffee\" aria-hidden=\"true\"></i></font></a>\n",
    "</div>"
   ]
  }
 ],
 "metadata": {
  "kernelspec": {
   "display_name": "Python 3 (ipykernel)",
   "language": "python",
   "name": "python3"
  },
  "language_info": {
   "codemirror_mode": {
    "name": "ipython",
    "version": 3
   },
   "file_extension": ".py",
   "mimetype": "text/x-python",
   "name": "python",
   "nbconvert_exporter": "python",
   "pygments_lexer": "ipython3",
   "version": "3.9.16"
  }
 },
 "nbformat": 4,
 "nbformat_minor": 4
}
