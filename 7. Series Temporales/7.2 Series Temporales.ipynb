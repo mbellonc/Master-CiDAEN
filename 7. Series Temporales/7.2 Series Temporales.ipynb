{
 "cells": [
  {
   "cell_type": "markdown",
   "metadata": {},
   "source": [
    "<img src=\"img/mCIDaeNnb.png\" alt=\"Logo CiDAEN\" align=\"right\">\n",
    "\n",
    "\n",
    "\n",
    "\n",
    "<br><br><br>\n",
    "<h2><font color=\"#00586D\" size=4>Módulo 7</font></h2>\n",
    "\n",
    "\n",
    "\n",
    "<h1><font color=\"#00586D\" size=5>Capstone 7. Parte 2: Pronóstico de demanda eléctrica</font></h1>\n",
    "\n",
    "<br><br><br>\n",
    "<div style=\"text-align: right\">\n",
    "<font color=\"#00586D\" size=3>Enrique González, Luis de la Ossa</font><br>\n",
    "<font color=\"#00586D\" size=3>Máster en Ciencia de Datos e Ingeniería de Datos en la Nube I </font><br>\n",
    "<font color=\"#00586D\" size=3>Universidad de Castilla-La Mancha</font>\n",
    "\n",
    "</div>\n",
    "\n",
    "\n",
    "<div align=\"left\">\n",
    "<font color=\"#000000\" size=3>Marta Bellón Castro</font><br>\n",
    "<font color=\"#000000\" size=3>Curso 2022-2023</font><br>\n",
    "</div>"
   ]
  },
  {
   "cell_type": "markdown",
   "metadata": {},
   "source": [
    "---\n",
    "\n",
    "<a id=\"indice\"></a>\n",
    "<h2><font color=\"#00586D\" size=5>Índice</font></h2>\n",
    "\n",
    "\n",
    "* [1. Creación del modelo de pronóstico](#section1)\n",
    "* [2. Ingesta y visualización del pronóstico](#section2)"
   ]
  },
  {
   "cell_type": "code",
   "execution_count": 1,
   "metadata": {
    "tags": []
   },
   "outputs": [
    {
     "data": {
      "text/html": [
       "<style>.container { width:95% !important; }</style>"
      ],
      "text/plain": [
       "<IPython.core.display.HTML object>"
      ]
     },
     "metadata": {},
     "output_type": "display_data"
    }
   ],
   "source": [
    "import matplotlib.pyplot as plt\n",
    "from influxdb_client import InfluxDBClient, Point, WritePrecision\n",
    "from influxdb_client.client.write_api import SYNCHRONOUS\n",
    "import pandas as pd\n",
    "import numpy as np\n",
    "from sklearn.metrics import mean_absolute_error\n",
    "\n",
    "# Optimiza los gráficos para pantalla retina\n",
    "%config InlineBackend.figure_format = 'retina'\n",
    "# Por defecto usamos el backend inline\n",
    "%matplotlib inline\n",
    "\n",
    "# Oculta warnings\n",
    "import warnings\n",
    "warnings.simplefilter('ignore')\n",
    "\n",
    "# La libreta ocupa así el 95% de la pantalla\n",
    "from IPython.core.display import display, HTML\n",
    "display(HTML(\"<style>.container { width:95% !important; }</style>\"))"
   ]
  },
  {
   "cell_type": "markdown",
   "metadata": {},
   "source": [
    "En la siguiente parte del capstone crearéis un modelo de pronóstico a partir de los datos ingestados en InfluxDB e añadiréis el pronóstico a un día vista de vuelta a InfluxDB de forma que en el sistema prototipado se pueda ver el pronóstico del día. Específicamente, para la creación del modelo utilizaréis los datos hasta el último día completo de datos y el pronóstico incluirá el dia siguiente (que podrá tener datos o no en nuestro sistema, pero que no los usaremos para entrenar). "
   ]
  },
  {
   "cell_type": "markdown",
   "metadata": {},
   "source": [
    "---\n",
    "\n",
    "<a id=\"section1\"></a>\n",
    "## <font color=\"#00586D\"> 1. Creación del modelo de pronóstico</font>\n",
    "<br>"
   ]
  },
  {
   "cell_type": "markdown",
   "metadata": {},
   "source": [
    "Para la creación del modelo de pronóstico, necesitaremos descargarnos los datos de nuestra instancia para poder tener datos con los que entrenar. "
   ]
  },
  {
   "cell_type": "markdown",
   "metadata": {},
   "source": [
    "\n",
    "--- "
   ]
  },
  {
   "cell_type": "markdown",
   "metadata": {},
   "source": [
    "### <font color=\"#004D7F\"> <i class=\"fa fa-pencil-square-o\" aria-hidden=\"true\" style=\"color:#004D7F\"></i> Tarea 1</font>\n",
    "<br>\n",
    "\n",
    "Implementa la siguiente función que devuelve un DataFrame con todos los datos disponibles de demanda eléctrica almacenados en tu instancia de InfluxDB. Solo nos interesa la serie de demanda real, por lo que tendréis que filtrar el Forecast de red eléctrica usando Flux. \n",
    "\n",
    "Necesitaréis añadir la información de autenticación para vuestra instancia de InfluxDB a continuación. \n",
    "\n",
    "_Pista_: La práctica de InfluxDB que hicimos en este módulo os resultará útil para poder formar la consulta. "
   ]
  },
  {
   "cell_type": "code",
   "execution_count": 2,
   "metadata": {
    "tags": []
   },
   "outputs": [],
   "source": [
    "token = \"mcidaen_token\"\n",
    "org = \"mcidaen\"\n",
    "bucket = \"capstone7\"\n",
    "\n",
    "client = InfluxDBClient(url=\"http://influxdb:8086\", token=token)"
   ]
  },
  {
   "cell_type": "code",
   "execution_count": 3,
   "metadata": {
    "tags": []
   },
   "outputs": [],
   "source": [
    "# Escribe el DataFrame en InfluxDB\n",
    "\n",
    "def load_from_influxdb(client: InfluxDBClient, bucket: str, org: str) -> pd.DataFrame:\n",
    "    \n",
    "    # Guardo el resultado de la consulta en df\n",
    "    query_f = (\n",
    "    f'from(bucket: \"{bucket}\")'\n",
    "    f' |> range(start: 2022-01-01T00:00:00Z, stop: 2023-04-29T12:00:00Z)'\n",
    "    f' |> filter(fn: (r) => r[\"_measurement\"] == \"demand\")'\n",
    "    f' |> filter(fn: (r) => r[\"_field\"] == \"RealDemand\")'\n",
    "    )\n",
    "    query_client = client.query_api()\n",
    "    df = query_client.query_data_frame(query_f, org=org)\n",
    "    \n",
    "    df_query = df.loc[:, ['_time', '_value']]\n",
    "    df_query['datetime'] = pd.to_datetime(df_query['_time'], utc=True).dt.tz_localize(None)\n",
    "    df_query['RealDemand'] = df_query['_value']\n",
    "    df_query = df_query[['datetime', 'RealDemand']]\n",
    "    df_query.index = df_query['datetime']\n",
    "    \n",
    "    return df_query['RealDemand'].sort_index()"
   ]
  },
  {
   "cell_type": "code",
   "execution_count": 4,
   "metadata": {
    "tags": []
   },
   "outputs": [
    {
     "data": {
      "text/plain": [
       "datetime\n",
       "2022-02-09 04:00:00    23961.7\n",
       "2022-01-24 13:00:00    35615.0\n",
       "2022-02-28 20:00:00    31955.0\n",
       "2022-02-17 17:00:00    30054.2\n",
       "2022-01-07 04:00:00    21135.7\n",
       "2022-01-02 13:00:00    24985.5\n",
       "2022-03-26 21:00:00    26760.8\n",
       "2022-02-06 14:00:00    25654.2\n",
       "2022-03-12 14:00:00    26169.2\n",
       "2022-01-06 15:00:00    23878.8\n",
       "2022-03-21 07:00:00    29163.3\n",
       "2022-03-20 17:00:00    24058.2\n",
       "2022-02-10 02:00:00    23652.5\n",
       "2022-01-31 11:00:00    32945.5\n",
       "2022-03-04 01:00:00    23631.2\n",
       "2022-03-17 20:00:00    32054.3\n",
       "2022-03-09 03:00:00    22305.2\n",
       "2022-02-03 19:00:00    34801.0\n",
       "2022-02-16 22:00:00    27885.0\n",
       "2022-01-17 07:00:00    33832.8\n",
       "Name: RealDemand, dtype: float64"
      ]
     },
     "execution_count": 4,
     "metadata": {},
     "output_type": "execute_result"
    }
   ],
   "source": [
    "df = load_from_influxdb(client, bucket, org)\n",
    "df['2022'].sample(20, random_state=0)"
   ]
  },
  {
   "cell_type": "markdown",
   "metadata": {},
   "source": [
    "Resultado esperado:\n",
    "\n",
    "| datetime            |   RealDemand |\n",
    "|:--------------------|-------------:|\n",
    "| 2022-08-17 13:00:00 |      28558.1 |\n",
    "| 2022-03-22 20:00:00 |      32101.3 |\n",
    "| 2022-06-18 01:00:00 |      24592.2 |\n",
    "| 2022-02-23 22:00:00 |      27416.5 |\n",
    "| 2022-04-27 13:00:00 |      29158.5 |\n",
    "| 2022-03-29 07:00:00 |      30680.5 |\n",
    "| 2022-06-07 00:00:00 |      22885.6 |\n",
    "| 2022-03-10 12:00:00 |      31206.7 |\n",
    "| 2022-09-25 05:00:00 |      19363.2 |\n",
    "| 2022-08-19 17:00:00 |      28068.4 |\n",
    "| 2022-11-06 04:00:00 |      17734.4 |\n",
    "| 2022-08-19 05:00:00 |      23990.7 |\n",
    "| 2022-02-22 22:00:00 |      27137   |\n",
    "| 2022-10-19 03:00:00 |      21814.9 |\n",
    "| 2022-12-21 01:00:00 |      21955.2 |\n",
    "| 2022-04-28 04:00:00 |      24237.8 |\n",
    "| 2022-12-01 21:00:00 |      29663.8 |\n",
    "| 2022-07-19 18:00:00 |      33729.7 |\n",
    "| 2022-07-03 06:00:00 |      21313.8 |\n",
    "| 2022-02-19 00:00:00 |      24770.7 |\n"
   ]
  },
  {
   "cell_type": "markdown",
   "metadata": {},
   "source": [
    "<div style=\"text-align: right\"><font size=4> <i class=\"fa fa-check-square-o\" aria-hidden=\"true\" style=\"color:#00586D\"></i></font></div>\n",
    "\n",
    "--- "
   ]
  },
  {
   "cell_type": "markdown",
   "metadata": {},
   "source": [
    "Con estos datos, el objetivo es crear un modelo de forecasting que nos permita pronosticar a un día vista la demanda de energía horaria. Aunque podéis usar el modelo que estiméis (siempre que funcione con el resto de componentes) en este caso hemos optado por crear un modelo de Prophet. \n",
    "\n",
    "Para facilitar su integración con el resto de código y poder ejecutar el modelo para pronosticar varios días, crearemos una función que entrene el modelo y realice un pronóstico para un conjunto de test. Para ello crearemos un modelo capaz de pronosticar, dado un histórico, la demanda de energía horaria del día siguiente al histórico. "
   ]
  },
  {
   "cell_type": "markdown",
   "metadata": {},
   "source": [
    "\n",
    "--- "
   ]
  },
  {
   "cell_type": "markdown",
   "metadata": {},
   "source": [
    "### <font color=\"#004D7F\"> <i class=\"fa fa-pencil-square-o\" aria-hidden=\"true\" style=\"color:#004D7F\"></i> Tarea 2</font>\n",
    "<br>\n",
    "\n",
    "Implementa la siguiente función que, dada la serie temporal de demanda anterior, _training_ y una lista de timestamps, _test_:\n",
    "- Entrena un modelo de Prophet con los datos de _training_\n",
    "- Pronostica las horas pasadas en _test_ \n",
    "\n",
    "Puedes asumir que el conjunto de datos tiene el formato de salida de la función de la tarea anterior.\n",
    "\n",
    "Opcional: Como trabajo opcional, puedes probar varios modelos de los expuestos durante el módulo para ver si puedes obtener un mejor resultado. Esto se tendrá en cuenta a la hora de evaluación del capstone. "
   ]
  },
  {
   "cell_type": "code",
   "execution_count": 5,
   "metadata": {
    "tags": []
   },
   "outputs": [],
   "source": [
    "# Entrena con training y pronostica los datos de test\n",
    "\n",
    "import datetime\n",
    "from prophet import Prophet\n",
    "\n",
    "def train_forecast(training: pd.DataFrame, test: list) -> pd.DataFrame:\n",
    "    # Creo el modelo Prophet\n",
    "    model = Prophet()\n",
    "    \n",
    "    # Renombro las columnas para que se ajusten al formato requerido por Prophet\n",
    "    df = training.to_frame().reset_index().rename(columns={'datetime': 'ds', 'RealDemand': 'y'})\n",
    "    \n",
    "    # Entreno el modelo con los datos de entrenamiento\n",
    "    model.fit(df)\n",
    "    \n",
    "    # Creo un dataframe con las fechas de test\n",
    "    future = pd.DataFrame({'ds': test})\n",
    "    \n",
    "    # Realizo la predicción para las fechas de test\n",
    "    forecast = model.predict(future)\n",
    "    \n",
    "    # Devuelvo el dataframe de la predicción\n",
    "    forecast=forecast[['ds', 'yhat']].rename(columns={'ds': 'datetime'}).round({'yhat': 1}).set_index('datetime')\n",
    "    return forecast\n"
   ]
  },
  {
   "cell_type": "code",
   "execution_count": 6,
   "metadata": {
    "tags": []
   },
   "outputs": [],
   "source": [
    "test = list(pd.date_range(start=datetime.datetime(2023, 2, 24), freq='H', periods=24))"
   ]
  },
  {
   "cell_type": "code",
   "execution_count": 7,
   "metadata": {
    "tags": []
   },
   "outputs": [
    {
     "name": "stderr",
     "output_type": "stream",
     "text": [
      "20:26:56 - cmdstanpy - INFO - Chain [1] start processing\n",
      "20:26:59 - cmdstanpy - INFO - Chain [1] done processing\n"
     ]
    }
   ],
   "source": [
    "result = train_forecast(df[:datetime.datetime(2023, 2, 24)], test)"
   ]
  },
  {
   "cell_type": "code",
   "execution_count": 8,
   "metadata": {
    "tags": []
   },
   "outputs": [
    {
     "data": {
      "text/html": [
       "<div>\n",
       "<style scoped>\n",
       "    .dataframe tbody tr th:only-of-type {\n",
       "        vertical-align: middle;\n",
       "    }\n",
       "\n",
       "    .dataframe tbody tr th {\n",
       "        vertical-align: top;\n",
       "    }\n",
       "\n",
       "    .dataframe thead th {\n",
       "        text-align: right;\n",
       "    }\n",
       "</style>\n",
       "<table border=\"1\" class=\"dataframe\">\n",
       "  <thead>\n",
       "    <tr style=\"text-align: right;\">\n",
       "      <th></th>\n",
       "      <th>yhat</th>\n",
       "    </tr>\n",
       "    <tr>\n",
       "      <th>datetime</th>\n",
       "      <th></th>\n",
       "    </tr>\n",
       "  </thead>\n",
       "  <tbody>\n",
       "    <tr>\n",
       "      <th>2023-02-24 00:00:00</th>\n",
       "      <td>24193.1</td>\n",
       "    </tr>\n",
       "    <tr>\n",
       "      <th>2023-02-24 01:00:00</th>\n",
       "      <td>23214.7</td>\n",
       "    </tr>\n",
       "    <tr>\n",
       "      <th>2023-02-24 02:00:00</th>\n",
       "      <td>22464.5</td>\n",
       "    </tr>\n",
       "    <tr>\n",
       "      <th>2023-02-24 03:00:00</th>\n",
       "      <td>22177.6</td>\n",
       "    </tr>\n",
       "    <tr>\n",
       "      <th>2023-02-24 04:00:00</th>\n",
       "      <td>22899.7</td>\n",
       "    </tr>\n",
       "    <tr>\n",
       "      <th>2023-02-24 05:00:00</th>\n",
       "      <td>24845.2</td>\n",
       "    </tr>\n",
       "    <tr>\n",
       "      <th>2023-02-24 06:00:00</th>\n",
       "      <td>27478.9</td>\n",
       "    </tr>\n",
       "    <tr>\n",
       "      <th>2023-02-24 07:00:00</th>\n",
       "      <td>29790.5</td>\n",
       "    </tr>\n",
       "    <tr>\n",
       "      <th>2023-02-24 08:00:00</th>\n",
       "      <td>31035.9</td>\n",
       "    </tr>\n",
       "    <tr>\n",
       "      <th>2023-02-24 09:00:00</th>\n",
       "      <td>31245.5</td>\n",
       "    </tr>\n",
       "    <tr>\n",
       "      <th>2023-02-24 10:00:00</th>\n",
       "      <td>31029.5</td>\n",
       "    </tr>\n",
       "    <tr>\n",
       "      <th>2023-02-24 11:00:00</th>\n",
       "      <td>30905.8</td>\n",
       "    </tr>\n",
       "    <tr>\n",
       "      <th>2023-02-24 12:00:00</th>\n",
       "      <td>30842.0</td>\n",
       "    </tr>\n",
       "    <tr>\n",
       "      <th>2023-02-24 13:00:00</th>\n",
       "      <td>30459.6</td>\n",
       "    </tr>\n",
       "    <tr>\n",
       "      <th>2023-02-24 14:00:00</th>\n",
       "      <td>29654.4</td>\n",
       "    </tr>\n",
       "    <tr>\n",
       "      <th>2023-02-24 15:00:00</th>\n",
       "      <td>28936.7</td>\n",
       "    </tr>\n",
       "    <tr>\n",
       "      <th>2023-02-24 16:00:00</th>\n",
       "      <td>29067.6</td>\n",
       "    </tr>\n",
       "    <tr>\n",
       "      <th>2023-02-24 17:00:00</th>\n",
       "      <td>30291.2</td>\n",
       "    </tr>\n",
       "    <tr>\n",
       "      <th>2023-02-24 18:00:00</th>\n",
       "      <td>31918.1</td>\n",
       "    </tr>\n",
       "    <tr>\n",
       "      <th>2023-02-24 19:00:00</th>\n",
       "      <td>32728.0</td>\n",
       "    </tr>\n",
       "    <tr>\n",
       "      <th>2023-02-24 20:00:00</th>\n",
       "      <td>31885.2</td>\n",
       "    </tr>\n",
       "    <tr>\n",
       "      <th>2023-02-24 21:00:00</th>\n",
       "      <td>29564.5</td>\n",
       "    </tr>\n",
       "    <tr>\n",
       "      <th>2023-02-24 22:00:00</th>\n",
       "      <td>26742.5</td>\n",
       "    </tr>\n",
       "    <tr>\n",
       "      <th>2023-02-24 23:00:00</th>\n",
       "      <td>24383.9</td>\n",
       "    </tr>\n",
       "  </tbody>\n",
       "</table>\n",
       "</div>"
      ],
      "text/plain": [
       "                        yhat\n",
       "datetime                    \n",
       "2023-02-24 00:00:00  24193.1\n",
       "2023-02-24 01:00:00  23214.7\n",
       "2023-02-24 02:00:00  22464.5\n",
       "2023-02-24 03:00:00  22177.6\n",
       "2023-02-24 04:00:00  22899.7\n",
       "2023-02-24 05:00:00  24845.2\n",
       "2023-02-24 06:00:00  27478.9\n",
       "2023-02-24 07:00:00  29790.5\n",
       "2023-02-24 08:00:00  31035.9\n",
       "2023-02-24 09:00:00  31245.5\n",
       "2023-02-24 10:00:00  31029.5\n",
       "2023-02-24 11:00:00  30905.8\n",
       "2023-02-24 12:00:00  30842.0\n",
       "2023-02-24 13:00:00  30459.6\n",
       "2023-02-24 14:00:00  29654.4\n",
       "2023-02-24 15:00:00  28936.7\n",
       "2023-02-24 16:00:00  29067.6\n",
       "2023-02-24 17:00:00  30291.2\n",
       "2023-02-24 18:00:00  31918.1\n",
       "2023-02-24 19:00:00  32728.0\n",
       "2023-02-24 20:00:00  31885.2\n",
       "2023-02-24 21:00:00  29564.5\n",
       "2023-02-24 22:00:00  26742.5\n",
       "2023-02-24 23:00:00  24383.9"
      ]
     },
     "execution_count": 8,
     "metadata": {},
     "output_type": "execute_result"
    }
   ],
   "source": [
    "result"
   ]
  },
  {
   "cell_type": "markdown",
   "metadata": {},
   "source": [
    "Resultado esperado (aprox.):\n",
    "    \n",
    "| datetime            |    yhat |\n",
    "|:--------------------|--------:|\n",
    "| 2023-02-24 00:00:00 | 26204   |\n",
    "| 2023-02-24 01:00:00 | 25438.5 |\n",
    "| 2023-02-24 02:00:00 | 25002.7 |\n",
    "| 2023-02-24 03:00:00 | 25110.6 |\n",
    "| 2023-02-24 04:00:00 | 26045.4 |\n",
    "| 2023-02-24 05:00:00 | 27773.1 |\n",
    "| 2023-02-24 06:00:00 | 29804.7 |\n",
    "| 2023-02-24 07:00:00 | 31483.9 |\n",
    "| 2023-02-24 08:00:00 | 32447   |\n",
    "| 2023-02-24 09:00:00 | 32819   |\n",
    "| 2023-02-24 10:00:00 | 32970.4 |\n",
    "| 2023-02-24 11:00:00 | 33098.5 |\n",
    "| 2023-02-24 12:00:00 | 33064   |\n",
    "| 2023-02-24 13:00:00 | 32644.8 |\n",
    "| 2023-02-24 14:00:00 | 31925.6 |\n",
    "| 2023-02-24 15:00:00 | 31379.3 |\n",
    "| 2023-02-24 16:00:00 | 31499   |\n",
    "| 2023-02-24 17:00:00 | 32298.6 |\n",
    "| 2023-02-24 18:00:00 | 33173.7 |\n",
    "| 2023-02-24 19:00:00 | 33299.9 |\n",
    "| 2023-02-24 20:00:00 | 32246   |\n",
    "| 2023-02-24 21:00:00 | 30273.3 |\n",
    "| 2023-02-24 22:00:00 | 28081.7 |\n",
    "| 2023-02-24 23:00:00 | 26265.2 |\n"
   ]
  },
  {
   "cell_type": "markdown",
   "metadata": {},
   "source": [
    "<div style=\"text-align: right\"><font size=4> <i class=\"fa fa-check-square-o\" aria-hidden=\"true\" style=\"color:#00586D\"></i></font></div>\n",
    "\n",
    "--- "
   ]
  },
  {
   "cell_type": "markdown",
   "metadata": {},
   "source": [
    "Con esta función ya podemos evaluar nuestro modelo. En este caso, debemos recordar que debemos evaluar nuestro modelo de forma diaria, ya que nuestro objetivo es hacer pronósticos a un día vista. Para ello podemos valernos de la función anterior y recorrer diariamente los valores de un conjunto de test, añadiendo en el training los valores hasta la fecha. Solo usaremos los primeros días del mes de enero para probar el método. Veamos como hacerlo. "
   ]
  },
  {
   "cell_type": "code",
   "execution_count": 9,
   "metadata": {
    "tags": []
   },
   "outputs": [],
   "source": [
    "test_dates = list(pd.date_range(start=datetime.datetime(2023, 1, 1), end=datetime.datetime(2023, 1, 10), freq='D'))"
   ]
  },
  {
   "cell_type": "code",
   "execution_count": 10,
   "metadata": {
    "tags": []
   },
   "outputs": [
    {
     "name": "stderr",
     "output_type": "stream",
     "text": [
      "20:27:12 - cmdstanpy - INFO - Chain [1] start processing\n",
      "20:27:17 - cmdstanpy - INFO - Chain [1] done processing\n",
      "20:27:17 - cmdstanpy - INFO - Chain [1] start processing\n",
      "20:27:22 - cmdstanpy - INFO - Chain [1] done processing\n",
      "20:27:23 - cmdstanpy - INFO - Chain [1] start processing\n",
      "20:27:27 - cmdstanpy - INFO - Chain [1] done processing\n",
      "20:27:27 - cmdstanpy - INFO - Chain [1] start processing\n",
      "20:27:32 - cmdstanpy - INFO - Chain [1] done processing\n",
      "20:27:33 - cmdstanpy - INFO - Chain [1] start processing\n",
      "20:27:38 - cmdstanpy - INFO - Chain [1] done processing\n",
      "20:27:39 - cmdstanpy - INFO - Chain [1] start processing\n",
      "20:27:43 - cmdstanpy - INFO - Chain [1] done processing\n",
      "20:27:43 - cmdstanpy - INFO - Chain [1] start processing\n",
      "20:27:48 - cmdstanpy - INFO - Chain [1] done processing\n",
      "20:27:48 - cmdstanpy - INFO - Chain [1] start processing\n",
      "20:27:54 - cmdstanpy - INFO - Chain [1] done processing\n",
      "20:27:54 - cmdstanpy - INFO - Chain [1] start processing\n",
      "20:27:59 - cmdstanpy - INFO - Chain [1] done processing\n",
      "20:27:59 - cmdstanpy - INFO - Chain [1] start processing\n",
      "20:28:05 - cmdstanpy - INFO - Chain [1] done processing\n"
     ]
    }
   ],
   "source": [
    "maes = []\n",
    "for test_date in test_dates:\n",
    "    training = df[:test_date-datetime.timedelta(minutes=1)]\n",
    "    test = df[test_date:test_date+datetime.timedelta(days=1, minutes=-1)]\n",
    "    result = train_forecast(df, test.index)\n",
    "    r = mean_absolute_error(test, result)\n",
    "    maes.append(r)"
   ]
  },
  {
   "cell_type": "code",
   "execution_count": 11,
   "metadata": {
    "tags": []
   },
   "outputs": [
    {
     "data": {
      "text/plain": [
       "1617.3899999999996"
      ]
     },
     "execution_count": 11,
     "metadata": {},
     "output_type": "execute_result"
    }
   ],
   "source": [
    "np.mean(maes)"
   ]
  },
  {
   "cell_type": "markdown",
   "metadata": {},
   "source": [
    "Con este modelo ya podemos añadir la información de pronóstico como un nuevo campo en nuestra serie en InfluxDB. Para ello seguiremos la siguiente estrategia:\n",
    "- Nos centraremos solo en el último més de datos disponible. Para el último día, que posiblemente no estará completo, deberemos añadir las horas que falten. \n",
    "- Generaremos un pronóstico para cada día usando el modelo que creamos anteriormente. \n",
    "- Subiremos este pronóstico directamente a InfluxDB"
   ]
  },
  {
   "cell_type": "markdown",
   "metadata": {},
   "source": [
    "Implementaremos este proceso por partes a continuación. "
   ]
  },
  {
   "cell_type": "markdown",
   "metadata": {},
   "source": [
    "\n",
    "--- "
   ]
  },
  {
   "cell_type": "markdown",
   "metadata": {},
   "source": [
    "### <font color=\"#004D7F\"> <i class=\"fa fa-pencil-square-o\" aria-hidden=\"true\" style=\"color:#004D7F\"></i> Tarea 3 </font>\n",
    "<br>\n",
    "\n",
    "Implementa la siguiente función que, dada una fecha, devuelve una lista con los timestamps ordenados de sus horas. "
   ]
  },
  {
   "cell_type": "code",
   "execution_count": 12,
   "metadata": {
    "tags": []
   },
   "outputs": [],
   "source": [
    "def get_hours(date: datetime.datetime) -> list :\n",
    "    start = datetime.datetime(date.year, date.month, date.day)\n",
    "    end = start + pd.Timedelta(days=1)\n",
    "    hours = pd.date_range(start=start, end=end, freq='H')\n",
    "    return [hour for hour in hours if hour.date() == date.date()]"
   ]
  },
  {
   "cell_type": "code",
   "execution_count": 13,
   "metadata": {
    "tags": []
   },
   "outputs": [
    {
     "data": {
      "text/plain": [
       "[Timestamp('2023-05-01 00:00:00', freq='H'),\n",
       " Timestamp('2023-05-01 01:00:00', freq='H'),\n",
       " Timestamp('2023-05-01 02:00:00', freq='H'),\n",
       " Timestamp('2023-05-01 03:00:00', freq='H'),\n",
       " Timestamp('2023-05-01 04:00:00', freq='H'),\n",
       " Timestamp('2023-05-01 05:00:00', freq='H'),\n",
       " Timestamp('2023-05-01 06:00:00', freq='H'),\n",
       " Timestamp('2023-05-01 07:00:00', freq='H'),\n",
       " Timestamp('2023-05-01 08:00:00', freq='H'),\n",
       " Timestamp('2023-05-01 09:00:00', freq='H'),\n",
       " Timestamp('2023-05-01 10:00:00', freq='H'),\n",
       " Timestamp('2023-05-01 11:00:00', freq='H'),\n",
       " Timestamp('2023-05-01 12:00:00', freq='H'),\n",
       " Timestamp('2023-05-01 13:00:00', freq='H'),\n",
       " Timestamp('2023-05-01 14:00:00', freq='H'),\n",
       " Timestamp('2023-05-01 15:00:00', freq='H'),\n",
       " Timestamp('2023-05-01 16:00:00', freq='H'),\n",
       " Timestamp('2023-05-01 17:00:00', freq='H'),\n",
       " Timestamp('2023-05-01 18:00:00', freq='H'),\n",
       " Timestamp('2023-05-01 19:00:00', freq='H'),\n",
       " Timestamp('2023-05-01 20:00:00', freq='H'),\n",
       " Timestamp('2023-05-01 21:00:00', freq='H'),\n",
       " Timestamp('2023-05-01 22:00:00', freq='H'),\n",
       " Timestamp('2023-05-01 23:00:00', freq='H')]"
      ]
     },
     "execution_count": 13,
     "metadata": {},
     "output_type": "execute_result"
    }
   ],
   "source": [
    "get_hours(datetime.datetime(2023, 5, 1))"
   ]
  },
  {
   "cell_type": "markdown",
   "metadata": {
    "tags": []
   },
   "source": [
    "Resutado esperado:\n",
    "```\n",
    "[Timestamp('2023-02-28 00:00:00', freq='H'),\n",
    " Timestamp('2023-02-28 01:00:00', freq='H'),\n",
    " Timestamp('2023-02-28 02:00:00', freq='H'),\n",
    " Timestamp('2023-02-28 03:00:00', freq='H'),\n",
    " Timestamp('2023-02-28 04:00:00', freq='H'),\n",
    " Timestamp('2023-02-28 05:00:00', freq='H'),\n",
    " Timestamp('2023-02-28 06:00:00', freq='H'),\n",
    " Timestamp('2023-02-28 07:00:00', freq='H'),\n",
    " Timestamp('2023-02-28 08:00:00', freq='H'),\n",
    " Timestamp('2023-02-28 09:00:00', freq='H'),\n",
    " Timestamp('2023-02-28 10:00:00', freq='H'),\n",
    " Timestamp('2023-02-28 11:00:00', freq='H'),\n",
    " Timestamp('2023-02-28 12:00:00', freq='H'),\n",
    " Timestamp('2023-02-28 13:00:00', freq='H'),\n",
    " Timestamp('2023-02-28 14:00:00', freq='H'),\n",
    " Timestamp('2023-02-28 15:00:00', freq='H'),\n",
    " Timestamp('2023-02-28 16:00:00', freq='H'),\n",
    " Timestamp('2023-02-28 17:00:00', freq='H'),\n",
    " Timestamp('2023-02-28 18:00:00', freq='H'),\n",
    " Timestamp('2023-02-28 19:00:00', freq='H'),\n",
    " Timestamp('2023-02-28 20:00:00', freq='H'),\n",
    " Timestamp('2023-02-28 21:00:00', freq='H'),\n",
    " Timestamp('2023-02-28 22:00:00', freq='H'),\n",
    " Timestamp('2023-02-28 23:00:00', freq='H')]\n",
    "```"
   ]
  },
  {
   "cell_type": "markdown",
   "metadata": {},
   "source": [
    "<div style=\"text-align: right\"><font size=4> <i class=\"fa fa-check-square-o\" aria-hidden=\"true\" style=\"color:#00586D\"></i></font></div>\n",
    "\n",
    "--- "
   ]
  },
  {
   "cell_type": "markdown",
   "metadata": {},
   "source": [
    "Para ingestar el pronóstico en InfluxDB, podemos usar la siguiente función, similar a la función que utilizásteis en la primera práctica y que básicamente toma el pronóstico del modelo de Prophet y lo ingesta usando la API de escritura de InfluxDB. El pronóstico se ingestará en la misma medida que la demanda, pero con el campo `CP7Forecast`."
   ]
  },
  {
   "cell_type": "code",
   "execution_count": 14,
   "metadata": {
    "tags": []
   },
   "outputs": [],
   "source": [
    "def save_to_influxdb(df: pd.DataFrame, client: InfluxDBClient, bucket: str, org: str) -> pd.DataFrame:\n",
    "    \"\"\"\n",
    "    Escribe el pronóstico en InfluxDB\n",
    "    \"\"\"\n",
    "    df = df.reset_index()\n",
    "    df['time'] = df['datetime']\n",
    "    df['CP7Forecast'] = df['yhat']\n",
    "    to_write = df[['time', 'CP7Forecast']]\n",
    "    to_write = to_write.set_index('time')[['CP7Forecast']]\n",
    "    write_api = client.write_api(write_options=SYNCHRONOUS)\n",
    "    write_api.write(bucket, org, record=to_write, data_frame_measurement_name='demand')"
   ]
  },
  {
   "cell_type": "markdown",
   "metadata": {},
   "source": [
    "Con estas funciones ya tenemos todo lo necesario para poder escribir en InfluxDB los datos de pronóstico. Para ello, partiendo de un día inicial desde el que empezaremos a generar pronósticos, usaremos una estrategia similar al método de evaluación anterior, simplemente teniendo en cuenta que generaremos nosotros las horas en vez de usar las que aparecen en un conjunto de test. A continuación mostramos como ingestar los resultados a partir de un día determinado. Podéis ejecutar el código a continuación para añadir el pronóstico a vuestra instancia de InfluxDB."
   ]
  },
  {
   "cell_type": "code",
   "execution_count": 15,
   "metadata": {
    "tags": []
   },
   "outputs": [
    {
     "data": {
      "text/plain": [
       "DatetimeIndex(['2023-05-01', '2023-05-02', '2023-05-03', '2023-05-04',\n",
       "               '2023-05-05', '2023-05-06', '2023-05-07', '2023-05-08',\n",
       "               '2023-05-09', '2023-05-10', '2023-05-11', '2023-05-12',\n",
       "               '2023-05-13', '2023-05-14', '2023-05-15', '2023-05-16',\n",
       "               '2023-05-17', '2023-05-18', '2023-05-19', '2023-05-20',\n",
       "               '2023-05-21', '2023-05-22', '2023-05-23', '2023-05-24',\n",
       "               '2023-05-25', '2023-05-26', '2023-05-27'],\n",
       "              dtype='datetime64[ns]', freq='D')"
      ]
     },
     "execution_count": 15,
     "metadata": {},
     "output_type": "execute_result"
    }
   ],
   "source": [
    "begin = datetime.datetime(2023, 5, 1)\n",
    "dates_to_ingest = pd.date_range(start=begin, end=datetime.datetime.now().date(), freq='D')\n",
    "dates_to_ingest"
   ]
  },
  {
   "cell_type": "code",
   "execution_count": 16,
   "metadata": {
    "tags": []
   },
   "outputs": [
    {
     "name": "stdout",
     "output_type": "stream",
     "text": [
      "Ingesting for date: 2023-05-01 00:00:00\n"
     ]
    },
    {
     "name": "stderr",
     "output_type": "stream",
     "text": [
      "20:28:06 - cmdstanpy - INFO - Chain [1] start processing\n",
      "20:28:11 - cmdstanpy - INFO - Chain [1] done processing\n"
     ]
    },
    {
     "name": "stdout",
     "output_type": "stream",
     "text": [
      "Ingesting for date: 2023-05-02 00:00:00\n"
     ]
    },
    {
     "name": "stderr",
     "output_type": "stream",
     "text": [
      "20:28:12 - cmdstanpy - INFO - Chain [1] start processing\n",
      "20:28:16 - cmdstanpy - INFO - Chain [1] done processing\n"
     ]
    },
    {
     "name": "stdout",
     "output_type": "stream",
     "text": [
      "Ingesting for date: 2023-05-03 00:00:00\n"
     ]
    },
    {
     "name": "stderr",
     "output_type": "stream",
     "text": [
      "20:28:17 - cmdstanpy - INFO - Chain [1] start processing\n",
      "20:28:22 - cmdstanpy - INFO - Chain [1] done processing\n"
     ]
    },
    {
     "name": "stdout",
     "output_type": "stream",
     "text": [
      "Ingesting for date: 2023-05-04 00:00:00\n"
     ]
    },
    {
     "name": "stderr",
     "output_type": "stream",
     "text": [
      "20:28:23 - cmdstanpy - INFO - Chain [1] start processing\n",
      "20:28:28 - cmdstanpy - INFO - Chain [1] done processing\n"
     ]
    },
    {
     "name": "stdout",
     "output_type": "stream",
     "text": [
      "Ingesting for date: 2023-05-05 00:00:00\n"
     ]
    },
    {
     "name": "stderr",
     "output_type": "stream",
     "text": [
      "20:28:28 - cmdstanpy - INFO - Chain [1] start processing\n",
      "20:28:32 - cmdstanpy - INFO - Chain [1] done processing\n"
     ]
    },
    {
     "name": "stdout",
     "output_type": "stream",
     "text": [
      "Ingesting for date: 2023-05-06 00:00:00\n"
     ]
    },
    {
     "name": "stderr",
     "output_type": "stream",
     "text": [
      "20:28:32 - cmdstanpy - INFO - Chain [1] start processing\n",
      "20:28:37 - cmdstanpy - INFO - Chain [1] done processing\n"
     ]
    },
    {
     "name": "stdout",
     "output_type": "stream",
     "text": [
      "Ingesting for date: 2023-05-07 00:00:00\n"
     ]
    },
    {
     "name": "stderr",
     "output_type": "stream",
     "text": [
      "20:28:38 - cmdstanpy - INFO - Chain [1] start processing\n",
      "20:28:42 - cmdstanpy - INFO - Chain [1] done processing\n"
     ]
    },
    {
     "name": "stdout",
     "output_type": "stream",
     "text": [
      "Ingesting for date: 2023-05-08 00:00:00\n"
     ]
    },
    {
     "name": "stderr",
     "output_type": "stream",
     "text": [
      "20:28:43 - cmdstanpy - INFO - Chain [1] start processing\n",
      "20:28:47 - cmdstanpy - INFO - Chain [1] done processing\n"
     ]
    },
    {
     "name": "stdout",
     "output_type": "stream",
     "text": [
      "Ingesting for date: 2023-05-09 00:00:00\n"
     ]
    },
    {
     "name": "stderr",
     "output_type": "stream",
     "text": [
      "20:28:48 - cmdstanpy - INFO - Chain [1] start processing\n",
      "20:28:53 - cmdstanpy - INFO - Chain [1] done processing\n"
     ]
    },
    {
     "name": "stdout",
     "output_type": "stream",
     "text": [
      "Ingesting for date: 2023-05-10 00:00:00\n"
     ]
    },
    {
     "name": "stderr",
     "output_type": "stream",
     "text": [
      "20:28:53 - cmdstanpy - INFO - Chain [1] start processing\n",
      "20:28:59 - cmdstanpy - INFO - Chain [1] done processing\n"
     ]
    },
    {
     "name": "stdout",
     "output_type": "stream",
     "text": [
      "Ingesting for date: 2023-05-11 00:00:00\n"
     ]
    },
    {
     "name": "stderr",
     "output_type": "stream",
     "text": [
      "20:28:59 - cmdstanpy - INFO - Chain [1] start processing\n",
      "20:29:04 - cmdstanpy - INFO - Chain [1] done processing\n"
     ]
    },
    {
     "name": "stdout",
     "output_type": "stream",
     "text": [
      "Ingesting for date: 2023-05-12 00:00:00\n"
     ]
    },
    {
     "name": "stderr",
     "output_type": "stream",
     "text": [
      "20:29:05 - cmdstanpy - INFO - Chain [1] start processing\n",
      "20:29:12 - cmdstanpy - INFO - Chain [1] done processing\n"
     ]
    },
    {
     "name": "stdout",
     "output_type": "stream",
     "text": [
      "Ingesting for date: 2023-05-13 00:00:00\n"
     ]
    },
    {
     "name": "stderr",
     "output_type": "stream",
     "text": [
      "20:29:13 - cmdstanpy - INFO - Chain [1] start processing\n",
      "20:29:19 - cmdstanpy - INFO - Chain [1] done processing\n"
     ]
    },
    {
     "name": "stdout",
     "output_type": "stream",
     "text": [
      "Ingesting for date: 2023-05-14 00:00:00\n"
     ]
    },
    {
     "name": "stderr",
     "output_type": "stream",
     "text": [
      "20:29:19 - cmdstanpy - INFO - Chain [1] start processing\n",
      "20:29:25 - cmdstanpy - INFO - Chain [1] done processing\n"
     ]
    },
    {
     "name": "stdout",
     "output_type": "stream",
     "text": [
      "Ingesting for date: 2023-05-15 00:00:00\n"
     ]
    },
    {
     "name": "stderr",
     "output_type": "stream",
     "text": [
      "20:29:25 - cmdstanpy - INFO - Chain [1] start processing\n",
      "20:29:31 - cmdstanpy - INFO - Chain [1] done processing\n"
     ]
    },
    {
     "name": "stdout",
     "output_type": "stream",
     "text": [
      "Ingesting for date: 2023-05-16 00:00:00\n"
     ]
    },
    {
     "name": "stderr",
     "output_type": "stream",
     "text": [
      "20:29:32 - cmdstanpy - INFO - Chain [1] start processing\n",
      "20:29:36 - cmdstanpy - INFO - Chain [1] done processing\n"
     ]
    },
    {
     "name": "stdout",
     "output_type": "stream",
     "text": [
      "Ingesting for date: 2023-05-17 00:00:00\n"
     ]
    },
    {
     "name": "stderr",
     "output_type": "stream",
     "text": [
      "20:29:37 - cmdstanpy - INFO - Chain [1] start processing\n",
      "20:29:43 - cmdstanpy - INFO - Chain [1] done processing\n"
     ]
    },
    {
     "name": "stdout",
     "output_type": "stream",
     "text": [
      "Ingesting for date: 2023-05-18 00:00:00\n"
     ]
    },
    {
     "name": "stderr",
     "output_type": "stream",
     "text": [
      "20:29:43 - cmdstanpy - INFO - Chain [1] start processing\n",
      "20:29:49 - cmdstanpy - INFO - Chain [1] done processing\n"
     ]
    },
    {
     "name": "stdout",
     "output_type": "stream",
     "text": [
      "Ingesting for date: 2023-05-19 00:00:00\n"
     ]
    },
    {
     "name": "stderr",
     "output_type": "stream",
     "text": [
      "20:29:49 - cmdstanpy - INFO - Chain [1] start processing\n",
      "20:29:54 - cmdstanpy - INFO - Chain [1] done processing\n"
     ]
    },
    {
     "name": "stdout",
     "output_type": "stream",
     "text": [
      "Ingesting for date: 2023-05-20 00:00:00\n"
     ]
    },
    {
     "name": "stderr",
     "output_type": "stream",
     "text": [
      "20:29:55 - cmdstanpy - INFO - Chain [1] start processing\n",
      "20:30:01 - cmdstanpy - INFO - Chain [1] done processing\n"
     ]
    },
    {
     "name": "stdout",
     "output_type": "stream",
     "text": [
      "Ingesting for date: 2023-05-21 00:00:00\n"
     ]
    },
    {
     "name": "stderr",
     "output_type": "stream",
     "text": [
      "20:30:02 - cmdstanpy - INFO - Chain [1] start processing\n",
      "20:30:08 - cmdstanpy - INFO - Chain [1] done processing\n"
     ]
    },
    {
     "name": "stdout",
     "output_type": "stream",
     "text": [
      "Ingesting for date: 2023-05-22 00:00:00\n"
     ]
    },
    {
     "name": "stderr",
     "output_type": "stream",
     "text": [
      "20:30:08 - cmdstanpy - INFO - Chain [1] start processing\n",
      "20:30:15 - cmdstanpy - INFO - Chain [1] done processing\n"
     ]
    },
    {
     "name": "stdout",
     "output_type": "stream",
     "text": [
      "Ingesting for date: 2023-05-23 00:00:00\n"
     ]
    },
    {
     "name": "stderr",
     "output_type": "stream",
     "text": [
      "20:30:16 - cmdstanpy - INFO - Chain [1] start processing\n",
      "20:30:22 - cmdstanpy - INFO - Chain [1] done processing\n"
     ]
    },
    {
     "name": "stdout",
     "output_type": "stream",
     "text": [
      "Ingesting for date: 2023-05-24 00:00:00\n"
     ]
    },
    {
     "name": "stderr",
     "output_type": "stream",
     "text": [
      "20:30:22 - cmdstanpy - INFO - Chain [1] start processing\n",
      "20:30:26 - cmdstanpy - INFO - Chain [1] done processing\n"
     ]
    },
    {
     "name": "stdout",
     "output_type": "stream",
     "text": [
      "Ingesting for date: 2023-05-25 00:00:00\n"
     ]
    },
    {
     "name": "stderr",
     "output_type": "stream",
     "text": [
      "20:30:27 - cmdstanpy - INFO - Chain [1] start processing\n",
      "20:30:32 - cmdstanpy - INFO - Chain [1] done processing\n"
     ]
    },
    {
     "name": "stdout",
     "output_type": "stream",
     "text": [
      "Ingesting for date: 2023-05-26 00:00:00\n"
     ]
    },
    {
     "name": "stderr",
     "output_type": "stream",
     "text": [
      "20:30:33 - cmdstanpy - INFO - Chain [1] start processing\n",
      "20:30:37 - cmdstanpy - INFO - Chain [1] done processing\n"
     ]
    },
    {
     "name": "stdout",
     "output_type": "stream",
     "text": [
      "Ingesting for date: 2023-05-27 00:00:00\n"
     ]
    },
    {
     "name": "stderr",
     "output_type": "stream",
     "text": [
      "20:30:37 - cmdstanpy - INFO - Chain [1] start processing\n",
      "20:30:42 - cmdstanpy - INFO - Chain [1] done processing\n"
     ]
    }
   ],
   "source": [
    "for dt in dates_to_ingest:\n",
    "    hours = get_hours(dt)\n",
    "    print(f\"Ingesting for date: {dt}\")\n",
    "    training = df[:dt-datetime.timedelta(minutes=1)]\n",
    "    result = train_forecast(df, hours)\n",
    "    save_to_influxdb(result, client, bucket, org)"
   ]
  },
  {
   "cell_type": "markdown",
   "metadata": {},
   "source": [
    "Cuando acabe el proceso anterior ya deberíais tener los resultados en InfluxDB. Solo quedaría adaptar el dashboard anterior para visualizar también los datos de pronóstico. "
   ]
  },
  {
   "cell_type": "markdown",
   "metadata": {},
   "source": [
    "\n",
    "--- "
   ]
  },
  {
   "cell_type": "markdown",
   "metadata": {},
   "source": [
    "### <font color=\"#004D7F\"> <i class=\"fa fa-pencil-square-o\" aria-hidden=\"true\" style=\"color:#004D7F\"></i> Tarea 4</font>\n",
    "<br>\n",
    "\n",
    "Añade a la celda tipo graph del dashboard que creaste en la primera parte del capstone la serie predicha por el modelo que hemos entrenado.\n",
    "\n",
    "Para visualizar el pronóstico a futuro, necesitarás modificar el filtro de tiempo para incluir el día en curso. \n",
    "\n",
    "**Añade una captura de tu dashboard a continuación (incluyéndo el dashboard con la entrega)**. \n"
   ]
  },
  {
   "cell_type": "markdown",
   "metadata": {},
   "source": [
    "Mi resultado es:\n",
    "\n",
    "![tarea4](img/p2tarea4-marta.png)\n",
    "\n",
    "\n",
    "Resultado esperado (aprox):\n",
    "\n",
    "![tarea4](img/p2tarea4.png)"
   ]
  },
  {
   "cell_type": "markdown",
   "metadata": {},
   "source": [
    "<div style=\"text-align: right\"><font size=4> <i class=\"fa fa-check-square-o\" aria-hidden=\"true\" style=\"color:#00586D\"></i></font></div>\n",
    "\n",
    "--- "
   ]
  }
 ],
 "metadata": {
  "kernelspec": {
   "display_name": "Python 3 (ipykernel)",
   "language": "python",
   "name": "python3"
  },
  "language_info": {
   "codemirror_mode": {
    "name": "ipython",
    "version": 3
   },
   "file_extension": ".py",
   "mimetype": "text/x-python",
   "name": "python",
   "nbconvert_exporter": "python",
   "pygments_lexer": "ipython3",
   "version": "3.9.16"
  }
 },
 "nbformat": 4,
 "nbformat_minor": 4
}
