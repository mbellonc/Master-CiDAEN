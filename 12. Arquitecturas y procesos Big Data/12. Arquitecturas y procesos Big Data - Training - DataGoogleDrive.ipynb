{
 "cells": [
  {
   "cell_type": "markdown",
   "id": "5c2829b2",
   "metadata": {},
   "source": [
    "<img src=\"http://www.cidaen.es/assets/img/mCIDaeNnb.png\" alt=\"Logo CiDAEN\" align=\"right\">\n",
    "\n",
    "\n",
    "<br><br><br>\n",
    "<h2><font color=\"#00586D\" size=4>Módulo 12: Arquitecturas y procesos Big Data</font></h2>\n",
    "\n",
    "\n",
    "\n",
    "<h1><font color=\"#00586D\" size=5>Capstone 12. Parte 1: Modelo de <i>sentiment</i> sobre Amazon Reviews</font></h1>\n",
    "\n",
    "<br><br><br>\n",
    "<div style=\"text-align: right\">\n",
    "<font color=\"#00586D\" size=3>Enrique González, Jacinto Arias</font><br>\n",
    "<font color=\"#00586D\" size=3>Máster en Ciencia de Datos e Ingeniería de Datos en la Nube</font><br>\n",
    "<font color=\"#00586D\" size=3>Universidad de Castilla-La Mancha</font>\n",
    "\n",
    "\n",
    "\n",
    "\n",
    "</div>\n",
    "\n",
    "<div align=\"left\">\n",
    "<font color=\"#000000\" size=3>Marta Bellón Castro</font><br>\n",
    "<font color=\"#000000\" size=3>Curso 2022-2023</font><br>\n",
    "</div>"
   ]
  },
  {
   "cell_type": "markdown",
   "id": "890eb90f",
   "metadata": {},
   "source": [
    "<a id=\"indice\"></a>\n",
    "<h2><font color=\"#00586D\" size=5>Índice</font></h2>\n",
    "\n",
    "\n",
    "* [1. Introducción](#section1)\n",
    "* [2. Análisis exploratorio](#section2)\n",
    "* [3. Modelado](#section3)"
   ]
  },
  {
   "cell_type": "code",
   "execution_count": 1,
   "id": "69c3d12e",
   "metadata": {
    "scrolled": false
   },
   "outputs": [
    {
     "data": {
      "application/vnd.jupyter.widget-view+json": {
       "model_id": "ae470b51053d44f28447fce576e0f009",
       "version_major": 2,
       "version_minor": 0
      },
      "text/plain": [
       "VBox()"
      ]
     },
     "metadata": {},
     "output_type": "display_data"
    },
    {
     "name": "stdout",
     "output_type": "stream",
     "text": [
      "Starting Spark application\n"
     ]
    },
    {
     "data": {
      "text/html": [
       "<table>\n",
       "<tr><th>ID</th><th>YARN Application ID</th><th>Kind</th><th>State</th><th>Spark UI</th><th>Driver log</th><th>User</th><th>Current session?</th></tr><tr><td>0</td><td>application_1691196225143_0001</td><td>pyspark</td><td>idle</td><td><a target=\"_blank\" href=\"http://ip-172-31-24-52.ec2.internal:20888/proxy/application_1691196225143_0001/\" class=\"emr-proxy-link\" emr-resource=\"j-JT4WZ7LQBBNT\n",
       "\" application-id=\"application_1691196225143_0001\">Link</a></td><td><a target=\"_blank\" href=\"http://ip-172-31-18-8.ec2.internal:8042/node/containerlogs/container_1691196225143_0001_01_000001/livy\" >Link</a></td><td>None</td><td>✔</td></tr></table>"
      ],
      "text/plain": [
       "<IPython.core.display.HTML object>"
      ]
     },
     "metadata": {},
     "output_type": "display_data"
    },
    {
     "data": {
      "application/vnd.jupyter.widget-view+json": {
       "model_id": "",
       "version_major": 2,
       "version_minor": 0
      },
      "text/plain": [
       "FloatProgress(value=0.0, bar_style='info', description='Progress:', layout=Layout(height='25px', width='50%'),…"
      ]
     },
     "metadata": {},
     "output_type": "display_data"
    },
    {
     "name": "stdout",
     "output_type": "stream",
     "text": [
      "SparkSession available as 'spark'.\n"
     ]
    },
    {
     "data": {
      "application/vnd.jupyter.widget-view+json": {
       "model_id": "",
       "version_major": 2,
       "version_minor": 0
      },
      "text/plain": [
       "FloatProgress(value=0.0, bar_style='info', description='Progress:', layout=Layout(height='25px', width='50%'),…"
      ]
     },
     "metadata": {},
     "output_type": "display_data"
    }
   ],
   "source": [
    "# Instalamos algunas librerías útiles para la práctica\n",
    "\n",
    "import pyspark.sql.functions as sqlf\n",
    "from pyspark.ml.pipeline import PipelineModel\n",
    "from pyspark.ml.evaluation import BinaryClassificationEvaluator"
   ]
  },
  {
   "cell_type": "code",
   "execution_count": 2,
   "id": "72445479",
   "metadata": {
    "scrolled": true
   },
   "outputs": [
    {
     "data": {
      "application/vnd.jupyter.widget-view+json": {
       "model_id": "0353074a136e454a8810388861976d1a",
       "version_major": 2,
       "version_minor": 0
      },
      "text/plain": [
       "VBox()"
      ]
     },
     "metadata": {},
     "output_type": "display_data"
    },
    {
     "data": {
      "application/vnd.jupyter.widget-view+json": {
       "model_id": "",
       "version_major": 2,
       "version_minor": 0
      },
      "text/plain": [
       "FloatProgress(value=0.0, bar_style='info', description='Progress:', layout=Layout(height='25px', width='50%'),…"
      ]
     },
     "metadata": {},
     "output_type": "display_data"
    },
    {
     "name": "stdout",
     "output_type": "stream",
     "text": [
      "Collecting pandas\n",
      "  Downloading pandas-1.3.5-cp37-cp37m-manylinux_2_17_x86_64.manylinux2014_x86_64.whl (11.3 MB)\n",
      "Collecting python-dateutil>=2.7.3\n",
      "  Downloading python_dateutil-2.8.2-py2.py3-none-any.whl (247 kB)\n",
      "Requirement already satisfied: numpy>=1.17.3; platform_machine != \"aarch64\" and platform_machine != \"arm64\" and python_version < \"3.10\" in /usr/local/lib64/python3.7/site-packages (from pandas) (1.20.0)\n",
      "Requirement already satisfied: pytz>=2017.3 in /usr/local/lib/python3.7/site-packages (from pandas) (2023.3)\n",
      "Requirement already satisfied: six>=1.5 in /usr/local/lib/python3.7/site-packages (from python-dateutil>=2.7.3->pandas) (1.13.0)\n",
      "Installing collected packages: python-dateutil, pandas\n",
      "Successfully installed pandas-1.3.5 python-dateutil-2.8.2\n",
      "\n",
      "Collecting seaborn\n",
      "  Downloading seaborn-0.12.2-py3-none-any.whl (293 kB)\n",
      "Requirement already satisfied: pandas>=0.25 in ./tmp/1691196491930-0/lib/python3.7/site-packages (from seaborn) (1.3.5)\n",
      "Requirement already satisfied: numpy!=1.24.0,>=1.17 in /usr/local/lib64/python3.7/site-packages (from seaborn) (1.20.0)\n",
      "Collecting typing_extensions; python_version < \"3.8\"\n",
      "  Downloading typing_extensions-4.7.1-py3-none-any.whl (33 kB)\n",
      "Collecting matplotlib!=3.6.1,>=3.1\n",
      "  Downloading matplotlib-3.5.3-cp37-cp37m-manylinux_2_5_x86_64.manylinux1_x86_64.whl (11.2 MB)\n",
      "Requirement already satisfied: python-dateutil>=2.7.3 in ./tmp/1691196491930-0/lib/python3.7/site-packages (from pandas>=0.25->seaborn) (2.8.2)\n",
      "Requirement already satisfied: pytz>=2017.3 in /usr/local/lib/python3.7/site-packages (from pandas>=0.25->seaborn) (2023.3)\n",
      "Collecting packaging>=20.0\n",
      "  Downloading packaging-23.1-py3-none-any.whl (48 kB)\n",
      "Collecting pyparsing>=2.2.1\n",
      "  Downloading pyparsing-3.1.1-py3-none-any.whl (103 kB)\n",
      "Collecting cycler>=0.10\n",
      "  Downloading cycler-0.11.0-py3-none-any.whl (6.4 kB)\n",
      "Collecting kiwisolver>=1.0.1\n",
      "  Downloading kiwisolver-1.4.4-cp37-cp37m-manylinux_2_5_x86_64.manylinux1_x86_64.whl (1.1 MB)\n",
      "Collecting pillow>=6.2.0\n",
      "  Downloading Pillow-9.5.0-cp37-cp37m-manylinux_2_17_x86_64.manylinux2014_x86_64.whl (3.3 MB)\n",
      "Collecting fonttools>=4.22.0\n",
      "  Downloading fonttools-4.38.0-py3-none-any.whl (965 kB)\n",
      "Requirement already satisfied: six>=1.5 in /usr/local/lib/python3.7/site-packages (from python-dateutil>=2.7.3->pandas>=0.25->seaborn) (1.13.0)\n",
      "Installing collected packages: typing-extensions, packaging, pyparsing, cycler, kiwisolver, pillow, fonttools, matplotlib, seaborn\n",
      "Successfully installed cycler-0.11.0 fonttools-4.38.0 kiwisolver-1.4.4 matplotlib-3.5.3 packaging-23.1 pillow-9.5.0 pyparsing-3.1.1 seaborn-0.12.2 typing-extensions-4.7.1\n",
      "\n",
      "Collecting tabulate\n",
      "  Downloading tabulate-0.9.0-py3-none-any.whl (35 kB)\n",
      "Installing collected packages: tabulate\n",
      "Successfully installed tabulate-0.9.0\n",
      "\n",
      "WARNING: The directory '/home/.cache/pip' or its parent directory is not owned or is not writable by the current user. The cache has been disabled. Check the permissions and owner of that directory. If executing pip with sudo, you may want sudo's -H flag.\n",
      "\n",
      "WARNING: The directory '/home/.cache/pip' or its parent directory is not owned or is not writable by the current user. The cache has been disabled. Check the permissions and owner of that directory. If executing pip with sudo, you may want sudo's -H flag.\n",
      "\n",
      "WARNING: The directory '/home/.cache/pip' or its parent directory is not owned or is not writable by the current user. The cache has been disabled. Check the permissions and owner of that directory. If executing pip with sudo, you may want sudo's -H flag."
     ]
    }
   ],
   "source": [
    "sc.install_pypi_package('pandas')\n",
    "sc.install_pypi_package('seaborn')\n",
    "sc.install_pypi_package('tabulate')"
   ]
  },
  {
   "cell_type": "code",
   "execution_count": 3,
   "id": "8c1e0ed3",
   "metadata": {},
   "outputs": [
    {
     "data": {
      "application/vnd.jupyter.widget-view+json": {
       "model_id": "f35570e4945c4922889ef13a0e9fde8e",
       "version_major": 2,
       "version_minor": 0
      },
      "text/plain": [
       "VBox()"
      ]
     },
     "metadata": {},
     "output_type": "display_data"
    },
    {
     "data": {
      "application/vnd.jupyter.widget-view+json": {
       "model_id": "",
       "version_major": 2,
       "version_minor": 0
      },
      "text/plain": [
       "FloatProgress(value=0.0, bar_style='info', description='Progress:', layout=Layout(height='25px', width='50%'),…"
      ]
     },
     "metadata": {},
     "output_type": "display_data"
    },
    {
     "name": "stdout",
     "output_type": "stream",
     "text": [
      "Package                    Version\n",
      "-------------------------- ----------\n",
      "aws-cfn-bootstrap          2.0\n",
      "beautifulsoup4             4.9.3\n",
      "boto                       2.49.0\n",
      "click                      8.1.3\n",
      "cycler                     0.11.0\n",
      "docutils                   0.14\n",
      "fonttools                  4.38.0\n",
      "jmespath                   1.0.1\n",
      "joblib                     1.2.0\n",
      "kiwisolver                 1.4.4\n",
      "lockfile                   0.11.0\n",
      "lxml                       4.9.2\n",
      "matplotlib                 3.5.3\n",
      "mysqlclient                1.4.2\n",
      "nltk                       3.8.1\n",
      "nose                       1.3.4\n",
      "numpy                      1.20.0\n",
      "packaging                  23.1\n",
      "pandas                     1.3.5\n",
      "Pillow                     9.5.0\n",
      "pip                        20.2.2\n",
      "py-dateutil                2.2\n",
      "pyparsing                  3.1.1\n",
      "pystache                   0.5.4\n",
      "python-daemon              2.2.3\n",
      "python-dateutil            2.8.2\n",
      "python37-sagemaker-pyspark 1.4.2\n",
      "pytz                       2023.3\n",
      "PyYAML                     5.4.1\n",
      "regex                      2021.11.10\n",
      "seaborn                    0.12.2\n",
      "setuptools                 28.8.0\n",
      "simplejson                 3.2.0\n",
      "six                        1.13.0\n",
      "tabulate                   0.9.0\n",
      "tqdm                       4.65.0\n",
      "typing-extensions          4.7.1\n",
      "wheel                      0.29.0\n",
      "windmill                   1.6\n",
      "\n",
      "WARNING: The directory '/home/.cache/pip' or its parent directory is not owned or is not writable by the current user. The cache has been disabled. Check the permissions and owner of that directory. If executing pip with sudo, you may want sudo's -H flag."
     ]
    }
   ],
   "source": [
    "# Los siguientes packetes están disponibles en el cluster\n",
    "sc.list_packages()"
   ]
  },
  {
   "cell_type": "markdown",
   "id": "6204360a",
   "metadata": {},
   "source": [
    "---\n",
    "\n",
    "<a id=\"section1\"></a>\n",
    "## <font color=\"#00586D\"> 1. Introducción</font>\n",
    "<br>"
   ]
  },
  {
   "cell_type": "markdown",
   "id": "ac76b38b",
   "metadata": {},
   "source": [
    "En este capstone vamos a aprender un modelo de detección del sentimiento utilizando MLlib y EMR. Una vez aprendido ampliaremos el proyecto serializando este modelo y comparándolo con el modelo de detección de sentimiento disponible en AWS. \n",
    "\n",
    "Para ello utilizaremos el dataset de __amazon reviews__ que está disponible de manera pública\n",
    "\n",
    "https://s3.amazonaws.com/amazon-reviews-pds/readme.html\n",
    "\n",
    "Este dataset tiene dos versiones una en tsv y otra en parquet. Nosotros usaremos la que está en parquet que está disponible a través de la ruta de s3: `s3://amazon-reviews-pds/parquet`.\n",
    "\n",
    "<span style=\"color: red;\"><strong>NOTA IMPORTANTE:<br>\n",
    "    El link para descargar los archivos de reviews no funciona, así que se ha realizado el ejercico con los datos descargados de GoogleDrive, pero estos son ligeramente diferentes a los obtenidos utilizados con el dataset de \"electronics\" que se descargaba desde Amazon, el cual me ha facilitado un compañero.\n",
    "    </strong></span>\n",
    "\n",
    "\n",
    "Este dataset tiene las siguientes columnas (de su diccionario de datos):\n",
    "```\n",
    "marketplace       - 2 letter country code of the marketplace where the review was written.\n",
    "customer_id       - Random identifier that can be used to aggregate reviews written by a single author.\n",
    "review_id         - The unique ID of the review.\n",
    "product_id        - The unique Product ID the review pertains to. In the multilingual dataset the reviews\n",
    "                    for the same product in different countries can be grouped by the same product_id.\n",
    "product_parent    - Random identifier that can be used to aggregate reviews for the same product.\n",
    "product_title     - Title of the product.\n",
    "product_category  - Broad product category that can be used to group reviews \n",
    "                    (also used to group the dataset into coherent parts).\n",
    "star_rating       - The 1-5 star rating of the review.\n",
    "helpful_votes     - Number of helpful votes.\n",
    "total_votes       - Number of total votes the review received.\n",
    "vine              - Review was written as part of the Vine program.\n",
    "verified_purchase - The review is on a verified purchase.\n",
    "review_headline   - The title of the review.\n",
    "review_body       - The review text.\n",
    "review_date       - The date the review was written.\n",
    "```\n",
    "\n",
    "De estas, la columna `product_category` se usa como clave de partición. Podéis encontrar toda la información en el enlace que os proporcionamos más arriba. "
   ]
  },
  {
   "cell_type": "markdown",
   "id": "12c25b56",
   "metadata": {},
   "source": [
    "---\n",
    "\n",
    "<a id=\"section2\"></a>\n",
    "## <font color=\"#00586D\"> 2. Análisis exploratorio</font>\n",
    "<br>"
   ]
  },
  {
   "cell_type": "markdown",
   "id": "a6b4fa06",
   "metadata": {},
   "source": [
    "Antes de empezar con el modelado exploraremos los datos minimamente para poder estudiar sus propiedades."
   ]
  },
  {
   "cell_type": "markdown",
   "id": "096b1366",
   "metadata": {},
   "source": [
    "---\n",
    "### <font color=\"#004D7F\"> <i class=\"fa fa-pencil-square-o\" aria-hidden=\"true\" style=\"color:#004D7F\"></i> Tarea 1: Carga de datos </font>\n",
    "<br>\n",
    "\n",
    "Carga el dataset completo en formato parquet y cuenta sus registros. De momento, no lo persistas. \n",
    "\n",
    "\n"
   ]
  },
  {
   "cell_type": "code",
   "execution_count": 4,
   "id": "52ca06f8",
   "metadata": {},
   "outputs": [
    {
     "data": {
      "application/vnd.jupyter.widget-view+json": {
       "model_id": "380161033cde443b9c91f4b7c9a4f0d5",
       "version_major": 2,
       "version_minor": 0
      },
      "text/plain": [
       "VBox()"
      ]
     },
     "metadata": {},
     "output_type": "display_data"
    },
    {
     "data": {
      "application/vnd.jupyter.widget-view+json": {
       "model_id": "",
       "version_major": 2,
       "version_minor": 0
      },
      "text/plain": [
       "FloatProgress(value=0.0, bar_style='info', description='Progress:', layout=Layout(height='25px', width='50%'),…"
      ]
     },
     "metadata": {},
     "output_type": "display_data"
    },
    {
     "name": "stdout",
     "output_type": "stream",
     "text": [
      "Total Records: 16967903"
     ]
    }
   ],
   "source": [
    "from pyspark.sql import SparkSession\n",
    "\n",
    "# Creamos la instancia SparkSession\n",
    "spark = SparkSession.builder \\\n",
    "    .appName(\"SentimentAnalysis\") \\\n",
    "    .getOrCreate()\n",
    "\n",
    "# Define la ruta del archivo parquet en S3\n",
    "parquet_path = \"s3://capstone12bucket2/amazon-reviews-pds-parquet\"\n",
    "\n",
    "# Lee el archivo parquet como un DataFrame\n",
    "data_frame = spark.read.parquet(parquet_path)\n",
    "\n",
    "# Cuenta el número de registros en el DataFrame\n",
    "record_count = data_frame.count()\n",
    "\n",
    "# Print the number of records\n",
    "print(\"Total Records:\", record_count)"
   ]
  },
  {
   "cell_type": "markdown",
   "id": "ef64ab8a",
   "metadata": {},
   "source": [
    "**Resultado esperado**: 160796570 registros\n",
    "\n",
    "<div style=\"text-align: right\"><font size=4> <i class=\"fa fa-check-square-o\" aria-hidden=\"true\" style=\"color:#00586D\"></i></font></div>\n"
   ]
  },
  {
   "cell_type": "markdown",
   "id": "5ece2d23",
   "metadata": {},
   "source": [
    "<span style=\"color: red;\"><strong>Los resultados son ligeramente diferentes utilizando los datos descargados de GoogleDrive.\n",
    "    </strong></span>"
   ]
  },
  {
   "cell_type": "markdown",
   "id": "cf872e82",
   "metadata": {},
   "source": [
    "---\n",
    "### <font color=\"#004D7F\"> <i class=\"fa fa-pencil-square-o\" aria-hidden=\"true\" style=\"color:#004D7F\"></i> Tarea 2: Filtrado </font>\n",
    "<br>\n",
    "\n",
    "\n",
    "Como el dataset es masivo para entrenar el modelo de sentiment vamos a trabajar únicamente con una partición. Concretamente utilizaremos la partición de `Electronics`. Filtra los datos para quedarte con esta partición y cuenta ahora el total de elementos de este nuevo dataset. No cachees este dataset. \n",
    "\n"
   ]
  },
  {
   "cell_type": "code",
   "execution_count": 6,
   "id": "a699fb47",
   "metadata": {},
   "outputs": [
    {
     "data": {
      "application/vnd.jupyter.widget-view+json": {
       "model_id": "7641ba6632a844e184d92259886ff581",
       "version_major": 2,
       "version_minor": 0
      },
      "text/plain": [
       "VBox()"
      ]
     },
     "metadata": {},
     "output_type": "display_data"
    },
    {
     "data": {
      "application/vnd.jupyter.widget-view+json": {
       "model_id": "",
       "version_major": 2,
       "version_minor": 0
      },
      "text/plain": [
       "FloatProgress(value=0.0, bar_style='info', description='Progress:', layout=Layout(height='25px', width='50%'),…"
      ]
     },
     "metadata": {},
     "output_type": "display_data"
    },
    {
     "name": "stdout",
     "output_type": "stream",
     "text": [
      "Registros en electroncis: 3105119"
     ]
    }
   ],
   "source": [
    "# Solución\n",
    "# Proceso\n",
    "from pyspark.sql import SparkSession\n",
    "\n",
    "# Inicia una instancia de SparkSession\n",
    "spark = SparkSession.builder \\\n",
    "    .appName(\"SentimentAnalysis\") \\\n",
    "    .getOrCreate()\n",
    "\n",
    "#Esto es lo que habría que hacer si funcionase el link\n",
    "\n",
    "# Ruta del archivo parquet en S3\n",
    "ruta_parquet = \"s3://capstone12bucket2/amazon-reviews-pds-parquet\"\n",
    "\n",
    "# Lee el archivo parquet y crea un DataFrame\n",
    "data_frame = spark.read.parquet(ruta_parquet)\n",
    "\n",
    "# Filtra los datos para obtener la categoría de Electrónicos\n",
    "data_frame_electronics = data_frame.filter(data_frame[\"product_category\"] == \"Electronics\")\n",
    "\n",
    "# Cuenta el número de registros en el nuevo DataFrame\n",
    "conteo_electronics = data_frame_electronics.count()\n",
    "\n",
    "# Imprime el conteo de registros\n",
    "print(\"Registros en electroncis:\", conteo_electronics)"
   ]
  },
  {
   "cell_type": "markdown",
   "id": "a8b41c33",
   "metadata": {},
   "source": [
    "**Resultado esperado**: 3120938 registros\n",
    "\n",
    "<div style=\"text-align: right\"><font size=4> <i class=\"fa fa-check-square-o\" aria-hidden=\"true\" style=\"color:#00586D\"></i></font></div>\n"
   ]
  },
  {
   "cell_type": "markdown",
   "id": "a0d8e091",
   "metadata": {},
   "source": [
    "---\n",
    "### <font color=\"#004D7F\"> <i class=\"fa fa-pencil-square-o\" aria-hidden=\"true\" style=\"color:#004D7F\"></i> Tarea 3: Almacenamiento </font>\n",
    "<br>\n",
    "\n",
    "\n",
    "Para no seguir trabajando con los datos públicos, vamos a escribir los datos en un bucket de S3 en nuestra cuenta. Para ello, crea un bucket the S3 para este capstone y escribe los datos dentro del bucket en el directorio `electronics`. Utiliza repartition para tener 32 particiones. Tras esto, vuelve a cargar el dataset y cachéalo. \n",
    "\n"
   ]
  },
  {
   "cell_type": "code",
   "execution_count": 7,
   "id": "65812e5f",
   "metadata": {},
   "outputs": [
    {
     "data": {
      "application/vnd.jupyter.widget-view+json": {
       "model_id": "6c619bd57e164c58b219229927864f00",
       "version_major": 2,
       "version_minor": 0
      },
      "text/plain": [
       "VBox()"
      ]
     },
     "metadata": {},
     "output_type": "display_data"
    },
    {
     "data": {
      "application/vnd.jupyter.widget-view+json": {
       "model_id": "",
       "version_major": 2,
       "version_minor": 0
      },
      "text/plain": [
       "FloatProgress(value=0.0, bar_style='info', description='Progress:', layout=Layout(height='25px', width='50%'),…"
      ]
     },
     "metadata": {},
     "output_type": "display_data"
    }
   ],
   "source": [
    "# Solución\n",
    "\n",
    "\n",
    "# Ruta S3 para almacenar los datos\n",
    "s3_bucket = \"s3://capstone12bucket2\"\n",
    "\n",
    "# Escribe los datos en el depósito S3 en la subcarpeta \"electronica\" con 32 particiones\n",
    "data_frame_electronics.repartition(32).write.parquet(s3_bucket + \"/electronics\", mode=\"overwrite\")\n",
    "\n",
    "# Carga nuevamente el conjunto de datos desde S3\n",
    "data_frame_electronics = spark.read.parquet(s3_bucket + \"/electronics\").cache()\n",
    "\n"
   ]
  },
  {
   "cell_type": "markdown",
   "id": "3244edd3",
   "metadata": {},
   "source": [
    "\n",
    "\n",
    "<div style=\"text-align: right\"><font size=4> <i class=\"fa fa-check-square-o\" aria-hidden=\"true\" style=\"color:#00586D\"></i></font></div>\n"
   ]
  },
  {
   "cell_type": "markdown",
   "id": "c1c2fd26",
   "metadata": {},
   "source": [
    "---\n",
    "### <font color=\"#004D7F\"> <i class=\"fa fa-pencil-square-o\" aria-hidden=\"true\" style=\"color:#004D7F\"></i> Tarea 4: Almacenamiento </font>\n",
    "<br>\n",
    "\n",
    "Obten los siguiente resultados del dataset que acabáis de cargar:\n",
    "\n",
    "1. Muestra el total de reviews para cada posible número de estrellas recibidas (*star_rating*)\n",
    "2. Obtén los 10 productos con mayor número de votos (*total_votes*) mostrando su nombre, numero de votos y valoración media (*star_rating*)\n",
    "3. Obtén la cantidad de reviews (1 registro de dataset -> 1 review) y la valoración media (*star_rating*) por mes y año. Obten los últimos 15 registros ordenador por año y mes.  "
   ]
  },
  {
   "cell_type": "code",
   "execution_count": 8,
   "id": "d385f8a3",
   "metadata": {},
   "outputs": [
    {
     "data": {
      "application/vnd.jupyter.widget-view+json": {
       "model_id": "7047155e061f46eea6b455f041211a69",
       "version_major": 2,
       "version_minor": 0
      },
      "text/plain": [
       "VBox()"
      ]
     },
     "metadata": {},
     "output_type": "display_data"
    },
    {
     "data": {
      "application/vnd.jupyter.widget-view+json": {
       "model_id": "",
       "version_major": 2,
       "version_minor": 0
      },
      "text/plain": [
       "FloatProgress(value=0.0, bar_style='info', description='Progress:', layout=Layout(height='25px', width='50%'),…"
      ]
     },
     "metadata": {},
     "output_type": "display_data"
    },
    {
     "name": "stdout",
     "output_type": "stream",
     "text": [
      "╒════╤═══════════════╤═════════════════╕\n",
      "│    │   star_rating │   total_reviews │\n",
      "╞════╪═══════════════╪═════════════════╡\n",
      "│  0 │             3 │          239459 │\n",
      "├────┼───────────────┼─────────────────┤\n",
      "│  1 │             1 │          359248 │\n",
      "├────┼───────────────┼─────────────────┤\n",
      "│  2 │             5 │         1787754 │\n",
      "├────┼───────────────┼─────────────────┤\n",
      "│  3 │             4 │          538824 │\n",
      "├────┼───────────────┼─────────────────┤\n",
      "│  4 │             2 │          179834 │\n",
      "╘════╧═══════════════╧═════════════════╛\n",
      "+----------+--------------------+-----------+------------------+\n",
      "|product_id|       product_title|total_votes|       star_rating|\n",
      "+----------+--------------------+-----------+------------------+\n",
      "|B000I1X6PM|Denon AKDL1 Dedic...|      46348|3.4917491749174916|\n",
      "|B000J36XR2|AudioQuest K2 Ter...|      20515|3.9357429718875503|\n",
      "|B004QK7HI8|Mohu Leaf 30 TV A...|      18198| 4.091006423982869|\n",
      "|B0001FTVEK|Sennheiser On-Ear...|      18029| 4.034212320982041|\n",
      "|B000EPLP3C|Zune 30 GB Digita...|      17598|3.7341513292433537|\n",
      "|B001FA1O18|Apple iPod touch ...|      17103| 4.384232365145229|\n",
      "|B00D5Q75RC|Bose SoundLink Mi...|      16028| 4.721810699588477|\n",
      "|B0054JJ0QW|Bose QuietComfort...|      13383| 4.439661515820457|\n",
      "|B0002L5R78|High Speed HDMI C...|      12859| 4.462750716332378|\n",
      "|B000WYVBR0|VideoSecu ML531BE...|      11100|4.5796048438495855|\n",
      "+----------+--------------------+-----------+------------------+\n",
      "\n",
      "+----+-----+-------------+------------------+\n",
      "|year|month|reviews_count|  mean_star_rating|\n",
      "+----+-----+-------------+------------------+\n",
      "|2015|    8|       102984| 4.093985473471608|\n",
      "|2015|    7|        99806|  4.08580646454121|\n",
      "|2015|    6|        91486| 4.093478783639027|\n",
      "|2015|    5|        89357| 4.100439808856609|\n",
      "|2015|    4|        93152| 4.102466935760907|\n",
      "|2015|    3|       108861|  4.11561532596614|\n",
      "|2015|    2|       107291| 4.118062092813004|\n",
      "|2015|    1|       120404| 4.152602903558021|\n",
      "|2014|   12|       107891| 4.120232456831432|\n",
      "|2014|   11|        77529|  4.10810148460576|\n",
      "|2014|   10|        78128| 4.114210014335449|\n",
      "|2014|    9|        77753| 4.116111275449179|\n",
      "|2014|    8|        82143| 4.115664146671049|\n",
      "|2014|    7|        79424| 4.118352135374698|\n",
      "|2014|    6|        48375|4.0157726098191215|\n",
      "+----+-----+-------------+------------------+"
     ]
    }
   ],
   "source": [
    "from tabulate import tabulate\n",
    "import pandas as pd\n",
    "from pyspark.sql.functions import desc\n",
    "from pyspark.sql.functions import month, year, avg\n",
    "from pyspark.sql.window import Window\n",
    "from pyspark.sql.functions import row_number\n",
    "from pyspark.sql import functions as F\n",
    "\n",
    "# Análisis de reseñas por número de estrellas\n",
    "\n",
    "from pyspark.sql.functions import count\n",
    "\n",
    "# Calcular el total de reseñas por número de estrellas\n",
    "reviews_per_star = data_frame_electronics.groupBy(\"star_rating\").agg(count(\"*\").alias(\"total_reviews\"))\n",
    "\n",
    "review_data = reviews_per_star.toPandas()\n",
    "print(tabulate(review_data, headers=\"keys\", tablefmt=\"fancy_grid\", floatfmt=\".0f\"))\n",
    "\n",
    "# 2-10 productos con mayor número de votos\n",
    "\n",
    "# 10 productos con mas votos\n",
    "top_ten_products = data_frame_electronics.groupBy(\"product_id\", \"product_title\") \\\n",
    "    .agg(F.sum(\"total_votes\").alias(\"total_votes\"), F.avg(\"star_rating\").alias(\"star_rating\")) \\\n",
    "    .orderBy(F.desc(\"total_votes\")) \\\n",
    "    .limit(10)\n",
    "\n",
    "top_ten_products.show()\n",
    "\n",
    "# 3-Cantidad de reviews\n",
    "\n",
    "# Cantidad de reviews y valoración media por mes y año\n",
    "reviews_avg_rating = data_frame_electronics.select(\"review_date\", \"star_rating\") \\\n",
    "    .withColumn(\"year\", year(\"review_date\")) \\\n",
    "    .withColumn(\"month\", month(\"review_date\")) \\\n",
    "    .groupBy(\"year\", \"month\") \\\n",
    "    .agg(count(\"*\").alias(\"reviews_count\"), avg(\"star_rating\").alias(\"mean_star_rating\")) \\\n",
    "    .orderBy(desc(\"year\"), desc(\"month\"))\n",
    "\n",
    "# Últimos 15 registros por mes y año\n",
    "window_spec = Window.orderBy(desc(\"year\"), desc(\"month\"))\n",
    "last_15_records = reviews_avg_rating.withColumn(\"row_number\", row_number().over(window_spec)) \\\n",
    "    .filter(\"row_number <= 15\") \\\n",
    "    .orderBy(desc(\"year\"), desc(\"month\"))\n",
    "\n",
    "# Obtener los últimos 15 registros ordenados por año y mes\n",
    "last_15_records_selected = last_15_records.select(\"year\", \"month\", \"reviews_count\", \"mean_star_rating\")\n",
    "\n",
    "# Mostrar los resultados seleccionados\n",
    "last_15_records_selected.show()"
   ]
  },
  {
   "cell_type": "markdown",
   "id": "b06238b7",
   "metadata": {},
   "source": [
    "**Resultados esperados**:\n",
    "1. Muestra el total de reviews para cada posible número de estrellas recibidas (*star_rating*)\n",
    "\n",
    "|   star_rating |            count |\n",
    "|--------------:|-----------------:|\n",
    "|             1 | 360558           |\n",
    "|             3 | 240859           |\n",
    "|             4 | 542181           |\n",
    "|             5 | 1796672          |\n",
    "|             2 | 180668           |\n",
    "\n",
    "2. Obtén los 10 productos con mayor número de votos (*total_votes*) mostrando su nombre, numero de votos y valoración media (*star_rating*)\n",
    "\n",
    "| product_title                                                                                    |   total_votes |   star_rating |\n",
    "|:-------------------------------------------------------------------------------------------------|--------------:|--------------:|\n",
    "| Denon AKDL1 Dedicated Link Cable (Discontinued by Manufacturer)                                  |         12944 |             3 |\n",
    "| AudioQuest K2 Terminated Speaker Cable - UST 2.44 m Plugs 8' Pair (Discontinued by Manufacturer) |          9072 |             1 |\n",
    "| Panasonic ErgoFit In-Ear Earbud Headphone                                                        |          8680 |             5 |\n",
    "| Apple iPod touch 8GB (4th Generation)                                                            |          6353 |             5 |\n",
    "| Denon AKDL1 Dedicated Link Cable (Discontinued by Manufacturer)                                  |          5546 |             1 |\n",
    "| Apple iPod touch 8 GB 2nd Generation                                                             |          4595 |             5 |\n",
    "| Bose QuietComfort 15 Acoustic Noise Cancelling Headphones (Discontinued by Manufacturer)         |          4556 |             4 |\n",
    "| Panasonic ErgoFit In-Ear Earbud Headphone                                                        |          4341 |             5 |\n",
    "| X-Mini II XAM4-B Portable Capsule Speaker, Mono                                                  |          4260 |             1 |\n",
    "| Denon AKDL1 Dedicated Link Cable (Discontinued by Manufacturer)                                  |          4242 |             2 |\n",
    "\n",
    "3. Obtén la cantidad de reviews (1 registro de dataset -> 1 review) y la valoración media (*star_rating*) por mes y año. Obten los últimos 15 registros ordenador por año y mes. \n",
    "\n",
    "|   year |   month |   review_count |   mean_star_rating |\n",
    "|-------:|--------:|---------------:|-------------------:|\n",
    "|   2015 |       8 |         103336 |            4.09441 |\n",
    "|   2015 |       7 |         100128 |            4.08615 |\n",
    "|   2015 |       6 |          91815 |            4.0933  |\n",
    "|   2015 |       5 |          89676 |            4.10048 |\n",
    "|   2015 |       4 |          93469 |            4.10283 |\n",
    "|   2015 |       3 |         109175 |            4.11569 |\n",
    "|   2015 |       2 |         107623 |            4.11792 |\n",
    "|   2015 |       1 |         120852 |            4.15227 |\n",
    "|   2014 |      12 |         108294 |            4.1203  |\n",
    "|   2014 |      11 |          77844 |            4.10784 |\n",
    "|   2014 |      10 |          78519 |            4.11387 |\n",
    "|   2014 |       9 |          78126 |            4.11593 |\n",
    "|   2014 |       8 |          82550 |            4.11603 |\n",
    "|   2014 |       7 |          79816 |            4.11758 |\n",
    "|   2014 |       6 |          48707 |            4.01573 |\n",
    "\n",
    "\n",
    "<div style=\"text-align: right\"><font size=4> <i class=\"fa fa-check-square-o\" aria-hidden=\"true\" style=\"color:#00586D\"></i></font></div>\n",
    "\n",
    "--- "
   ]
  },
  {
   "cell_type": "markdown",
   "id": "b21dc035",
   "metadata": {},
   "source": [
    "---\n",
    "\n",
    "<a id=\"section3\"></a>\n",
    "## <font color=\"#00586D\"> 3. Modelado</font>\n",
    "<br>"
   ]
  },
  {
   "cell_type": "markdown",
   "id": "b5fb323e",
   "metadata": {},
   "source": [
    "Como paso previo al modelado realizaremos dos procesos de limpieza sobre los datos:\n"
   ]
  },
  {
   "cell_type": "markdown",
   "id": "654e055b",
   "metadata": {},
   "source": [
    "---\n",
    "### <font color=\"#004D7F\"> <i class=\"fa fa-pencil-square-o\" aria-hidden=\"true\" style=\"color:#004D7F\"></i> Tarea 6: Preparación del texto </font>\n",
    "<br>\n",
    "\n",
    "Limpiead el texto de las reviews (`review_body`) utilizando expresiones sobre strings o expresiones regulares\n",
    " - Pasar todo el texto a minusculas.\n",
    " - Eliminar números y signos de puntuacion.\n",
    " - Si existen, elimina los registros con valores nulos en el body con las transformaciones anteriores. \n",
    " \n",
    "Muestra los resultados para las primeras 10 filas del dataframe ordenadas por `review_id`"
   ]
  },
  {
   "cell_type": "code",
   "execution_count": 9,
   "id": "6635fefd",
   "metadata": {},
   "outputs": [
    {
     "data": {
      "application/vnd.jupyter.widget-view+json": {
       "model_id": "f105a7d16c76446e865c780d4f010cd6",
       "version_major": 2,
       "version_minor": 0
      },
      "text/plain": [
       "VBox()"
      ]
     },
     "metadata": {},
     "output_type": "display_data"
    },
    {
     "data": {
      "application/vnd.jupyter.widget-view+json": {
       "model_id": "",
       "version_major": 2,
       "version_minor": 0
      },
      "text/plain": [
       "FloatProgress(value=0.0, bar_style='info', description='Progress:', layout=Layout(height='25px', width='50%'),…"
      ]
     },
     "metadata": {},
     "output_type": "display_data"
    },
    {
     "name": "stdout",
     "output_type": "stream",
     "text": [
      "+--------------+-----------------------------------------------------------------------------------------------------------------------------------------------------------------------------------------------------------------------------------------------------------------------------------------------------------------------------------------------------------------------------------------------------------------------------------------------------------------------------------------------------------------------------------------------------------------------------------------------------------------------------------------------------------------------------------------------------------------------------------------------------------------------------------------------------------------------------------------------------------------------------------------------------------------------------------------------------------------------------------------------------------------------------------------------------------------------------------------------------------------------------------------------------------------------------------------------------------------------------------------------------------------------------------------------------------------------+----------------------------------------------------------------------------------------------------------------------------------------------------------------------------------------------------------------------------------------------------------------------------------------------------------------------------------------------------------------------------------------------------------------------------------------------------------------------------------------------------------------------------------------------------------------------------------------------------------------------------------------------------------------------------------------------------------------------------------------------------------------------------------------------------------------------------------------------------------------------------------------------------------------------------------------------------------------------------------------------------------------------------------------------------------------------------------------------------------------------------------------------------------------------------------------------------------------------------------------------------------+\n",
      "|review_id     |review_body                                                                                                                                                                                                                                                                                                                                                                                                                                                                                                                                                                                                                                                                                                                                                                                                                                                                                                                                                                                                                                                                                                                                                                                                                                                                                                            |cleaned_review_body                                                                                                                                                                                                                                                                                                                                                                                                                                                                                                                                                                                                                                                                                                                                                                                                                                                                                                                                                                                                                                                                                                                                                                                                                                       |\n",
      "+--------------+-----------------------------------------------------------------------------------------------------------------------------------------------------------------------------------------------------------------------------------------------------------------------------------------------------------------------------------------------------------------------------------------------------------------------------------------------------------------------------------------------------------------------------------------------------------------------------------------------------------------------------------------------------------------------------------------------------------------------------------------------------------------------------------------------------------------------------------------------------------------------------------------------------------------------------------------------------------------------------------------------------------------------------------------------------------------------------------------------------------------------------------------------------------------------------------------------------------------------------------------------------------------------------------------------------------------------+----------------------------------------------------------------------------------------------------------------------------------------------------------------------------------------------------------------------------------------------------------------------------------------------------------------------------------------------------------------------------------------------------------------------------------------------------------------------------------------------------------------------------------------------------------------------------------------------------------------------------------------------------------------------------------------------------------------------------------------------------------------------------------------------------------------------------------------------------------------------------------------------------------------------------------------------------------------------------------------------------------------------------------------------------------------------------------------------------------------------------------------------------------------------------------------------------------------------------------------------------------+\n",
      "|R10000WMGXS51T|Great little emergency radio.  Very good reception.  The<br />weather band is a feature.  Can't beat the quality for this price/                                                                                                                                                                                                                                                                                                                                                                                                                                                                                                                                                                                                                                                                                                                                                                                                                                                                                                                                                                                                                                                                                                                                                                                       |great little emergency radio  very good reception  thebr weather band is a feature  cant beat the quality for this price                                                                                                                                                                                                                                                                                                                                                                                                                                                                                                                                                                                                                                                                                                                                                                                                                                                                                                                                                                                                                                                                                                                                  |\n",
      "|R10001L4QTCA84|Lives up to its claim, and really does fit bulky phone cases. Braided cable is sturdy but flexible. I think it stays a little more flexible in the cold weather, which is nice. Definitely getting a few more in the future!                                                                                                                                                                                                                                                                                                                                                                                                                                                                                                                                                                                                                                                                                                                                                                                                                                                                                                                                                                                                                                                                                           |lives up to its claim and really does fit bulky phone cases braided cable is sturdy but flexible i think it stays a little more flexible in the cold weather which is nice definitely getting a few more in the future                                                                                                                                                                                                                                                                                                                                                                                                                                                                                                                                                                                                                                                                                                                                                                                                                                                                                                                                                                                                                                    |\n",
      "|R10003OLR2P5UE|I've gone through three pairs of these in the last two years. I am in love with the sound quality, and even though I know it's not the best I particularly love how the bass sounds. They're comfortable to wear and very isolating. With these headphones, you don't even need noise canceling. There is very little sound leak, unless you like to listen to music ridiculously loud. All in all, I was very impressed with these. They're without a doubt the best sounding headphones I've ever owned.<br /><br />Now, the problem: The wires are thin and stringy, and do NOT last. On my first pair, the part of the wire that connected to the left cup came apart. I'm not an abuser of headphones, either. On the other two pairs, they wire at the base next to the adapter came apart. I went at them with a soldering iron, desperately trying to make them last as long as I could, but they'd always crap out on me again. The sound quality distorts over time, and the foam around the cups is cheap and wears out quickly.<br /><br />They aren't worth the price for such bad quality. I'd suggest looking around for other pairs, Sony, Denon, and Sennheiser all have superior headphones for a similar price. I myself just ordered a pair of Denon AHD1001's, and here's hoping they last longer!|ive gone through three pairs of these in the last two years i am in love with the sound quality and even though i know its not the best i particularly love how the bass sounds theyre comfortable to wear and very isolating with these headphones you dont even need noise canceling there is very little sound leak unless you like to listen to music ridiculously loud all in all i was very impressed with these theyre without a doubt the best sounding headphones ive ever ownedbr br now the problem the wires are thin and stringy and do not last on my first pair the part of the wire that connected to the left cup came apart im not an abuser of headphones either on the other two pairs they wire at the base next to the adapter came apart i went at them with a soldering iron desperately trying to make them last as long as i could but theyd always crap out on me again the sound quality distorts over time and the foam around the cups is cheap and wears out quicklybr br they arent worth the price for such bad quality id suggest looking around for other pairs sony denon and sennheiser all have superior headphones for a similar price i myself just ordered a pair of denon ahds and heres hoping they last longer|\n",
      "|R10005O193PJ6W|stopped working after a while, changed batteries, it worked for a few days, then it quit                                                                                                                                                                                                                                                                                                                                                                                                                                                                                                                                                                                                                                                                                                                                                                                                                                                                                                                                                                                                                                                                                                                                                                                                                               |stopped working after a while changed batteries it worked for a few days then it quit                                                                                                                                                                                                                                                                                                                                                                                                                                                                                                                                                                                                                                                                                                                                                                                                                                                                                                                                                                                                                                                                                                                                                                     |\n",
      "|R10008LR7CU84N|I ordered this cable and it doesn't work when I contacted them they told me I was doing something wrong. I then had my dad who it a certified computer tech look at it and there is something wrong with the cable. When I told them they never responded to me again.                                                                                                                                                                                                                                                                                                                                                                                                                                                                                                                                                                                                                                                                                                                                                                                                                                                                                                                                                                                                                                                 |i ordered this cable and it doesnt work when i contacted them they told me i was doing something wrong i then had my dad who it a certified computer tech look at it and there is something wrong with the cable when i told them they never responded to me again                                                                                                                                                                                                                                                                                                                                                                                                                                                                                                                                                                                                                                                                                                                                                                                                                                                                                                                                                                                        |\n",
      "|R10009JN2UWOJC|Have not owned it that long however it has the features , feel and works like a quality unit that would be at a much higher price point                                                                                                                                                                                                                                                                                                                                                                                                                                                                                                                                                                                                                                                                                                                                                                                                                                                                                                                                                                                                                                                                                                                                                                                |have not owned it that long however it has the features  feel and works like a quality unit that would be at a much higher price point                                                                                                                                                                                                                                                                                                                                                                                                                                                                                                                                                                                                                                                                                                                                                                                                                                                                                                                                                                                                                                                                                                                    |\n",
      "|R1000AMVKPW32O|Bought for a gift and it is just what was needed to mount the new 32&#34; TV outdoors. The fact that it has full motion swing makes it even better because we can move it around to see it from different angles and still have a sturdy mount.                                                                                                                                                                                                                                                                                                                                                                                                                                                                                                                                                                                                                                                                                                                                                                                                                                                                                                                                                                                                                                                                        |bought for a gift and it is just what was needed to mount the new  tv outdoors the fact that it has full motion swing makes it even better because we can move it around to see it from different angles and still have a sturdy mount                                                                                                                                                                                                                                                                                                                                                                                                                                                                                                                                                                                                                                                                                                                                                                                                                                                                                                                                                                                                                    |\n",
      "|R1000CJMO2L8X4|Perfect for the gym                                                                                                                                                                                                                                                                                                                                                                                                                                                                                                                                                                                                                                                                                                                                                                                                                                                                                                                                                                                                                                                                                                                                                                                                                                                                                                    |perfect for the gym                                                                                                                                                                                                                                                                                                                                                                                                                                                                                                                                                                                                                                                                                                                                                                                                                                                                                                                                                                                                                                                                                                                                                                                                                                       |\n",
      "|R1000EDGJUU3CU|Love these !!! The sound quality is amazing ! The price was amazing especially for the quality.                                                                                                                                                                                                                                                                                                                                                                                                                                                                                                                                                                                                                                                                                                                                                                                                                                                                                                                                                                                                                                                                                                                                                                                                                        |love these  the sound quality is amazing  the price was amazing especially for the quality                                                                                                                                                                                                                                                                                                                                                                                                                                                                                                                                                                                                                                                                                                                                                                                                                                                                                                                                                                                                                                                                                                                                                                |\n",
      "|R1000EG9XXBLXT|I have had good success with these disks, and have used hundreds of them successfully on both computers and a dedicated Panosonic DVD recorder. They seem very reliable, and the lines on the disk label help to keep labeling neat and straight.                                                                                                                                                                                                                                                                                                                                                                                                                                                                                                                                                                                                                                                                                                                                                                                                                                                                                                                                                                                                                                                                      |i have had good success with these disks and have used hundreds of them successfully on both computers and a dedicated panosonic dvd recorder they seem very reliable and the lines on the disk label help to keep labeling neat and straight                                                                                                                                                                                                                                                                                                                                                                                                                                                                                                                                                                                                                                                                                                                                                                                                                                                                                                                                                                                                             |\n",
      "+--------------+-----------------------------------------------------------------------------------------------------------------------------------------------------------------------------------------------------------------------------------------------------------------------------------------------------------------------------------------------------------------------------------------------------------------------------------------------------------------------------------------------------------------------------------------------------------------------------------------------------------------------------------------------------------------------------------------------------------------------------------------------------------------------------------------------------------------------------------------------------------------------------------------------------------------------------------------------------------------------------------------------------------------------------------------------------------------------------------------------------------------------------------------------------------------------------------------------------------------------------------------------------------------------------------------------------------------------+----------------------------------------------------------------------------------------------------------------------------------------------------------------------------------------------------------------------------------------------------------------------------------------------------------------------------------------------------------------------------------------------------------------------------------------------------------------------------------------------------------------------------------------------------------------------------------------------------------------------------------------------------------------------------------------------------------------------------------------------------------------------------------------------------------------------------------------------------------------------------------------------------------------------------------------------------------------------------------------------------------------------------------------------------------------------------------------------------------------------------------------------------------------------------------------------------------------------------------------------------------+\n",
      "only showing top 10 rows"
     ]
    }
   ],
   "source": [
    "# Solución\n",
    "from pyspark.sql import functions as F\n",
    "from pyspark.sql.functions import lower, regexp_replace, col\n",
    "\n",
    "# Pasar todo el texto a minusculas.\n",
    "df_lowercase = data_frame_electronics.withColumn(\"cleaned_review_body\", lower(col(\"review_body\")))\n",
    "\n",
    "# Eliminar números y signos de puntuacion\n",
    "df_cleaned = df_lowercase.withColumn(\"cleaned_review_body\", regexp_replace(col(\"cleaned_review_body\"), \"[^a-zA-Z\\s]\", \"\"))\n",
    "\n",
    "# Eliminar los registros con valores nulos \n",
    "df_filtered = df_cleaned.filter(df_cleaned[\"cleaned_review_body\"] != \"\")\n",
    "\n",
    "# Mostrar los resultados de las primeras 10 filas ordenadas por review_id\n",
    "df_filtered.select(\"review_id\", \"review_body\", \"cleaned_review_body\").orderBy(\"review_id\").show(10, truncate=False)\n"
   ]
  },
  {
   "cell_type": "markdown",
   "id": "19c20f25",
   "metadata": {},
   "source": [
    "**Resultado esperado**:\n",
    "\n",
    "| review_id      | review_body                                                                                                                                                                                                                                                                                                                                                                                                                                                                                                                                                                                                                                                                                                                                                                                                                                                                                                                                                                                                                                                                                                                                                                                                                                                                                                             | clean_review_body                                                                                                                                                                                                                                                                                                                                                                                                                                                                                                                                                                                                                                                                                                                                                                                                                                                                                                                                                                                                                                                                                                                                                                                                                                          |\n",
    "|:---------------|:------------------------------------------------------------------------------------------------------------------------------------------------------------------------------------------------------------------------------------------------------------------------------------------------------------------------------------------------------------------------------------------------------------------------------------------------------------------------------------------------------------------------------------------------------------------------------------------------------------------------------------------------------------------------------------------------------------------------------------------------------------------------------------------------------------------------------------------------------------------------------------------------------------------------------------------------------------------------------------------------------------------------------------------------------------------------------------------------------------------------------------------------------------------------------------------------------------------------------------------------------------------------------------------------------------------------|:-----------------------------------------------------------------------------------------------------------------------------------------------------------------------------------------------------------------------------------------------------------------------------------------------------------------------------------------------------------------------------------------------------------------------------------------------------------------------------------------------------------------------------------------------------------------------------------------------------------------------------------------------------------------------------------------------------------------------------------------------------------------------------------------------------------------------------------------------------------------------------------------------------------------------------------------------------------------------------------------------------------------------------------------------------------------------------------------------------------------------------------------------------------------------------------------------------------------------------------------------------------|\n",
    "| R10000WMGXS51T | Great little emergency radio.  Very good reception.  The<br />weather band is a feature.  Can't beat the quality for this price/                                                                                                                                                                                                                                                                                                                                                                                                                                                                                                                                                                                                                                                                                                                                                                                                                                                                                                                                                                                                                                                                                                                                                                                        | great little emergency radio  very good reception  thebr weather band is a feature  cant beat the quality for this price                                                                                                                                                                                                                                                                                                                                                                                                                                                                                                                                                                                                                                                                                                                                                                                                                                                                                                                                                                                                                                                                                                                                   |\n",
    "| R10001L4QTCA84 | Lives up to its claim, and really does fit bulky phone cases. Braided cable is sturdy but flexible. I think it stays a little more flexible in the cold weather, which is nice. Definitely getting a few more in the future!                                                                                                                                                                                                                                                                                                                                                                                                                                                                                                                                                                                                                                                                                                                                                                                                                                                                                                                                                                                                                                                                                            | lives up to its claim and really does fit bulky phone cases braided cable is sturdy but flexible i think it stays a little more flexible in the cold weather which is nice definitely getting a few more in the future                                                                                                                                                                                                                                                                                                                                                                                                                                                                                                                                                                                                                                                                                                                                                                                                                                                                                                                                                                                                                                     |\n",
    "| R10003OLR2P5UE | I've gone through three pairs of these in the last two years. I am in love with the sound quality, and even though I know it's not the best I particularly love how the bass sounds. They're comfortable to wear and very isolating. With these headphones, you don't even need noise canceling. There is very little sound leak, unless you like to listen to music ridiculously loud. All in all, I was very impressed with these. They're without a doubt the best sounding headphones I've ever owned.<br /><br />Now, the problem: The wires are thin and stringy, and do NOT last. On my first pair, the part of the wire that connected to the left cup came apart. I'm not an abuser of headphones, either. On the other two pairs, they wire at the base next to the adapter came apart. I went at them with a soldering iron, desperately trying to make them last as long as I could, but they'd always crap out on me again. The sound quality distorts over time, and the foam around the cups is cheap and wears out quickly.<br /><br />They aren't worth the price for such bad quality. I'd suggest looking around for other pairs, Sony, Denon, and Sennheiser all have superior headphones for a similar price. I myself just ordered a pair of Denon AHD1001's, and here's hoping they last longer! | ive gone through three pairs of these in the last two years i am in love with the sound quality and even though i know its not the best i particularly love how the bass sounds theyre comfortable to wear and very isolating with these headphones you dont even need noise canceling there is very little sound leak unless you like to listen to music ridiculously loud all in all i was very impressed with these theyre without a doubt the best sounding headphones ive ever ownedbr br now the problem the wires are thin and stringy and do not last on my first pair the part of the wire that connected to the left cup came apart im not an abuser of headphones either on the other two pairs they wire at the base next to the adapter came apart i went at them with a soldering iron desperately trying to make them last as long as i could but theyd always crap out on me again the sound quality distorts over time and the foam around the cups is cheap and wears out quicklybr br they arent worth the price for such bad quality id suggest looking around for other pairs sony denon and sennheiser all have superior headphones for a similar price i myself just ordered a pair of denon ahds and heres hoping they last longer |\n",
    "| R10005O193PJ6W | stopped working after a while, changed batteries, it worked for a few days, then it quit                                                                                                                                                                                                                                                                                                                                                                                                                                                                                                                                                                                                                                                                                                                                                                                                                                                                                                                                                                                                                                                                                                                                                                                                                                | stopped working after a while changed batteries it worked for a few days then it quit                                                                                                                                                                                                                                                                                                                                                                                                                                                                                                                                                                                                                                                                                                                                                                                                                                                                                                                                                                                                                                                                                                                                                                      |\n",
    "| R10008LR7CU84N | I ordered this cable and it doesn't work when I contacted them they told me I was doing something wrong. I then had my dad who it a certified computer tech look at it and there is something wrong with the cable. When I told them they never responded to me again.                                                                                                                                                                                                                                                                                                                                                                                                                                                                                                                                                                                                                                                                                                                                                                                                                                                                                                                                                                                                                                                  | i ordered this cable and it doesnt work when i contacted them they told me i was doing something wrong i then had my dad who it a certified computer tech look at it and there is something wrong with the cable when i told them they never responded to me again                                                                                                                                                                                                                                                                                                                                                                                                                                                                                                                                                                                                                                                                                                                                                                                                                                                                                                                                                                                         |\n",
    "| R10009JN2UWOJC | Have not owned it that long however it has the features , feel and works like a quality unit that would be at a much higher price point                                                                                                                                                                                                                                                                                                                                                                                                                                                                                                                                                                                                                                                                                                                                                                                                                                                                                                                                                                                                                                                                                                                                                                                 | have not owned it that long however it has the features  feel and works like a quality unit that would be at a much higher price point                                                                                                                                                                                                                                                                                                                                                                                                                                                                                                                                                                                                                                                                                                                                                                                                                                                                                                                                                                                                                                                                                                                     |\n",
    "| R1000AMVKPW32O | Bought for a gift and it is just what was needed to mount the new 32&#34; TV outdoors. The fact that it has full motion swing makes it even better because we can move it around to see it from different angles and still have a sturdy mount.                                                                                                                                                                                                                                                                                                                                                                                                                                                                                                                                                                                                                                                                                                                                                                                                                                                                                                                                                                                                                                                                         | bought for a gift and it is just what was needed to mount the new  tv outdoors the fact that it has full motion swing makes it even better because we can move it around to see it from different angles and still have a sturdy mount                                                                                                                                                                                                                                                                                                                                                                                                                                                                                                                                                                                                                                                                                                                                                                                                                                                                                                                                                                                                                     |\n",
    "| R1000CJMO2L8X4 | Perfect for the gym                                                                                                                                                                                                                                                                                                                                                                                                                                                                                                                                                                                                                                                                                                                                                                                                                                                                                                                                                                                                                                                                                                                                                                                                                                                                                                     | perfect for the gym                                                                                                                                                                                                                                                                                                                                                                                                                                                                                                                                                                                                                                                                                                                                                                                                                                                                                                                                                                                                                                                                                                                                                                                                                                        |\n",
    "| R1000EDGJUU3CU | Love these !!! The sound quality is amazing ! The price was amazing especially for the quality.                                                                                                                                                                                                                                                                                                                                                                                                                                                                                                                                                                                                                                                                                                                                                                                                                                                                                                                                                                                                                                                                                                                                                                                                                         | love these  the sound quality is amazing  the price was amazing especially for the quality                                                                                                                                                                                                                                                                                                                                                                                                                                                                                                                                                                                                                                                                                                                                                                                                                                                                                                                                                                                                                                                                                                                                                                 |\n",
    "| R1000EG9XXBLXT | I have had good success with these disks, and have used hundreds of them successfully on both computers and a dedicated Panosonic DVD recorder. They seem very reliable, and the lines on the disk label help to keep labeling neat and straight.                                                                                                                                                                                                                                                                                                                                                                                                                                                                                                                                                                                                                                                                                                                                                                                                                                                                                                                                                                                                                                                                       | i have had good success with these disks and have used hundreds of them successfully on both computers and a dedicated panosonic dvd recorder they seem very reliable and the lines on the disk label help to keep labeling neat and straight                                                                                                                                                                                                                                                                                                                                                                                                                                                                                                                                                                                                                                                                                                                                                                                                                                                                                                                                                                                                              |\n",
    "\n",
    "<div style=\"text-align: right\"><font size=4> <i class=\"fa fa-check-square-o\" aria-hidden=\"true\" style=\"color:#00586D\"></i></font></div>\n"
   ]
  },
  {
   "cell_type": "markdown",
   "id": "2301ed8a",
   "metadata": {},
   "source": [
    "---\n",
    "### <font color=\"#004D7F\"> <i class=\"fa fa-pencil-square-o\" aria-hidden=\"true\" style=\"color:#004D7F\"></i> Tarea 7: Obtención del sentiment </font>\n",
    "<br>\n",
    "\n",
    "Cread la variable `sentiment` en función del número de estrellas asumiendo que una review de menos (<) de 3 estrellas es negativa, usando 1 para el sentiment positivo y 0 para el negativo. Para poder generar la variable que determine el sentiment a partir del número de estrellas podéis utilizar la función de spark `when`. Muestra el resultado para las primeras 10 reviews ordenadas por `review_id`. "
   ]
  },
  {
   "cell_type": "code",
   "execution_count": 10,
   "id": "81c01b5e",
   "metadata": {},
   "outputs": [
    {
     "data": {
      "application/vnd.jupyter.widget-view+json": {
       "model_id": "16f28981f55b4ab2acbb4eadb1ab1225",
       "version_major": 2,
       "version_minor": 0
      },
      "text/plain": [
       "VBox()"
      ]
     },
     "metadata": {},
     "output_type": "display_data"
    },
    {
     "data": {
      "application/vnd.jupyter.widget-view+json": {
       "model_id": "",
       "version_major": 2,
       "version_minor": 0
      },
      "text/plain": [
       "FloatProgress(value=0.0, bar_style='info', description='Progress:', layout=Layout(height='25px', width='50%'),…"
      ]
     },
     "metadata": {},
     "output_type": "display_data"
    },
    {
     "name": "stdout",
     "output_type": "stream",
     "text": [
      "+--------------+-----------------------------------------------------------------------------------------------------------------------------------------------------------------------------------------------------------------------------------------------------------------------------------------------------------------------------------------------------------------------------------------------------------------------------------------------------------------------------------------------------------------------------------------------------------------------------------------------------------------------------------------------------------------------------------------------------------------------------------------------------------------------------------------------------------------------------------------------------------------------------------------------------------------------------------------------------------------------------------------------------------------------------------------------------------------------------------------------------------------------------------------------------------------------------------------------------------------------------------------------------------------------------------------------------------------------+-----------+---------+\n",
      "|review_id     |review_body                                                                                                                                                                                                                                                                                                                                                                                                                                                                                                                                                                                                                                                                                                                                                                                                                                                                                                                                                                                                                                                                                                                                                                                                                                                                                                            |star_rating|sentiment|\n",
      "+--------------+-----------------------------------------------------------------------------------------------------------------------------------------------------------------------------------------------------------------------------------------------------------------------------------------------------------------------------------------------------------------------------------------------------------------------------------------------------------------------------------------------------------------------------------------------------------------------------------------------------------------------------------------------------------------------------------------------------------------------------------------------------------------------------------------------------------------------------------------------------------------------------------------------------------------------------------------------------------------------------------------------------------------------------------------------------------------------------------------------------------------------------------------------------------------------------------------------------------------------------------------------------------------------------------------------------------------------+-----------+---------+\n",
      "|R10000WMGXS51T|Great little emergency radio.  Very good reception.  The<br />weather band is a feature.  Can't beat the quality for this price/                                                                                                                                                                                                                                                                                                                                                                                                                                                                                                                                                                                                                                                                                                                                                                                                                                                                                                                                                                                                                                                                                                                                                                                       |5          |1        |\n",
      "|R10001L4QTCA84|Lives up to its claim, and really does fit bulky phone cases. Braided cable is sturdy but flexible. I think it stays a little more flexible in the cold weather, which is nice. Definitely getting a few more in the future!                                                                                                                                                                                                                                                                                                                                                                                                                                                                                                                                                                                                                                                                                                                                                                                                                                                                                                                                                                                                                                                                                           |5          |1        |\n",
      "|R10003OLR2P5UE|I've gone through three pairs of these in the last two years. I am in love with the sound quality, and even though I know it's not the best I particularly love how the bass sounds. They're comfortable to wear and very isolating. With these headphones, you don't even need noise canceling. There is very little sound leak, unless you like to listen to music ridiculously loud. All in all, I was very impressed with these. They're without a doubt the best sounding headphones I've ever owned.<br /><br />Now, the problem: The wires are thin and stringy, and do NOT last. On my first pair, the part of the wire that connected to the left cup came apart. I'm not an abuser of headphones, either. On the other two pairs, they wire at the base next to the adapter came apart. I went at them with a soldering iron, desperately trying to make them last as long as I could, but they'd always crap out on me again. The sound quality distorts over time, and the foam around the cups is cheap and wears out quickly.<br /><br />They aren't worth the price for such bad quality. I'd suggest looking around for other pairs, Sony, Denon, and Sennheiser all have superior headphones for a similar price. I myself just ordered a pair of Denon AHD1001's, and here's hoping they last longer!|3          |1        |\n",
      "|R10005O193PJ6W|stopped working after a while, changed batteries, it worked for a few days, then it quit                                                                                                                                                                                                                                                                                                                                                                                                                                                                                                                                                                                                                                                                                                                                                                                                                                                                                                                                                                                                                                                                                                                                                                                                                               |3          |1        |\n",
      "|R10008LR7CU84N|I ordered this cable and it doesn't work when I contacted them they told me I was doing something wrong. I then had my dad who it a certified computer tech look at it and there is something wrong with the cable. When I told them they never responded to me again.                                                                                                                                                                                                                                                                                                                                                                                                                                                                                                                                                                                                                                                                                                                                                                                                                                                                                                                                                                                                                                                 |1          |0        |\n",
      "|R10009JN2UWOJC|Have not owned it that long however it has the features , feel and works like a quality unit that would be at a much higher price point                                                                                                                                                                                                                                                                                                                                                                                                                                                                                                                                                                                                                                                                                                                                                                                                                                                                                                                                                                                                                                                                                                                                                                                |5          |1        |\n",
      "|R1000AMVKPW32O|Bought for a gift and it is just what was needed to mount the new 32&#34; TV outdoors. The fact that it has full motion swing makes it even better because we can move it around to see it from different angles and still have a sturdy mount.                                                                                                                                                                                                                                                                                                                                                                                                                                                                                                                                                                                                                                                                                                                                                                                                                                                                                                                                                                                                                                                                        |5          |1        |\n",
      "|R1000CJMO2L8X4|Perfect for the gym                                                                                                                                                                                                                                                                                                                                                                                                                                                                                                                                                                                                                                                                                                                                                                                                                                                                                                                                                                                                                                                                                                                                                                                                                                                                                                    |5          |1        |\n",
      "|R1000EDGJUU3CU|Love these !!! The sound quality is amazing ! The price was amazing especially for the quality.                                                                                                                                                                                                                                                                                                                                                                                                                                                                                                                                                                                                                                                                                                                                                                                                                                                                                                                                                                                                                                                                                                                                                                                                                        |5          |1        |\n",
      "|R1000EG9XXBLXT|I have had good success with these disks, and have used hundreds of them successfully on both computers and a dedicated Panosonic DVD recorder. They seem very reliable, and the lines on the disk label help to keep labeling neat and straight.                                                                                                                                                                                                                                                                                                                                                                                                                                                                                                                                                                                                                                                                                                                                                                                                                                                                                                                                                                                                                                                                      |5          |1        |\n",
      "+--------------+-----------------------------------------------------------------------------------------------------------------------------------------------------------------------------------------------------------------------------------------------------------------------------------------------------------------------------------------------------------------------------------------------------------------------------------------------------------------------------------------------------------------------------------------------------------------------------------------------------------------------------------------------------------------------------------------------------------------------------------------------------------------------------------------------------------------------------------------------------------------------------------------------------------------------------------------------------------------------------------------------------------------------------------------------------------------------------------------------------------------------------------------------------------------------------------------------------------------------------------------------------------------------------------------------------------------------+-----------+---------+"
     ]
    }
   ],
   "source": [
    "# Solución\n",
    "from pyspark.sql.functions import when\n",
    "\n",
    "# Agregar la columna \"sentiment\" basada en la valoración\n",
    "df_sentiment = data_frame_electronics.withColumn(\"sentiment\", when(data_frame_electronics[\"star_rating\"] < 3, 0).otherwise(1))\n",
    "\n",
    "# Mostrar los primeros 10 resultados con las columnas relevantes\n",
    "df_result = df_sentiment.select(\"review_id\", \"review_body\", \"star_rating\", \"sentiment\").orderBy(\"review_id\").limit(10)\n",
    "df_result.show(truncate=False)"
   ]
  },
  {
   "cell_type": "markdown",
   "id": "7d0bfea8",
   "metadata": {},
   "source": [
    "**Resultado esperado**:\n",
    "\n",
    "| review_id      | review_body                                                                                                                                                                                                                                                                                                                                                                                                                                                                                                                                                                                                                                                                                                                                                                                                                                                                                                                                                                                                                                                                                                                                                                                                                                                                                                             |   star_rating |   sentiment |\n",
    "|:---------------|:------------------------------------------------------------------------------------------------------------------------------------------------------------------------------------------------------------------------------------------------------------------------------------------------------------------------------------------------------------------------------------------------------------------------------------------------------------------------------------------------------------------------------------------------------------------------------------------------------------------------------------------------------------------------------------------------------------------------------------------------------------------------------------------------------------------------------------------------------------------------------------------------------------------------------------------------------------------------------------------------------------------------------------------------------------------------------------------------------------------------------------------------------------------------------------------------------------------------------------------------------------------------------------------------------------------------|--------------:|------------:|\n",
    "| R10000WMGXS51T | Great little emergency radio.  Very good reception.  The<br />weather band is a feature.  Can't beat the quality for this price/                                                                                                                                                                                                                                                                                                                                                                                                                                                                                                                                                                                                                                                                                                                                                                                                                                                                                                                                                                                                                                                                                                                                                                                        |             5 |           1 |\n",
    "| R10001L4QTCA84 | Lives up to its claim, and really does fit bulky phone cases. Braided cable is sturdy but flexible. I think it stays a little more flexible in the cold weather, which is nice. Definitely getting a few more in the future!                                                                                                                                                                                                                                                                                                                                                                                                                                                                                                                                                                                                                                                                                                                                                                                                                                                                                                                                                                                                                                                                                            |             5 |           1 |\n",
    "| R10003OLR2P5UE | I've gone through three pairs of these in the last two years. I am in love with the sound quality, and even though I know it's not the best I particularly love how the bass sounds. They're comfortable to wear and very isolating. With these headphones, you don't even need noise canceling. There is very little sound leak, unless you like to listen to music ridiculously loud. All in all, I was very impressed with these. They're without a doubt the best sounding headphones I've ever owned.<br /><br />Now, the problem: The wires are thin and stringy, and do NOT last. On my first pair, the part of the wire that connected to the left cup came apart. I'm not an abuser of headphones, either. On the other two pairs, they wire at the base next to the adapter came apart. I went at them with a soldering iron, desperately trying to make them last as long as I could, but they'd always crap out on me again. The sound quality distorts over time, and the foam around the cups is cheap and wears out quickly.<br /><br />They aren't worth the price for such bad quality. I'd suggest looking around for other pairs, Sony, Denon, and Sennheiser all have superior headphones for a similar price. I myself just ordered a pair of Denon AHD1001's, and here's hoping they last longer! |             3 |           1 |\n",
    "| R10005O193PJ6W | stopped working after a while, changed batteries, it worked for a few days, then it quit                                                                                                                                                                                                                                                                                                                                                                                                                                                                                                                                                                                                                                                                                                                                                                                                                                                                                                                                                                                                                                                                                                                                                                                                                                |             3 |           1 |\n",
    "| R10008LR7CU84N | I ordered this cable and it doesn't work when I contacted them they told me I was doing something wrong. I then had my dad who it a certified computer tech look at it and there is something wrong with the cable. When I told them they never responded to me again.                                                                                                                                                                                                                                                                                                                                                                                                                                                                                                                                                                                                                                                                                                                                                                                                                                                                                                                                                                                                                                                  |             1 |           0 |\n",
    "| R10009JN2UWOJC | Have not owned it that long however it has the features , feel and works like a quality unit that would be at a much higher price point                                                                                                                                                                                                                                                                                                                                                                                                                                                                                                                                                                                                                                                                                                                                                                                                                                                                                                                                                                                                                                                                                                                                                                                 |             5 |           1 |\n",
    "| R1000AMVKPW32O | Bought for a gift and it is just what was needed to mount the new 32&#34; TV outdoors. The fact that it has full motion swing makes it even better because we can move it around to see it from different angles and still have a sturdy mount.                                                                                                                                                                                                                                                                                                                                                                                                                                                                                                                                                                                                                                                                                                                                                                                                                                                                                                                                                                                                                                                                         |             5 |           1 |\n",
    "| R1000CJMO2L8X4 | Perfect for the gym                                                                                                                                                                                                                                                                                                                                                                                                                                                                                                                                                                                                                                                                                                                                                                                                                                                                                                                                                                                                                                                                                                                                                                                                                                                                                                     |             5 |           1 |\n",
    "| R1000EDGJUU3CU | Love these !!! The sound quality is amazing ! The price was amazing especially for the quality.                                                                                                                                                                                                                                                                                                                                                                                                                                                                                                                                                                                                                                                                                                                                                                                                                                                                                                                                                                                                                                                                                                                                                                                                                         |             5 |           1 |\n",
    "| R1000EG9XXBLXT | I have had good success with these disks, and have used hundreds of them successfully on both computers and a dedicated Panosonic DVD recorder. They seem very reliable, and the lines on the disk label help to keep labeling neat and straight.                                                                                                                                                                                                                                                                                                                                                                                                                                                                                                                                                                                                                                                                                                                                                                                                                                                                                                                                                                                                                                                                       |             5 |           1 |\n",
    "\n",
    "\n",
    "\n",
    "\n",
    "\n",
    "\n",
    "\n",
    "<div style=\"text-align: right\"><font size=4> <i class=\"fa fa-check-square-o\" aria-hidden=\"true\" style=\"color:#00586D\"></i></font></div>\n",
    "\n",
    "-----"
   ]
  },
  {
   "cell_type": "markdown",
   "id": "ea3eb4e7",
   "metadata": {},
   "source": [
    "### <font color=\"#004D7F\"> <i class=\"fa fa-pencil-square-o\" aria-hidden=\"true\" style=\"color:#004D7F\"></i> Tarea 8: División del conjunto de datos </font>\n",
    "<br>\n",
    "\n",
    "Divide el conjunto de datos en entrenamiento (70% de los datos) y test (30% de los datos). Una vez hecho esto, guarda los datos de test en el bucket the s3 previamente creado (usa el nombre `electronics_test`)"
   ]
  },
  {
   "cell_type": "code",
   "execution_count": 11,
   "id": "b4ca164b",
   "metadata": {},
   "outputs": [
    {
     "data": {
      "application/vnd.jupyter.widget-view+json": {
       "model_id": "e3770da911b04d6d9be5cf14d8eedf41",
       "version_major": 2,
       "version_minor": 0
      },
      "text/plain": [
       "VBox()"
      ]
     },
     "metadata": {},
     "output_type": "display_data"
    },
    {
     "data": {
      "application/vnd.jupyter.widget-view+json": {
       "model_id": "",
       "version_major": 2,
       "version_minor": 0
      },
      "text/plain": [
       "FloatProgress(value=0.0, bar_style='info', description='Progress:', layout=Layout(height='25px', width='50%'),…"
      ]
     },
     "metadata": {},
     "output_type": "display_data"
    },
    {
     "name": "stdout",
     "output_type": "stream",
     "text": [
      "+-----------+-----------+--------------+----------+--------------+--------------------+-----------+-------------+-----------+----+-----------------+--------------------+--------------------+-----------+----------------+---------+\n",
      "|marketplace|customer_id|     review_id|product_id|product_parent|       product_title|star_rating|helpful_votes|total_votes|vine|verified_purchase|     review_headline|         review_body|review_date|product_category|sentiment|\n",
      "+-----------+-----------+--------------+----------+--------------+--------------------+-----------+-------------+-----------+----+-----------------+--------------------+--------------------+-----------+----------------+---------+\n",
      "|         US|      10048|R2C754BDSEUSES|B00A3RVNXI|     890589353|TETC Blue G4000 P...|          5|            0|          0|   N|                Y|          Five Stars|Great Sound !!!!<...| 2014-11-23|     Electronics|        1|\n",
      "|         US|      10276| RFRWB5TK2MIUT|B003EM6AOG|     921315865|Panasonic ErgoFit...|          5|            0|          0|   N|                Y|           Great fit|These are super d...| 2013-08-16|     Electronics|        1|\n",
      "|         US|      10562|R38W9DP4IRB6MM|B003M2YP6S|     508377575|Case Logic Nylon ...|          5|            1|          1|   N|                Y|I love this! I bo...|I love this! I bo...| 2015-07-05|     Electronics|        1|\n",
      "|         US|      10610|R16DGTL6PT6BVX|B00H2QUD9S|     374159046|Jarv NMotion Spor...|          4|            0|          0|   N|                Y|          Four Stars|It's good but it ...| 2014-09-10|     Electronics|        1|\n",
      "|         US|      11953|R2WGX3ONH2O4XO|B00LBUUH1K|     323236313|Universal Replace...|          5|            1|          1|   N|                Y|          Five Stars|         Works great| 2014-09-28|     Electronics|        1|\n",
      "|         US|      11997|R2XEBXDP1GGI92|B00A16BT4E|     874883760|SHURE Sound Isola...|          5|            7|          7|   N|                N|BEST PURCHASE EVE...|I bought these on...| 2015-03-21|     Electronics|        1|\n",
      "|         US|      12150| RZQSIB37PHU1I|B0096LZ5QI|     515180177|AmazonBasics High...|          5|            0|          0|   N|                Y|          Five Stars|nice worked for m...| 2015-04-05|     Electronics|        1|\n",
      "|         US|      12784|R37XN60RVORZZ8|B005E2Y0KK|     819401893|Circle cable clip...|          1|            0|          5|   N|                Y|      pay attention!|Not really a revi...| 2015-04-29|     Electronics|        0|\n",
      "|         US|      12784|R3RJWG5KKMJ902|B000MDJU06|      82954439|C2G / Cables to G...|          5|            0|          0|   N|                Y|   Best connectivity|The connectivity ...| 2012-11-20|     Electronics|        1|\n",
      "|         US|      12917|R1FP67JTRAV0R4|B001DL9IBC|     295363842|UPG UB1250 Sealed...|          5|            0|          0|   N|                Y|          Five Stars|        Great price.| 2015-03-09|     Electronics|        1|\n",
      "|         US|      13092|R2AVQYP42YCLII|B00NVO7IDY|     755664102|MOYAKA Replacemen...|          1|            1|          5|   N|                Y|volume control an...|These are probabl...| 2015-03-24|     Electronics|        0|\n",
      "|         US|      13176|R2MSREFS80SRET|B005LXS7OM|     963657797|Generic Replaceme...|          1|            0|          0|   N|                Y|Original part rec...|The product didn'...| 2013-11-28|     Electronics|        0|\n",
      "|         US|      13184|R1XBMWGLDRVEH9|B00CMB8JDA|     930220373|Bose Acoustic Wav...|          5|            0|          0|   N|                Y|          Five Stars|      Great product.| 2015-04-09|     Electronics|        1|\n",
      "|         US|      13315|R2BBV1ZNPNNMAD|B001E75I6E|     978464869|Ematic 2GB Color ...|          1|            0|          0|   N|                Y|only buy if you d...|its a piece of s*...| 2013-11-14|     Electronics|        0|\n",
      "|         US|      13397|R2SRJ3WJ8P719D|B004COIBFG|     224733578|SanDisk SDMX18R-0...|          4|            0|          0|   N|                Y|          great deal|good deal save me...| 2014-05-14|     Electronics|        1|\n",
      "|         US|      13461|R1943WN4S7A5BM|B00F5NE2KG|     175809283|Bluetooth Speaker...|          5|            0|          0|   N|                Y|          Five Stars|great product and...| 2014-12-14|     Electronics|        1|\n",
      "|         US|      13760|R3KU2E7ZJVEPR8|B00IF70TSI|     677825593|1byone Amplified ...|          5|            0|          0|   N|                Y|and I would recom...|This product work...| 2015-03-11|     Electronics|        1|\n",
      "|         US|      13775| RFFUYAASNZ4H8|B0052SCU8U|     572574607|AmazonBasics High...|          5|            0|          0|   N|                Y|                good|Even when is good...| 2015-05-15|     Electronics|        1|\n",
      "|         US|      14298|R2WU2XJ91S7TVR|B00BN0N08K|      21856130|Sony MDRAS200 Act...|          4|            0|          0|   N|                Y|Good for the Acti...|This was bought a...| 2015-03-11|     Electronics|        1|\n",
      "|         US|      14393|R2XJLHIRY1SRJI|B001TICH08|     975283485|VideoSecu Full Mo...|          5|            0|          0|   N|                Y|       Great product|Got here quickly ...| 2015-04-24|     Electronics|        1|\n",
      "+-----------+-----------+--------------+----------+--------------+--------------------+-----------+-------------+-----------+----+-----------------+--------------------+--------------------+-----------+----------------+---------+\n",
      "only showing top 20 rows"
     ]
    }
   ],
   "source": [
    "# Solución\n",
    "\n",
    "#División del conjunto de datos en entrenamiento y prueba\n",
    "train_data, test_data = df_sentiment.randomSplit([0.7, 0.3], seed=5)\n",
    "train_data = train_data.na.drop(subset=[\"review_body\"])\n",
    "test_data = test_data.na.drop(subset=[\"review_body\"])\n",
    "\n",
    "# Guardar los datos de prueba en el bucket S3\n",
    "test_data.write.parquet(\"s3://capstone12bucket2/electronics_test\", mode=\"overwrite\")\n",
    "train_data.show()\n"
   ]
  },
  {
   "cell_type": "markdown",
   "id": "9f77c5df",
   "metadata": {},
   "source": [
    "\n",
    "\n",
    "<div style=\"text-align: right\"><font size=4> <i class=\"fa fa-check-square-o\" aria-hidden=\"true\" style=\"color:#00586D\"></i></font></div>\n",
    "\n",
    "-----"
   ]
  },
  {
   "cell_type": "markdown",
   "id": "6a7bbf12",
   "metadata": {},
   "source": [
    "A continuación vamos a entrenar el modelo, para ello utilizaremos diferentes opciones de preprocesamiento. Para poder entrenar un clasificador de sentimiento necesitamos contruir una representación del texto que nos permita entrenar el modelo. Para ello utilizaremos podemos utilizar algoritmos de extracción de características como TF-IDF o Word2Vec que vienen implementados en Spark MLlib y que nos permitirá transformar una cadena de texto a un vector para utilizarlo como datos de entrenamiento de un clasificador.  Una vez implementado el modelo, lo serializaremos y guardaremos en S3 para la parte 2"
   ]
  },
  {
   "cell_type": "markdown",
   "id": "0d83bdaa",
   "metadata": {},
   "source": [
    "---\n",
    "### <font color=\"#004D7F\"> <i class=\"fa fa-pencil-square-o\" aria-hidden=\"true\" style=\"color:#004D7F\"></i> Tarea 8: Modelo de sentiment </font>\n",
    "<br>\n",
    "\n",
    "Construye un **pipeline** de entrenamiento de un modelo de sentiment a partir de los datos preparados anteriormente. Deberas utilizar una secuencia de diferentes  **transformadores** y **estimadores**:\n",
    "- `Tokenizer` nos permitirá construir un vector de palabras a partir de nuestras sentencias\n",
    "- `StopWordsRemover` nos permitirá limpiar de nuestros vectores de palabras las de menor significado\n",
    "\n",
    "- Construcción de características dos alternativas:\n",
    "    -  Modelo TF-IDF usando `HashingTF` e `IDF`\n",
    "    - `Word2Vec` nos permitirá crear un vector a partir de la lista de palabras\n",
    "\n",
    "- Clasificación binaria, basada en la variable sentiment que hemos utilizado, aplica un clasificador (LogisticRegregession, DecisionTree) evita ensembles por su alto tiempo de aprendizaje.\n",
    "\n",
    "Buscando en la documentación, encuentra los distintos elementos y conectalos en un pipeline junto a un algorimo de clasificación\n",
    "\n",
    "- Recomendamos utilizar una muestra (método `sample`) pues el tiempo puede ser excesivo\n",
    "- Es posible ajustar hiperparámetros, pero igualmente puede ser bastante lento\n",
    "\n",
    "**Valida el modelo con el conjunto de test anterior usando el area bajo la curva ROC**"
   ]
  },
  {
   "cell_type": "code",
   "execution_count": 12,
   "id": "4bb11fed",
   "metadata": {},
   "outputs": [
    {
     "data": {
      "application/vnd.jupyter.widget-view+json": {
       "model_id": "986e096948e54158bd227eb909863766",
       "version_major": 2,
       "version_minor": 0
      },
      "text/plain": [
       "VBox()"
      ]
     },
     "metadata": {},
     "output_type": "display_data"
    },
    {
     "data": {
      "application/vnd.jupyter.widget-view+json": {
       "model_id": "",
       "version_major": 2,
       "version_minor": 0
      },
      "text/plain": [
       "FloatProgress(value=0.0, bar_style='info', description='Progress:', layout=Layout(height='25px', width='50%'),…"
      ]
     },
     "metadata": {},
     "output_type": "display_data"
    },
    {
     "name": "stdout",
     "output_type": "stream",
     "text": [
      "+--------------------+--------------------+--------------------+\n",
      "|         review_body|               words|      filtered_words|\n",
      "+--------------------+--------------------+--------------------+\n",
      "|Great Sound !!!!<...|[great, sound, !!...|[great, sound, !!...|\n",
      "|These are super d...|[these, are, supe...|[super, durable, ...|\n",
      "|I love this! I bo...|[i, love, this!, ...|[love, this!, bou...|\n",
      "|It's good but it ...|[it's, good, but,...|   [good, fix, ears]|\n",
      "|         Works great|      [works, great]|      [works, great]|\n",
      "|I bought these on...|[i, bought, these...|[bought, ebay, lo...|\n",
      "|nice worked for m...|[nice, worked, fo...|[nice, worked, am...|\n",
      "|Not really a revi...|[not, really, a, ...|[really, review.,...|\n",
      "|The connectivity ...|[the, connectivit...|[connectivity, pe...|\n",
      "|        Great price.|     [great, price.]|     [great, price.]|\n",
      "|These are probabl...|[these, are, prob...|[probably, defect...|\n",
      "|The product didn'...|[the, product, di...|[product, work, 1...|\n",
      "|      Great product.|   [great, product.]|   [great, product.]|\n",
      "|its a piece of s*...|[its, a, piece, o...|[piece, s***, tur...|\n",
      "|good deal save me...|[good, deal, save...|[good, deal, save...|\n",
      "|great product and...|[great, product, ...|[great, product, ...|\n",
      "|This product work...|[this, product, w...|[product, works, ...|\n",
      "|Even when is good...|[even, when, is, ...|[even, good, got,...|\n",
      "|This was bought a...|[this, was, bough...|[bought, gift, so...|\n",
      "|Got here quickly ...|[got, here, quick...|[got, quickly, pr...|\n",
      "+--------------------+--------------------+--------------------+\n",
      "only showing top 20 rows\n",
      "\n",
      "+---------+----------+\n",
      "|sentiment|prediction|\n",
      "+---------+----------+\n",
      "|        1|       1.0|\n",
      "|        1|       1.0|\n",
      "|        1|       1.0|\n",
      "|        1|       1.0|\n",
      "|        0|       1.0|\n",
      "|        1|       1.0|\n",
      "|        1|       1.0|\n",
      "|        1|       1.0|\n",
      "|        1|       1.0|\n",
      "|        1|       1.0|\n",
      "|        0|       0.0|\n",
      "|        1|       1.0|\n",
      "|        0|       0.0|\n",
      "|        1|       1.0|\n",
      "|        1|       1.0|\n",
      "|        1|       1.0|\n",
      "|        1|       1.0|\n",
      "|        1|       1.0|\n",
      "|        0|       1.0|\n",
      "|        1|       1.0|\n",
      "+---------+----------+\n",
      "only showing top 20 rows\n",
      "\n",
      "Accuracy: 0.896269414822578\n",
      "Recall: 0.8962694148225782\n",
      "F1 Score: 0.8885258974153066"
     ]
    }
   ],
   "source": [
    "# Solución\n",
    "\n",
    "from pyspark.ml import Pipeline\n",
    "from pyspark.ml.feature import Tokenizer, StopWordsRemover, HashingTF, IDF\n",
    "from pyspark.ml.evaluation import MulticlassClassificationEvaluator\n",
    "from pyspark.ml.classification import LogisticRegression\n",
    "\n",
    "\n",
    "# Creamos objeto Tokenizer\n",
    "tokenizer = Tokenizer(inputCol=\"review_body\", outputCol=\"words\")\n",
    "\n",
    "# Creamos objeto StopWordsRemover\n",
    "remover = StopWordsRemover(inputCol=\"words\", outputCol=\"filtered_words\")\n",
    "# Datos\n",
    "df_tokenized = tokenizer.transform(train_data)\n",
    "df_clean = remover.transform(df_tokenized)\n",
    "df_clean.select(\"review_body\", \"words\", \"filtered_words\").show()\n",
    "\n",
    "# Vectores de frecuencia\n",
    "hashingTF = HashingTF(inputCol=\"filtered_words\", outputCol=\"rawFeatures\", numFeatures=8000)\n",
    "idf = IDF(inputCol=\"rawFeatures\", outputCol=\"features\")\n",
    "\n",
    "df_features = hashingTF.transform(df_clean)\n",
    "df_rescaled = idf.fit(df_features).transform(df_features)\n",
    "\n",
    "# Clasificación binaria y creación del pipeline\n",
    "classifier = LogisticRegression(featuresCol=\"features\", labelCol=\"sentiment\")\n",
    "pipeline = Pipeline(stages=[tokenizer, remover, hashingTF, idf, classifier])\n",
    "\n",
    "# Entrenamiento del modelo\n",
    "model = pipeline.fit(train_data)\n",
    "\n",
    "# Realizamos las precciones\n",
    "predictions = model.transform(test_data)\n",
    "predictions.select(\"sentiment\", \"prediction\").show()\n",
    "\n",
    "# Crear un evaluador de clasificación\n",
    "evaluator = MulticlassClassificationEvaluator(labelCol=\"sentiment\", predictionCol=\"prediction\", metricName=\"accuracy\")\n",
    "\n",
    "# Calcular la precisión del modelo\n",
    "accuracy = evaluator.evaluate(predictions)\n",
    "print(\"Accuracy:\", accuracy)\n",
    "\n",
    "# Calcular la recuperación (recall)\n",
    "evaluator.setMetricName(\"weightedRecall\")\n",
    "recall = evaluator.evaluate(predictions)\n",
    "print(\"Recall:\", recall)\n",
    "\n",
    "# Calcular la puntuación F1\n",
    "evaluator.setMetricName(\"f1\")\n",
    "f1 = evaluator.evaluate(predictions)\n",
    "print(\"F1 Score:\", f1)"
   ]
  },
  {
   "cell_type": "markdown",
   "id": "2ffc3708",
   "metadata": {},
   "source": [
    "\n",
    "\n",
    "<div style=\"text-align: right\"><font size=4> <i class=\"fa fa-check-square-o\" aria-hidden=\"true\" style=\"color:#00586D\"></i></font></div>"
   ]
  },
  {
   "cell_type": "markdown",
   "id": "6c40fb21",
   "metadata": {},
   "source": [
    "---\n",
    "### <font color=\"#004D7F\"> <i class=\"fa fa-pencil-square-o\" aria-hidden=\"true\" style=\"color:#004D7F\"></i> Tarea 9: Serialización </font>\n",
    "<br>\n",
    "\n",
    "Guarda el modelo entrenado en S3 (al bucket que creaste anteriormente) utilizando la opción nativa de Spark. "
   ]
  },
  {
   "cell_type": "code",
   "execution_count": 15,
   "id": "8df4da92",
   "metadata": {
    "tags": []
   },
   "outputs": [
    {
     "data": {
      "application/vnd.jupyter.widget-view+json": {
       "model_id": "8d1ea2bb56314f68a1ea84681c4f7add",
       "version_major": 2,
       "version_minor": 0
      },
      "text/plain": [
       "VBox()"
      ]
     },
     "metadata": {},
     "output_type": "display_data"
    },
    {
     "data": {
      "application/vnd.jupyter.widget-view+json": {
       "model_id": "",
       "version_major": 2,
       "version_minor": 0
      },
      "text/plain": [
       "FloatProgress(value=0.0, bar_style='info', description='Progress:', layout=Layout(height='25px', width='50%'),…"
      ]
     },
     "metadata": {},
     "output_type": "display_data"
    }
   ],
   "source": [
    "# Solución\n",
    "# Guardo el modelo en mi S3\n",
    "model.save(\"s3://capstone12bucket2/trained_model\")"
   ]
  },
  {
   "cell_type": "code",
   "execution_count": null,
   "id": "7365c455",
   "metadata": {},
   "outputs": [],
   "source": []
  }
 ],
 "metadata": {
  "kernelspec": {
   "display_name": "Python 3 (ipykernel)",
   "language": "python",
   "name": "python3"
  },
  "language_info": {
   "codemirror_mode": {
    "name": "ipython",
    "version": 3
   },
   "file_extension": ".py",
   "mimetype": "text/x-python",
   "name": "python",
   "nbconvert_exporter": "python",
   "pygments_lexer": "ipython3",
   "version": "3.9.16"
  }
 },
 "nbformat": 4,
 "nbformat_minor": 5
}
