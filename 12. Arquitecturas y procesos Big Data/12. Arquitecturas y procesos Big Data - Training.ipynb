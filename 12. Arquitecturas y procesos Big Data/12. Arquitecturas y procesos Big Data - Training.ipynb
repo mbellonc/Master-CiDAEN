{
 "cells": [
  {
   "cell_type": "markdown",
   "id": "5c2829b2",
   "metadata": {},
   "source": [
    "<img src=\"http://www.cidaen.es/assets/img/mCIDaeNnb.png\" alt=\"Logo CiDAEN\" align=\"right\">\n",
    "\n",
    "\n",
    "<br><br><br>\n",
    "<h2><font color=\"#00586D\" size=4>Módulo 12: Arquitecturas y procesos Big Data</font></h2>\n",
    "\n",
    "\n",
    "\n",
    "<h1><font color=\"#00586D\" size=5>Capstone 12. Parte 1: Modelo de <i>sentiment</i> sobre Amazon Reviews</font></h1>\n",
    "\n",
    "<br><br><br>\n",
    "<div style=\"text-align: right\">\n",
    "<font color=\"#00586D\" size=3>Enrique González, Jacinto Arias</font><br>\n",
    "<font color=\"#00586D\" size=3>Máster en Ciencia de Datos e Ingeniería de Datos en la Nube</font><br>\n",
    "<font color=\"#00586D\" size=3>Universidad de Castilla-La Mancha</font>\n",
    "\n",
    "\n",
    "\n",
    "\n",
    "</div>\n",
    "\n",
    "<div align=\"left\">\n",
    "<font color=\"#000000\" size=3>Marta Bellón Castro</font><br>\n",
    "<font color=\"#000000\" size=3>Curso 2022-2023</font><br>\n",
    "</div>"
   ]
  },
  {
   "cell_type": "markdown",
   "id": "890eb90f",
   "metadata": {},
   "source": [
    "<a id=\"indice\"></a>\n",
    "<h2><font color=\"#00586D\" size=5>Índice</font></h2>\n",
    "\n",
    "\n",
    "* [1. Introducción](#section1)\n",
    "* [2. Análisis exploratorio](#section2)\n",
    "* [3. Modelado](#section3)"
   ]
  },
  {
   "cell_type": "code",
   "execution_count": 1,
   "id": "69c3d12e",
   "metadata": {
    "scrolled": false
   },
   "outputs": [
    {
     "data": {
      "application/vnd.jupyter.widget-view+json": {
       "model_id": "a99a86153b4440008fc682380dd8c9a4",
       "version_major": 2,
       "version_minor": 0
      },
      "text/plain": [
       "VBox()"
      ]
     },
     "metadata": {},
     "output_type": "display_data"
    },
    {
     "name": "stdout",
     "output_type": "stream",
     "text": [
      "Starting Spark application\n"
     ]
    },
    {
     "data": {
      "text/html": [
       "<table>\n",
       "<tr><th>ID</th><th>YARN Application ID</th><th>Kind</th><th>State</th><th>Spark UI</th><th>Driver log</th><th>User</th><th>Current session?</th></tr><tr><td>2</td><td>application_1691082518949_0003</td><td>pyspark</td><td>idle</td><td><a target=\"_blank\" href=\"http://ip-172-31-16-160.ec2.internal:20888/proxy/application_1691082518949_0003/\" class=\"emr-proxy-link\" emr-resource=\"j-12U7PD72P0DDT\n",
       "\" application-id=\"application_1691082518949_0003\">Link</a></td><td><a target=\"_blank\" href=\"http://ip-172-31-21-92.ec2.internal:8042/node/containerlogs/container_1691082518949_0003_01_000001/livy\" >Link</a></td><td>None</td><td>✔</td></tr></table>"
      ],
      "text/plain": [
       "<IPython.core.display.HTML object>"
      ]
     },
     "metadata": {},
     "output_type": "display_data"
    },
    {
     "data": {
      "application/vnd.jupyter.widget-view+json": {
       "model_id": "",
       "version_major": 2,
       "version_minor": 0
      },
      "text/plain": [
       "FloatProgress(value=0.0, bar_style='info', description='Progress:', layout=Layout(height='25px', width='50%'),…"
      ]
     },
     "metadata": {},
     "output_type": "display_data"
    },
    {
     "name": "stdout",
     "output_type": "stream",
     "text": [
      "SparkSession available as 'spark'.\n"
     ]
    },
    {
     "data": {
      "application/vnd.jupyter.widget-view+json": {
       "model_id": "",
       "version_major": 2,
       "version_minor": 0
      },
      "text/plain": [
       "FloatProgress(value=0.0, bar_style='info', description='Progress:', layout=Layout(height='25px', width='50%'),…"
      ]
     },
     "metadata": {},
     "output_type": "display_data"
    }
   ],
   "source": [
    "# Instalamos algunas librerías útiles para la práctica\n",
    "\n",
    "import pyspark.sql.functions as sqlf\n",
    "from pyspark.ml.pipeline import PipelineModel\n",
    "from pyspark.ml.evaluation import BinaryClassificationEvaluator"
   ]
  },
  {
   "cell_type": "code",
   "execution_count": 2,
   "id": "72445479",
   "metadata": {
    "scrolled": true
   },
   "outputs": [
    {
     "data": {
      "application/vnd.jupyter.widget-view+json": {
       "model_id": "cf8d70273c7749f3b301a4871b19ee62",
       "version_major": 2,
       "version_minor": 0
      },
      "text/plain": [
       "VBox()"
      ]
     },
     "metadata": {},
     "output_type": "display_data"
    },
    {
     "data": {
      "application/vnd.jupyter.widget-view+json": {
       "model_id": "",
       "version_major": 2,
       "version_minor": 0
      },
      "text/plain": [
       "FloatProgress(value=0.0, bar_style='info', description='Progress:', layout=Layout(height='25px', width='50%'),…"
      ]
     },
     "metadata": {},
     "output_type": "display_data"
    },
    {
     "name": "stdout",
     "output_type": "stream",
     "text": [
      "Collecting pandas\n",
      "  Downloading pandas-1.3.5-cp37-cp37m-manylinux_2_17_x86_64.manylinux2014_x86_64.whl (11.3 MB)\n",
      "Collecting python-dateutil>=2.7.3\n",
      "  Downloading python_dateutil-2.8.2-py2.py3-none-any.whl (247 kB)\n",
      "Requirement already satisfied: numpy>=1.17.3; platform_machine != \"aarch64\" and platform_machine != \"arm64\" and python_version < \"3.10\" in /usr/local/lib64/python3.7/site-packages (from pandas) (1.20.0)\n",
      "Requirement already satisfied: pytz>=2017.3 in /usr/local/lib/python3.7/site-packages (from pandas) (2023.3)\n",
      "Requirement already satisfied: six>=1.5 in /usr/local/lib/python3.7/site-packages (from python-dateutil>=2.7.3->pandas) (1.13.0)\n",
      "Installing collected packages: python-dateutil, pandas\n",
      "Successfully installed pandas-1.3.5 python-dateutil-2.8.2\n",
      "\n",
      "Collecting seaborn\n",
      "  Downloading seaborn-0.12.2-py3-none-any.whl (293 kB)\n",
      "Requirement already satisfied: pandas>=0.25 in ./tmp/1691088765070-0/lib/python3.7/site-packages (from seaborn) (1.3.5)\n",
      "Requirement already satisfied: numpy!=1.24.0,>=1.17 in /usr/local/lib64/python3.7/site-packages (from seaborn) (1.20.0)\n",
      "Collecting typing_extensions; python_version < \"3.8\"\n",
      "  Downloading typing_extensions-4.7.1-py3-none-any.whl (33 kB)\n",
      "Collecting matplotlib!=3.6.1,>=3.1\n",
      "  Downloading matplotlib-3.5.3-cp37-cp37m-manylinux_2_5_x86_64.manylinux1_x86_64.whl (11.2 MB)\n",
      "Requirement already satisfied: python-dateutil>=2.7.3 in ./tmp/1691088765070-0/lib/python3.7/site-packages (from pandas>=0.25->seaborn) (2.8.2)\n",
      "Requirement already satisfied: pytz>=2017.3 in /usr/local/lib/python3.7/site-packages (from pandas>=0.25->seaborn) (2023.3)\n",
      "Collecting packaging>=20.0\n",
      "  Downloading packaging-23.1-py3-none-any.whl (48 kB)\n",
      "Collecting pyparsing>=2.2.1\n",
      "  Downloading pyparsing-3.1.1-py3-none-any.whl (103 kB)\n",
      "Collecting cycler>=0.10\n",
      "  Downloading cycler-0.11.0-py3-none-any.whl (6.4 kB)\n",
      "Collecting kiwisolver>=1.0.1\n",
      "  Downloading kiwisolver-1.4.4-cp37-cp37m-manylinux_2_5_x86_64.manylinux1_x86_64.whl (1.1 MB)\n",
      "Collecting pillow>=6.2.0\n",
      "  Downloading Pillow-9.5.0-cp37-cp37m-manylinux_2_17_x86_64.manylinux2014_x86_64.whl (3.3 MB)\n",
      "Collecting fonttools>=4.22.0\n",
      "  Downloading fonttools-4.38.0-py3-none-any.whl (965 kB)\n",
      "Requirement already satisfied: six>=1.5 in /usr/local/lib/python3.7/site-packages (from python-dateutil>=2.7.3->pandas>=0.25->seaborn) (1.13.0)\n",
      "Installing collected packages: typing-extensions, packaging, pyparsing, cycler, kiwisolver, pillow, fonttools, matplotlib, seaborn\n",
      "Successfully installed cycler-0.11.0 fonttools-4.38.0 kiwisolver-1.4.4 matplotlib-3.5.3 packaging-23.1 pillow-9.5.0 pyparsing-3.1.1 seaborn-0.12.2 typing-extensions-4.7.1\n",
      "\n",
      "Collecting tabulate\n",
      "  Downloading tabulate-0.9.0-py3-none-any.whl (35 kB)\n",
      "Installing collected packages: tabulate\n",
      "Successfully installed tabulate-0.9.0\n",
      "\n",
      "WARNING: The directory '/home/.cache/pip' or its parent directory is not owned or is not writable by the current user. The cache has been disabled. Check the permissions and owner of that directory. If executing pip with sudo, you may want sudo's -H flag.\n",
      "\n",
      "WARNING: The directory '/home/.cache/pip' or its parent directory is not owned or is not writable by the current user. The cache has been disabled. Check the permissions and owner of that directory. If executing pip with sudo, you may want sudo's -H flag.\n",
      "\n",
      "WARNING: The directory '/home/.cache/pip' or its parent directory is not owned or is not writable by the current user. The cache has been disabled. Check the permissions and owner of that directory. If executing pip with sudo, you may want sudo's -H flag."
     ]
    }
   ],
   "source": [
    "sc.install_pypi_package('pandas')\n",
    "sc.install_pypi_package('seaborn')\n",
    "sc.install_pypi_package('tabulate')"
   ]
  },
  {
   "cell_type": "code",
   "execution_count": 3,
   "id": "8c1e0ed3",
   "metadata": {},
   "outputs": [
    {
     "data": {
      "application/vnd.jupyter.widget-view+json": {
       "model_id": "b5889e87541a48778133d78679b1bbce",
       "version_major": 2,
       "version_minor": 0
      },
      "text/plain": [
       "VBox()"
      ]
     },
     "metadata": {},
     "output_type": "display_data"
    },
    {
     "data": {
      "application/vnd.jupyter.widget-view+json": {
       "model_id": "",
       "version_major": 2,
       "version_minor": 0
      },
      "text/plain": [
       "FloatProgress(value=0.0, bar_style='info', description='Progress:', layout=Layout(height='25px', width='50%'),…"
      ]
     },
     "metadata": {},
     "output_type": "display_data"
    },
    {
     "name": "stdout",
     "output_type": "stream",
     "text": [
      "Package                    Version\n",
      "-------------------------- ----------\n",
      "aws-cfn-bootstrap          2.0\n",
      "beautifulsoup4             4.9.3\n",
      "boto                       2.49.0\n",
      "click                      8.1.3\n",
      "cycler                     0.11.0\n",
      "docutils                   0.14\n",
      "fonttools                  4.38.0\n",
      "jmespath                   1.0.1\n",
      "joblib                     1.2.0\n",
      "kiwisolver                 1.4.4\n",
      "lockfile                   0.11.0\n",
      "lxml                       4.9.2\n",
      "matplotlib                 3.5.3\n",
      "mysqlclient                1.4.2\n",
      "nltk                       3.8.1\n",
      "nose                       1.3.4\n",
      "numpy                      1.20.0\n",
      "packaging                  23.1\n",
      "pandas                     1.3.5\n",
      "Pillow                     9.5.0\n",
      "pip                        20.2.2\n",
      "py-dateutil                2.2\n",
      "pyparsing                  3.1.1\n",
      "pystache                   0.5.4\n",
      "python-daemon              2.2.3\n",
      "python-dateutil            2.8.2\n",
      "python37-sagemaker-pyspark 1.4.2\n",
      "pytz                       2023.3\n",
      "PyYAML                     5.4.1\n",
      "regex                      2021.11.10\n",
      "seaborn                    0.12.2\n",
      "setuptools                 28.8.0\n",
      "simplejson                 3.2.0\n",
      "six                        1.13.0\n",
      "tabulate                   0.9.0\n",
      "tqdm                       4.65.0\n",
      "typing-extensions          4.7.1\n",
      "wheel                      0.29.0\n",
      "windmill                   1.6\n",
      "\n",
      "WARNING: The directory '/home/.cache/pip' or its parent directory is not owned or is not writable by the current user. The cache has been disabled. Check the permissions and owner of that directory. If executing pip with sudo, you may want sudo's -H flag."
     ]
    }
   ],
   "source": [
    "# Los siguientes packetes están disponibles en el cluster\n",
    "sc.list_packages()"
   ]
  },
  {
   "cell_type": "markdown",
   "id": "6204360a",
   "metadata": {},
   "source": [
    "---\n",
    "\n",
    "<a id=\"section1\"></a>\n",
    "## <font color=\"#00586D\"> 1. Introducción</font>\n",
    "<br>"
   ]
  },
  {
   "cell_type": "markdown",
   "id": "ac76b38b",
   "metadata": {},
   "source": [
    "En este capstone vamos a aprender un modelo de detección del sentimiento utilizando MLlib y EMR. Una vez aprendido ampliaremos el proyecto serializando este modelo y comparándolo con el modelo de detección de sentimiento disponible en AWS. \n",
    "\n",
    "Para ello utilizaremos el dataset de __amazon reviews__ que está disponible de manera pública\n",
    "\n",
    "https://s3.amazonaws.com/amazon-reviews-pds/readme.html\n",
    "\n",
    "Este dataset tiene dos versiones una en tsv y otra en parquet. Nosotros usaremos la que está en parquet que está disponible a través de la ruta de s3: `s3://amazon-reviews-pds/parquet`.\n",
    "\n",
    "<span style=\"color: red;\"><strong>NOTA IMPORTANTE:<br>\n",
    "    El link para descargar los archivos de reviews no funciona, con lo cual realizaré esa parte del código como creo que debería ser (apartados 1-Carga de datos y 2-Filtrado) pero no lo descargará realmente.<br>\n",
    "    Para poder continuar con la actividad, cargaré diréctamente en mi S3 los ficheros .parquet que componen el dataset de electronics facilitados por otro compañero que ya terminó el capstone y los ha descargado de su S3.\n",
    "    </strong></span>\n",
    "\n",
    "\n",
    "Este dataset tiene las siguientes columnas (de su diccionario de datos):\n",
    "```\n",
    "marketplace       - 2 letter country code of the marketplace where the review was written.\n",
    "customer_id       - Random identifier that can be used to aggregate reviews written by a single author.\n",
    "review_id         - The unique ID of the review.\n",
    "product_id        - The unique Product ID the review pertains to. In the multilingual dataset the reviews\n",
    "                    for the same product in different countries can be grouped by the same product_id.\n",
    "product_parent    - Random identifier that can be used to aggregate reviews for the same product.\n",
    "product_title     - Title of the product.\n",
    "product_category  - Broad product category that can be used to group reviews \n",
    "                    (also used to group the dataset into coherent parts).\n",
    "star_rating       - The 1-5 star rating of the review.\n",
    "helpful_votes     - Number of helpful votes.\n",
    "total_votes       - Number of total votes the review received.\n",
    "vine              - Review was written as part of the Vine program.\n",
    "verified_purchase - The review is on a verified purchase.\n",
    "review_headline   - The title of the review.\n",
    "review_body       - The review text.\n",
    "review_date       - The date the review was written.\n",
    "```\n",
    "\n",
    "De estas, la columna `product_category` se usa como clave de partición. Podéis encontrar toda la información en el enlace que os proporcionamos más arriba. "
   ]
  },
  {
   "cell_type": "markdown",
   "id": "12c25b56",
   "metadata": {},
   "source": [
    "---\n",
    "\n",
    "<a id=\"section2\"></a>\n",
    "## <font color=\"#00586D\"> 2. Análisis exploratorio</font>\n",
    "<br>"
   ]
  },
  {
   "cell_type": "markdown",
   "id": "a6b4fa06",
   "metadata": {},
   "source": [
    "Antes de empezar con el modelado exploraremos los datos minimamente para poder estudiar sus propiedades."
   ]
  },
  {
   "cell_type": "markdown",
   "id": "096b1366",
   "metadata": {},
   "source": [
    "---\n",
    "### <font color=\"#004D7F\"> <i class=\"fa fa-pencil-square-o\" aria-hidden=\"true\" style=\"color:#004D7F\"></i> Tarea 1: Carga de datos </font>\n",
    "<br>\n",
    "\n",
    "Carga el dataset completo en formato parquet y cuenta sus registros. De momento, no lo persistas. \n",
    "\n",
    "\n"
   ]
  },
  {
   "cell_type": "code",
   "execution_count": 4,
   "id": "52ca06f8",
   "metadata": {},
   "outputs": [
    {
     "data": {
      "application/vnd.jupyter.widget-view+json": {
       "model_id": "3aa129c9525646728101c9423423007b",
       "version_major": 2,
       "version_minor": 0
      },
      "text/plain": [
       "VBox()"
      ]
     },
     "metadata": {},
     "output_type": "display_data"
    },
    {
     "data": {
      "application/vnd.jupyter.widget-view+json": {
       "model_id": "",
       "version_major": 2,
       "version_minor": 0
      },
      "text/plain": [
       "FloatProgress(value=0.0, bar_style='info', description='Progress:', layout=Layout(height='25px', width='50%'),…"
      ]
     },
     "metadata": {},
     "output_type": "display_data"
    },
    {
     "name": "stderr",
     "output_type": "stream",
     "text": [
      "An error was encountered:\n",
      "An error occurred while calling o140.parquet.\n",
      ": java.io.IOException: com.amazon.ws.emr.hadoop.fs.shaded.com.amazonaws.services.s3.model.AmazonS3Exception: Access Denied (Service: Amazon S3; Status Code: 403; Error Code: AccessDenied; Request ID: B3MW5AVFZ6A6Z98K; S3 Extended Request ID: V6YRZFzlFt5Kb5UPpS9taMXau92MVpmVMOh8DduyZYj6DNNQ8kjGEa+NP+dA7syuW9c6y/U8WdE=; Proxy: null), S3 Extended Request ID: V6YRZFzlFt5Kb5UPpS9taMXau92MVpmVMOh8DduyZYj6DNNQ8kjGEa+NP+dA7syuW9c6y/U8WdE=\n",
      "\tat com.amazon.ws.emr.hadoop.fs.s3n.Jets3tNativeFileSystemStore.list(Jets3tNativeFileSystemStore.java:423)\n",
      "\tat com.amazon.ws.emr.hadoop.fs.s3n.Jets3tNativeFileSystemStore.isFolderUsingFolderObject(Jets3tNativeFileSystemStore.java:249)\n",
      "\tat com.amazon.ws.emr.hadoop.fs.s3n.Jets3tNativeFileSystemStore.isFolder(Jets3tNativeFileSystemStore.java:212)\n",
      "\tat com.amazon.ws.emr.hadoop.fs.s3n.S3NativeFileSystem.getFileStatus(S3NativeFileSystem.java:523)\n",
      "\tat org.apache.hadoop.fs.FileSystem.exists(FileSystem.java:1767)\n",
      "\tat com.amazon.ws.emr.hadoop.fs.EmrFileSystem.exists(EmrFileSystem.java:402)\n",
      "\tat org.apache.spark.sql.execution.datasources.DataSource$.$anonfun$checkAndGlobPathIfNecessary$4(DataSource.scala:784)\n",
      "\tat org.apache.spark.sql.execution.datasources.DataSource$.$anonfun$checkAndGlobPathIfNecessary$4$adapted(DataSource.scala:782)\n",
      "\tat org.apache.spark.util.ThreadUtils$.$anonfun$parmap$2(ThreadUtils.scala:372)\n",
      "\tat scala.concurrent.Future$.$anonfun$apply$1(Future.scala:659)\n",
      "\tat scala.util.Success.$anonfun$map$1(Try.scala:255)\n",
      "\tat scala.util.Success.map(Try.scala:213)\n",
      "\tat scala.concurrent.Future.$anonfun$map$1(Future.scala:292)\n",
      "\tat scala.concurrent.impl.Promise.liftedTree1$1(Promise.scala:33)\n",
      "\tat scala.concurrent.impl.Promise.$anonfun$transform$1(Promise.scala:33)\n",
      "\tat scala.concurrent.impl.CallbackRunnable.run(Promise.scala:64)\n",
      "\tat java.util.concurrent.ForkJoinTask$RunnableExecuteAction.exec(ForkJoinTask.java:1402)\n",
      "\tat java.util.concurrent.ForkJoinTask.doExec(ForkJoinTask.java:289)\n",
      "\tat java.util.concurrent.ForkJoinPool$WorkQueue.runTask(ForkJoinPool.java:1056)\n",
      "\tat java.util.concurrent.ForkJoinPool.runWorker(ForkJoinPool.java:1692)\n",
      "\tat java.util.concurrent.ForkJoinWorkerThread.run(ForkJoinWorkerThread.java:175)\n",
      "Caused by: com.amazon.ws.emr.hadoop.fs.shaded.com.amazonaws.services.s3.model.AmazonS3Exception: Access Denied (Service: Amazon S3; Status Code: 403; Error Code: AccessDenied; Request ID: B3MW5AVFZ6A6Z98K; S3 Extended Request ID: V6YRZFzlFt5Kb5UPpS9taMXau92MVpmVMOh8DduyZYj6DNNQ8kjGEa+NP+dA7syuW9c6y/U8WdE=; Proxy: null), S3 Extended Request ID: V6YRZFzlFt5Kb5UPpS9taMXau92MVpmVMOh8DduyZYj6DNNQ8kjGEa+NP+dA7syuW9c6y/U8WdE=\n",
      "\tat com.amazon.ws.emr.hadoop.fs.shaded.com.amazonaws.http.AmazonHttpClient$RequestExecutor.handleErrorResponse(AmazonHttpClient.java:1879)\n",
      "\tat com.amazon.ws.emr.hadoop.fs.shaded.com.amazonaws.http.AmazonHttpClient$RequestExecutor.handleServiceErrorResponse(AmazonHttpClient.java:1418)\n",
      "\tat com.amazon.ws.emr.hadoop.fs.shaded.com.amazonaws.http.AmazonHttpClient$RequestExecutor.executeOneRequest(AmazonHttpClient.java:1387)\n",
      "\tat com.amazon.ws.emr.hadoop.fs.shaded.com.amazonaws.http.AmazonHttpClient$RequestExecutor.executeHelper(AmazonHttpClient.java:1157)\n",
      "\tat com.amazon.ws.emr.hadoop.fs.shaded.com.amazonaws.http.AmazonHttpClient$RequestExecutor.doExecute(AmazonHttpClient.java:814)\n",
      "\tat com.amazon.ws.emr.hadoop.fs.shaded.com.amazonaws.http.AmazonHttpClient$RequestExecutor.executeWithTimer(AmazonHttpClient.java:781)\n",
      "\tat com.amazon.ws.emr.hadoop.fs.shaded.com.amazonaws.http.AmazonHttpClient$RequestExecutor.execute(AmazonHttpClient.java:755)\n",
      "\tat com.amazon.ws.emr.hadoop.fs.shaded.com.amazonaws.http.AmazonHttpClient$RequestExecutor.access$500(AmazonHttpClient.java:715)\n",
      "\tat com.amazon.ws.emr.hadoop.fs.shaded.com.amazonaws.http.AmazonHttpClient$RequestExecutionBuilderImpl.execute(AmazonHttpClient.java:697)\n",
      "\tat com.amazon.ws.emr.hadoop.fs.shaded.com.amazonaws.http.AmazonHttpClient.execute(AmazonHttpClient.java:561)\n",
      "\tat com.amazon.ws.emr.hadoop.fs.shaded.com.amazonaws.http.AmazonHttpClient.execute(AmazonHttpClient.java:541)\n",
      "\tat com.amazon.ws.emr.hadoop.fs.shaded.com.amazonaws.services.s3.AmazonS3Client.invoke(AmazonS3Client.java:5467)\n",
      "\tat com.amazon.ws.emr.hadoop.fs.shaded.com.amazonaws.services.s3.AmazonS3Client.invoke(AmazonS3Client.java:5414)\n",
      "\tat com.amazon.ws.emr.hadoop.fs.shaded.com.amazonaws.services.s3.AmazonS3Client.invoke(AmazonS3Client.java:5408)\n",
      "\tat com.amazon.ws.emr.hadoop.fs.shaded.com.amazonaws.services.s3.AmazonS3Client.listObjectsV2(AmazonS3Client.java:971)\n",
      "\tat com.amazon.ws.emr.hadoop.fs.s3.lite.call.ListObjectsV2Call.perform(ListObjectsV2Call.java:26)\n",
      "\tat com.amazon.ws.emr.hadoop.fs.s3.lite.call.ListObjectsV2Call.perform(ListObjectsV2Call.java:12)\n",
      "\tat com.amazon.ws.emr.hadoop.fs.s3.lite.executor.GlobalS3Executor$CallPerformer.call(GlobalS3Executor.java:111)\n",
      "\tat com.amazon.ws.emr.hadoop.fs.s3.lite.executor.GlobalS3Executor.execute(GlobalS3Executor.java:138)\n",
      "\tat com.amazon.ws.emr.hadoop.fs.s3.lite.AmazonS3LiteClient.invoke(AmazonS3LiteClient.java:191)\n",
      "\tat com.amazon.ws.emr.hadoop.fs.s3.lite.AmazonS3LiteClient.invoke(AmazonS3LiteClient.java:186)\n",
      "\tat com.amazon.ws.emr.hadoop.fs.s3.lite.AmazonS3LiteClient.listObjectsV2(AmazonS3LiteClient.java:75)\n",
      "\tat com.amazon.ws.emr.hadoop.fs.s3n.Jets3tNativeFileSystemStore.list(Jets3tNativeFileSystemStore.java:414)\n",
      "\t... 20 more\n",
      "\n",
      "Traceback (most recent call last):\n",
      "  File \"/mnt/yarn/usercache/livy/appcache/application_1691082518949_0003/container_1691082518949_0003_01_000001/pyspark.zip/pyspark/sql/readwriter.py\", line 364, in parquet\n",
      "    return self._df(self._jreader.parquet(_to_seq(self._spark._sc, paths)))\n",
      "  File \"/mnt/yarn/usercache/livy/appcache/application_1691082518949_0003/container_1691082518949_0003_01_000001/py4j-0.10.9.5-src.zip/py4j/java_gateway.py\", line 1322, in __call__\n",
      "    answer, self.gateway_client, self.target_id, self.name)\n",
      "  File \"/mnt/yarn/usercache/livy/appcache/application_1691082518949_0003/container_1691082518949_0003_01_000001/pyspark.zip/pyspark/sql/utils.py\", line 190, in deco\n",
      "    return f(*a, **kw)\n",
      "  File \"/mnt/yarn/usercache/livy/appcache/application_1691082518949_0003/container_1691082518949_0003_01_000001/py4j-0.10.9.5-src.zip/py4j/protocol.py\", line 328, in get_return_value\n",
      "    format(target_id, \".\", name), value)\n",
      "py4j.protocol.Py4JJavaError: An error occurred while calling o140.parquet.\n",
      ": java.io.IOException: com.amazon.ws.emr.hadoop.fs.shaded.com.amazonaws.services.s3.model.AmazonS3Exception: Access Denied (Service: Amazon S3; Status Code: 403; Error Code: AccessDenied; Request ID: B3MW5AVFZ6A6Z98K; S3 Extended Request ID: V6YRZFzlFt5Kb5UPpS9taMXau92MVpmVMOh8DduyZYj6DNNQ8kjGEa+NP+dA7syuW9c6y/U8WdE=; Proxy: null), S3 Extended Request ID: V6YRZFzlFt5Kb5UPpS9taMXau92MVpmVMOh8DduyZYj6DNNQ8kjGEa+NP+dA7syuW9c6y/U8WdE=\n",
      "\tat com.amazon.ws.emr.hadoop.fs.s3n.Jets3tNativeFileSystemStore.list(Jets3tNativeFileSystemStore.java:423)\n",
      "\tat com.amazon.ws.emr.hadoop.fs.s3n.Jets3tNativeFileSystemStore.isFolderUsingFolderObject(Jets3tNativeFileSystemStore.java:249)\n",
      "\tat com.amazon.ws.emr.hadoop.fs.s3n.Jets3tNativeFileSystemStore.isFolder(Jets3tNativeFileSystemStore.java:212)\n",
      "\tat com.amazon.ws.emr.hadoop.fs.s3n.S3NativeFileSystem.getFileStatus(S3NativeFileSystem.java:523)\n",
      "\tat org.apache.hadoop.fs.FileSystem.exists(FileSystem.java:1767)\n",
      "\tat com.amazon.ws.emr.hadoop.fs.EmrFileSystem.exists(EmrFileSystem.java:402)\n",
      "\tat org.apache.spark.sql.execution.datasources.DataSource$.$anonfun$checkAndGlobPathIfNecessary$4(DataSource.scala:784)\n",
      "\tat org.apache.spark.sql.execution.datasources.DataSource$.$anonfun$checkAndGlobPathIfNecessary$4$adapted(DataSource.scala:782)\n",
      "\tat org.apache.spark.util.ThreadUtils$.$anonfun$parmap$2(ThreadUtils.scala:372)\n",
      "\tat scala.concurrent.Future$.$anonfun$apply$1(Future.scala:659)\n",
      "\tat scala.util.Success.$anonfun$map$1(Try.scala:255)\n",
      "\tat scala.util.Success.map(Try.scala:213)\n",
      "\tat scala.concurrent.Future.$anonfun$map$1(Future.scala:292)\n",
      "\tat scala.concurrent.impl.Promise.liftedTree1$1(Promise.scala:33)\n",
      "\tat scala.concurrent.impl.Promise.$anonfun$transform$1(Promise.scala:33)\n",
      "\tat scala.concurrent.impl.CallbackRunnable.run(Promise.scala:64)\n",
      "\tat java.util.concurrent.ForkJoinTask$RunnableExecuteAction.exec(ForkJoinTask.java:1402)\n",
      "\tat java.util.concurrent.ForkJoinTask.doExec(ForkJoinTask.java:289)\n",
      "\tat java.util.concurrent.ForkJoinPool$WorkQueue.runTask(ForkJoinPool.java:1056)\n",
      "\tat java.util.concurrent.ForkJoinPool.runWorker(ForkJoinPool.java:1692)\n",
      "\tat java.util.concurrent.ForkJoinWorkerThread.run(ForkJoinWorkerThread.java:175)\n",
      "Caused by: com.amazon.ws.emr.hadoop.fs.shaded.com.amazonaws.services.s3.model.AmazonS3Exception: Access Denied (Service: Amazon S3; Status Code: 403; Error Code: AccessDenied; Request ID: B3MW5AVFZ6A6Z98K; S3 Extended Request ID: V6YRZFzlFt5Kb5UPpS9taMXau92MVpmVMOh8DduyZYj6DNNQ8kjGEa+NP+dA7syuW9c6y/U8WdE=; Proxy: null), S3 Extended Request ID: V6YRZFzlFt5Kb5UPpS9taMXau92MVpmVMOh8DduyZYj6DNNQ8kjGEa+NP+dA7syuW9c6y/U8WdE=\n",
      "\tat com.amazon.ws.emr.hadoop.fs.shaded.com.amazonaws.http.AmazonHttpClient$RequestExecutor.handleErrorResponse(AmazonHttpClient.java:1879)\n",
      "\tat com.amazon.ws.emr.hadoop.fs.shaded.com.amazonaws.http.AmazonHttpClient$RequestExecutor.handleServiceErrorResponse(AmazonHttpClient.java:1418)\n",
      "\tat com.amazon.ws.emr.hadoop.fs.shaded.com.amazonaws.http.AmazonHttpClient$RequestExecutor.executeOneRequest(AmazonHttpClient.java:1387)\n",
      "\tat com.amazon.ws.emr.hadoop.fs.shaded.com.amazonaws.http.AmazonHttpClient$RequestExecutor.executeHelper(AmazonHttpClient.java:1157)\n",
      "\tat com.amazon.ws.emr.hadoop.fs.shaded.com.amazonaws.http.AmazonHttpClient$RequestExecutor.doExecute(AmazonHttpClient.java:814)\n",
      "\tat com.amazon.ws.emr.hadoop.fs.shaded.com.amazonaws.http.AmazonHttpClient$RequestExecutor.executeWithTimer(AmazonHttpClient.java:781)\n",
      "\tat com.amazon.ws.emr.hadoop.fs.shaded.com.amazonaws.http.AmazonHttpClient$RequestExecutor.execute(AmazonHttpClient.java:755)\n",
      "\tat com.amazon.ws.emr.hadoop.fs.shaded.com.amazonaws.http.AmazonHttpClient$RequestExecutor.access$500(AmazonHttpClient.java:715)\n",
      "\tat com.amazon.ws.emr.hadoop.fs.shaded.com.amazonaws.http.AmazonHttpClient$RequestExecutionBuilderImpl.execute(AmazonHttpClient.java:697)\n",
      "\tat com.amazon.ws.emr.hadoop.fs.shaded.com.amazonaws.http.AmazonHttpClient.execute(AmazonHttpClient.java:561)\n",
      "\tat com.amazon.ws.emr.hadoop.fs.shaded.com.amazonaws.http.AmazonHttpClient.execute(AmazonHttpClient.java:541)\n",
      "\tat com.amazon.ws.emr.hadoop.fs.shaded.com.amazonaws.services.s3.AmazonS3Client.invoke(AmazonS3Client.java:5467)\n",
      "\tat com.amazon.ws.emr.hadoop.fs.shaded.com.amazonaws.services.s3.AmazonS3Client.invoke(AmazonS3Client.java:5414)\n",
      "\tat com.amazon.ws.emr.hadoop.fs.shaded.com.amazonaws.services.s3.AmazonS3Client.invoke(AmazonS3Client.java:5408)\n",
      "\tat com.amazon.ws.emr.hadoop.fs.shaded.com.amazonaws.services.s3.AmazonS3Client.listObjectsV2(AmazonS3Client.java:971)\n",
      "\tat com.amazon.ws.emr.hadoop.fs.s3.lite.call.ListObjectsV2Call.perform(ListObjectsV2Call.java:26)\n",
      "\tat com.amazon.ws.emr.hadoop.fs.s3.lite.call.ListObjectsV2Call.perform(ListObjectsV2Call.java:12)\n",
      "\tat com.amazon.ws.emr.hadoop.fs.s3.lite.executor.GlobalS3Executor$CallPerformer.call(GlobalS3Executor.java:111)\n",
      "\tat com.amazon.ws.emr.hadoop.fs.s3.lite.executor.GlobalS3Executor.execute(GlobalS3Executor.java:138)\n",
      "\tat com.amazon.ws.emr.hadoop.fs.s3.lite.AmazonS3LiteClient.invoke(AmazonS3LiteClient.java:191)\n",
      "\tat com.amazon.ws.emr.hadoop.fs.s3.lite.AmazonS3LiteClient.invoke(AmazonS3LiteClient.java:186)\n",
      "\tat com.amazon.ws.emr.hadoop.fs.s3.lite.AmazonS3LiteClient.listObjectsV2(AmazonS3LiteClient.java:75)\n",
      "\tat com.amazon.ws.emr.hadoop.fs.s3n.Jets3tNativeFileSystemStore.list(Jets3tNativeFileSystemStore.java:414)\n",
      "\t... 20 more\n",
      "\n",
      "\n"
     ]
    }
   ],
   "source": [
    "from pyspark.sql import SparkSession\n",
    "\n",
    "# Creamos la instancia SparkSession\n",
    "spark = SparkSession.builder \\\n",
    "    .appName(\"SentimentAnalysis\") \\\n",
    "    .getOrCreate()\n",
    "\n",
    "# Define la ruta del archivo parquet en S3\n",
    "parquet_path = \"s3://amazon-reviews-pds/parquet-data\"\n",
    "\n",
    "# Lee el archivo parquet como un DataFrame\n",
    "data_frame = spark.read.parquet(parquet_path)\n",
    "\n",
    "# Cuenta el número de registros en el DataFrame\n",
    "record_count = data_frame.count()\n",
    "\n",
    "# Print the number of records\n",
    "print(\"Total Records:\", record_count)"
   ]
  },
  {
   "cell_type": "markdown",
   "id": "ef64ab8a",
   "metadata": {},
   "source": [
    "**Resultado esperado**: 160796570 registros\n",
    "\n",
    "<div style=\"text-align: right\"><font size=4> <i class=\"fa fa-check-square-o\" aria-hidden=\"true\" style=\"color:#00586D\"></i></font></div>\n"
   ]
  },
  {
   "cell_type": "markdown",
   "id": "ff4a1bd5",
   "metadata": {},
   "source": [
    "<span style=\"color: red;\"><strong>Como expliqué anteriormente, haré solo la parte de código pero no podré ejecutarlo correctamente.\n",
    "    </strong></span>"
   ]
  },
  {
   "cell_type": "markdown",
   "id": "cf872e82",
   "metadata": {},
   "source": [
    "---\n",
    "### <font color=\"#004D7F\"> <i class=\"fa fa-pencil-square-o\" aria-hidden=\"true\" style=\"color:#004D7F\"></i> Tarea 2: Filtrado </font>\n",
    "<br>\n",
    "\n",
    "\n",
    "Como el dataset es masivo para entrenar el modelo de sentiment vamos a trabajar únicamente con una partición. Concretamente utilizaremos la partición de `Electronics`. Filtra los datos para quedarte con esta partición y cuenta ahora el total de elementos de este nuevo dataset. No cachees este dataset. \n",
    "\n"
   ]
  },
  {
   "cell_type": "code",
   "execution_count": 5,
   "id": "a699fb47",
   "metadata": {},
   "outputs": [
    {
     "data": {
      "application/vnd.jupyter.widget-view+json": {
       "model_id": "0bc6c2609aa64455b13a8718f3cb22e7",
       "version_major": 2,
       "version_minor": 0
      },
      "text/plain": [
       "VBox()"
      ]
     },
     "metadata": {},
     "output_type": "display_data"
    },
    {
     "data": {
      "application/vnd.jupyter.widget-view+json": {
       "model_id": "",
       "version_major": 2,
       "version_minor": 0
      },
      "text/plain": [
       "FloatProgress(value=0.0, bar_style='info', description='Progress:', layout=Layout(height='25px', width='50%'),…"
      ]
     },
     "metadata": {},
     "output_type": "display_data"
    },
    {
     "name": "stdout",
     "output_type": "stream",
     "text": [
      "Registros en electroncis: 3120938"
     ]
    }
   ],
   "source": [
    "# Solución\n",
    "# Proceso\n",
    "from pyspark.sql import SparkSession\n",
    "\n",
    "# Inicia una instancia de SparkSession\n",
    "spark = SparkSession.builder \\\n",
    "    .appName(\"SentimentAnalysis\") \\\n",
    "    .getOrCreate()\n",
    "\n",
    "#Esto es lo que habría que hacer si funcionase el link\n",
    "\"\"\"\"\"\"\"\"\"\"\n",
    "# Ruta del archivo parquet en S3\n",
    "ruta_parquet = \"s3://amazon-reviews-pds/parquet-data\"\n",
    "\n",
    "# Lee el archivo parquet y crea un DataFrame\n",
    "data_frame = spark.read.parquet(ruta_parquet)\n",
    "\n",
    "# Filtra los datos para obtener la categoría de Electrónicos\n",
    "data_frame_electronics = data_frame.filter(data_frame[\"product_category\"] == \"Electronics\")\n",
    "\"\"\"\"\"\"\"\"\"\n",
    "\n",
    "#Utilizaré directamente los parquet de electronics que he subido a S3\n",
    "\n",
    "# Ruta del archivo \"Electronics\" parquet en S3\n",
    "ruta_parquet = \"s3://capstone12bucket2/electronics\"\n",
    "\n",
    "# Lee el archivo parquet y crea un DataFrame\n",
    "data_frame_electronics = spark.read.parquet(ruta_parquet)\n",
    "\n",
    "# Cuenta el número de registros en el nuevo DataFrame\n",
    "conteo_electronics = data_frame_electronics.count()\n",
    "\n",
    "# Imprime el conteo de registros\n",
    "print(\"Registros en electroncis:\", conteo_electronics)"
   ]
  },
  {
   "cell_type": "markdown",
   "id": "a8b41c33",
   "metadata": {},
   "source": [
    "**Resultado esperado**: 3120938 registros\n",
    "\n",
    "<div style=\"text-align: right\"><font size=4> <i class=\"fa fa-check-square-o\" aria-hidden=\"true\" style=\"color:#00586D\"></i></font></div>\n"
   ]
  },
  {
   "cell_type": "markdown",
   "id": "a0d8e091",
   "metadata": {},
   "source": [
    "---\n",
    "### <font color=\"#004D7F\"> <i class=\"fa fa-pencil-square-o\" aria-hidden=\"true\" style=\"color:#004D7F\"></i> Tarea 3: Almacenamiento </font>\n",
    "<br>\n",
    "\n",
    "\n",
    "Para no seguir trabajando con los datos públicos, vamos a escribir los datos en un bucket de S3 en nuestra cuenta. Para ello, crea un bucket the S3 para este capstone y escribe los datos dentro del bucket en el directorio `electronics`. Utiliza repartition para tener 32 particiones. Tras esto, vuelve a cargar el dataset y cachéalo. \n",
    "\n",
    "<span style=\"color: red;\"><strong>No los cargo porque ya los tengo subidos, comento el código\n",
    "    </strong></span>"
   ]
  },
  {
   "cell_type": "code",
   "execution_count": 6,
   "id": "65812e5f",
   "metadata": {},
   "outputs": [
    {
     "data": {
      "application/vnd.jupyter.widget-view+json": {
       "model_id": "8d48df9eaf9b4771a466ec17383c87bd",
       "version_major": 2,
       "version_minor": 0
      },
      "text/plain": [
       "VBox()"
      ]
     },
     "metadata": {},
     "output_type": "display_data"
    },
    {
     "data": {
      "application/vnd.jupyter.widget-view+json": {
       "model_id": "",
       "version_major": 2,
       "version_minor": 0
      },
      "text/plain": [
       "FloatProgress(value=0.0, bar_style='info', description='Progress:', layout=Layout(height='25px', width='50%'),…"
      ]
     },
     "metadata": {},
     "output_type": "display_data"
    },
    {
     "name": "stdout",
     "output_type": "stream",
     "text": [
      "'\\n# Ruta S3 para almacenar los datos\\ns3_bucket = \"s3://capstone12bucket2\"\\n\\n# Escribe los datos en el dep?sito S3 en la subcarpeta \"electronica\" con 32 particiones\\ndata_frame_electronics.repartition(32).write.parquet(s3_bucket + \"/electronica\", mode=\"overwrite\")\\n\\n# Carga nuevamente el conjunto de datos desde S3\\ndata_frame_electronics = spark.read.parquet(s3_bucket + \"/electronica\").cache()\\n\\n'"
     ]
    }
   ],
   "source": [
    "# Solución\n",
    "\n",
    "\"\"\"\"\"\"\"\"\"\n",
    "# Ruta S3 para almacenar los datos\n",
    "s3_bucket = \"s3://capstone12bucket2\"\n",
    "\n",
    "# Escribe los datos en el depósito S3 en la subcarpeta \"electronica\" con 32 particiones\n",
    "data_frame_electronics.repartition(32).write.parquet(s3_bucket + \"/electronica\", mode=\"overwrite\")\n",
    "\n",
    "# Carga nuevamente el conjunto de datos desde S3\n",
    "data_frame_electronics = spark.read.parquet(s3_bucket + \"/electronica\").cache()\n",
    "\n",
    "\"\"\"\"\"\"\"\"\""
   ]
  },
  {
   "cell_type": "markdown",
   "id": "3244edd3",
   "metadata": {},
   "source": [
    "\n",
    "\n",
    "<div style=\"text-align: right\"><font size=4> <i class=\"fa fa-check-square-o\" aria-hidden=\"true\" style=\"color:#00586D\"></i></font></div>\n"
   ]
  },
  {
   "cell_type": "markdown",
   "id": "c1c2fd26",
   "metadata": {},
   "source": [
    "---\n",
    "### <font color=\"#004D7F\"> <i class=\"fa fa-pencil-square-o\" aria-hidden=\"true\" style=\"color:#004D7F\"></i> Tarea 4: Almacenamiento </font>\n",
    "<br>\n",
    "\n",
    "Obten los siguiente resultados del dataset que acabáis de cargar:\n",
    "\n",
    "1. Muestra el total de reviews para cada posible número de estrellas recibidas (*star_rating*)\n",
    "2. Obtén los 10 productos con mayor número de votos (*total_votes*) mostrando su nombre, numero de votos y valoración media (*star_rating*)\n",
    "3. Obtén la cantidad de reviews (1 registro de dataset -> 1 review) y la valoración media (*star_rating*) por mes y año. Obten los últimos 15 registros ordenador por año y mes.  "
   ]
  },
  {
   "cell_type": "code",
   "execution_count": 7,
   "id": "d385f8a3",
   "metadata": {},
   "outputs": [
    {
     "data": {
      "application/vnd.jupyter.widget-view+json": {
       "model_id": "84e2f13114dc4f34951907073c0b256a",
       "version_major": 2,
       "version_minor": 0
      },
      "text/plain": [
       "VBox()"
      ]
     },
     "metadata": {},
     "output_type": "display_data"
    },
    {
     "data": {
      "application/vnd.jupyter.widget-view+json": {
       "model_id": "",
       "version_major": 2,
       "version_minor": 0
      },
      "text/plain": [
       "FloatProgress(value=0.0, bar_style='info', description='Progress:', layout=Layout(height='25px', width='50%'),…"
      ]
     },
     "metadata": {},
     "output_type": "display_data"
    },
    {
     "name": "stdout",
     "output_type": "stream",
     "text": [
      "╒════╤═══════════════╤═════════════════╕\n",
      "│    │   star_rating │   total_reviews │\n",
      "╞════╪═══════════════╪═════════════════╡\n",
      "│  0 │             1 │          360558 │\n",
      "├────┼───────────────┼─────────────────┤\n",
      "│  1 │             3 │          240859 │\n",
      "├────┼───────────────┼─────────────────┤\n",
      "│  2 │             4 │          542181 │\n",
      "├────┼───────────────┼─────────────────┤\n",
      "│  3 │             5 │         1796672 │\n",
      "├────┼───────────────┼─────────────────┤\n",
      "│  4 │             2 │          180668 │\n",
      "╘════╧═══════════════╧═════════════════╛\n",
      "+----------+--------------------+-----------+------------------+\n",
      "|product_id|       product_title|total_votes|       star_rating|\n",
      "+----------+--------------------+-----------+------------------+\n",
      "|B000I1X6PM|Denon AKDL1 Dedic...|      46348|3.4917491749174916|\n",
      "|B000J36XR2|AudioQuest K2 Ter...|      20515|3.9357429718875503|\n",
      "|B004QK7HI8|Mohu Leaf 30 TV A...|      18198| 4.091145435081817|\n",
      "|B0001FTVEK|Sennheiser On-Ear...|      18031| 4.034208432776452|\n",
      "|B000EPLP3C|Zune 30 GB Digita...|      17598|3.7341513292433537|\n",
      "|B001FA1O18|Apple iPod touch ...|      17103| 4.384232365145229|\n",
      "|B00D5Q75RC|Bose SoundLink Mi...|      16028| 4.721810699588477|\n",
      "|B0054JJ0QW|Bose QuietComfort...|      13383| 4.439661515820457|\n",
      "|B0002L5R78|High Speed HDMI C...|      12859| 4.462750716332378|\n",
      "|B000WYVBR0|VideoSecu ML531BE...|      11102| 4.579711991844017|\n",
      "+----------+--------------------+-----------+------------------+\n",
      "\n",
      "+----+-----+-------------+------------------+\n",
      "|year|month|reviews_count|  mean_star_rating|\n",
      "+----+-----+-------------+------------------+\n",
      "|2015|    8|       103336|4.0944104668266625|\n",
      "|2015|    7|       100128| 4.086149728347715|\n",
      "|2015|    6|        91815| 4.093296302347111|\n",
      "|2015|    5|        89676| 4.100483964494402|\n",
      "|2015|    4|        93469| 4.102825535739122|\n",
      "|2015|    3|       109175|4.1156858255095035|\n",
      "|2015|    2|       107623| 4.117920890515967|\n",
      "|2015|    1|       120852| 4.152268890874789|\n",
      "|2014|   12|       108294| 4.120302140469462|\n",
      "|2014|   11|        77844| 4.107843892914033|\n",
      "|2014|   10|        78519| 4.113870528152422|\n",
      "|2014|    9|        78126| 4.115928116120114|\n",
      "|2014|    8|        82550| 4.116026650514839|\n",
      "|2014|    7|        79816| 4.117582940763756|\n",
      "|2014|    6|        48707| 4.015726692261892|\n",
      "+----+-----+-------------+------------------+"
     ]
    }
   ],
   "source": [
    "from tabulate import tabulate\n",
    "import pandas as pd\n",
    "from pyspark.sql.functions import desc\n",
    "from pyspark.sql.functions import month, year, avg\n",
    "from pyspark.sql.window import Window\n",
    "from pyspark.sql.functions import row_number\n",
    "from pyspark.sql import functions as F\n",
    "\n",
    "# Análisis de reseñas por número de estrellas\n",
    "\n",
    "from pyspark.sql.functions import count\n",
    "\n",
    "# Calcular el total de reseñas por número de estrellas\n",
    "reviews_per_star = data_frame_electronics.groupBy(\"star_rating\").agg(count(\"*\").alias(\"total_reviews\"))\n",
    "\n",
    "review_data = reviews_per_star.toPandas()\n",
    "print(tabulate(review_data, headers=\"keys\", tablefmt=\"fancy_grid\", floatfmt=\".0f\"))\n",
    "\n",
    "# 2-10 productos con mayor número de votos\n",
    "\n",
    "# 10 productos con mas votos\n",
    "top_ten_products = data_frame_electronics.groupBy(\"product_id\", \"product_title\") \\\n",
    "    .agg(F.sum(\"total_votes\").alias(\"total_votes\"), F.avg(\"star_rating\").alias(\"star_rating\")) \\\n",
    "    .orderBy(F.desc(\"total_votes\")) \\\n",
    "    .limit(10)\n",
    "\n",
    "top_ten_products.show()\n",
    "\n",
    "# 3-Cantidad de reviews\n",
    "\n",
    "# Cantidad de reviews y valoración media por mes y año\n",
    "reviews_avg_rating = data_frame_electronics.select(\"review_date\", \"star_rating\") \\\n",
    "    .withColumn(\"year\", year(\"review_date\")) \\\n",
    "    .withColumn(\"month\", month(\"review_date\")) \\\n",
    "    .groupBy(\"year\", \"month\") \\\n",
    "    .agg(count(\"*\").alias(\"reviews_count\"), avg(\"star_rating\").alias(\"mean_star_rating\")) \\\n",
    "    .orderBy(desc(\"year\"), desc(\"month\"))\n",
    "\n",
    "# Últimos 15 registros por mes y año\n",
    "window_spec = Window.orderBy(desc(\"year\"), desc(\"month\"))\n",
    "last_15_records = reviews_avg_rating.withColumn(\"row_number\", row_number().over(window_spec)) \\\n",
    "    .filter(\"row_number <= 15\") \\\n",
    "    .orderBy(desc(\"year\"), desc(\"month\"))\n",
    "\n",
    "# Obtener los últimos 15 registros ordenados por año y mes\n",
    "last_15_records_selected = last_15_records.select(\"year\", \"month\", \"reviews_count\", \"mean_star_rating\")\n",
    "\n",
    "# Mostrar los resultados seleccionados\n",
    "last_15_records_selected.show()"
   ]
  },
  {
   "cell_type": "markdown",
   "id": "b06238b7",
   "metadata": {},
   "source": [
    "**Resultados esperados**:\n",
    "1. Muestra el total de reviews para cada posible número de estrellas recibidas (*star_rating*)\n",
    "\n",
    "|   star_rating |            count |\n",
    "|--------------:|-----------------:|\n",
    "|             1 | 360558           |\n",
    "|             3 | 240859           |\n",
    "|             4 | 542181           |\n",
    "|             5 | 1796672          |\n",
    "|             2 | 180668           |\n",
    "\n",
    "2. Obtén los 10 productos con mayor número de votos (*total_votes*) mostrando su nombre, numero de votos y valoración media (*star_rating*)\n",
    "\n",
    "| product_title                                                                                    |   total_votes |   star_rating |\n",
    "|:-------------------------------------------------------------------------------------------------|--------------:|--------------:|\n",
    "| Denon AKDL1 Dedicated Link Cable (Discontinued by Manufacturer)                                  |         12944 |             3 |\n",
    "| AudioQuest K2 Terminated Speaker Cable - UST 2.44 m Plugs 8' Pair (Discontinued by Manufacturer) |          9072 |             1 |\n",
    "| Panasonic ErgoFit In-Ear Earbud Headphone                                                        |          8680 |             5 |\n",
    "| Apple iPod touch 8GB (4th Generation)                                                            |          6353 |             5 |\n",
    "| Denon AKDL1 Dedicated Link Cable (Discontinued by Manufacturer)                                  |          5546 |             1 |\n",
    "| Apple iPod touch 8 GB 2nd Generation                                                             |          4595 |             5 |\n",
    "| Bose QuietComfort 15 Acoustic Noise Cancelling Headphones (Discontinued by Manufacturer)         |          4556 |             4 |\n",
    "| Panasonic ErgoFit In-Ear Earbud Headphone                                                        |          4341 |             5 |\n",
    "| X-Mini II XAM4-B Portable Capsule Speaker, Mono                                                  |          4260 |             1 |\n",
    "| Denon AKDL1 Dedicated Link Cable (Discontinued by Manufacturer)                                  |          4242 |             2 |\n",
    "\n",
    "3. Obtén la cantidad de reviews (1 registro de dataset -> 1 review) y la valoración media (*star_rating*) por mes y año. Obten los últimos 15 registros ordenador por año y mes. \n",
    "\n",
    "|   year |   month |   review_count |   mean_star_rating |\n",
    "|-------:|--------:|---------------:|-------------------:|\n",
    "|   2015 |       8 |         103336 |            4.09441 |\n",
    "|   2015 |       7 |         100128 |            4.08615 |\n",
    "|   2015 |       6 |          91815 |            4.0933  |\n",
    "|   2015 |       5 |          89676 |            4.10048 |\n",
    "|   2015 |       4 |          93469 |            4.10283 |\n",
    "|   2015 |       3 |         109175 |            4.11569 |\n",
    "|   2015 |       2 |         107623 |            4.11792 |\n",
    "|   2015 |       1 |         120852 |            4.15227 |\n",
    "|   2014 |      12 |         108294 |            4.1203  |\n",
    "|   2014 |      11 |          77844 |            4.10784 |\n",
    "|   2014 |      10 |          78519 |            4.11387 |\n",
    "|   2014 |       9 |          78126 |            4.11593 |\n",
    "|   2014 |       8 |          82550 |            4.11603 |\n",
    "|   2014 |       7 |          79816 |            4.11758 |\n",
    "|   2014 |       6 |          48707 |            4.01573 |\n",
    "\n",
    "\n",
    "<div style=\"text-align: right\"><font size=4> <i class=\"fa fa-check-square-o\" aria-hidden=\"true\" style=\"color:#00586D\"></i></font></div>\n",
    "\n",
    "--- "
   ]
  },
  {
   "cell_type": "markdown",
   "id": "b21dc035",
   "metadata": {},
   "source": [
    "---\n",
    "\n",
    "<a id=\"section3\"></a>\n",
    "## <font color=\"#00586D\"> 3. Modelado</font>\n",
    "<br>"
   ]
  },
  {
   "cell_type": "markdown",
   "id": "b5fb323e",
   "metadata": {},
   "source": [
    "Como paso previo al modelado realizaremos dos procesos de limpieza sobre los datos:\n"
   ]
  },
  {
   "cell_type": "markdown",
   "id": "654e055b",
   "metadata": {},
   "source": [
    "---\n",
    "### <font color=\"#004D7F\"> <i class=\"fa fa-pencil-square-o\" aria-hidden=\"true\" style=\"color:#004D7F\"></i> Tarea 6: Preparación del texto </font>\n",
    "<br>\n",
    "\n",
    "Limpiead el texto de las reviews (`review_body`) utilizando expresiones sobre strings o expresiones regulares\n",
    " - Pasar todo el texto a minusculas.\n",
    " - Eliminar números y signos de puntuacion.\n",
    " - Si existen, elimina los registros con valores nulos en el body con las transformaciones anteriores. \n",
    " \n",
    "Muestra los resultados para las primeras 10 filas del dataframe ordenadas por `review_id`"
   ]
  },
  {
   "cell_type": "code",
   "execution_count": 8,
   "id": "6635fefd",
   "metadata": {},
   "outputs": [
    {
     "data": {
      "application/vnd.jupyter.widget-view+json": {
       "model_id": "47d11465d5fb4edab72272fde9507bb4",
       "version_major": 2,
       "version_minor": 0
      },
      "text/plain": [
       "VBox()"
      ]
     },
     "metadata": {},
     "output_type": "display_data"
    },
    {
     "data": {
      "application/vnd.jupyter.widget-view+json": {
       "model_id": "",
       "version_major": 2,
       "version_minor": 0
      },
      "text/plain": [
       "FloatProgress(value=0.0, bar_style='info', description='Progress:', layout=Layout(height='25px', width='50%'),…"
      ]
     },
     "metadata": {},
     "output_type": "display_data"
    },
    {
     "name": "stdout",
     "output_type": "stream",
     "text": [
      "+--------------+-----------------------------------------------------------------------------------------------------------------------------------------------------------------------------------------------------------------------------------------------------------------------------------------------------------------------------------------------------------------------------------------------------------------------------------------------------------------------------------------------------------------------------------------------------------------------------------------------------------------------------------------------------------------------------------------------------------------------------------------------------------------------------------------------------------------------------------------------------------------------------------------------------------------------------------------------------------------------------------------------------------------------------------------------------------------------------------------------------------------------------------------------------------------------------------------------------------------------------------------------------------------------------------------------------------------------+----------------------------------------------------------------------------------------------------------------------------------------------------------------------------------------------------------------------------------------------------------------------------------------------------------------------------------------------------------------------------------------------------------------------------------------------------------------------------------------------------------------------------------------------------------------------------------------------------------------------------------------------------------------------------------------------------------------------------------------------------------------------------------------------------------------------------------------------------------------------------------------------------------------------------------------------------------------------------------------------------------------------------------------------------------------------------------------------------------------------------------------------------------------------------------------------------------------------------------------------------------+\n",
      "|review_id     |review_body                                                                                                                                                                                                                                                                                                                                                                                                                                                                                                                                                                                                                                                                                                                                                                                                                                                                                                                                                                                                                                                                                                                                                                                                                                                                                                            |cleaned_review_body                                                                                                                                                                                                                                                                                                                                                                                                                                                                                                                                                                                                                                                                                                                                                                                                                                                                                                                                                                                                                                                                                                                                                                                                                                       |\n",
      "+--------------+-----------------------------------------------------------------------------------------------------------------------------------------------------------------------------------------------------------------------------------------------------------------------------------------------------------------------------------------------------------------------------------------------------------------------------------------------------------------------------------------------------------------------------------------------------------------------------------------------------------------------------------------------------------------------------------------------------------------------------------------------------------------------------------------------------------------------------------------------------------------------------------------------------------------------------------------------------------------------------------------------------------------------------------------------------------------------------------------------------------------------------------------------------------------------------------------------------------------------------------------------------------------------------------------------------------------------+----------------------------------------------------------------------------------------------------------------------------------------------------------------------------------------------------------------------------------------------------------------------------------------------------------------------------------------------------------------------------------------------------------------------------------------------------------------------------------------------------------------------------------------------------------------------------------------------------------------------------------------------------------------------------------------------------------------------------------------------------------------------------------------------------------------------------------------------------------------------------------------------------------------------------------------------------------------------------------------------------------------------------------------------------------------------------------------------------------------------------------------------------------------------------------------------------------------------------------------------------------+\n",
      "|R10000WMGXS51T|Great little emergency radio.  Very good reception.  The<br />weather band is a feature.  Can't beat the quality for this price/                                                                                                                                                                                                                                                                                                                                                                                                                                                                                                                                                                                                                                                                                                                                                                                                                                                                                                                                                                                                                                                                                                                                                                                       |great little emergency radio  very good reception  thebr weather band is a feature  cant beat the quality for this price                                                                                                                                                                                                                                                                                                                                                                                                                                                                                                                                                                                                                                                                                                                                                                                                                                                                                                                                                                                                                                                                                                                                  |\n",
      "|R10001L4QTCA84|Lives up to its claim, and really does fit bulky phone cases. Braided cable is sturdy but flexible. I think it stays a little more flexible in the cold weather, which is nice. Definitely getting a few more in the future!                                                                                                                                                                                                                                                                                                                                                                                                                                                                                                                                                                                                                                                                                                                                                                                                                                                                                                                                                                                                                                                                                           |lives up to its claim and really does fit bulky phone cases braided cable is sturdy but flexible i think it stays a little more flexible in the cold weather which is nice definitely getting a few more in the future                                                                                                                                                                                                                                                                                                                                                                                                                                                                                                                                                                                                                                                                                                                                                                                                                                                                                                                                                                                                                                    |\n",
      "|R10003OLR2P5UE|I've gone through three pairs of these in the last two years. I am in love with the sound quality, and even though I know it's not the best I particularly love how the bass sounds. They're comfortable to wear and very isolating. With these headphones, you don't even need noise canceling. There is very little sound leak, unless you like to listen to music ridiculously loud. All in all, I was very impressed with these. They're without a doubt the best sounding headphones I've ever owned.<br /><br />Now, the problem: The wires are thin and stringy, and do NOT last. On my first pair, the part of the wire that connected to the left cup came apart. I'm not an abuser of headphones, either. On the other two pairs, they wire at the base next to the adapter came apart. I went at them with a soldering iron, desperately trying to make them last as long as I could, but they'd always crap out on me again. The sound quality distorts over time, and the foam around the cups is cheap and wears out quickly.<br /><br />They aren't worth the price for such bad quality. I'd suggest looking around for other pairs, Sony, Denon, and Sennheiser all have superior headphones for a similar price. I myself just ordered a pair of Denon AHD1001's, and here's hoping they last longer!|ive gone through three pairs of these in the last two years i am in love with the sound quality and even though i know its not the best i particularly love how the bass sounds theyre comfortable to wear and very isolating with these headphones you dont even need noise canceling there is very little sound leak unless you like to listen to music ridiculously loud all in all i was very impressed with these theyre without a doubt the best sounding headphones ive ever ownedbr br now the problem the wires are thin and stringy and do not last on my first pair the part of the wire that connected to the left cup came apart im not an abuser of headphones either on the other two pairs they wire at the base next to the adapter came apart i went at them with a soldering iron desperately trying to make them last as long as i could but theyd always crap out on me again the sound quality distorts over time and the foam around the cups is cheap and wears out quicklybr br they arent worth the price for such bad quality id suggest looking around for other pairs sony denon and sennheiser all have superior headphones for a similar price i myself just ordered a pair of denon ahds and heres hoping they last longer|\n",
      "|R10005O193PJ6W|stopped working after a while, changed batteries, it worked for a few days, then it quit                                                                                                                                                                                                                                                                                                                                                                                                                                                                                                                                                                                                                                                                                                                                                                                                                                                                                                                                                                                                                                                                                                                                                                                                                               |stopped working after a while changed batteries it worked for a few days then it quit                                                                                                                                                                                                                                                                                                                                                                                                                                                                                                                                                                                                                                                                                                                                                                                                                                                                                                                                                                                                                                                                                                                                                                     |\n",
      "|R10008LR7CU84N|I ordered this cable and it doesn't work when I contacted them they told me I was doing something wrong. I then had my dad who it a certified computer tech look at it and there is something wrong with the cable. When I told them they never responded to me again.                                                                                                                                                                                                                                                                                                                                                                                                                                                                                                                                                                                                                                                                                                                                                                                                                                                                                                                                                                                                                                                 |i ordered this cable and it doesnt work when i contacted them they told me i was doing something wrong i then had my dad who it a certified computer tech look at it and there is something wrong with the cable when i told them they never responded to me again                                                                                                                                                                                                                                                                                                                                                                                                                                                                                                                                                                                                                                                                                                                                                                                                                                                                                                                                                                                        |\n",
      "|R10009JN2UWOJC|Have not owned it that long however it has the features , feel and works like a quality unit that would be at a much higher price point                                                                                                                                                                                                                                                                                                                                                                                                                                                                                                                                                                                                                                                                                                                                                                                                                                                                                                                                                                                                                                                                                                                                                                                |have not owned it that long however it has the features  feel and works like a quality unit that would be at a much higher price point                                                                                                                                                                                                                                                                                                                                                                                                                                                                                                                                                                                                                                                                                                                                                                                                                                                                                                                                                                                                                                                                                                                    |\n",
      "|R1000AMVKPW32O|Bought for a gift and it is just what was needed to mount the new 32&#34; TV outdoors. The fact that it has full motion swing makes it even better because we can move it around to see it from different angles and still have a sturdy mount.                                                                                                                                                                                                                                                                                                                                                                                                                                                                                                                                                                                                                                                                                                                                                                                                                                                                                                                                                                                                                                                                        |bought for a gift and it is just what was needed to mount the new  tv outdoors the fact that it has full motion swing makes it even better because we can move it around to see it from different angles and still have a sturdy mount                                                                                                                                                                                                                                                                                                                                                                                                                                                                                                                                                                                                                                                                                                                                                                                                                                                                                                                                                                                                                    |\n",
      "|R1000CJMO2L8X4|Perfect for the gym                                                                                                                                                                                                                                                                                                                                                                                                                                                                                                                                                                                                                                                                                                                                                                                                                                                                                                                                                                                                                                                                                                                                                                                                                                                                                                    |perfect for the gym                                                                                                                                                                                                                                                                                                                                                                                                                                                                                                                                                                                                                                                                                                                                                                                                                                                                                                                                                                                                                                                                                                                                                                                                                                       |\n",
      "|R1000EDGJUU3CU|Love these !!! The sound quality is amazing ! The price was amazing especially for the quality.                                                                                                                                                                                                                                                                                                                                                                                                                                                                                                                                                                                                                                                                                                                                                                                                                                                                                                                                                                                                                                                                                                                                                                                                                        |love these  the sound quality is amazing  the price was amazing especially for the quality                                                                                                                                                                                                                                                                                                                                                                                                                                                                                                                                                                                                                                                                                                                                                                                                                                                                                                                                                                                                                                                                                                                                                                |\n",
      "|R1000EG9XXBLXT|I have had good success with these disks, and have used hundreds of them successfully on both computers and a dedicated Panosonic DVD recorder. They seem very reliable, and the lines on the disk label help to keep labeling neat and straight.                                                                                                                                                                                                                                                                                                                                                                                                                                                                                                                                                                                                                                                                                                                                                                                                                                                                                                                                                                                                                                                                      |i have had good success with these disks and have used hundreds of them successfully on both computers and a dedicated panosonic dvd recorder they seem very reliable and the lines on the disk label help to keep labeling neat and straight                                                                                                                                                                                                                                                                                                                                                                                                                                                                                                                                                                                                                                                                                                                                                                                                                                                                                                                                                                                                             |\n",
      "+--------------+-----------------------------------------------------------------------------------------------------------------------------------------------------------------------------------------------------------------------------------------------------------------------------------------------------------------------------------------------------------------------------------------------------------------------------------------------------------------------------------------------------------------------------------------------------------------------------------------------------------------------------------------------------------------------------------------------------------------------------------------------------------------------------------------------------------------------------------------------------------------------------------------------------------------------------------------------------------------------------------------------------------------------------------------------------------------------------------------------------------------------------------------------------------------------------------------------------------------------------------------------------------------------------------------------------------------------+----------------------------------------------------------------------------------------------------------------------------------------------------------------------------------------------------------------------------------------------------------------------------------------------------------------------------------------------------------------------------------------------------------------------------------------------------------------------------------------------------------------------------------------------------------------------------------------------------------------------------------------------------------------------------------------------------------------------------------------------------------------------------------------------------------------------------------------------------------------------------------------------------------------------------------------------------------------------------------------------------------------------------------------------------------------------------------------------------------------------------------------------------------------------------------------------------------------------------------------------------------+\n",
      "only showing top 10 rows"
     ]
    }
   ],
   "source": [
    "# Solución\n",
    "from pyspark.sql import functions as F\n",
    "from pyspark.sql.functions import lower, regexp_replace, col\n",
    "\n",
    "# Pasar todo el texto a minusculas.\n",
    "df_lowercase = data_frame_electronics.withColumn(\"cleaned_review_body\", lower(col(\"review_body\")))\n",
    "\n",
    "# Eliminar números y signos de puntuacion\n",
    "df_cleaned = df_lowercase.withColumn(\"cleaned_review_body\", regexp_replace(col(\"cleaned_review_body\"), \"[^a-zA-Z\\s]\", \"\"))\n",
    "\n",
    "# Eliminar los registros con valores nulos \n",
    "df_filtered = df_cleaned.filter(df_cleaned[\"cleaned_review_body\"] != \"\")\n",
    "\n",
    "# Mostrar los resultados de las primeras 10 filas ordenadas por review_id\n",
    "df_filtered.select(\"review_id\", \"review_body\", \"cleaned_review_body\").orderBy(\"review_id\").show(10, truncate=False)\n"
   ]
  },
  {
   "cell_type": "markdown",
   "id": "19c20f25",
   "metadata": {},
   "source": [
    "**Resultado esperado**:\n",
    "\n",
    "| review_id      | review_body                                                                                                                                                                                                                                                                                                                                                                                                                                                                                                                                                                                                                                                                                                                                                                                                                                                                                                                                                                                                                                                                                                                                                                                                                                                                                                             | clean_review_body                                                                                                                                                                                                                                                                                                                                                                                                                                                                                                                                                                                                                                                                                                                                                                                                                                                                                                                                                                                                                                                                                                                                                                                                                                          |\n",
    "|:---------------|:------------------------------------------------------------------------------------------------------------------------------------------------------------------------------------------------------------------------------------------------------------------------------------------------------------------------------------------------------------------------------------------------------------------------------------------------------------------------------------------------------------------------------------------------------------------------------------------------------------------------------------------------------------------------------------------------------------------------------------------------------------------------------------------------------------------------------------------------------------------------------------------------------------------------------------------------------------------------------------------------------------------------------------------------------------------------------------------------------------------------------------------------------------------------------------------------------------------------------------------------------------------------------------------------------------------------|:-----------------------------------------------------------------------------------------------------------------------------------------------------------------------------------------------------------------------------------------------------------------------------------------------------------------------------------------------------------------------------------------------------------------------------------------------------------------------------------------------------------------------------------------------------------------------------------------------------------------------------------------------------------------------------------------------------------------------------------------------------------------------------------------------------------------------------------------------------------------------------------------------------------------------------------------------------------------------------------------------------------------------------------------------------------------------------------------------------------------------------------------------------------------------------------------------------------------------------------------------------------|\n",
    "| R10000WMGXS51T | Great little emergency radio.  Very good reception.  The<br />weather band is a feature.  Can't beat the quality for this price/                                                                                                                                                                                                                                                                                                                                                                                                                                                                                                                                                                                                                                                                                                                                                                                                                                                                                                                                                                                                                                                                                                                                                                                        | great little emergency radio  very good reception  thebr weather band is a feature  cant beat the quality for this price                                                                                                                                                                                                                                                                                                                                                                                                                                                                                                                                                                                                                                                                                                                                                                                                                                                                                                                                                                                                                                                                                                                                   |\n",
    "| R10001L4QTCA84 | Lives up to its claim, and really does fit bulky phone cases. Braided cable is sturdy but flexible. I think it stays a little more flexible in the cold weather, which is nice. Definitely getting a few more in the future!                                                                                                                                                                                                                                                                                                                                                                                                                                                                                                                                                                                                                                                                                                                                                                                                                                                                                                                                                                                                                                                                                            | lives up to its claim and really does fit bulky phone cases braided cable is sturdy but flexible i think it stays a little more flexible in the cold weather which is nice definitely getting a few more in the future                                                                                                                                                                                                                                                                                                                                                                                                                                                                                                                                                                                                                                                                                                                                                                                                                                                                                                                                                                                                                                     |\n",
    "| R10003OLR2P5UE | I've gone through three pairs of these in the last two years. I am in love with the sound quality, and even though I know it's not the best I particularly love how the bass sounds. They're comfortable to wear and very isolating. With these headphones, you don't even need noise canceling. There is very little sound leak, unless you like to listen to music ridiculously loud. All in all, I was very impressed with these. They're without a doubt the best sounding headphones I've ever owned.<br /><br />Now, the problem: The wires are thin and stringy, and do NOT last. On my first pair, the part of the wire that connected to the left cup came apart. I'm not an abuser of headphones, either. On the other two pairs, they wire at the base next to the adapter came apart. I went at them with a soldering iron, desperately trying to make them last as long as I could, but they'd always crap out on me again. The sound quality distorts over time, and the foam around the cups is cheap and wears out quickly.<br /><br />They aren't worth the price for such bad quality. I'd suggest looking around for other pairs, Sony, Denon, and Sennheiser all have superior headphones for a similar price. I myself just ordered a pair of Denon AHD1001's, and here's hoping they last longer! | ive gone through three pairs of these in the last two years i am in love with the sound quality and even though i know its not the best i particularly love how the bass sounds theyre comfortable to wear and very isolating with these headphones you dont even need noise canceling there is very little sound leak unless you like to listen to music ridiculously loud all in all i was very impressed with these theyre without a doubt the best sounding headphones ive ever ownedbr br now the problem the wires are thin and stringy and do not last on my first pair the part of the wire that connected to the left cup came apart im not an abuser of headphones either on the other two pairs they wire at the base next to the adapter came apart i went at them with a soldering iron desperately trying to make them last as long as i could but theyd always crap out on me again the sound quality distorts over time and the foam around the cups is cheap and wears out quicklybr br they arent worth the price for such bad quality id suggest looking around for other pairs sony denon and sennheiser all have superior headphones for a similar price i myself just ordered a pair of denon ahds and heres hoping they last longer |\n",
    "| R10005O193PJ6W | stopped working after a while, changed batteries, it worked for a few days, then it quit                                                                                                                                                                                                                                                                                                                                                                                                                                                                                                                                                                                                                                                                                                                                                                                                                                                                                                                                                                                                                                                                                                                                                                                                                                | stopped working after a while changed batteries it worked for a few days then it quit                                                                                                                                                                                                                                                                                                                                                                                                                                                                                                                                                                                                                                                                                                                                                                                                                                                                                                                                                                                                                                                                                                                                                                      |\n",
    "| R10008LR7CU84N | I ordered this cable and it doesn't work when I contacted them they told me I was doing something wrong. I then had my dad who it a certified computer tech look at it and there is something wrong with the cable. When I told them they never responded to me again.                                                                                                                                                                                                                                                                                                                                                                                                                                                                                                                                                                                                                                                                                                                                                                                                                                                                                                                                                                                                                                                  | i ordered this cable and it doesnt work when i contacted them they told me i was doing something wrong i then had my dad who it a certified computer tech look at it and there is something wrong with the cable when i told them they never responded to me again                                                                                                                                                                                                                                                                                                                                                                                                                                                                                                                                                                                                                                                                                                                                                                                                                                                                                                                                                                                         |\n",
    "| R10009JN2UWOJC | Have not owned it that long however it has the features , feel and works like a quality unit that would be at a much higher price point                                                                                                                                                                                                                                                                                                                                                                                                                                                                                                                                                                                                                                                                                                                                                                                                                                                                                                                                                                                                                                                                                                                                                                                 | have not owned it that long however it has the features  feel and works like a quality unit that would be at a much higher price point                                                                                                                                                                                                                                                                                                                                                                                                                                                                                                                                                                                                                                                                                                                                                                                                                                                                                                                                                                                                                                                                                                                     |\n",
    "| R1000AMVKPW32O | Bought for a gift and it is just what was needed to mount the new 32&#34; TV outdoors. The fact that it has full motion swing makes it even better because we can move it around to see it from different angles and still have a sturdy mount.                                                                                                                                                                                                                                                                                                                                                                                                                                                                                                                                                                                                                                                                                                                                                                                                                                                                                                                                                                                                                                                                         | bought for a gift and it is just what was needed to mount the new  tv outdoors the fact that it has full motion swing makes it even better because we can move it around to see it from different angles and still have a sturdy mount                                                                                                                                                                                                                                                                                                                                                                                                                                                                                                                                                                                                                                                                                                                                                                                                                                                                                                                                                                                                                     |\n",
    "| R1000CJMO2L8X4 | Perfect for the gym                                                                                                                                                                                                                                                                                                                                                                                                                                                                                                                                                                                                                                                                                                                                                                                                                                                                                                                                                                                                                                                                                                                                                                                                                                                                                                     | perfect for the gym                                                                                                                                                                                                                                                                                                                                                                                                                                                                                                                                                                                                                                                                                                                                                                                                                                                                                                                                                                                                                                                                                                                                                                                                                                        |\n",
    "| R1000EDGJUU3CU | Love these !!! The sound quality is amazing ! The price was amazing especially for the quality.                                                                                                                                                                                                                                                                                                                                                                                                                                                                                                                                                                                                                                                                                                                                                                                                                                                                                                                                                                                                                                                                                                                                                                                                                         | love these  the sound quality is amazing  the price was amazing especially for the quality                                                                                                                                                                                                                                                                                                                                                                                                                                                                                                                                                                                                                                                                                                                                                                                                                                                                                                                                                                                                                                                                                                                                                                 |\n",
    "| R1000EG9XXBLXT | I have had good success with these disks, and have used hundreds of them successfully on both computers and a dedicated Panosonic DVD recorder. They seem very reliable, and the lines on the disk label help to keep labeling neat and straight.                                                                                                                                                                                                                                                                                                                                                                                                                                                                                                                                                                                                                                                                                                                                                                                                                                                                                                                                                                                                                                                                       | i have had good success with these disks and have used hundreds of them successfully on both computers and a dedicated panosonic dvd recorder they seem very reliable and the lines on the disk label help to keep labeling neat and straight                                                                                                                                                                                                                                                                                                                                                                                                                                                                                                                                                                                                                                                                                                                                                                                                                                                                                                                                                                                                              |\n",
    "\n",
    "<div style=\"text-align: right\"><font size=4> <i class=\"fa fa-check-square-o\" aria-hidden=\"true\" style=\"color:#00586D\"></i></font></div>\n"
   ]
  },
  {
   "cell_type": "markdown",
   "id": "2301ed8a",
   "metadata": {},
   "source": [
    "---\n",
    "### <font color=\"#004D7F\"> <i class=\"fa fa-pencil-square-o\" aria-hidden=\"true\" style=\"color:#004D7F\"></i> Tarea 7: Obtención del sentiment </font>\n",
    "<br>\n",
    "\n",
    "Cread la variable `sentiment` en función del número de estrellas asumiendo que una review de menos (<) de 3 estrellas es negativa, usando 1 para el sentiment positivo y 0 para el negativo. Para poder generar la variable que determine el sentiment a partir del número de estrellas podéis utilizar la función de spark `when`. Muestra el resultado para las primeras 10 reviews ordenadas por `review_id`. "
   ]
  },
  {
   "cell_type": "code",
   "execution_count": 11,
   "id": "81c01b5e",
   "metadata": {},
   "outputs": [
    {
     "data": {
      "application/vnd.jupyter.widget-view+json": {
       "model_id": "9f67323840914a539ce8b3a81a29f30e",
       "version_major": 2,
       "version_minor": 0
      },
      "text/plain": [
       "VBox()"
      ]
     },
     "metadata": {},
     "output_type": "display_data"
    },
    {
     "data": {
      "application/vnd.jupyter.widget-view+json": {
       "model_id": "",
       "version_major": 2,
       "version_minor": 0
      },
      "text/plain": [
       "FloatProgress(value=0.0, bar_style='info', description='Progress:', layout=Layout(height='25px', width='50%'),…"
      ]
     },
     "metadata": {},
     "output_type": "display_data"
    },
    {
     "name": "stdout",
     "output_type": "stream",
     "text": [
      "+--------------+-----------------------------------------------------------------------------------------------------------------------------------------------------------------------------------------------------------------------------------------------------------------------------------------------------------------------------------------------------------------------------------------------------------------------------------------------------------------------------------------------------------------------------------------------------------------------------------------------------------------------------------------------------------------------------------------------------------------------------------------------------------------------------------------------------------------------------------------------------------------------------------------------------------------------------------------------------------------------------------------------------------------------------------------------------------------------------------------------------------------------------------------------------------------------------------------------------------------------------------------------------------------------------------------------------------------------+-----------+---------+\n",
      "|review_id     |review_body                                                                                                                                                                                                                                                                                                                                                                                                                                                                                                                                                                                                                                                                                                                                                                                                                                                                                                                                                                                                                                                                                                                                                                                                                                                                                                            |star_rating|sentiment|\n",
      "+--------------+-----------------------------------------------------------------------------------------------------------------------------------------------------------------------------------------------------------------------------------------------------------------------------------------------------------------------------------------------------------------------------------------------------------------------------------------------------------------------------------------------------------------------------------------------------------------------------------------------------------------------------------------------------------------------------------------------------------------------------------------------------------------------------------------------------------------------------------------------------------------------------------------------------------------------------------------------------------------------------------------------------------------------------------------------------------------------------------------------------------------------------------------------------------------------------------------------------------------------------------------------------------------------------------------------------------------------+-----------+---------+\n",
      "|R10000WMGXS51T|Great little emergency radio.  Very good reception.  The<br />weather band is a feature.  Can't beat the quality for this price/                                                                                                                                                                                                                                                                                                                                                                                                                                                                                                                                                                                                                                                                                                                                                                                                                                                                                                                                                                                                                                                                                                                                                                                       |5          |1        |\n",
      "|R10001L4QTCA84|Lives up to its claim, and really does fit bulky phone cases. Braided cable is sturdy but flexible. I think it stays a little more flexible in the cold weather, which is nice. Definitely getting a few more in the future!                                                                                                                                                                                                                                                                                                                                                                                                                                                                                                                                                                                                                                                                                                                                                                                                                                                                                                                                                                                                                                                                                           |5          |1        |\n",
      "|R10003OLR2P5UE|I've gone through three pairs of these in the last two years. I am in love with the sound quality, and even though I know it's not the best I particularly love how the bass sounds. They're comfortable to wear and very isolating. With these headphones, you don't even need noise canceling. There is very little sound leak, unless you like to listen to music ridiculously loud. All in all, I was very impressed with these. They're without a doubt the best sounding headphones I've ever owned.<br /><br />Now, the problem: The wires are thin and stringy, and do NOT last. On my first pair, the part of the wire that connected to the left cup came apart. I'm not an abuser of headphones, either. On the other two pairs, they wire at the base next to the adapter came apart. I went at them with a soldering iron, desperately trying to make them last as long as I could, but they'd always crap out on me again. The sound quality distorts over time, and the foam around the cups is cheap and wears out quickly.<br /><br />They aren't worth the price for such bad quality. I'd suggest looking around for other pairs, Sony, Denon, and Sennheiser all have superior headphones for a similar price. I myself just ordered a pair of Denon AHD1001's, and here's hoping they last longer!|3          |1        |\n",
      "|R10005O193PJ6W|stopped working after a while, changed batteries, it worked for a few days, then it quit                                                                                                                                                                                                                                                                                                                                                                                                                                                                                                                                                                                                                                                                                                                                                                                                                                                                                                                                                                                                                                                                                                                                                                                                                               |3          |1        |\n",
      "|R10008LR7CU84N|I ordered this cable and it doesn't work when I contacted them they told me I was doing something wrong. I then had my dad who it a certified computer tech look at it and there is something wrong with the cable. When I told them they never responded to me again.                                                                                                                                                                                                                                                                                                                                                                                                                                                                                                                                                                                                                                                                                                                                                                                                                                                                                                                                                                                                                                                 |1          |0        |\n",
      "|R10009JN2UWOJC|Have not owned it that long however it has the features , feel and works like a quality unit that would be at a much higher price point                                                                                                                                                                                                                                                                                                                                                                                                                                                                                                                                                                                                                                                                                                                                                                                                                                                                                                                                                                                                                                                                                                                                                                                |5          |1        |\n",
      "|R1000AMVKPW32O|Bought for a gift and it is just what was needed to mount the new 32&#34; TV outdoors. The fact that it has full motion swing makes it even better because we can move it around to see it from different angles and still have a sturdy mount.                                                                                                                                                                                                                                                                                                                                                                                                                                                                                                                                                                                                                                                                                                                                                                                                                                                                                                                                                                                                                                                                        |5          |1        |\n",
      "|R1000CJMO2L8X4|Perfect for the gym                                                                                                                                                                                                                                                                                                                                                                                                                                                                                                                                                                                                                                                                                                                                                                                                                                                                                                                                                                                                                                                                                                                                                                                                                                                                                                    |5          |1        |\n",
      "|R1000EDGJUU3CU|Love these !!! The sound quality is amazing ! The price was amazing especially for the quality.                                                                                                                                                                                                                                                                                                                                                                                                                                                                                                                                                                                                                                                                                                                                                                                                                                                                                                                                                                                                                                                                                                                                                                                                                        |5          |1        |\n",
      "|R1000EG9XXBLXT|I have had good success with these disks, and have used hundreds of them successfully on both computers and a dedicated Panosonic DVD recorder. They seem very reliable, and the lines on the disk label help to keep labeling neat and straight.                                                                                                                                                                                                                                                                                                                                                                                                                                                                                                                                                                                                                                                                                                                                                                                                                                                                                                                                                                                                                                                                      |5          |1        |\n",
      "+--------------+-----------------------------------------------------------------------------------------------------------------------------------------------------------------------------------------------------------------------------------------------------------------------------------------------------------------------------------------------------------------------------------------------------------------------------------------------------------------------------------------------------------------------------------------------------------------------------------------------------------------------------------------------------------------------------------------------------------------------------------------------------------------------------------------------------------------------------------------------------------------------------------------------------------------------------------------------------------------------------------------------------------------------------------------------------------------------------------------------------------------------------------------------------------------------------------------------------------------------------------------------------------------------------------------------------------------------+-----------+---------+"
     ]
    }
   ],
   "source": [
    "# Solución\n",
    "from pyspark.sql.functions import when\n",
    "\n",
    "# Agregar la columna \"sentiment\" basada en la valoración\n",
    "df_sentiment = data_frame_electronics.withColumn(\"sentiment\", when(data_frame_electronics[\"star_rating\"] < 3, 0).otherwise(1))\n",
    "\n",
    "# Mostrar los primeros 10 resultados con las columnas relevantes\n",
    "df_result = df_sentiment.select(\"review_id\", \"review_body\", \"star_rating\", \"sentiment\").orderBy(\"review_id\").limit(10)\n",
    "df_result.show(truncate=False)"
   ]
  },
  {
   "cell_type": "markdown",
   "id": "7d0bfea8",
   "metadata": {},
   "source": [
    "**Resultado esperado**:\n",
    "\n",
    "| review_id      | review_body                                                                                                                                                                                                                                                                                                                                                                                                                                                                                                                                                                                                                                                                                                                                                                                                                                                                                                                                                                                                                                                                                                                                                                                                                                                                                                             |   star_rating |   sentiment |\n",
    "|:---------------|:------------------------------------------------------------------------------------------------------------------------------------------------------------------------------------------------------------------------------------------------------------------------------------------------------------------------------------------------------------------------------------------------------------------------------------------------------------------------------------------------------------------------------------------------------------------------------------------------------------------------------------------------------------------------------------------------------------------------------------------------------------------------------------------------------------------------------------------------------------------------------------------------------------------------------------------------------------------------------------------------------------------------------------------------------------------------------------------------------------------------------------------------------------------------------------------------------------------------------------------------------------------------------------------------------------------------|--------------:|------------:|\n",
    "| R10000WMGXS51T | Great little emergency radio.  Very good reception.  The<br />weather band is a feature.  Can't beat the quality for this price/                                                                                                                                                                                                                                                                                                                                                                                                                                                                                                                                                                                                                                                                                                                                                                                                                                                                                                                                                                                                                                                                                                                                                                                        |             5 |           1 |\n",
    "| R10001L4QTCA84 | Lives up to its claim, and really does fit bulky phone cases. Braided cable is sturdy but flexible. I think it stays a little more flexible in the cold weather, which is nice. Definitely getting a few more in the future!                                                                                                                                                                                                                                                                                                                                                                                                                                                                                                                                                                                                                                                                                                                                                                                                                                                                                                                                                                                                                                                                                            |             5 |           1 |\n",
    "| R10003OLR2P5UE | I've gone through three pairs of these in the last two years. I am in love with the sound quality, and even though I know it's not the best I particularly love how the bass sounds. They're comfortable to wear and very isolating. With these headphones, you don't even need noise canceling. There is very little sound leak, unless you like to listen to music ridiculously loud. All in all, I was very impressed with these. They're without a doubt the best sounding headphones I've ever owned.<br /><br />Now, the problem: The wires are thin and stringy, and do NOT last. On my first pair, the part of the wire that connected to the left cup came apart. I'm not an abuser of headphones, either. On the other two pairs, they wire at the base next to the adapter came apart. I went at them with a soldering iron, desperately trying to make them last as long as I could, but they'd always crap out on me again. The sound quality distorts over time, and the foam around the cups is cheap and wears out quickly.<br /><br />They aren't worth the price for such bad quality. I'd suggest looking around for other pairs, Sony, Denon, and Sennheiser all have superior headphones for a similar price. I myself just ordered a pair of Denon AHD1001's, and here's hoping they last longer! |             3 |           1 |\n",
    "| R10005O193PJ6W | stopped working after a while, changed batteries, it worked for a few days, then it quit                                                                                                                                                                                                                                                                                                                                                                                                                                                                                                                                                                                                                                                                                                                                                                                                                                                                                                                                                                                                                                                                                                                                                                                                                                |             3 |           1 |\n",
    "| R10008LR7CU84N | I ordered this cable and it doesn't work when I contacted them they told me I was doing something wrong. I then had my dad who it a certified computer tech look at it and there is something wrong with the cable. When I told them they never responded to me again.                                                                                                                                                                                                                                                                                                                                                                                                                                                                                                                                                                                                                                                                                                                                                                                                                                                                                                                                                                                                                                                  |             1 |           0 |\n",
    "| R10009JN2UWOJC | Have not owned it that long however it has the features , feel and works like a quality unit that would be at a much higher price point                                                                                                                                                                                                                                                                                                                                                                                                                                                                                                                                                                                                                                                                                                                                                                                                                                                                                                                                                                                                                                                                                                                                                                                 |             5 |           1 |\n",
    "| R1000AMVKPW32O | Bought for a gift and it is just what was needed to mount the new 32&#34; TV outdoors. The fact that it has full motion swing makes it even better because we can move it around to see it from different angles and still have a sturdy mount.                                                                                                                                                                                                                                                                                                                                                                                                                                                                                                                                                                                                                                                                                                                                                                                                                                                                                                                                                                                                                                                                         |             5 |           1 |\n",
    "| R1000CJMO2L8X4 | Perfect for the gym                                                                                                                                                                                                                                                                                                                                                                                                                                                                                                                                                                                                                                                                                                                                                                                                                                                                                                                                                                                                                                                                                                                                                                                                                                                                                                     |             5 |           1 |\n",
    "| R1000EDGJUU3CU | Love these !!! The sound quality is amazing ! The price was amazing especially for the quality.                                                                                                                                                                                                                                                                                                                                                                                                                                                                                                                                                                                                                                                                                                                                                                                                                                                                                                                                                                                                                                                                                                                                                                                                                         |             5 |           1 |\n",
    "| R1000EG9XXBLXT | I have had good success with these disks, and have used hundreds of them successfully on both computers and a dedicated Panosonic DVD recorder. They seem very reliable, and the lines on the disk label help to keep labeling neat and straight.                                                                                                                                                                                                                                                                                                                                                                                                                                                                                                                                                                                                                                                                                                                                                                                                                                                                                                                                                                                                                                                                       |             5 |           1 |\n",
    "\n",
    "\n",
    "\n",
    "\n",
    "\n",
    "\n",
    "\n",
    "<div style=\"text-align: right\"><font size=4> <i class=\"fa fa-check-square-o\" aria-hidden=\"true\" style=\"color:#00586D\"></i></font></div>\n",
    "\n",
    "-----"
   ]
  },
  {
   "cell_type": "markdown",
   "id": "ea3eb4e7",
   "metadata": {},
   "source": [
    "### <font color=\"#004D7F\"> <i class=\"fa fa-pencil-square-o\" aria-hidden=\"true\" style=\"color:#004D7F\"></i> Tarea 8: División del conjunto de datos </font>\n",
    "<br>\n",
    "\n",
    "Divide el conjunto de datos en entrenamiento (70% de los datos) y test (30% de los datos). Una vez hecho esto, guarda los datos de test en el bucket the s3 previamente creado (usa el nombre `electronics_test`)"
   ]
  },
  {
   "cell_type": "code",
   "execution_count": 12,
   "id": "b4ca164b",
   "metadata": {},
   "outputs": [
    {
     "data": {
      "application/vnd.jupyter.widget-view+json": {
       "model_id": "fd4fcbaa8c644767b7c6a29e13105a63",
       "version_major": 2,
       "version_minor": 0
      },
      "text/plain": [
       "VBox()"
      ]
     },
     "metadata": {},
     "output_type": "display_data"
    },
    {
     "data": {
      "application/vnd.jupyter.widget-view+json": {
       "model_id": "",
       "version_major": 2,
       "version_minor": 0
      },
      "text/plain": [
       "FloatProgress(value=0.0, bar_style='info', description='Progress:', layout=Layout(height='25px', width='50%'),…"
      ]
     },
     "metadata": {},
     "output_type": "display_data"
    },
    {
     "name": "stdout",
     "output_type": "stream",
     "text": [
      "+-----------+-----------+--------------+----------+--------------+--------------------+-----------+-------------+-----------+----+-----------------+--------------------+--------------------+-----------+----+----------------+---------+\n",
      "|marketplace|customer_id|     review_id|product_id|product_parent|       product_title|star_rating|helpful_votes|total_votes|vine|verified_purchase|     review_headline|         review_body|review_date|year|product_category|sentiment|\n",
      "+-----------+-----------+--------------+----------+--------------+--------------------+-----------+-------------+-----------+----+-----------------+--------------------+--------------------+-----------+----+----------------+---------+\n",
      "|         DE|   10873130| RV8R4ZISL74R0|B0066XYIJ4|     437018546|Philips Fidelio L...|          4|            0|          1|   N|                Y|Very good headpho...|Very satisfied bu...| 2013-01-11|2013|     Electronics|        1|\n",
      "|         DE|   16052556|R310SD8WTTVAEG|B000065BPB|     114634020|Sennheiser HD280P...|          4|            0|          0|   N|                Y|  nice sound quality|even though they ...| 2014-12-05|2014|     Electronics|        1|\n",
      "|         DE|   16725375|R356QYZ9KZVW2G|B002SJKWZ4|     428789313|Magic Wand Button...|          3|            0|          2|   N|                Y|              gedult|Es ist echt cool ...| 2015-01-02|2015|     Electronics|        1|\n",
      "|         DE|   16729634|R13NFYSFEZKTBR|B009346RSS|     375251831|FiiO Taishan D03K...|          5|            5|          5|   N|                Y|FiiO D03K mit Phi...|verbindet bei mir...| 2014-01-05|2014|     Electronics|        1|\n",
      "|         DE|   16780689|R327JAJ6DQGSUI|B005HJWWW8|     724543729|FiiO Fujiyama E06...|          2|            0|          0|   N|                Y|FiiO Fujiyama E06...|Leider nach einem...| 2014-09-15|2014|     Electronics|        0|\n",
      "|         DE|   16855834|R3O2T4TNX6BDZT|B00PCY0OOQ|     175237145|Apple MD820ZM/A A...|          5|            1|          1|   N|                Y| sehr gut geht alles|keinerlei Problem...| 2015-08-12|2015|     Electronics|        1|\n",
      "|         DE|   17411119| R75U0KQJSJ475|B002C1BHIO|     872923735|AmazonBasics HDMI...|          5|            0|          0|   N|                N|           robistu55|Hallo !  Absolute...| 2010-11-07|2010|     Electronics|        1|\n",
      "|         DE|   17758998|R3767SKRX4YH0Y|B0077JREJC|     129618844|Panasonic TY-CC20...|          4|            0|          1|   N|                Y|fits nice, design...|fits nice, design...| 2015-07-04|2015|     Electronics|        1|\n",
      "|         DE|   17906058| REQPY5EK5CYRU|B00579Z0ZY|     407582114|Diablo III Mouse ...|          5|            3|          4|   N|                Y|          Nur geil^^|Das ist auf jeden...| 2011-11-10|2011|     Electronics|        1|\n",
      "|         DE|   18076227|R1MZ2M2HN65S4D|B000065BPB|     114634020|Sennheiser HD280P...|          5|            0|          1|   N|                N|Super Abschirmung...|Hab die Kopfh&oum...| 2011-08-19|2011|     Electronics|        1|\n",
      "|         DE|   18277633|R1KEGV179ZRGQH|B002C1BHIO|     872923735|AmazonBasics HDMI...|          5|            0|          0|   N|                Y|Tolles Kabel wo P...|Um es kurz zu mac...| 2013-01-04|2013|     Electronics|        1|\n",
      "|         DE|   18664601|R35F571EBS42ZI|B004XBRDKC|     685653138|Onkyo UWF-1 WIFI ...|          4|            0|          0|   N|                Y|Bei mir läuft all...|Also mein Receive...| 2012-12-05|2012|     Electronics|        1|\n",
      "|         DE|   18698259| RRDMYHXCCONAW|B0067TQQI8|     441125258|Anker 2. Gen Astr...|          5|            0|          0|   N|                Y|            top Akku|Lädt mit 10000mAh...| 2013-09-11|2013|     Electronics|        1|\n",
      "|         DE|   18843374| RG3S2B4WZ1JGN|B00E9O6C96|     986493541|FiiO X3 Digital M...|          1|            3|          5|   N|                N|In one year, the ...|After a year of m...| 2015-03-06|2015|     Electronics|        0|\n",
      "|         DE|   19024734|R22R10BTQZ6PGG|B005HJWWW8|     724543729|FiiO Fujiyama E06...|          5|            1|          1|   N|                Y|    Kleines Monster!|Hab ihn erst seit...| 2014-02-21|2014|     Electronics|        1|\n",
      "|         DE|   19072669|R1GY056FO3I6MA|B004RE90NI|     452956477|Philips EXP2546 t...|          1|            1|          1|   N|                Y|spielt nur mit im...|siehe überschrift...| 2014-09-17|2014|     Electronics|        0|\n",
      "|         DE|   19346997|R2HDK2UOO7W4GU|B002C1BHIO|     872923735|AmazonBasics HDMI...|          5|            0|          0|   N|                Y|          Hammerteil|Das HDMI Kabel ka...| 2010-08-14|2010|     Electronics|        1|\n",
      "|         DE|   19350553|R36NRBAV4NLIBY|B0067TQQI8|     441125258|Anker 2. Gen Astr...|          5|            0|          0|   N|                N|               super|Lieferung super s...| 2013-10-23|2013|     Electronics|        1|\n",
      "|         DE|   19382923|R1GBKM6DATP5BJ|B0077JREJC|     129618844|Panasonic TY-CC20...|          3|           19|         20|   N|                N| Helligkeitsprobleme|Die Kamera liefer...| 2012-10-30|2012|     Electronics|        1|\n",
      "|         DE|   19437520|R17BAAOIXHPF3S|B002C1BHIO|     872923735|AmazonBasics HDMI...|          5|            1|          1|   N|                Y|   Absolut zufrieden|Ich habe das Amaz...| 2010-09-29|2010|     Electronics|        1|\n",
      "+-----------+-----------+--------------+----------+--------------+--------------------+-----------+-------------+-----------+----+-----------------+--------------------+--------------------+-----------+----+----------------+---------+\n",
      "only showing top 20 rows"
     ]
    }
   ],
   "source": [
    "# Solución\n",
    "\n",
    "#División del conjunto de datos en entrenamiento y prueba\n",
    "train_data, test_data = df_sentiment.randomSplit([0.7, 0.3], seed=5)\n",
    "train_data = train_data.na.drop(subset=[\"review_body\"])\n",
    "test_data = test_data.na.drop(subset=[\"review_body\"])\n",
    "\n",
    "# Guardar los datos de prueba en el bucket S3\n",
    "test_data.write.parquet(\"s3://capstone12bucket2/electronics_test\", mode=\"overwrite\")\n",
    "train_data.show()\n"
   ]
  },
  {
   "cell_type": "markdown",
   "id": "9f77c5df",
   "metadata": {},
   "source": [
    "\n",
    "\n",
    "<div style=\"text-align: right\"><font size=4> <i class=\"fa fa-check-square-o\" aria-hidden=\"true\" style=\"color:#00586D\"></i></font></div>\n",
    "\n",
    "-----"
   ]
  },
  {
   "cell_type": "markdown",
   "id": "6a7bbf12",
   "metadata": {},
   "source": [
    "A continuación vamos a entrenar el modelo, para ello utilizaremos diferentes opciones de preprocesamiento. Para poder entrenar un clasificador de sentimiento necesitamos contruir una representación del texto que nos permita entrenar el modelo. Para ello utilizaremos podemos utilizar algoritmos de extracción de características como TF-IDF o Word2Vec que vienen implementados en Spark MLlib y que nos permitirá transformar una cadena de texto a un vector para utilizarlo como datos de entrenamiento de un clasificador.  Una vez implementado el modelo, lo serializaremos y guardaremos en S3 para la parte 2"
   ]
  },
  {
   "cell_type": "markdown",
   "id": "0d83bdaa",
   "metadata": {},
   "source": [
    "---\n",
    "### <font color=\"#004D7F\"> <i class=\"fa fa-pencil-square-o\" aria-hidden=\"true\" style=\"color:#004D7F\"></i> Tarea 8: Modelo de sentiment </font>\n",
    "<br>\n",
    "\n",
    "Construye un **pipeline** de entrenamiento de un modelo de sentiment a partir de los datos preparados anteriormente. Deberas utilizar una secuencia de diferentes  **transformadores** y **estimadores**:\n",
    "- `Tokenizer` nos permitirá construir un vector de palabras a partir de nuestras sentencias\n",
    "- `StopWordsRemover` nos permitirá limpiar de nuestros vectores de palabras las de menor significado\n",
    "\n",
    "- Construcción de características dos alternativas:\n",
    "    -  Modelo TF-IDF usando `HashingTF` e `IDF`\n",
    "    - `Word2Vec` nos permitirá crear un vector a partir de la lista de palabras\n",
    "\n",
    "- Clasificación binaria, basada en la variable sentiment que hemos utilizado, aplica un clasificador (LogisticRegregession, DecisionTree) evita ensembles por su alto tiempo de aprendizaje.\n",
    "\n",
    "Buscando en la documentación, encuentra los distintos elementos y conectalos en un pipeline junto a un algorimo de clasificación\n",
    "\n",
    "- Recomendamos utilizar una muestra (método `sample`) pues el tiempo puede ser excesivo\n",
    "- Es posible ajustar hiperparámetros, pero igualmente puede ser bastante lento\n",
    "\n",
    "**Valida el modelo con el conjunto de test anterior usando el area bajo la curva ROC**"
   ]
  },
  {
   "cell_type": "code",
   "execution_count": 14,
   "id": "4bb11fed",
   "metadata": {},
   "outputs": [
    {
     "data": {
      "application/vnd.jupyter.widget-view+json": {
       "model_id": "97cc42b589fd4c3791269eee0f7bea48",
       "version_major": 2,
       "version_minor": 0
      },
      "text/plain": [
       "VBox()"
      ]
     },
     "metadata": {},
     "output_type": "display_data"
    },
    {
     "data": {
      "application/vnd.jupyter.widget-view+json": {
       "model_id": "",
       "version_major": 2,
       "version_minor": 0
      },
      "text/plain": [
       "FloatProgress(value=0.0, bar_style='info', description='Progress:', layout=Layout(height='25px', width='50%'),…"
      ]
     },
     "metadata": {},
     "output_type": "display_data"
    },
    {
     "name": "stdout",
     "output_type": "stream",
     "text": [
      "+--------------------+--------------------+--------------------+\n",
      "|         review_body|               words|      filtered_words|\n",
      "+--------------------+--------------------+--------------------+\n",
      "|Very satisfied bu...|[very, satisfied,...|[satisfied, beat,...|\n",
      "|even though they ...|[even, though, th...|[even, though, st...|\n",
      "|Es ist echt cool ...|[es, ist, echt, c...|[es, ist, echt, c...|\n",
      "|verbindet bei mir...|[verbindet, bei, ...|[verbindet, bei, ...|\n",
      "|Leider nach einem...|[leider, nach, ei...|[leider, nach, ei...|\n",
      "|keinerlei Problem...|[keinerlei, probl...|[keinerlei, probl...|\n",
      "|Hallo !  Absolute...|[hallo, !, , abso...|[hallo, !, , abso...|\n",
      "|fits nice, design...|[fits, nice,, des...|[fits, nice,, des...|\n",
      "|Das ist auf jeden...|[das, ist, auf, j...|[das, ist, auf, j...|\n",
      "|Hab die Kopfh&oum...|[hab, die, kopfh&...|[hab, die, kopfh&...|\n",
      "|Um es kurz zu mac...|[um, es, kurz, zu...|[um, es, kurz, zu...|\n",
      "|Also mein Receive...|[also, mein, rece...|[also, mein, rece...|\n",
      "|Lädt mit 10000mAh...|[lädt, mit, 10000...|[lädt, mit, 10000...|\n",
      "|After a year of m...|[after, a, year, ...|[year, moderate, ...|\n",
      "|Hab ihn erst seit...|[hab, ihn, erst, ...|[hab, ihn, erst, ...|\n",
      "|siehe überschrift...|[siehe, überschri...|[siehe, überschri...|\n",
      "|Das HDMI Kabel ka...|[das, hdmi, kabel...|[das, hdmi, kabel...|\n",
      "|Lieferung super s...|[lieferung, super...|[lieferung, super...|\n",
      "|Die Kamera liefer...|[die, kamera, lie...|[die, kamera, lie...|\n",
      "|Ich habe das Amaz...|[ich, habe, das, ...|[ich, habe, das, ...|\n",
      "+--------------------+--------------------+--------------------+\n",
      "only showing top 20 rows\n",
      "\n",
      "+---------+----------+\n",
      "|sentiment|prediction|\n",
      "+---------+----------+\n",
      "|        1|       1.0|\n",
      "|        1|       1.0|\n",
      "|        1|       1.0|\n",
      "|        1|       1.0|\n",
      "|        1|       1.0|\n",
      "|        1|       1.0|\n",
      "|        1|       1.0|\n",
      "|        1|       1.0|\n",
      "|        0|       0.0|\n",
      "|        1|       1.0|\n",
      "|        1|       1.0|\n",
      "|        1|       1.0|\n",
      "|        1|       1.0|\n",
      "|        0|       1.0|\n",
      "|        1|       1.0|\n",
      "|        1|       0.0|\n",
      "|        1|       1.0|\n",
      "|        1|       1.0|\n",
      "|        1|       1.0|\n",
      "|        1|       1.0|\n",
      "+---------+----------+\n",
      "only showing top 20 rows\n",
      "\n",
      "Accuracy: 0.8959088643584634\n",
      "Recall: 0.8959088643584635\n",
      "F1 Score: 0.8881667544596061"
     ]
    }
   ],
   "source": [
    "# Solución\n",
    "\n",
    "from pyspark.ml import Pipeline\n",
    "from pyspark.ml.feature import Tokenizer, StopWordsRemover, HashingTF, IDF\n",
    "from pyspark.ml.evaluation import MulticlassClassificationEvaluator\n",
    "from pyspark.ml.classification import LogisticRegression\n",
    "\n",
    "\n",
    "# Creamos objeto Tokenizer\n",
    "tokenizer = Tokenizer(inputCol=\"review_body\", outputCol=\"words\")\n",
    "\n",
    "# Creamos objeto StopWordsRemover\n",
    "remover = StopWordsRemover(inputCol=\"words\", outputCol=\"filtered_words\")\n",
    "# Datos\n",
    "df_tokenized = tokenizer.transform(train_data)\n",
    "df_clean = remover.transform(df_tokenized)\n",
    "df_clean.select(\"review_body\", \"words\", \"filtered_words\").show()\n",
    "\n",
    "# Vectores de frecuencia\n",
    "hashingTF = HashingTF(inputCol=\"filtered_words\", outputCol=\"rawFeatures\", numFeatures=8000)\n",
    "idf = IDF(inputCol=\"rawFeatures\", outputCol=\"features\")\n",
    "\n",
    "df_features = hashingTF.transform(df_clean)\n",
    "df_rescaled = idf.fit(df_features).transform(df_features)\n",
    "\n",
    "# Clasificación binaria y creación del pipeline\n",
    "classifier = LogisticRegression(featuresCol=\"features\", labelCol=\"sentiment\")\n",
    "pipeline = Pipeline(stages=[tokenizer, remover, hashingTF, idf, classifier])\n",
    "\n",
    "# Entrenamiento del modelo\n",
    "model = pipeline.fit(train_data)\n",
    "\n",
    "# Realizamos las precciones\n",
    "predictions = model.transform(test_data)\n",
    "predictions.select(\"sentiment\", \"prediction\").show()\n",
    "\n",
    "# Crear un evaluador de clasificación\n",
    "evaluator = MulticlassClassificationEvaluator(labelCol=\"sentiment\", predictionCol=\"prediction\", metricName=\"accuracy\")\n",
    "\n",
    "# Calcular la precisión del modelo\n",
    "accuracy = evaluator.evaluate(predictions)\n",
    "print(\"Accuracy:\", accuracy)\n",
    "\n",
    "# Calcular la recuperación (recall)\n",
    "evaluator.setMetricName(\"weightedRecall\")\n",
    "recall = evaluator.evaluate(predictions)\n",
    "print(\"Recall:\", recall)\n",
    "\n",
    "# Calcular la puntuación F1\n",
    "evaluator.setMetricName(\"f1\")\n",
    "f1 = evaluator.evaluate(predictions)\n",
    "print(\"F1 Score:\", f1)"
   ]
  },
  {
   "cell_type": "markdown",
   "id": "2ffc3708",
   "metadata": {},
   "source": [
    "\n",
    "\n",
    "<div style=\"text-align: right\"><font size=4> <i class=\"fa fa-check-square-o\" aria-hidden=\"true\" style=\"color:#00586D\"></i></font></div>"
   ]
  },
  {
   "cell_type": "markdown",
   "id": "6c40fb21",
   "metadata": {},
   "source": [
    "---\n",
    "### <font color=\"#004D7F\"> <i class=\"fa fa-pencil-square-o\" aria-hidden=\"true\" style=\"color:#004D7F\"></i> Tarea 9: Serialización </font>\n",
    "<br>\n",
    "\n",
    "Guarda el modelo entrenado en S3 (al bucket que creaste anteriormente) utilizando la opción nativa de Spark. "
   ]
  },
  {
   "cell_type": "code",
   "execution_count": 15,
   "id": "8df4da92",
   "metadata": {
    "tags": []
   },
   "outputs": [
    {
     "data": {
      "application/vnd.jupyter.widget-view+json": {
       "model_id": "8d1ea2bb56314f68a1ea84681c4f7add",
       "version_major": 2,
       "version_minor": 0
      },
      "text/plain": [
       "VBox()"
      ]
     },
     "metadata": {},
     "output_type": "display_data"
    },
    {
     "data": {
      "application/vnd.jupyter.widget-view+json": {
       "model_id": "",
       "version_major": 2,
       "version_minor": 0
      },
      "text/plain": [
       "FloatProgress(value=0.0, bar_style='info', description='Progress:', layout=Layout(height='25px', width='50%'),…"
      ]
     },
     "metadata": {},
     "output_type": "display_data"
    }
   ],
   "source": [
    "# Solución\n",
    "# Guardo el modelo en mi S3\n",
    "model.save(\"s3://capstone12bucket2/trained_model\")"
   ]
  },
  {
   "cell_type": "code",
   "execution_count": null,
   "id": "8901cd28",
   "metadata": {},
   "outputs": [],
   "source": []
  }
 ],
 "metadata": {
  "kernelspec": {
   "display_name": "Python 3 (ipykernel)",
   "language": "python",
   "name": "python3"
  },
  "language_info": {
   "codemirror_mode": {
    "name": "ipython",
    "version": 3
   },
   "file_extension": ".py",
   "mimetype": "text/x-python",
   "name": "python",
   "nbconvert_exporter": "python",
   "pygments_lexer": "ipython3",
   "version": "3.9.16"
  }
 },
 "nbformat": 4,
 "nbformat_minor": 5
}
